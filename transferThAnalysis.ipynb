{
 "cells": [
  {
   "cell_type": "raw",
   "metadata": {},
   "source": [
    "This notebook is to analyze the transfer throughputs."
   ]
  },
  {
   "cell_type": "code",
   "execution_count": 1,
   "metadata": {
    "collapsed": true
   },
   "outputs": [],
   "source": [
    "# import pandas library:\n",
    "import pandas as pds\n",
    "import pylab as pyl"
   ]
  },
  {
   "cell_type": "code",
   "execution_count": 14,
   "metadata": {
    "collapsed": false
   },
   "outputs": [
    {
     "name": "stdout",
     "output_type": "stream",
     "text": [
      "bandwidthTest.py\r\n",
      "fileGenAutomated.ipynb\r\n",
      "log_stampede-scratch_gordon-scratch_date05_19_2016_08_38.txt\r\n",
      "log_stampede-scratch_gordon-scratch_date05_20_2016_11_23.txt\r\n",
      "log_stampede-scratch_gordon-scratch_date05_20_2016_11_23.txt~\r\n",
      "remoteMkdir.py\r\n",
      "runTransfer (copy).py\r\n",
      "runTransfer.py\r\n",
      "style-notebook.css\r\n",
      "style-table.css\r\n",
      "transferThAnalysis.ipynb\r\n",
      "user.txt\r\n",
      "xfer_version1.py\r\n",
      "xfer_version3.py\r\n"
     ]
    }
   ],
   "source": [
    "# see the current directory to get the log file names:\n",
    "!ls"
   ]
  },
  {
   "cell_type": "code",
   "execution_count": 3,
   "metadata": {
    "collapsed": false
   },
   "outputs": [],
   "source": [
    "# file might not come with header information. In such case add the following line with appropriate seperator:\n",
    "# file_Size_bytes\tnumber_of_files\tbandwidth_Gbps\trtt_ms\tbuffer_size_bytes\tp\tcc\tpp\tfast\tthroughput_MByteps\ttime_sec\tstart_time_mm_dd_yyyy_hh_mm\n",
    "\n",
    "file_name = 'log_stampede-scratch_gordon-scratch_date05_20_2016_11_23.txt'\n",
    "seperator = '\\t'\n",
    "data = pds.read_table(file_name,sep=seperator)"
   ]
  },
  {
   "cell_type": "code",
   "execution_count": 17,
   "metadata": {
    "collapsed": false
   },
   "outputs": [
    {
     "data": {
      "text/html": [
       "<div>\n",
       "<table border=\"1\" class=\"dataframe\">\n",
       "  <thead>\n",
       "    <tr style=\"text-align: right;\">\n",
       "      <th></th>\n",
       "      <th>file_Size_bytes</th>\n",
       "      <th>number_of_files</th>\n",
       "      <th>bandwidth_Gbps</th>\n",
       "      <th>rtt_ms</th>\n",
       "      <th>buffer_size_bytes</th>\n",
       "      <th>p</th>\n",
       "      <th>cc</th>\n",
       "      <th>pp</th>\n",
       "      <th>fast</th>\n",
       "      <th>throughput_MByteps</th>\n",
       "      <th>time_sec</th>\n",
       "      <th>start_time_mm_dd_yyyy_hh_mm</th>\n",
       "    </tr>\n",
       "  </thead>\n",
       "  <tbody>\n",
       "    <tr>\n",
       "      <th>0</th>\n",
       "      <td>209715259</td>\n",
       "      <td>69</td>\n",
       "      <td>10</td>\n",
       "      <td>39</td>\n",
       "      <td>49920000</td>\n",
       "      <td>1</td>\n",
       "      <td>1</td>\n",
       "      <td>1</td>\n",
       "      <td>0</td>\n",
       "      <td>47.266001</td>\n",
       "      <td>291.964704</td>\n",
       "      <td>2016-05-20 11:28:00</td>\n",
       "    </tr>\n",
       "    <tr>\n",
       "      <th>1</th>\n",
       "      <td>209715259</td>\n",
       "      <td>69</td>\n",
       "      <td>10</td>\n",
       "      <td>39</td>\n",
       "      <td>49920000</td>\n",
       "      <td>1</td>\n",
       "      <td>1</td>\n",
       "      <td>1</td>\n",
       "      <td>1</td>\n",
       "      <td>55.589452</td>\n",
       "      <td>248.248604</td>\n",
       "      <td>2016-05-20 11:32:00</td>\n",
       "    </tr>\n",
       "    <tr>\n",
       "      <th>2</th>\n",
       "      <td>209715259</td>\n",
       "      <td>69</td>\n",
       "      <td>10</td>\n",
       "      <td>39</td>\n",
       "      <td>49920000</td>\n",
       "      <td>1</td>\n",
       "      <td>1</td>\n",
       "      <td>2</td>\n",
       "      <td>0</td>\n",
       "      <td>63.238233</td>\n",
       "      <td>218.222477</td>\n",
       "      <td>2016-05-20 11:36:00</td>\n",
       "    </tr>\n",
       "    <tr>\n",
       "      <th>3</th>\n",
       "      <td>209715259</td>\n",
       "      <td>69</td>\n",
       "      <td>10</td>\n",
       "      <td>39</td>\n",
       "      <td>49920000</td>\n",
       "      <td>1</td>\n",
       "      <td>1</td>\n",
       "      <td>2</td>\n",
       "      <td>1</td>\n",
       "      <td>47.229179</td>\n",
       "      <td>292.192334</td>\n",
       "      <td>2016-05-20 11:41:00</td>\n",
       "    </tr>\n",
       "    <tr>\n",
       "      <th>4</th>\n",
       "      <td>209715259</td>\n",
       "      <td>69</td>\n",
       "      <td>10</td>\n",
       "      <td>39</td>\n",
       "      <td>49920000</td>\n",
       "      <td>1</td>\n",
       "      <td>1</td>\n",
       "      <td>4</td>\n",
       "      <td>0</td>\n",
       "      <td>53.472254</td>\n",
       "      <td>258.077842</td>\n",
       "      <td>2016-05-20 11:45:00</td>\n",
       "    </tr>\n",
       "  </tbody>\n",
       "</table>\n",
       "</div>"
      ],
      "text/plain": [
       "   file_Size_bytes  number_of_files  bandwidth_Gbps  rtt_ms  \\\n",
       "0        209715259               69              10      39   \n",
       "1        209715259               69              10      39   \n",
       "2        209715259               69              10      39   \n",
       "3        209715259               69              10      39   \n",
       "4        209715259               69              10      39   \n",
       "\n",
       "   buffer_size_bytes  p  cc  pp  fast  throughput_MByteps    time_sec  \\\n",
       "0           49920000  1   1   1     0           47.266001  291.964704   \n",
       "1           49920000  1   1   1     1           55.589452  248.248604   \n",
       "2           49920000  1   1   2     0           63.238233  218.222477   \n",
       "3           49920000  1   1   2     1           47.229179  292.192334   \n",
       "4           49920000  1   1   4     0           53.472254  258.077842   \n",
       "\n",
       "  start_time_mm_dd_yyyy_hh_mm  \n",
       "0         2016-05-20 11:28:00  \n",
       "1         2016-05-20 11:32:00  \n",
       "2         2016-05-20 11:36:00  \n",
       "3         2016-05-20 11:41:00  \n",
       "4         2016-05-20 11:45:00  "
      ]
     },
     "execution_count": 17,
     "metadata": {},
     "output_type": "execute_result"
    }
   ],
   "source": [
    "# see the data :\n",
    "from IPython.core.display import HTML\n",
    "css = open('style-table.css').read() + open('style-notebook.css').read()\n",
    "HTML('<style>{}</style>'.format(css))\n",
    "data.head()"
   ]
  },
  {
   "cell_type": "code",
   "execution_count": null,
   "metadata": {
    "collapsed": false
   },
   "outputs": [],
   "source": [
    "# data slicing : example\n",
    "data.ix[2:9,['p','cc','pp']]"
   ]
  },
  {
   "cell_type": "code",
   "execution_count": 8,
   "metadata": {
    "collapsed": false
   },
   "outputs": [
    {
     "data": {
      "text/plain": [
       "Timestamp('2016-05-20 11:28:00')"
      ]
     },
     "execution_count": 8,
     "metadata": {},
     "output_type": "execute_result"
    }
   ],
   "source": [
    "# string to Timestamp conversion : \n",
    "# reference : Type - Description - %Y - 4-digit year - %y - 2-digit year - %m - 2-digit month [01, 12] \n",
    "# - %d - 2-digit day [01, 31] - %H - Hour (24-hour clock) [00, 23] - %I - Hour (12-hour clock) [01, 12] \n",
    "# - %M - 2-digit minute [00, 59] - %S - Second [00, 61] (seconds 60, 61 account for leap seconds) \n",
    "# - %w - Weekday as integer [0 (Sunday), 6] - %U - Week number of the year [00, 53]. \n",
    "# Sunday is considered the first day of the week, and days before the first Sunday of the year are “week 0”.\n",
    "# - %W - Week number of the year [00, 53]. Monday is considered the first day of the week, \n",
    "# and days before the first Monday of the year are “week 0”. - %z - UTC time zone offset as +HHMM or -HHMM, \n",
    "# empty if time zone naive %F - %F - Shortcut for %Y-%m-%d, \n",
    "# for example 2012-4-18 - %D - Shortcut for %m/%d/%y, for example 04/18/12\n",
    "\n",
    "pds.to_datetime('05:20:2016-11:28', format='%m:%d:%Y-%H:%M')"
   ]
  },
  {
   "cell_type": "code",
   "execution_count": 5,
   "metadata": {
    "collapsed": false,
    "scrolled": true
   },
   "outputs": [
    {
     "data": {
      "text/plain": [
       "['file_Size_bytes',\n",
       " 'number_of_files',\n",
       " 'bandwidth_Gbps',\n",
       " 'rtt_ms',\n",
       " 'buffer_size_bytes',\n",
       " 'p',\n",
       " 'cc',\n",
       " 'pp',\n",
       " 'fast',\n",
       " 'throughput_MByteps',\n",
       " 'time_sec',\n",
       " 'start_time_mm_dd_yyyy_hh_mm']"
      ]
     },
     "execution_count": 5,
     "metadata": {},
     "output_type": "execute_result"
    }
   ],
   "source": [
    "# listing all the meta data in the dataset: \n",
    "list(data.columns.values)"
   ]
  },
  {
   "cell_type": "code",
   "execution_count": 6,
   "metadata": {
    "collapsed": false
   },
   "outputs": [],
   "source": [
    "# convert the string timestamp in dataType: Timestamp\n",
    "format_date_time = '%m:%d:%Y-%H:%M'\n",
    "\n",
    "def convert_to_time_stamp(date_in_string):\n",
    "    result = pds.to_datetime(date_in_string, format=format_date_time)\n",
    "    return result\n",
    "\n",
    "# change the current string date time to Timestamp: \n",
    "data['start_time_mm_dd_yyyy_hh_mm'] = data['start_time_mm_dd_yyyy_hh_mm'].apply(convert_to_time_stamp)"
   ]
  },
  {
   "cell_type": "code",
   "execution_count": 1,
   "metadata": {
    "collapsed": false
   },
   "outputs": [
    {
     "ename": "NameError",
     "evalue": "name 'data' is not defined",
     "output_type": "error",
     "traceback": [
      "\u001b[1;31m---------------------------------------------------------------------------\u001b[0m",
      "\u001b[1;31mNameError\u001b[0m                                 Traceback (most recent call last)",
      "\u001b[1;32m<ipython-input-1-232814cb8805>\u001b[0m in \u001b[0;36m<module>\u001b[1;34m()\u001b[0m\n\u001b[1;32m----> 1\u001b[1;33m \u001b[0mdata\u001b[0m\u001b[1;33m.\u001b[0m\u001b[0mstart_time_mm_dd_yyyy_hh_mm\u001b[0m\u001b[1;33m.\u001b[0m\u001b[0mdt\u001b[0m\u001b[1;33m.\u001b[0m\u001b[0mday\u001b[0m\u001b[1;33m\u001b[0m\u001b[0m\n\u001b[0m",
      "\u001b[1;31mNameError\u001b[0m: name 'data' is not defined"
     ]
    }
   ],
   "source": [
    "data.start_time_mm_dd_yyyy_hh_mm.dt.day\n"
   ]
  },
  {
   "cell_type": "code",
   "execution_count": null,
   "metadata": {
    "collapsed": true
   },
   "outputs": [],
   "source": []
  },
  {
   "cell_type": "code",
   "execution_count": null,
   "metadata": {
    "collapsed": true
   },
   "outputs": [],
   "source": []
  },
  {
   "cell_type": "code",
   "execution_count": null,
   "metadata": {
    "collapsed": true
   },
   "outputs": [],
   "source": []
  },
  {
   "cell_type": "code",
   "execution_count": null,
   "metadata": {
    "collapsed": true
   },
   "outputs": [],
   "source": []
  },
  {
   "cell_type": "code",
   "execution_count": null,
   "metadata": {
    "collapsed": true
   },
   "outputs": [],
   "source": []
  },
  {
   "cell_type": "code",
   "execution_count": null,
   "metadata": {
    "collapsed": true
   },
   "outputs": [],
   "source": []
  },
  {
   "cell_type": "code",
   "execution_count": null,
   "metadata": {
    "collapsed": true
   },
   "outputs": [],
   "source": []
  },
  {
   "cell_type": "code",
   "execution_count": null,
   "metadata": {
    "collapsed": true
   },
   "outputs": [],
   "source": []
  },
  {
   "cell_type": "code",
   "execution_count": null,
   "metadata": {
    "collapsed": true
   },
   "outputs": [],
   "source": []
  },
  {
   "cell_type": "code",
   "execution_count": null,
   "metadata": {
    "collapsed": true
   },
   "outputs": [],
   "source": []
  },
  {
   "cell_type": "code",
   "execution_count": null,
   "metadata": {
    "collapsed": true
   },
   "outputs": [],
   "source": []
  },
  {
   "cell_type": "code",
   "execution_count": null,
   "metadata": {
    "collapsed": true
   },
   "outputs": [],
   "source": []
  },
  {
   "cell_type": "code",
   "execution_count": null,
   "metadata": {
    "collapsed": true
   },
   "outputs": [],
   "source": []
  },
  {
   "cell_type": "code",
   "execution_count": null,
   "metadata": {
    "collapsed": true
   },
   "outputs": [],
   "source": []
  },
  {
   "cell_type": "code",
   "execution_count": null,
   "metadata": {
    "collapsed": true
   },
   "outputs": [],
   "source": []
  }
 ],
 "metadata": {
  "kernelspec": {
   "display_name": "Python 3",
   "language": "python",
   "name": "python3"
  },
  "language_info": {
   "codemirror_mode": {
    "name": "ipython",
    "version": 3
   },
   "file_extension": ".py",
   "mimetype": "text/x-python",
   "name": "python",
   "nbconvert_exporter": "python",
   "pygments_lexer": "ipython3",
   "version": "3.5.1"
  }
 },
 "nbformat": 4,
 "nbformat_minor": 0
}
