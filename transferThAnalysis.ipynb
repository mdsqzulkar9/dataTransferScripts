{
 "cells": [
  {
   "cell_type": "raw",
   "metadata": {},
   "source": [
    "This notebook is to analyze the transfer throughputs.\n",
    "\n",
    "the dataset repository is in Dropbox:\n",
    "Dropbox/gits/data/ThOpt/master/\n",
    "\n",
    "Important units in the dataset: (your new data must agree with the units)\n",
    "    file_size - Megabytes\n",
    "    number_of_files - number int\n",
    "    bandwidth - Megabytes per second\n",
    "    rtt - millisecond\n",
    "    buffer_size - MegaBytes\n",
    "    p - number - int\n",
    "    cc - number - int\n",
    "    pp - number - int\n",
    "    fast - boolean - {0,1}\n",
    "    throughput - (Mega Byte per second)\n",
    "    time - second\n",
    "    start_time - yyyy-mm-dd HH:MM:SS (e.g. 2015-03-31 00:57:22)\n",
    "    source - string name\n",
    "    destination - string name \n",
    "    \n",
    "\n",
    "    \n",
    "    \n",
    "Author: Md S Q Zulkar Nine     Start Date: June 2, 2016      Last Modified: June 9, 2016"
   ]
  },
  {
   "cell_type": "code",
   "execution_count": 1,
   "metadata": {
    "collapsed": false
   },
   "outputs": [
    {
     "name": "stdout",
     "output_type": "stream",
     "text": [
      "master_06_09_2016_14_43  master_06_10_2016_18_27  readme.txt\r\n"
     ]
    }
   ],
   "source": [
    "# See the dataset folder in linux-lab:\n",
    "! ls /home/zulkar/Dropbox/gits/data/ThOpt/master/"
   ]
  },
  {
   "cell_type": "code",
   "execution_count": 2,
   "metadata": {
    "collapsed": true
   },
   "outputs": [],
   "source": [
    "# Control variables: \n",
    "\n",
    "# master dataset location:\n",
    "master_location = 'Dropbox/gits/data/ThOpt/master/'\n",
    "\n",
    "# master file name : \n",
    "master_file_name = 'master_06_10_2016_18_27'\n"
   ]
  },
  {
   "cell_type": "code",
   "execution_count": 3,
   "metadata": {
    "collapsed": true
   },
   "outputs": [],
   "source": [
    "# import pandas library:\n",
    "import os\n",
    "import pandas as pds\n",
    "import pylab as pyl\n",
    "import numpy as np\n",
    "%matplotlib inline"
   ]
  },
  {
   "cell_type": "code",
   "execution_count": 4,
   "metadata": {
    "collapsed": false
   },
   "outputs": [
    {
     "data": {
      "text/html": [
       "<style>body {\n",
       "    margin: 0;\n",
       "    font-family: Helvetica;\n",
       "}\n",
       "table.dataframe {\n",
       "    border-collapse: collapse;\n",
       "    border: none;\n",
       "}\n",
       "table.dataframe tr {\n",
       "    border: none;\n",
       "}\n",
       "table.dataframe td, table.dataframe th {\n",
       "    margin: 0;\n",
       "    border: 1px solid white;\n",
       "    padding-left: 0.25em;\n",
       "    padding-right: 0.25em;\n",
       "}\n",
       "table.dataframe th:not(:empty) {\n",
       "    background-color: #fec;\n",
       "    text-align: left;\n",
       "    font-weight: normal;\n",
       "}\n",
       "table.dataframe tr:nth-child(2) th:empty {\n",
       "    border-left: none;\n",
       "    border-right: 1px dashed #888;\n",
       "}\n",
       "table.dataframe td {\n",
       "    border: 2px solid #ccf;\n",
       "    background-color: #f4f4ff;\n",
       "}h3 {\n",
       "    color: white;\n",
       "    background-color: black;\n",
       "    padding: 0.5em;\n",
       "}</style>"
      ],
      "text/plain": [
       "<IPython.core.display.HTML object>"
      ]
     },
     "execution_count": 4,
     "metadata": {},
     "output_type": "execute_result"
    }
   ],
   "source": [
    "# pretty dataframe :\n",
    "from IPython.core.display import HTML\n",
    "css = open('style-table.css').read() + open('style-notebook.css').read()\n",
    "HTML('<style>{}</style>'.format(css))"
   ]
  },
  {
   "cell_type": "code",
   "execution_count": 5,
   "metadata": {
    "collapsed": false
   },
   "outputs": [
    {
     "data": {
      "text/plain": [
       "'/home/zulkar/'"
      ]
     },
     "execution_count": 5,
     "metadata": {},
     "output_type": "execute_result"
    }
   ],
   "source": [
    "# required values :\n",
    "\n",
    "# OS file seperator: \n",
    "file_seperator = os.sep\n",
    "\n",
    "\n",
    "# User OS home directory:\n",
    "user_home = os.environ['HOME']\n",
    "user_home = user_home+file_seperator\n",
    "user_home"
   ]
  },
  {
   "cell_type": "code",
   "execution_count": 36,
   "metadata": {
    "collapsed": false,
    "scrolled": true
   },
   "outputs": [
    {
     "data": {
      "text/html": [
       "<div>\n",
       "<table border=\"1\" class=\"dataframe\">\n",
       "  <thead>\n",
       "    <tr style=\"text-align: right;\">\n",
       "      <th></th>\n",
       "      <th>file_size</th>\n",
       "      <th>number_of_files</th>\n",
       "      <th>bandwidth</th>\n",
       "      <th>rtt</th>\n",
       "      <th>buffer_size</th>\n",
       "      <th>p</th>\n",
       "      <th>cc</th>\n",
       "      <th>pp</th>\n",
       "      <th>fast</th>\n",
       "      <th>throughput</th>\n",
       "      <th>time</th>\n",
       "      <th>start_time</th>\n",
       "      <th>source</th>\n",
       "      <th>destination</th>\n",
       "    </tr>\n",
       "  </thead>\n",
       "  <tbody>\n",
       "    <tr>\n",
       "      <th>0</th>\n",
       "      <td>652486</td>\n",
       "      <td>3293</td>\n",
       "      <td>128</td>\n",
       "      <td>0.25</td>\n",
       "      <td>4194304</td>\n",
       "      <td>1</td>\n",
       "      <td>1</td>\n",
       "      <td>1</td>\n",
       "      <td>0</td>\n",
       "      <td>48.360560</td>\n",
       "      <td>42.371396</td>\n",
       "      <td>2015-07-24 00:05:45</td>\n",
       "      <td>Evenstar</td>\n",
       "      <td>Didclab-ws10</td>\n",
       "    </tr>\n",
       "    <tr>\n",
       "      <th>1</th>\n",
       "      <td>652486</td>\n",
       "      <td>3293</td>\n",
       "      <td>128</td>\n",
       "      <td>0.25</td>\n",
       "      <td>4194304</td>\n",
       "      <td>1</td>\n",
       "      <td>1</td>\n",
       "      <td>2</td>\n",
       "      <td>0</td>\n",
       "      <td>56.777687</td>\n",
       "      <td>36.089951</td>\n",
       "      <td>2015-07-24 00:06:27</td>\n",
       "      <td>Evenstar</td>\n",
       "      <td>Didclab-ws10</td>\n",
       "    </tr>\n",
       "    <tr>\n",
       "      <th>2</th>\n",
       "      <td>652486</td>\n",
       "      <td>3293</td>\n",
       "      <td>128</td>\n",
       "      <td>0.25</td>\n",
       "      <td>4194304</td>\n",
       "      <td>1</td>\n",
       "      <td>1</td>\n",
       "      <td>4</td>\n",
       "      <td>0</td>\n",
       "      <td>62.801374</td>\n",
       "      <td>32.628335</td>\n",
       "      <td>2015-07-24 00:07:03</td>\n",
       "      <td>Evenstar</td>\n",
       "      <td>Didclab-ws10</td>\n",
       "    </tr>\n",
       "    <tr>\n",
       "      <th>3</th>\n",
       "      <td>652486</td>\n",
       "      <td>3293</td>\n",
       "      <td>128</td>\n",
       "      <td>0.25</td>\n",
       "      <td>4194304</td>\n",
       "      <td>1</td>\n",
       "      <td>1</td>\n",
       "      <td>8</td>\n",
       "      <td>0</td>\n",
       "      <td>76.870653</td>\n",
       "      <td>26.656531</td>\n",
       "      <td>2015-07-24 00:07:36</td>\n",
       "      <td>Evenstar</td>\n",
       "      <td>Didclab-ws10</td>\n",
       "    </tr>\n",
       "    <tr>\n",
       "      <th>4</th>\n",
       "      <td>652486</td>\n",
       "      <td>3293</td>\n",
       "      <td>128</td>\n",
       "      <td>0.25</td>\n",
       "      <td>4194304</td>\n",
       "      <td>1</td>\n",
       "      <td>1</td>\n",
       "      <td>16</td>\n",
       "      <td>0</td>\n",
       "      <td>79.185026</td>\n",
       "      <td>25.877430</td>\n",
       "      <td>2015-07-24 00:08:03</td>\n",
       "      <td>Evenstar</td>\n",
       "      <td>Didclab-ws10</td>\n",
       "    </tr>\n",
       "  </tbody>\n",
       "</table>\n",
       "</div>"
      ],
      "text/plain": [
       "   file_size  number_of_files  bandwidth   rtt  buffer_size  p  cc  pp  fast  \\\n",
       "0     652486             3293        128  0.25      4194304  1   1   1     0   \n",
       "1     652486             3293        128  0.25      4194304  1   1   2     0   \n",
       "2     652486             3293        128  0.25      4194304  1   1   4     0   \n",
       "3     652486             3293        128  0.25      4194304  1   1   8     0   \n",
       "4     652486             3293        128  0.25      4194304  1   1  16     0   \n",
       "\n",
       "   throughput       time           start_time    source   destination  \n",
       "0   48.360560  42.371396  2015-07-24 00:05:45  Evenstar  Didclab-ws10  \n",
       "1   56.777687  36.089951  2015-07-24 00:06:27  Evenstar  Didclab-ws10  \n",
       "2   62.801374  32.628335  2015-07-24 00:07:03  Evenstar  Didclab-ws10  \n",
       "3   76.870653  26.656531  2015-07-24 00:07:36  Evenstar  Didclab-ws10  \n",
       "4   79.185026  25.877430  2015-07-24 00:08:03  Evenstar  Didclab-ws10  "
      ]
     },
     "execution_count": 36,
     "metadata": {},
     "output_type": "execute_result"
    }
   ],
   "source": [
    "# read the master file : \n",
    "full_master_file_path = user_home + master_location + master_file_name\n",
    "data = pds.read_csv(full_master_file_path)\n",
    "data.head()"
   ]
  },
  {
   "cell_type": "code",
   "execution_count": 7,
   "metadata": {
    "collapsed": false
   },
   "outputs": [
    {
     "data": {
      "text/html": [
       "<div>\n",
       "<table border=\"1\" class=\"dataframe\">\n",
       "  <thead>\n",
       "    <tr style=\"text-align: right;\">\n",
       "      <th></th>\n",
       "      <th>file_size</th>\n",
       "      <th>number_of_files</th>\n",
       "      <th>bandwidth</th>\n",
       "      <th>rtt</th>\n",
       "      <th>buffer_size</th>\n",
       "      <th>p</th>\n",
       "      <th>cc</th>\n",
       "      <th>pp</th>\n",
       "      <th>fast</th>\n",
       "      <th>throughput</th>\n",
       "      <th>time</th>\n",
       "      <th>start_time</th>\n",
       "      <th>source</th>\n",
       "      <th>destination</th>\n",
       "    </tr>\n",
       "  </thead>\n",
       "  <tbody>\n",
       "    <tr>\n",
       "      <th>0</th>\n",
       "      <td>652486</td>\n",
       "      <td>3293</td>\n",
       "      <td>128</td>\n",
       "      <td>0.25</td>\n",
       "      <td>4194304</td>\n",
       "      <td>1</td>\n",
       "      <td>1</td>\n",
       "      <td>1</td>\n",
       "      <td>0</td>\n",
       "      <td>48.360560</td>\n",
       "      <td>42.371396</td>\n",
       "      <td>2015-07-24 00:05:45</td>\n",
       "      <td>Evenstar</td>\n",
       "      <td>Didclab-ws10</td>\n",
       "    </tr>\n",
       "    <tr>\n",
       "      <th>1</th>\n",
       "      <td>652486</td>\n",
       "      <td>3293</td>\n",
       "      <td>128</td>\n",
       "      <td>0.25</td>\n",
       "      <td>4194304</td>\n",
       "      <td>1</td>\n",
       "      <td>1</td>\n",
       "      <td>2</td>\n",
       "      <td>0</td>\n",
       "      <td>56.777687</td>\n",
       "      <td>36.089951</td>\n",
       "      <td>2015-07-24 00:06:27</td>\n",
       "      <td>Evenstar</td>\n",
       "      <td>Didclab-ws10</td>\n",
       "    </tr>\n",
       "    <tr>\n",
       "      <th>2</th>\n",
       "      <td>652486</td>\n",
       "      <td>3293</td>\n",
       "      <td>128</td>\n",
       "      <td>0.25</td>\n",
       "      <td>4194304</td>\n",
       "      <td>1</td>\n",
       "      <td>1</td>\n",
       "      <td>4</td>\n",
       "      <td>0</td>\n",
       "      <td>62.801374</td>\n",
       "      <td>32.628335</td>\n",
       "      <td>2015-07-24 00:07:03</td>\n",
       "      <td>Evenstar</td>\n",
       "      <td>Didclab-ws10</td>\n",
       "    </tr>\n",
       "    <tr>\n",
       "      <th>3</th>\n",
       "      <td>652486</td>\n",
       "      <td>3293</td>\n",
       "      <td>128</td>\n",
       "      <td>0.25</td>\n",
       "      <td>4194304</td>\n",
       "      <td>1</td>\n",
       "      <td>1</td>\n",
       "      <td>8</td>\n",
       "      <td>0</td>\n",
       "      <td>76.870653</td>\n",
       "      <td>26.656531</td>\n",
       "      <td>2015-07-24 00:07:36</td>\n",
       "      <td>Evenstar</td>\n",
       "      <td>Didclab-ws10</td>\n",
       "    </tr>\n",
       "    <tr>\n",
       "      <th>4</th>\n",
       "      <td>652486</td>\n",
       "      <td>3293</td>\n",
       "      <td>128</td>\n",
       "      <td>0.25</td>\n",
       "      <td>4194304</td>\n",
       "      <td>1</td>\n",
       "      <td>1</td>\n",
       "      <td>16</td>\n",
       "      <td>0</td>\n",
       "      <td>79.185026</td>\n",
       "      <td>25.877430</td>\n",
       "      <td>2015-07-24 00:08:03</td>\n",
       "      <td>Evenstar</td>\n",
       "      <td>Didclab-ws10</td>\n",
       "    </tr>\n",
       "  </tbody>\n",
       "</table>\n",
       "</div>"
      ],
      "text/plain": [
       "  file_size number_of_files bandwidth   rtt buffer_size  p  cc  pp  fast  \\\n",
       "0    652486            3293       128  0.25     4194304  1   1   1     0   \n",
       "1    652486            3293       128  0.25     4194304  1   1   2     0   \n",
       "2    652486            3293       128  0.25     4194304  1   1   4     0   \n",
       "3    652486            3293       128  0.25     4194304  1   1   8     0   \n",
       "4    652486            3293       128  0.25     4194304  1   1  16     0   \n",
       "\n",
       "   throughput       time           start_time    source   destination  \n",
       "0   48.360560  42.371396  2015-07-24 00:05:45  Evenstar  Didclab-ws10  \n",
       "1   56.777687  36.089951  2015-07-24 00:06:27  Evenstar  Didclab-ws10  \n",
       "2   62.801374  32.628335  2015-07-24 00:07:03  Evenstar  Didclab-ws10  \n",
       "3   76.870653  26.656531  2015-07-24 00:07:36  Evenstar  Didclab-ws10  \n",
       "4   79.185026  25.877430  2015-07-24 00:08:03  Evenstar  Didclab-ws10  "
      ]
     },
     "execution_count": 7,
     "metadata": {},
     "output_type": "execute_result"
    }
   ],
   "source": [
    "# as first five columns are data transfer requests. we can convert them into string for accurate and \n",
    "# efficient indexing. \n",
    "\n",
    "data['file_size'] = data['file_size'].astype(str)\n",
    "data['number_of_files'] = data['number_of_files'].astype(str)\n",
    "data['bandwidth'] = data['bandwidth'].astype(str)\n",
    "data['rtt'] = data['rtt'].astype(str)\n",
    "data['buffer_size'] = data['buffer_size'].astype(str)\n",
    "data.head()"
   ]
  },
  {
   "cell_type": "code",
   "execution_count": 64,
   "metadata": {
    "collapsed": false
   },
   "outputs": [
    {
     "data": {
      "text/plain": [
       "[(10623021.0, 405.0, 128.0, 0.25, 4194304.0),\n",
       " (51421866.0, 126.0, 128.0, 0.25, 4194304.0),\n",
       " (912680960.0, 10.0, 128.0, 0.25, 4194304.0),\n",
       " (3131997.0, 3429.0, 1280.0, 80.0, 33554432.0),\n",
       " (23727255.0, 906.0, 1280.0, 80.0, 33554432.0),\n",
       " (132236763.0, 325.0, 1280.0, 80.0, 33554432.0),\n",
       " (3063322383.0, 34.0, 1280.0, 80.0, 33554432.0),\n",
       " (5242929.0, 1000.0, 1280.0, 40.0, 33554432.0),\n",
       " (26214461.0, 200.0, 1280.0, 40.0, 33554432.0)]"
      ]
     },
     "execution_count": 64,
     "metadata": {},
     "output_type": "execute_result"
    }
   ],
   "source": [
    "# get the unique transfers : as tuple \n",
    "transfer_requests = data[['file_size','number_of_files','bandwidth','rtt','buffer_size']]\n",
    "droped_duplicate_trans_req = transfer_requests.drop_duplicates()\n",
    "\n",
    "unique_transfers = [tuple(transfers) for transfers in droped_duplicate_trans_req.values]\n",
    "unique_transfers[1:10]\n",
    "#len(unique_transfers)"
   ]
  },
  {
   "cell_type": "code",
   "execution_count": null,
   "metadata": {
    "collapsed": false
   },
   "outputs": [],
   "source": [
    "# make (file_size, number_of_files, bandwidth, rtt, buffer_size) index \n",
    "# d = data.set_index(['source','destination','start_time','file_size','number_of_files','bandwidth','rtt','buffer_size','p','cc','pp','fast'])\n",
    "d = data.set_index(['source','destination'])\n",
    "d.head()"
   ]
  },
  {
   "cell_type": "code",
   "execution_count": 10,
   "metadata": {
    "collapsed": false
   },
   "outputs": [
    {
     "data": {
      "text/html": [
       "<div>\n",
       "<table border=\"1\" class=\"dataframe\">\n",
       "  <thead>\n",
       "    <tr style=\"text-align: right;\">\n",
       "      <th></th>\n",
       "      <th></th>\n",
       "      <th></th>\n",
       "      <th></th>\n",
       "      <th></th>\n",
       "      <th>p</th>\n",
       "      <th>cc</th>\n",
       "      <th>pp</th>\n",
       "      <th>fast</th>\n",
       "      <th>throughput</th>\n",
       "      <th>time</th>\n",
       "      <th>start_time</th>\n",
       "      <th>source</th>\n",
       "      <th>destination</th>\n",
       "    </tr>\n",
       "    <tr>\n",
       "      <th>file_size</th>\n",
       "      <th>number_of_files</th>\n",
       "      <th>bandwidth</th>\n",
       "      <th>rtt</th>\n",
       "      <th>buffer_size</th>\n",
       "      <th></th>\n",
       "      <th></th>\n",
       "      <th></th>\n",
       "      <th></th>\n",
       "      <th></th>\n",
       "      <th></th>\n",
       "      <th></th>\n",
       "      <th></th>\n",
       "      <th></th>\n",
       "    </tr>\n",
       "  </thead>\n",
       "  <tbody>\n",
       "    <tr>\n",
       "      <th rowspan=\"5\" valign=\"top\">652486</th>\n",
       "      <th rowspan=\"5\" valign=\"top\">3293</th>\n",
       "      <th rowspan=\"5\" valign=\"top\">128</th>\n",
       "      <th rowspan=\"5\" valign=\"top\">0.25</th>\n",
       "      <th>4194304</th>\n",
       "      <td>1</td>\n",
       "      <td>1</td>\n",
       "      <td>1</td>\n",
       "      <td>0</td>\n",
       "      <td>48.360560</td>\n",
       "      <td>42.371396</td>\n",
       "      <td>2015-07-24 00:05:45</td>\n",
       "      <td>Evenstar</td>\n",
       "      <td>Didclab-ws10</td>\n",
       "    </tr>\n",
       "    <tr>\n",
       "      <th>4194304</th>\n",
       "      <td>1</td>\n",
       "      <td>1</td>\n",
       "      <td>2</td>\n",
       "      <td>0</td>\n",
       "      <td>56.777687</td>\n",
       "      <td>36.089951</td>\n",
       "      <td>2015-07-24 00:06:27</td>\n",
       "      <td>Evenstar</td>\n",
       "      <td>Didclab-ws10</td>\n",
       "    </tr>\n",
       "    <tr>\n",
       "      <th>4194304</th>\n",
       "      <td>1</td>\n",
       "      <td>1</td>\n",
       "      <td>4</td>\n",
       "      <td>0</td>\n",
       "      <td>62.801374</td>\n",
       "      <td>32.628335</td>\n",
       "      <td>2015-07-24 00:07:03</td>\n",
       "      <td>Evenstar</td>\n",
       "      <td>Didclab-ws10</td>\n",
       "    </tr>\n",
       "    <tr>\n",
       "      <th>4194304</th>\n",
       "      <td>1</td>\n",
       "      <td>1</td>\n",
       "      <td>8</td>\n",
       "      <td>0</td>\n",
       "      <td>76.870653</td>\n",
       "      <td>26.656531</td>\n",
       "      <td>2015-07-24 00:07:36</td>\n",
       "      <td>Evenstar</td>\n",
       "      <td>Didclab-ws10</td>\n",
       "    </tr>\n",
       "    <tr>\n",
       "      <th>4194304</th>\n",
       "      <td>1</td>\n",
       "      <td>1</td>\n",
       "      <td>16</td>\n",
       "      <td>0</td>\n",
       "      <td>79.185026</td>\n",
       "      <td>25.877430</td>\n",
       "      <td>2015-07-24 00:08:03</td>\n",
       "      <td>Evenstar</td>\n",
       "      <td>Didclab-ws10</td>\n",
       "    </tr>\n",
       "  </tbody>\n",
       "</table>\n",
       "</div>"
      ],
      "text/plain": [
       "                                                      p  cc  pp  fast  \\\n",
       "file_size number_of_files bandwidth rtt  buffer_size                    \n",
       "652486    3293            128       0.25 4194304      1   1   1     0   \n",
       "                                         4194304      1   1   2     0   \n",
       "                                         4194304      1   1   4     0   \n",
       "                                         4194304      1   1   8     0   \n",
       "                                         4194304      1   1  16     0   \n",
       "\n",
       "                                                      throughput       time  \\\n",
       "file_size number_of_files bandwidth rtt  buffer_size                          \n",
       "652486    3293            128       0.25 4194304       48.360560  42.371396   \n",
       "                                         4194304       56.777687  36.089951   \n",
       "                                         4194304       62.801374  32.628335   \n",
       "                                         4194304       76.870653  26.656531   \n",
       "                                         4194304       79.185026  25.877430   \n",
       "\n",
       "                                                               start_time  \\\n",
       "file_size number_of_files bandwidth rtt  buffer_size                        \n",
       "652486    3293            128       0.25 4194304      2015-07-24 00:05:45   \n",
       "                                         4194304      2015-07-24 00:06:27   \n",
       "                                         4194304      2015-07-24 00:07:03   \n",
       "                                         4194304      2015-07-24 00:07:36   \n",
       "                                         4194304      2015-07-24 00:08:03   \n",
       "\n",
       "                                                        source   destination  \n",
       "file_size number_of_files bandwidth rtt  buffer_size                          \n",
       "652486    3293            128       0.25 4194304      Evenstar  Didclab-ws10  \n",
       "                                         4194304      Evenstar  Didclab-ws10  \n",
       "                                         4194304      Evenstar  Didclab-ws10  \n",
       "                                         4194304      Evenstar  Didclab-ws10  \n",
       "                                         4194304      Evenstar  Didclab-ws10  "
      ]
     },
     "execution_count": 10,
     "metadata": {},
     "output_type": "execute_result"
    }
   ],
   "source": [
    "r = data.set_index(['file_size','number_of_files','bandwidth','rtt','buffer_size'])\n",
    "r.head()"
   ]
  },
  {
   "cell_type": "code",
   "execution_count": 18,
   "metadata": {
    "collapsed": false
   },
   "outputs": [
    {
     "name": "stderr",
     "output_type": "stream",
     "text": [
      "/home/zulkar/anaconda3/lib/python3.5/site-packages/ipykernel/__main__.py:1: PerformanceWarning: indexing past lexsort depth may impact performance.\n",
      "  if __name__ == '__main__':\n"
     ]
    },
    {
     "data": {
      "text/html": [
       "<div>\n",
       "<table border=\"1\" class=\"dataframe\">\n",
       "  <thead>\n",
       "    <tr style=\"text-align: right;\">\n",
       "      <th></th>\n",
       "      <th></th>\n",
       "      <th></th>\n",
       "      <th></th>\n",
       "      <th></th>\n",
       "      <th>p</th>\n",
       "      <th>cc</th>\n",
       "      <th>pp</th>\n",
       "      <th>fast</th>\n",
       "      <th>throughput</th>\n",
       "      <th>time</th>\n",
       "      <th>start_time</th>\n",
       "      <th>source</th>\n",
       "      <th>destination</th>\n",
       "    </tr>\n",
       "    <tr>\n",
       "      <th>file_size</th>\n",
       "      <th>number_of_files</th>\n",
       "      <th>bandwidth</th>\n",
       "      <th>rtt</th>\n",
       "      <th>buffer_size</th>\n",
       "      <th></th>\n",
       "      <th></th>\n",
       "      <th></th>\n",
       "      <th></th>\n",
       "      <th></th>\n",
       "      <th></th>\n",
       "      <th></th>\n",
       "      <th></th>\n",
       "      <th></th>\n",
       "    </tr>\n",
       "  </thead>\n",
       "  <tbody>\n",
       "    <tr>\n",
       "      <th rowspan=\"5\" valign=\"top\">209715259</th>\n",
       "      <th rowspan=\"5\" valign=\"top\">69</th>\n",
       "      <th rowspan=\"5\" valign=\"top\">1280</th>\n",
       "      <th rowspan=\"5\" valign=\"top\">39.0</th>\n",
       "      <th>49920000</th>\n",
       "      <td>1</td>\n",
       "      <td>1</td>\n",
       "      <td>1</td>\n",
       "      <td>0</td>\n",
       "      <td>47.266001</td>\n",
       "      <td>291.964704</td>\n",
       "      <td>2016-05-20 11:28:00</td>\n",
       "      <td>Stampede</td>\n",
       "      <td>Gordon/Oasis</td>\n",
       "    </tr>\n",
       "    <tr>\n",
       "      <th>49920000</th>\n",
       "      <td>1</td>\n",
       "      <td>1</td>\n",
       "      <td>1</td>\n",
       "      <td>1</td>\n",
       "      <td>55.589452</td>\n",
       "      <td>248.248604</td>\n",
       "      <td>2016-05-20 11:32:00</td>\n",
       "      <td>Stampede</td>\n",
       "      <td>Gordon/Oasis</td>\n",
       "    </tr>\n",
       "    <tr>\n",
       "      <th>49920000</th>\n",
       "      <td>1</td>\n",
       "      <td>1</td>\n",
       "      <td>2</td>\n",
       "      <td>0</td>\n",
       "      <td>63.238233</td>\n",
       "      <td>218.222477</td>\n",
       "      <td>2016-05-20 11:36:00</td>\n",
       "      <td>Stampede</td>\n",
       "      <td>Gordon/Oasis</td>\n",
       "    </tr>\n",
       "    <tr>\n",
       "      <th>49920000</th>\n",
       "      <td>1</td>\n",
       "      <td>1</td>\n",
       "      <td>2</td>\n",
       "      <td>1</td>\n",
       "      <td>47.229179</td>\n",
       "      <td>292.192334</td>\n",
       "      <td>2016-05-20 11:41:00</td>\n",
       "      <td>Stampede</td>\n",
       "      <td>Gordon/Oasis</td>\n",
       "    </tr>\n",
       "    <tr>\n",
       "      <th>49920000</th>\n",
       "      <td>1</td>\n",
       "      <td>1</td>\n",
       "      <td>4</td>\n",
       "      <td>0</td>\n",
       "      <td>53.472254</td>\n",
       "      <td>258.077842</td>\n",
       "      <td>2016-05-20 11:45:00</td>\n",
       "      <td>Stampede</td>\n",
       "      <td>Gordon/Oasis</td>\n",
       "    </tr>\n",
       "  </tbody>\n",
       "</table>\n",
       "</div>"
      ],
      "text/plain": [
       "                                                      p  cc  pp  fast  \\\n",
       "file_size number_of_files bandwidth rtt  buffer_size                    \n",
       "209715259 69              1280      39.0 49920000     1   1   1     0   \n",
       "                                         49920000     1   1   1     1   \n",
       "                                         49920000     1   1   2     0   \n",
       "                                         49920000     1   1   2     1   \n",
       "                                         49920000     1   1   4     0   \n",
       "\n",
       "                                                      throughput        time  \\\n",
       "file_size number_of_files bandwidth rtt  buffer_size                           \n",
       "209715259 69              1280      39.0 49920000      47.266001  291.964704   \n",
       "                                         49920000      55.589452  248.248604   \n",
       "                                         49920000      63.238233  218.222477   \n",
       "                                         49920000      47.229179  292.192334   \n",
       "                                         49920000      53.472254  258.077842   \n",
       "\n",
       "                                                               start_time  \\\n",
       "file_size number_of_files bandwidth rtt  buffer_size                        \n",
       "209715259 69              1280      39.0 49920000     2016-05-20 11:28:00   \n",
       "                                         49920000     2016-05-20 11:32:00   \n",
       "                                         49920000     2016-05-20 11:36:00   \n",
       "                                         49920000     2016-05-20 11:41:00   \n",
       "                                         49920000     2016-05-20 11:45:00   \n",
       "\n",
       "                                                        source   destination  \n",
       "file_size number_of_files bandwidth rtt  buffer_size                          \n",
       "209715259 69              1280      39.0 49920000     Stampede  Gordon/Oasis  \n",
       "                                         49920000     Stampede  Gordon/Oasis  \n",
       "                                         49920000     Stampede  Gordon/Oasis  \n",
       "                                         49920000     Stampede  Gordon/Oasis  \n",
       "                                         49920000     Stampede  Gordon/Oasis  "
      ]
     },
     "execution_count": 18,
     "metadata": {},
     "output_type": "execute_result"
    }
   ],
   "source": [
    "h = r.loc[('209715259', '69', '1280', '39.0', '49920000')]\n",
    "h.head()"
   ]
  },
  {
   "cell_type": "code",
   "execution_count": 35,
   "metadata": {
    "collapsed": false
   },
   "outputs": [
    {
     "name": "stderr",
     "output_type": "stream",
     "text": [
      "/home/zulkar/anaconda3/lib/python3.5/site-packages/ipykernel/__main__.py:1: PerformanceWarning: indexing past lexsort depth may impact performance.\n",
      "  if __name__ == '__main__':\n"
     ]
    },
    {
     "data": {
      "text/html": [
       "<div>\n",
       "<table border=\"1\" class=\"dataframe\">\n",
       "  <thead>\n",
       "    <tr style=\"text-align: right;\">\n",
       "      <th></th>\n",
       "      <th></th>\n",
       "      <th></th>\n",
       "      <th></th>\n",
       "      <th></th>\n",
       "      <th>p</th>\n",
       "      <th>cc</th>\n",
       "      <th>pp</th>\n",
       "      <th>fast</th>\n",
       "      <th>throughput</th>\n",
       "      <th>time</th>\n",
       "      <th>start_time</th>\n",
       "      <th>source</th>\n",
       "      <th>destination</th>\n",
       "    </tr>\n",
       "    <tr>\n",
       "      <th>file_size</th>\n",
       "      <th>number_of_files</th>\n",
       "      <th>bandwidth</th>\n",
       "      <th>rtt</th>\n",
       "      <th>buffer_size</th>\n",
       "      <th></th>\n",
       "      <th></th>\n",
       "      <th></th>\n",
       "      <th></th>\n",
       "      <th></th>\n",
       "      <th></th>\n",
       "      <th></th>\n",
       "      <th></th>\n",
       "      <th></th>\n",
       "    </tr>\n",
       "  </thead>\n",
       "  <tbody>\n",
       "    <tr>\n",
       "      <th rowspan=\"4\" valign=\"top\">104857668</th>\n",
       "      <th rowspan=\"4\" valign=\"top\">299</th>\n",
       "      <th rowspan=\"4\" valign=\"top\">1280</th>\n",
       "      <th rowspan=\"4\" valign=\"top\">39.0</th>\n",
       "      <th>49920000</th>\n",
       "      <td>8</td>\n",
       "      <td>32</td>\n",
       "      <td>1</td>\n",
       "      <td>0</td>\n",
       "      <td>731.041026</td>\n",
       "      <td>40.900604</td>\n",
       "      <td>2016-05-23 17:43:00</td>\n",
       "      <td>Stampede</td>\n",
       "      <td>Gordon/Oasis</td>\n",
       "    </tr>\n",
       "    <tr>\n",
       "      <th>49920000</th>\n",
       "      <td>32</td>\n",
       "      <td>16</td>\n",
       "      <td>8</td>\n",
       "      <td>1</td>\n",
       "      <td>739.935649</td>\n",
       "      <td>40.408946</td>\n",
       "      <td>2016-05-23 20:46:00</td>\n",
       "      <td>Stampede</td>\n",
       "      <td>Gordon/Oasis</td>\n",
       "    </tr>\n",
       "    <tr>\n",
       "      <th>49920000</th>\n",
       "      <td>8</td>\n",
       "      <td>32</td>\n",
       "      <td>4</td>\n",
       "      <td>0</td>\n",
       "      <td>746.124336</td>\n",
       "      <td>40.073776</td>\n",
       "      <td>2016-05-23 17:45:00</td>\n",
       "      <td>Stampede</td>\n",
       "      <td>Gordon/Oasis</td>\n",
       "    </tr>\n",
       "    <tr>\n",
       "      <th>49920000</th>\n",
       "      <td>32</td>\n",
       "      <td>16</td>\n",
       "      <td>8</td>\n",
       "      <td>0</td>\n",
       "      <td>780.620068</td>\n",
       "      <td>38.302909</td>\n",
       "      <td>2016-05-23 20:45:00</td>\n",
       "      <td>Stampede</td>\n",
       "      <td>Gordon/Oasis</td>\n",
       "    </tr>\n",
       "  </tbody>\n",
       "</table>\n",
       "</div>"
      ],
      "text/plain": [
       "                                                       p  cc  pp  fast  \\\n",
       "file_size number_of_files bandwidth rtt  buffer_size                     \n",
       "104857668 299             1280      39.0 49920000      8  32   1     0   \n",
       "                                         49920000     32  16   8     1   \n",
       "                                         49920000      8  32   4     0   \n",
       "                                         49920000     32  16   8     0   \n",
       "\n",
       "                                                      throughput       time  \\\n",
       "file_size number_of_files bandwidth rtt  buffer_size                          \n",
       "104857668 299             1280      39.0 49920000     731.041026  40.900604   \n",
       "                                         49920000     739.935649  40.408946   \n",
       "                                         49920000     746.124336  40.073776   \n",
       "                                         49920000     780.620068  38.302909   \n",
       "\n",
       "                                                               start_time  \\\n",
       "file_size number_of_files bandwidth rtt  buffer_size                        \n",
       "104857668 299             1280      39.0 49920000     2016-05-23 17:43:00   \n",
       "                                         49920000     2016-05-23 20:46:00   \n",
       "                                         49920000     2016-05-23 17:45:00   \n",
       "                                         49920000     2016-05-23 20:45:00   \n",
       "\n",
       "                                                        source   destination  \n",
       "file_size number_of_files bandwidth rtt  buffer_size                          \n",
       "104857668 299             1280      39.0 49920000     Stampede  Gordon/Oasis  \n",
       "                                         49920000     Stampede  Gordon/Oasis  \n",
       "                                         49920000     Stampede  Gordon/Oasis  \n",
       "                                         49920000     Stampede  Gordon/Oasis  "
      ]
     },
     "execution_count": 35,
     "metadata": {},
     "output_type": "execute_result"
    }
   ],
   "source": [
    "# filter specific columns from data:\n",
    "h1 = r.loc[('104857668', '299', '1280', '39.0', '49920000')]\n",
    "p1 = h1.sort_values('throughput')\n",
    "p1.tail(4)"
   ]
  },
  {
   "cell_type": "markdown",
   "metadata": {
    "collapsed": false
   },
   "source": [
    "# clustering data based on file requests:"
   ]
  },
  {
   "cell_type": "raw",
   "metadata": {
    "collapsed": true
   },
   "source": [
    "We will use k-means clustering for benchmarking:\n",
    "To identify the number of possible clusters we performed hierarchical clustering:\n",
    "\n",
    "\n"
   ]
  },
  {
   "cell_type": "code",
   "execution_count": 45,
   "metadata": {
    "collapsed": true
   },
   "outputs": [],
   "source": [
    "# importing libraries:\n",
    "from matplotlib import pyplot as plt\n",
    "from scipy.cluster.hierarchy import dendrogram, linkage\n",
    "import numpy as np"
   ]
  },
  {
   "cell_type": "code",
   "execution_count": 43,
   "metadata": {
    "collapsed": true
   },
   "outputs": [],
   "source": [
    "# some setting for this notebook to actually show the graphs inline, you probably won't need this\n",
    "%matplotlib inline\n",
    "np.set_printoptions(precision=5, suppress=True)  # suppress scientific float notation"
   ]
  },
  {
   "cell_type": "code",
   "execution_count": 92,
   "metadata": {
    "collapsed": false
   },
   "outputs": [
    {
     "data": {
      "text/plain": [
       "dtype('float64')"
      ]
     },
     "execution_count": 92,
     "metadata": {},
     "output_type": "execute_result"
    }
   ],
   "source": [
    "# get the data:\n",
    "unique_transfers[0:5]\n",
    "# preprocessing : \n",
    "# normalization: all columns between 1 to 100: (x - x_min) / (x_max - x_min)\n",
    "\n",
    "file_size_min = data.file_size.min() \n",
    "file_size_max = data.file_size.max()\n",
    "number_of_files_min = data.number_of_files.min()\n",
    "number_of_files_max = data.number_of_files.max()\n",
    "bandwidth_max = data.bandwidth.max()\n",
    "bandwidth_min = data.bandwidth.min()\n",
    "rtt_min = data.rtt.min()\n",
    "rtt_max = data.rtt.max()\n",
    "buffer_size_min = data.buffer_size.min()\n",
    "buffer_size_max = data.buffer_size.max()\n",
    "\n",
    "unique_transfers[0:5]\n",
    "\n",
    "droped_duplicate_trans_req.head()\n",
    "#droped_duplicate_trans_req.file_size = (droped_duplicate_trans_req.file_size - file_size_min) / (file_size_max -file_size_min)\n",
    "#droped_duplicate_trans_req.head()\n",
    "ndarry_data_req = droped_duplicate_trans_req.as_matrix()\n"
   ]
  },
  {
   "cell_type": "code",
   "execution_count": 86,
   "metadata": {
    "collapsed": false
   },
   "outputs": [
    {
     "data": {
      "text/plain": [
       "(70, 4)"
      ]
     },
     "execution_count": 86,
     "metadata": {},
     "output_type": "execute_result"
    }
   ],
   "source": [
    "# generate the linkage matrix\n",
    "# we are using Ward variance minimization algorithm.\n",
    "# link: https://en.wikipedia.org/wiki/Ward%27s_method\n",
    "Z = linkage(ndarry_data_req, 'ward')  \n",
    "Z.shape"
   ]
  },
  {
   "cell_type": "code",
   "execution_count": 87,
   "metadata": {
    "collapsed": false
   },
   "outputs": [
    {
     "data": {
      "text/plain": [
       "0.94755783164726004"
      ]
     },
     "execution_count": 87,
     "metadata": {},
     "output_type": "execute_result"
    }
   ],
   "source": [
    "# computing cophenetic correlation coefficient\n",
    "from scipy.cluster.hierarchy import cophenet\n",
    "from scipy.spatial.distance import pdist\n",
    "\n",
    "c, coph_dists = cophenet(Z, pdist(ndarry_data_req))\n",
    "c"
   ]
  },
  {
   "cell_type": "code",
   "execution_count": 90,
   "metadata": {
    "collapsed": false
   },
   "outputs": [
    {
     "data": {
      "image/png": "[encoded data removed]",
      "text/plain": [
       "<matplotlib.figure.Figure at 0x7f20c9950898>"
      ]
     },
     "metadata": {},
     "output_type": "display_data"
    }
   ],
   "source": [
    "\n",
    "# calculate full dendrogram\n",
    "plt.figure(figsize=(20, 10))\n",
    "plt.title('Hierarchical Clustering Dendrogram')\n",
    "plt.xlabel('sample index')\n",
    "plt.ylabel('distance')\n",
    "dendrogram(\n",
    "    Z,\n",
    "    leaf_rotation=90.,  # rotates the x axis labels\n",
    "    leaf_font_size=10.,  # font size for the x axis labels\n",
    ")\n",
    "plt.show()"
   ]
  },
  {
   "cell_type": "code",
   "execution_count": 91,
   "metadata": {
    "collapsed": false
   },
   "outputs": [
    {
     "data": {
      "image/png": "[encoded data removed]",
      "text/plain": [
       "<matplotlib.figure.Figure at 0x7f20c8e9b588>"
      ]
     },
     "metadata": {},
     "output_type": "display_data"
    }
   ],
   "source": [
    "# truncating the dendrogram: \n",
    "plt.title('Hierarchical Clustering Dendrogram (truncated)')\n",
    "plt.xlabel('sample index')\n",
    "plt.ylabel('distance')\n",
    "dendrogram(\n",
    "    Z,\n",
    "    truncate_mode='lastp',  # show only the last p merged clusters\n",
    "    p=12,  # show only the last p merged clusters\n",
    "    show_leaf_counts=False,  # otherwise numbers in brackets are counts\n",
    "    leaf_rotation=90.,\n",
    "    leaf_font_size=12.,\n",
    "    show_contracted=True,  # to get a distribution impression in truncated branches\n",
    ")\n",
    "plt.show()"
   ]
  },
  {
   "cell_type": "code",
   "execution_count": null,
   "metadata": {
    "collapsed": true
   },
   "outputs": [],
   "source": []
  },
  {
   "cell_type": "code",
   "execution_count": null,
   "metadata": {
    "collapsed": true
   },
   "outputs": [],
   "source": []
  }
 ],
 "metadata": {
  "kernelspec": {
   "display_name": "Python 3",
   "language": "python",
   "name": "python3"
  },
  "language_info": {
   "codemirror_mode": {
    "name": "ipython",
    "version": 3
   },
   "file_extension": ".py",
   "mimetype": "text/x-python",
   "name": "python",
   "nbconvert_exporter": "python",
   "pygments_lexer": "ipython3",
   "version": "3.5.1"
  }
 },
 "nbformat": 4,
 "nbformat_minor": 0
}
