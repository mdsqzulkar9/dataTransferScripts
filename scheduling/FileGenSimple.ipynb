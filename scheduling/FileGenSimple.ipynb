{
 "cells": [
  {
   "cell_type": "code",
   "execution_count": 1,
   "metadata": {
    "collapsed": true
   },
   "outputs": [],
   "source": [
    "# This script is to generate mixed dataset. \n",
    "# group range is a dictionary with key as group names:\n",
    "# group means file size range e.g. small, medium, large \n",
    "# value of this dictionary is a list:\n",
    "#      first element : lowest filesize mega bytes\n",
    "#      second element : hight filesize   \"\n",
    "#      third element : number of files   \n",
    "#      fourth element : sample folders   \n",
    "# path variable - mention where you want to create the files\n",
    "# folder_name - new dataset folder name"
   ]
  },
  {
   "cell_type": "code",
   "execution_count": 2,
   "metadata": {
    "collapsed": true
   },
   "outputs": [],
   "source": [
    "import sys, time\n",
    "import datetime\n",
    "import math"
   ]
  },
  {
   "cell_type": "code",
   "execution_count": 3,
   "metadata": {
    "collapsed": true
   },
   "outputs": [],
   "source": [
    "#group_range = {'1':[1,40,10,1],'2':[100,600,5,1],'3':[900,10000,10,10]}\n",
    "group_range = {'1':[1,40,10,1],'2':[100,600,5,1]}\n",
    "path = \"/home/zulkar/dataset/\"\n",
    "folder_name = \"second_one\"\n",
    "sample_size = 4 # percent of total files in groups : for 100 files sample size = 4 means 4 sample files"
   ]
  },
  {
   "cell_type": "code",
   "execution_count": 4,
   "metadata": {
    "collapsed": false,
    "scrolled": true
   },
   "outputs": [
    {
     "name": "stdout",
     "output_type": "stream",
     "text": [
      "Group name:  2   Low:  100   High:  600   number of files:  5   number of samples:  1\n",
      "folder for group  2   is created.\n",
      "Starting to create group  2  files. Please wait...\n",
      "Files are created for group  2 .\n",
      "Started to create SAMPLE files for group  2 . number of sample folders  1\n",
      "Folder created for sample  0  in Group  2\n",
      "Number of sample files for sample  0  in Group  2  is :  1\n",
      "Started creating sample files for sample  0  in Group  2 . Please wait ...\n",
      "finished creating sample files for sample  0  in group  2 .\n",
      "Group name:  1   Low:  1   High:  40   number of files:  10   number of samples:  1\n",
      "folder for group  1   is created.\n",
      "Starting to create group  1  files. Please wait...\n",
      "Files are created for group  1 .\n",
      "Started to create SAMPLE files for group  1 . number of sample folders  1\n",
      "Folder created for sample  0  in Group  1\n",
      "Number of sample files for sample  0  in Group  1  is :  1\n",
      "Started creating sample files for sample  0  in Group  1 . Please wait ...\n",
      "finished creating sample files for sample  0  in group  1 .\n"
     ]
    }
   ],
   "source": [
    "import random\n",
    "import os\n",
    "\n",
    "mkdir_cmd = \"mkdir \"+path+folder_name+\";\"\n",
    "os.system(mkdir_cmd)\n",
    "for key, value in group_range.items():\n",
    "    group_name = key\n",
    "    low = value[0]\n",
    "    high = value[1]\n",
    "    n_files = value[2]\n",
    "    bs = low\n",
    "    n_samples = value[3]\n",
    "    \n",
    "    print(\"Group name: \",group_name,\" \", \"Low: \", low, \" \", \"High: \", high, \" \",\"number of files: \", n_files, \" \", \n",
    "          \"number of samples: \", n_samples)\n",
    "    \n",
    "    # create folder :\n",
    "    cd_cmd = \"cd \"+path+folder_name+\";\"\n",
    "    mkdir_cmd = \"mkdir group_\" + key\n",
    "    temp_cmd = cd_cmd + mkdir_cmd\n",
    "    os.system(temp_cmd)\n",
    "    \n",
    "    print(\"folder for group \",group_name,\" \", \"is created.\")\n",
    "    \n",
    "    print(\"Starting to create group \", group_name, \" files. Please wait...\")\n",
    "    \n",
    "    for num in range(n_files):\n",
    "        #print(random.randint(low,high))\n",
    "        count = int(random.randint(low,high)/bs)\n",
    "        if count == 0 :\n",
    "            count = 1\n",
    "        cd_cmd = \"cd \"+path+folder_name+\"/group_\" + key + \";\"\n",
    "        \n",
    "        dd_cmd = \"dd if=/dev/zero of=file_\"+str(group_name)+\"_\"+str(num)+\" bs=\"+str(bs)+\"M count=\"+str(count)\n",
    "        main_dd = cd_cmd+dd_cmd\n",
    "        \n",
    "        #print(main_dd)\n",
    "        os.system(main_dd)\n",
    "    \n",
    "    print(\"Files are created for group \", group_name, \".\")\n",
    "    \n",
    "    print(\"Started to create SAMPLE files for group \", group_name,\". number of sample folders \", n_samples)\n",
    "    \n",
    "    for sample in range(n_samples):  \n",
    "        \n",
    "        # create folder :\n",
    "        cd_cmd = \"cd \"+path+folder_name+\";\"\n",
    "        mkdir_cmd = \"mkdir sample_\"+ group_name + \"_\" + str(sample)\n",
    "        sample_folder_cmd = cd_cmd + mkdir_cmd\n",
    "        print(\"Folder created for sample \",sample, \" in Group \",group_name)\n",
    "        os.system(sample_folder_cmd)\n",
    "        \n",
    "        n_sample_files = int( (n_files*sample_size) / 100 )\n",
    "        if n_sample_files == 0:\n",
    "            n_sample_files = 1\n",
    "        \n",
    "        print(\"Number of sample files for sample \",sample, \" in Group \",group_name, \" is : \", n_sample_files)  \n",
    "        \n",
    "        \n",
    "        cd_cmd = \"cd \"+path+folder_name+\"/\" + \"sample_\"+ group_name + \"_\" + str(sample)+\";\"\n",
    "        \n",
    "        print(\"Started creating sample files for sample \", sample, \" in Group \", group_name,\". Please wait ...\")\n",
    "        \n",
    "        for s_file in range(n_sample_files):\n",
    "            \n",
    "            count = int(random.randint(low,high)/bs)\n",
    "            if count == 0 :\n",
    "                count = 1\n",
    "\n",
    "\n",
    "            dd_cmd = \"dd if=/dev/zero of=file_\"+str(group_name)+\"_\"+str(s_file)+\" bs=\"+str(bs)+\"M count=\"+str(count)\n",
    "            main_dd = cd_cmd+dd_cmd\n",
    "\n",
    "            #print(main_dd)\n",
    "            os.system(main_dd)\n",
    "        \n",
    "        print(\"finished creating sample files for sample \",sample, \" in group \", group_name,\".\")"
   ]
  }
 ],
 "metadata": {
  "anaconda-cloud": {},
  "kernelspec": {
   "display_name": "Python [conda env:power_env]",
   "language": "python",
   "name": "conda-env-power_env-py"
  },
  "language_info": {
   "codemirror_mode": {
    "name": "ipython",
    "version": 3
   },
   "file_extension": ".py",
   "mimetype": "text/x-python",
   "name": "python",
   "nbconvert_exporter": "python",
   "pygments_lexer": "ipython3",
   "version": "3.5.3"
  }
 },
 "nbformat": 4,
 "nbformat_minor": 1
}
