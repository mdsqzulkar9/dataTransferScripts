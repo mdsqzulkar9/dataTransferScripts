{
 "cells": [
  {
   "cell_type": "raw",
   "metadata": {},
   "source": [
    "\"\"\"\n",
    "    This script is to make sure that the log has no error.\n",
    "    One bug in log is : \n",
    "    during combined transfer it logged wrong paramter values.\n",
    "\"\"\""
   ]
  },
  {
   "cell_type": "code",
   "execution_count": 1,
   "metadata": {
    "collapsed": true
   },
   "outputs": [],
   "source": [
    "import pickle \n",
    "import pandas as pd"
   ]
  },
  {
   "cell_type": "code",
   "execution_count": 2,
   "metadata": {
    "collapsed": true
   },
   "outputs": [],
   "source": [
    "# Variables:\n",
    "in_file_name = 'exp_amazon_east_west_cont_1_id_49.pkl'\n",
    "out_file_name = 'exp_amazon_east_west_cont_1_id_49_fixed.pkl'"
   ]
  },
  {
   "cell_type": "code",
   "execution_count": 3,
   "metadata": {
    "collapsed": false
   },
   "outputs": [],
   "source": [
    "# Read the pickle file:\n",
    "with open( in_file_name , 'rb') as f:\n",
    "    data = pickle.load(f)"
   ]
  },
  {
   "cell_type": "code",
   "execution_count": 4,
   "metadata": {
    "collapsed": true
   },
   "outputs": [],
   "source": [
    "# rearrange the columns:\n",
    "df = data[['exp_id', 'transfer_id', 'type', 'file_size','num_files','bandwidth','tcp_bs','rtt','cc','p','pp','throughput','source','destination']]"
   ]
  },
  {
   "cell_type": "code",
   "execution_count": 6,
   "metadata": {
    "collapsed": false
   },
   "outputs": [],
   "source": [
    "# fix the bug:\n",
    "for i in range(0, df.shape[0]-1,4):\n",
    "    small_cc = df.get_value(i, 'cc')\n",
    "    small_p = df.get_value(i,'p')\n",
    "    \n",
    "    large_cc = df.get_value(i+1, 'cc')\n",
    "    large_p = df.get_value(i+1, 'p')\n",
    "    \n",
    "    df = df.set_value(i+2, 'cc', small_cc)\n",
    "    df = df.set_value(i+2, 'p', small_p)\n",
    "    \n",
    "    df = df.set_value(i+3, 'cc', large_cc)\n",
    "    df = df.set_value(i+3, 'p', large_p)\n",
    "    "
   ]
  },
  {
   "cell_type": "code",
   "execution_count": 9,
   "metadata": {
    "collapsed": false
   },
   "outputs": [],
   "source": [
    "# write to a pickle file:\n",
    "df.to_pickle(out_file_name)"
   ]
  }
 ],
 "metadata": {
  "anaconda-cloud": {},
  "kernelspec": {
   "display_name": "Python [conda env:power_env]",
   "language": "python",
   "name": "conda-env-power_env-py"
  },
  "language_info": {
   "codemirror_mode": {
    "name": "ipython",
    "version": 3
   },
   "file_extension": ".py",
   "mimetype": "text/x-python",
   "name": "python",
   "nbconvert_exporter": "python",
   "pygments_lexer": "ipython3",
   "version": "3.6.0"
  }
 },
 "nbformat": 4,
 "nbformat_minor": 1
}
