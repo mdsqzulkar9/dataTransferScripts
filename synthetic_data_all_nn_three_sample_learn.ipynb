{
 "cells": [
  {
   "cell_type": "raw",
   "metadata": {
    "collapsed": true
   },
   "source": []
  },
  {
   "cell_type": "markdown",
   "metadata": {},
   "source": [
    "# Master file with exp_name:"
   ]
  },
  {
   "cell_type": "raw",
   "metadata": {
    "collapsed": true
   },
   "source": [
    "This script is actually merge all the files in clean_csv folder \n",
    "with additional columns to get the whole dataset. Now this version \n",
    "is more easier to work with as it has individual experiments. Each\n",
    "experients has individual names. So that pandas searching and slicing \n",
    "would be more easier to work with."
   ]
  },
  {
   "cell_type": "code",
   "execution_count": 1,
   "metadata": {
    "collapsed": true
   },
   "outputs": [],
   "source": [
    "# import pandas library:\n",
    "import os\n",
    "import pandas as pd\n",
    "import pylab as pyl\n",
    "import numpy as np\n",
    "from scipy.interpolate import *\n",
    "import datetime\n",
    "import matplotlib.pyplot as plt\n",
    "%matplotlib inline"
   ]
  },
  {
   "cell_type": "code",
   "execution_count": 2,
   "metadata": {
    "collapsed": false
   },
   "outputs": [
    {
     "data": {
      "text/html": [
       "<style>body {\n",
       "    margin: 0;\n",
       "    font-family: Helvetica;\n",
       "}\n",
       "table.dataframe {\n",
       "    border-collapse: collapse;\n",
       "    border: none;\n",
       "}\n",
       "table.dataframe tr {\n",
       "    border: none;\n",
       "}\n",
       "table.dataframe td, table.dataframe th {\n",
       "    margin: 0;\n",
       "    border: 1px solid white;\n",
       "    padding-left: 0.25em;\n",
       "    padding-right: 0.25em;\n",
       "}\n",
       "table.dataframe th:not(:empty) {\n",
       "    background-color: #fec;\n",
       "    text-align: left;\n",
       "    font-weight: normal;\n",
       "}\n",
       "table.dataframe tr:nth-child(2) th:empty {\n",
       "    border-left: none;\n",
       "    border-right: 1px dashed #888;\n",
       "}\n",
       "table.dataframe td {\n",
       "    border: 2px solid #ccf;\n",
       "    background-color: #f4f4ff;\n",
       "}h3 {\n",
       "    color: white;\n",
       "    background-color: black;\n",
       "    padding: 0.5em;\n",
       "}</style>"
      ],
      "text/plain": [
       "<IPython.core.display.HTML object>"
      ]
     },
     "execution_count": 2,
     "metadata": {},
     "output_type": "execute_result"
    }
   ],
   "source": [
    "# pretty dataframe :\n",
    "from IPython.core.display import HTML\n",
    "css = open('style-table.css').read() + open('style-notebook.css').read()\n",
    "HTML('<style>{}</style>'.format(css))"
   ]
  },
  {
   "cell_type": "code",
   "execution_count": 3,
   "metadata": {
    "collapsed": true
   },
   "outputs": [],
   "source": [
    "# Control variables: \n",
    "\n",
    "\n",
    "# master dataset location:\n",
    "master_location = 'Dropbox/gits/data/ThOpt/clean_csv/'\n",
    "\n",
    "# master file name : \n",
    "#file_name = 'ex4_EDData.csv'\n",
    "#file_name_med = 'ex2_enDataSG_2T.csv'\n",
    "#file_name_large = 'ex2_enDataSG_1T.csv'"
   ]
  },
  {
   "cell_type": "markdown",
   "metadata": {},
   "source": [
    "# Functions:"
   ]
  },
  {
   "cell_type": "code",
   "execution_count": 4,
   "metadata": {
    "collapsed": true
   },
   "outputs": [],
   "source": [
    "def change_type(df, col, dtype):\n",
    "    # This function change the column datatype\n",
    "    # df - main data frame - type: dataframe\n",
    "    # col - columns that you want to change data type - type: list\n",
    "    # dtype - new column type - type: list\n",
    "    # col and dtype must be equal in length\n",
    "\n",
    "    if len(col) != len(dtype):\n",
    "        print(\"col and dtype must be equal\")\n",
    "        return df\n",
    "    for col,n_type in zip(col,dtype):\n",
    "        df[col] = df[col].astype(n_type)\n",
    "\n",
    "    return df"
   ]
  },
  {
   "cell_type": "code",
   "execution_count": 5,
   "metadata": {
    "collapsed": true
   },
   "outputs": [],
   "source": [
    "def find_unique_transfers(df, \n",
    "                          args = ['file_size','number_of_files','bandwidth','rtt','buffer_size']):\n",
    "    # find unique transfers:\n",
    "    # df - main dataframe\n",
    "    # args - list of columns you want for uniqueness\n",
    "\n",
    "    # get the unique transfers : as tuple \n",
    "    transfer_requests = df[args]\n",
    "    droped_duplicate_trans_req = transfer_requests.drop_duplicates()\n",
    "\n",
    "    unique_transfers = [tuple(transfers) for transfers in droped_duplicate_trans_req.values]\n",
    "    return unique_transfers"
   ]
  },
  {
   "cell_type": "code",
   "execution_count": 6,
   "metadata": {
    "collapsed": true
   },
   "outputs": [],
   "source": [
    "def plot_runs_1D(df, bk_tr, runs,colors,sort_order):\n",
    "    # This function plots runs\n",
    "    # df - main dataframe, type: dataframe\n",
    "    # bk_tr - background traffic type\n",
    "    # runs - list of runs you want to plot, type: List\n",
    "    # colors - list of colors for the graphs\n",
    "    # length of colors must be equal to (bk_tr X runs)\n",
    "    # sort_order - order of params, type: list. (for example 'p-cc-pp','pp-cc-p')\n",
    "    # \n",
    "    \n",
    "    if len(colors) != (len(bk_tr) * len(runs)) :\n",
    "        print(\"length of colors must be equal to (bk_tr X runs)\")\n",
    "        return\n",
    "    \n",
    "    \n",
    "    plt.figure(figsize=(35,13))\n",
    "    \n",
    "    df = df.sort(sort_order)\n",
    "    x_label = 'Parameter order - ' + sort_order[0] +', '+ sort_order[1] + ', ' + sort_order[2]\n",
    "    plt.xlabel(x_label, fontsize=40)\n",
    "    plt.ylabel('Throughput (Gbps)', fontsize=40)\n",
    "    title = 'Throughput Trajectory(4) - Parameter order - '+ sort_order[0] +', '+ sort_order[1] + ', ' + sort_order[2]\n",
    "    plt.title(title, fontsize=50)\n",
    "\n",
    "    #df = df.sort(['cc','p','pp'])\n",
    "    color_count = 0\n",
    "    for bk in bk_tr:\n",
    "        bk_data = df[df.background == bk]\n",
    "        for run in runs:\n",
    "            run_data = bk_data[bk_data.run_id == run]\n",
    "            num_rows = run_data.shape[0]\n",
    "            #df_list.append(run_data)\n",
    "            run_data['ticks'] = run_data[sort_order[0]].astype(str) + '-' \\\n",
    "                                + run_data[sort_order[1]].astype(str) + '-' \\\n",
    "                                + run_data[sort_order[2]].astype(str)\n",
    "\n",
    "\n",
    "            x_value = np.arange(1,num_rows+1)\n",
    "            x_value\n",
    "            y_value = np.array(run_data.throughput)\n",
    "            y_value.shape\n",
    "            tick_value = np.array(run_data.ticks)\n",
    "\n",
    "            plt.xticks(x_value[0:(num_rows+1):32], tick_value[0:(num_rows+1):32])\n",
    "            plt.tick_params(axis='both', which='major', labelsize=30)\n",
    "\n",
    "            plt.plot(x_value, y_value,colors[color_count],)\n",
    "            color_count = color_count + 1\n",
    "    plt.show()"
   ]
  },
  {
   "cell_type": "code",
   "execution_count": null,
   "metadata": {
    "collapsed": true
   },
   "outputs": [],
   "source": [
    "error_rate = []"
   ]
  },
  {
   "cell_type": "markdown",
   "metadata": {},
   "source": [
    "# Read and merge data files:"
   ]
  },
  {
   "cell_type": "code",
   "execution_count": 7,
   "metadata": {
    "collapsed": false
   },
   "outputs": [
    {
     "name": "stdout",
     "output_type": "stream",
     "text": [
      "ex1_sg0.25-1M.csv   ex1_sg5-25M.csv     ex2_enDataSb_1T.csv ex4_EDData.csv\r\n",
      "ex1_sg100M.csv      ex2_enDataSG.csv    ex3_SBData.csv\r\n",
      "ex1_sg1G.csv        ex2_enDataSG_1T.csv ex3_SGData.csv\r\n",
      "ex1_sg3G.csv        ex2_enDataSG_2T.csv ex4_BTData.csv\r\n"
     ]
    }
   ],
   "source": [
    "!ls ~/Dropbox/gits/data/ThOpt/clean_csv/"
   ]
  },
  {
   "cell_type": "code",
   "execution_count": 8,
   "metadata": {
    "collapsed": false
   },
   "outputs": [],
   "source": [
    "# required values :\n",
    "\n",
    "# OS file seperator: \n",
    "file_seperator = os.sep\n",
    "\n",
    "\n",
    "# User OS home directory:\n",
    "user_home = os.environ['HOME']\n",
    "user_home = user_home+file_seperator\n",
    "#user_home"
   ]
  },
  {
   "cell_type": "code",
   "execution_count": 9,
   "metadata": {
    "collapsed": false
   },
   "outputs": [
    {
     "data": {
      "text/plain": [
       "['ex1_sg0.25-1M.csv',\n",
       " 'ex1_sg100M.csv',\n",
       " 'ex1_sg1G.csv',\n",
       " 'ex1_sg3G.csv',\n",
       " 'ex1_sg5-25M.csv',\n",
       " 'ex2_enDataSG.csv',\n",
       " 'ex2_enDataSG_1T.csv',\n",
       " 'ex2_enDataSG_2T.csv',\n",
       " 'ex2_enDataSb_1T.csv',\n",
       " 'ex3_SBData.csv',\n",
       " 'ex3_SGData.csv',\n",
       " 'ex4_BTData.csv',\n",
       " 'ex4_EDData.csv']"
      ]
     },
     "execution_count": 9,
     "metadata": {},
     "output_type": "execute_result"
    }
   ],
   "source": [
    "log_files_path = user_home + master_location\n",
    "list_of_logs = os.listdir(log_files_path)\n",
    "list_of_logs"
   ]
  },
  {
   "cell_type": "code",
   "execution_count": 10,
   "metadata": {
    "collapsed": false,
    "scrolled": false
   },
   "outputs": [
    {
     "name": "stdout",
     "output_type": "stream",
     "text": [
      "ex1_sg0.25-1M.csv\n",
      "ex1_sg100M.csv\n",
      "ex1_sg1G.csv\n",
      "ex1_sg3G.csv\n",
      "ex1_sg5-25M.csv\n",
      "ex2_enDataSG.csv\n",
      "ex2_enDataSG_1T.csv\n",
      "ex2_enDataSG_2T.csv\n",
      "ex2_enDataSb_1T.csv\n",
      "ex3_SBData.csv\n",
      "ex3_SGData.csv\n",
      "ex4_BTData.csv\n",
      "ex4_EDData.csv\n"
     ]
    },
    {
     "data": {
      "text/plain": [
       "(92583, 18)"
      ]
     },
     "execution_count": 10,
     "metadata": {},
     "output_type": "execute_result"
    }
   ],
   "source": [
    "file_list = []\n",
    "for file_path in list_of_logs:\n",
    "    print(file_path)\n",
    "    url = user_home + master_location + file_path\n",
    "    temp_data = pd.read_csv(url)\n",
    "    \n",
    "    file_list.append(temp_data)\n",
    "data = pd.concat(file_list, ignore_index=True) \n",
    "data.shape"
   ]
  },
  {
   "cell_type": "code",
   "execution_count": 11,
   "metadata": {
    "collapsed": false
   },
   "outputs": [
    {
     "data": {
      "text/plain": [
       "array(['exp_1', 'exp_2_background_traffic', 'exp_3_engin', 'exp_3_kemal',\n",
       "       'exp_4_BT', 'exp_4_ED'], dtype=object)"
      ]
     },
     "execution_count": 11,
     "metadata": {},
     "output_type": "execute_result"
    }
   ],
   "source": [
    "# See all the experiments:\n",
    "data.exp_name.unique()"
   ]
  },
  {
   "cell_type": "code",
   "execution_count": 12,
   "metadata": {
    "collapsed": false,
    "scrolled": true
   },
   "outputs": [
    {
     "data": {
      "text/html": [
       "<div>\n",
       "<table border=\"1\" class=\"dataframe\">\n",
       "  <thead>\n",
       "    <tr style=\"text-align: right;\">\n",
       "      <th></th>\n",
       "      <th>file_size</th>\n",
       "      <th>number_of_files</th>\n",
       "      <th>bandwidth</th>\n",
       "      <th>rtt</th>\n",
       "      <th>buffer_size</th>\n",
       "      <th>p</th>\n",
       "      <th>cc</th>\n",
       "      <th>pp</th>\n",
       "      <th>fast</th>\n",
       "      <th>throughput</th>\n",
       "      <th>time_needed</th>\n",
       "      <th>date</th>\n",
       "      <th>time</th>\n",
       "      <th>source</th>\n",
       "      <th>destination</th>\n",
       "      <th>run_id</th>\n",
       "      <th>background</th>\n",
       "      <th>exp_name</th>\n",
       "    </tr>\n",
       "  </thead>\n",
       "  <tbody>\n",
       "    <tr>\n",
       "      <th>0</th>\n",
       "      <td>256069</td>\n",
       "      <td>1000</td>\n",
       "      <td>10000</td>\n",
       "      <td>0.04</td>\n",
       "      <td>33554432</td>\n",
       "      <td>1</td>\n",
       "      <td>1</td>\n",
       "      <td>1</td>\n",
       "      <td>1</td>\n",
       "      <td>53.622316</td>\n",
       "      <td>36.433726</td>\n",
       "      <td>11/13/14</td>\n",
       "      <td>07:36.2</td>\n",
       "      <td>Stampede</td>\n",
       "      <td>Gordon/Oasis</td>\n",
       "      <td>1</td>\n",
       "      <td>0</td>\n",
       "      <td>exp_1</td>\n",
       "    </tr>\n",
       "    <tr>\n",
       "      <th>1</th>\n",
       "      <td>256069</td>\n",
       "      <td>1000</td>\n",
       "      <td>10000</td>\n",
       "      <td>0.04</td>\n",
       "      <td>33554432</td>\n",
       "      <td>1</td>\n",
       "      <td>1</td>\n",
       "      <td>1</td>\n",
       "      <td>0</td>\n",
       "      <td>65.436956</td>\n",
       "      <td>29.855622</td>\n",
       "      <td>11/13/14</td>\n",
       "      <td>08:12.7</td>\n",
       "      <td>Stampede</td>\n",
       "      <td>Gordon/Oasis</td>\n",
       "      <td>1</td>\n",
       "      <td>0</td>\n",
       "      <td>exp_1</td>\n",
       "    </tr>\n",
       "    <tr>\n",
       "      <th>2</th>\n",
       "      <td>256069</td>\n",
       "      <td>1000</td>\n",
       "      <td>10000</td>\n",
       "      <td>0.04</td>\n",
       "      <td>33554432</td>\n",
       "      <td>1</td>\n",
       "      <td>1</td>\n",
       "      <td>2</td>\n",
       "      <td>1</td>\n",
       "      <td>94.712707</td>\n",
       "      <td>20.627214</td>\n",
       "      <td>11/13/14</td>\n",
       "      <td>08:42.5</td>\n",
       "      <td>Stampede</td>\n",
       "      <td>Gordon/Oasis</td>\n",
       "      <td>1</td>\n",
       "      <td>0</td>\n",
       "      <td>exp_1</td>\n",
       "    </tr>\n",
       "    <tr>\n",
       "      <th>3</th>\n",
       "      <td>256069</td>\n",
       "      <td>1000</td>\n",
       "      <td>10000</td>\n",
       "      <td>0.04</td>\n",
       "      <td>33554432</td>\n",
       "      <td>1</td>\n",
       "      <td>1</td>\n",
       "      <td>2</td>\n",
       "      <td>0</td>\n",
       "      <td>100.561361</td>\n",
       "      <td>19.427579</td>\n",
       "      <td>11/13/14</td>\n",
       "      <td>09:03.1</td>\n",
       "      <td>Stampede</td>\n",
       "      <td>Gordon/Oasis</td>\n",
       "      <td>1</td>\n",
       "      <td>0</td>\n",
       "      <td>exp_1</td>\n",
       "    </tr>\n",
       "    <tr>\n",
       "      <th>4</th>\n",
       "      <td>256069</td>\n",
       "      <td>1000</td>\n",
       "      <td>10000</td>\n",
       "      <td>0.04</td>\n",
       "      <td>33554432</td>\n",
       "      <td>1</td>\n",
       "      <td>1</td>\n",
       "      <td>4</td>\n",
       "      <td>1</td>\n",
       "      <td>159.132638</td>\n",
       "      <td>12.276979</td>\n",
       "      <td>11/13/14</td>\n",
       "      <td>09:22.6</td>\n",
       "      <td>Stampede</td>\n",
       "      <td>Gordon/Oasis</td>\n",
       "      <td>1</td>\n",
       "      <td>0</td>\n",
       "      <td>exp_1</td>\n",
       "    </tr>\n",
       "  </tbody>\n",
       "</table>\n",
       "</div>"
      ],
      "text/plain": [
       "   file_size  number_of_files  bandwidth   rtt  buffer_size  p  cc  pp  fast  \\\n",
       "0     256069             1000      10000  0.04     33554432  1   1   1     1   \n",
       "1     256069             1000      10000  0.04     33554432  1   1   1     0   \n",
       "2     256069             1000      10000  0.04     33554432  1   1   2     1   \n",
       "3     256069             1000      10000  0.04     33554432  1   1   2     0   \n",
       "4     256069             1000      10000  0.04     33554432  1   1   4     1   \n",
       "\n",
       "   throughput  time_needed      date     time    source   destination  run_id  \\\n",
       "0   53.622316    36.433726  11/13/14  07:36.2  Stampede  Gordon/Oasis       1   \n",
       "1   65.436956    29.855622  11/13/14  08:12.7  Stampede  Gordon/Oasis       1   \n",
       "2   94.712707    20.627214  11/13/14  08:42.5  Stampede  Gordon/Oasis       1   \n",
       "3  100.561361    19.427579  11/13/14  09:03.1  Stampede  Gordon/Oasis       1   \n",
       "4  159.132638    12.276979  11/13/14  09:22.6  Stampede  Gordon/Oasis       1   \n",
       "\n",
       "   background exp_name  \n",
       "0           0    exp_1  \n",
       "1           0    exp_1  \n",
       "2           0    exp_1  \n",
       "3           0    exp_1  \n",
       "4           0    exp_1  "
      ]
     },
     "execution_count": 12,
     "metadata": {},
     "output_type": "execute_result"
    }
   ],
   "source": [
    "data[\"destination\"] = data[\"destination\"].replace(['Gordon/oasis','Gordon'],'Gordon/Oasis')\n",
    "data.head()"
   ]
  },
  {
   "cell_type": "code",
   "execution_count": 13,
   "metadata": {
    "collapsed": false
   },
   "outputs": [
    {
     "data": {
      "text/plain": [
       "[(256069.0, 1000.0, 10000.0, 0.040000000000000001, 33554432.0),\n",
       " (256096.0, 128.0, 10000.0, 0.040000000000000001, 33554432.0),\n",
       " (256080.0, 256.0, 10000.0, 0.040000000000000001, 33554432.0),\n",
       " (256072.0, 512.0, 10000.0, 0.040000000000000001, 33554432.0),\n",
       " (512069.0, 1000.0, 10000.0, 0.040000000000000001, 33554432.0),\n",
       " (512096.0, 128.0, 10000.0, 0.040000000000000001, 33554432.0),\n",
       " (512080.0, 256.0, 10000.0, 0.040000000000000001, 33554432.0),\n",
       " (512072.0, 512.0, 10000.0, 0.040000000000000001, 33554432.0),\n",
       " (1048641.0, 1000.0, 10000.0, 0.040000000000000001, 33554432.0),\n",
       " (1048672.0, 128.0, 10000.0, 0.040000000000000001, 33554432.0),\n",
       " (1048656.0, 256.0, 10000.0, 0.040000000000000001, 33554432.0),\n",
       " (1048640.0, 512.0, 10000.0, 0.040000000000000001, 33554432.0),\n",
       " (104857664.0, 64.0, 10000.0, 0.040000000000000001, 33554432.0),\n",
       " (1073742080.0, 16.0, 10000.0, 0.040000000000000001, 33554432.0),\n",
       " (3221225984.0, 8.0, 10000.0, 0.040000000000000001, 33554432.0),\n",
       " (5242929.0, 1000.0, 10000.0, 0.040000000000000001, 33554432.0),\n",
       " (26214461.0, 200.0, 10000.0, 0.040000000000000001, 33554432.0),\n",
       " (3150088.0, 3409.0, 10000000000.0, 0.040000000000000001, 33554432.0),\n",
       " (23553926.0, 912.0, 10000000000.0, 0.040000000000000001, 33554432.0),\n",
       " (130884019.0, 329.0, 10000000000.0, 0.040000000000000001, 33554432.0),\n",
       " (2873838531.0, 34.0, 10000000000.0, 0.040000000000000001, 33554432.0),\n",
       " (3136594.0, 3424.0, 10000000000.0, 0.040000000000000001, 33554432.0),\n",
       " (3137508.0, 3424.0, 10000000000.0, 0.040000000000000001, 33554432.0),\n",
       " (23553931.0, 912.0, 10000000000.0, 0.040000000000000001, 33554432.0),\n",
       " (2873560967.0, 34.0, 10000000000.0, 0.040000000000000001, 33554432.0),\n",
       " (3137512.0, 3424.0, 10000000000.0, 0.040000000000000001, 33554432.0),\n",
       " (3137508.0, 3424.0, 10000000000.0, 0.044000000000000004, 33554432.0),\n",
       " (23553931.0, 912.0, 10000000000.0, 0.044000000000000004, 33554432.0),\n",
       " (130884019.0, 329.0, 10000000000.0, 0.044000000000000004, 33554432.0),\n",
       " (2873838531.0, 34.0, 10000000000.0, 0.044000000000000004, 33554432.0),\n",
       " (3136594.0, 3424.0, 10000000000.0, 0.044000000000000004, 33554432.0),\n",
       " (23553926.0, 912.0, 10000000000.0, 0.044000000000000004, 33554432.0),\n",
       " (3131997.0, 3429.0, 10000.0, 0.080000000000000002, 33554432.0),\n",
       " (23727255.0, 906.0, 10000.0, 0.080000000000000002, 33554432.0),\n",
       " (132236763.0, 325.0, 10000.0, 0.080000000000000002, 33554432.0),\n",
       " (3063322383.0, 34.0, 10000.0, 0.080000000000000002, 33554432.0),\n",
       " (652486.0, 3293.0, 1000000000.0, 0.00020000000000000001, 4194304.0),\n",
       " (10623021.0, 405.0, 1000000000.0, 0.00020000000000000001, 4194304.0),\n",
       " (51421866.0, 126.0, 1000000000.0, 0.00020000000000000001, 4194304.0),\n",
       " (912680960.0, 10.0, 1000000000.0, 0.00020000000000000001, 4194304.0)]"
      ]
     },
     "execution_count": 13,
     "metadata": {},
     "output_type": "execute_result"
    }
   ],
   "source": [
    "find_unique_transfers(data)"
   ]
  },
  {
   "cell_type": "markdown",
   "metadata": {},
   "source": [
    "# Get exp_2 data:"
   ]
  },
  {
   "cell_type": "code",
   "execution_count": 14,
   "metadata": {
    "collapsed": true
   },
   "outputs": [],
   "source": [
    "exp_2 = data[data.exp_name == \"exp_2_background_traffic\"]"
   ]
  },
  {
   "cell_type": "code",
   "execution_count": 15,
   "metadata": {
    "collapsed": false
   },
   "outputs": [
    {
     "name": "stderr",
     "output_type": "stream",
     "text": [
      "/Users/mds/anaconda/envs/deep_learning/lib/python3.6/site-packages/ipykernel/__main__.py:12: SettingWithCopyWarning: \n",
      "A value is trying to be set on a copy of a slice from a DataFrame.\n",
      "Try using .loc[row_indexer,col_indexer] = value instead\n",
      "\n",
      "See the caveats in the documentation: http://pandas.pydata.org/pandas-docs/stable/indexing.html#indexing-view-versus-copy\n",
      "/Users/mds/anaconda/envs/deep_learning/lib/python3.6/site-packages/ipykernel/__main__.py:18: FutureWarning: sort(columns=....) is deprecated, use sort_values(by=.....)\n",
      "/Users/mds/anaconda/envs/deep_learning/lib/python3.6/site-packages/ipykernel/__main__.py:33: SettingWithCopyWarning: \n",
      "A value is trying to be set on a copy of a slice from a DataFrame.\n",
      "Try using .loc[row_indexer,col_indexer] = value instead\n",
      "\n",
      "See the caveats in the documentation: http://pandas.pydata.org/pandas-docs/stable/indexing.html#indexing-view-versus-copy\n"
     ]
    },
    {
     "data": {
      "image/png": "[encoded data removed]",
      "text/plain": [
       "<matplotlib.figure.Figure at 0x117a4fb70>"
      ]
     },
     "metadata": {},
     "output_type": "display_data"
    }
   ],
   "source": [
    "# get the small data and only transfer from gordon and stampede:\n",
    "temp_exp2 = change_type(exp_2, [\"file_size\"], [\"int\"])\n",
    "exp_2_small = temp_exp2[(temp_exp2.file_size < 10000000) & (temp_exp2.destination == 'Gordon/Oasis') ] \n",
    "\n",
    "bk_traffic = [0,1,2]\n",
    "runs = [2]\n",
    "colors = ['-go','-ro','-bo']\n",
    "sort_order = ['cc','p','pp']\n",
    "plot_runs_1D(exp_2_small,bk_traffic,runs,colors, sort_order)"
   ]
  },
  {
   "cell_type": "code",
   "execution_count": 19,
   "metadata": {
    "collapsed": false
   },
   "outputs": [
    {
     "data": {
      "text/plain": [
       "0                           exp_1\n",
       "64695    exp_2_background_traffic\n",
       "79593                 exp_3_engin\n",
       "83697                 exp_3_kemal\n",
       "88017                    exp_4_BT\n",
       "90393                    exp_4_ED\n",
       "Name: exp_name, dtype: object"
      ]
     },
     "execution_count": 19,
     "metadata": {},
     "output_type": "execute_result"
    }
   ],
   "source": [
    "data.exp_name.drop_duplicates()"
   ]
  },
  {
   "cell_type": "code",
   "execution_count": 74,
   "metadata": {
    "collapsed": false
   },
   "outputs": [
    {
     "data": {
      "text/plain": [
       "(32337, 18)"
      ]
     },
     "execution_count": 74,
     "metadata": {},
     "output_type": "execute_result"
    }
   ],
   "source": [
    "# Get the data for ANN :\n",
    "data_ann = data[(data.exp_name == 'exp_1') & (data.fast == 1)]\n",
    "data_ann.shape"
   ]
  },
  {
   "cell_type": "code",
   "execution_count": 75,
   "metadata": {
    "collapsed": false
   },
   "outputs": [
    {
     "data": {
      "text/plain": [
       "[(256069.0, 1000.0, 10000.0, 0.040000000000000001, 33554432.0),\n",
       " (256096.0, 128.0, 10000.0, 0.040000000000000001, 33554432.0),\n",
       " (256080.0, 256.0, 10000.0, 0.040000000000000001, 33554432.0),\n",
       " (256072.0, 512.0, 10000.0, 0.040000000000000001, 33554432.0),\n",
       " (512069.0, 1000.0, 10000.0, 0.040000000000000001, 33554432.0),\n",
       " (512096.0, 128.0, 10000.0, 0.040000000000000001, 33554432.0),\n",
       " (512080.0, 256.0, 10000.0, 0.040000000000000001, 33554432.0),\n",
       " (512072.0, 512.0, 10000.0, 0.040000000000000001, 33554432.0),\n",
       " (1048641.0, 1000.0, 10000.0, 0.040000000000000001, 33554432.0),\n",
       " (1048672.0, 128.0, 10000.0, 0.040000000000000001, 33554432.0),\n",
       " (1048656.0, 256.0, 10000.0, 0.040000000000000001, 33554432.0),\n",
       " (1048640.0, 512.0, 10000.0, 0.040000000000000001, 33554432.0),\n",
       " (104857664.0, 64.0, 10000.0, 0.040000000000000001, 33554432.0),\n",
       " (1073742080.0, 16.0, 10000.0, 0.040000000000000001, 33554432.0),\n",
       " (3221225984.0, 8.0, 10000.0, 0.040000000000000001, 33554432.0),\n",
       " (5242929.0, 1000.0, 10000.0, 0.040000000000000001, 33554432.0),\n",
       " (26214461.0, 200.0, 10000.0, 0.040000000000000001, 33554432.0)]"
      ]
     },
     "execution_count": 75,
     "metadata": {},
     "output_type": "execute_result"
    }
   ],
   "source": [
    "uni_trans = find_unique_transfers(data_ann)\n",
    "uni_trans"
   ]
  },
  {
   "cell_type": "code",
   "execution_count": 99,
   "metadata": {
    "collapsed": true
   },
   "outputs": [],
   "source": [
    "def find_max_params(data,unique_transfers):\n",
    "    max_cc = {}\n",
    "    max_pp = {}\n",
    "    max_p = {}\n",
    "    max_th = {}\n",
    "    compact = {}\n",
    "    #print(\"unique_transfers\",unique_transfers)\n",
    "    data_indexed = data.set_index(['file_size','number_of_files','bandwidth','rtt','buffer_size'])\n",
    "    for transfer in unique_transfers:\n",
    "        #print(\"transfers:\",transfer)\n",
    "        xfer_data = data_indexed.loc[transfer]\n",
    "        \n",
    "        max_th[transfer] = xfer_data.throughput.max()\n",
    "        \n",
    "        xfer_data = xfer_data.reset_index()\n",
    "        row_id = xfer_data.throughput.idxmax()\n",
    "        max_cc[transfer] = xfer_data.cc[row_id]\n",
    "        max_pp[transfer] = xfer_data.pp[row_id]\n",
    "        max_p[transfer] = xfer_data.p[row_id]\n",
    "        compact[transfer] = (xfer_data.cc[row_id],xfer_data.p[row_id],xfer_data.pp[row_id])\n",
    "        \n",
    "    return max_th, max_cc, max_p, max_pp, compact"
   ]
  },
  {
   "cell_type": "code",
   "execution_count": 101,
   "metadata": {
    "collapsed": false
   },
   "outputs": [
    {
     "name": "stderr",
     "output_type": "stream",
     "text": [
      "/Users/mds/anaconda/envs/deep_learning/lib/python3.6/site-packages/ipykernel/__main__.py:11: PerformanceWarning: indexing past lexsort depth may impact performance.\n"
     ]
    },
    {
     "data": {
      "text/plain": [
       "{(256069.0, 1000.0, 10000.0, 0.040000000000000001, 33554432.0): (16, 8, 32),\n",
       " (256072.0, 512.0, 10000.0, 0.040000000000000001, 33554432.0): (16, 1, 4),\n",
       " (256080.0, 256.0, 10000.0, 0.040000000000000001, 33554432.0): (32, 2, 16),\n",
       " (256096.0, 128.0, 10000.0, 0.040000000000000001, 33554432.0): (8, 2, 16),\n",
       " (512069.0, 1000.0, 10000.0, 0.040000000000000001, 33554432.0): (8, 2, 2),\n",
       " (512072.0, 512.0, 10000.0, 0.040000000000000001, 33554432.0): (4, 4, 2),\n",
       " (512080.0, 256.0, 10000.0, 0.040000000000000001, 33554432.0): (16, 1, 4),\n",
       " (512096.0, 128.0, 10000.0, 0.040000000000000001, 33554432.0): (4, 1, 32),\n",
       " (1048640.0, 512.0, 10000.0, 0.040000000000000001, 33554432.0): (8, 1, 4),\n",
       " (1048641.0, 1000.0, 10000.0, 0.040000000000000001, 33554432.0): (16, 1, 4),\n",
       " (1048656.0, 256.0, 10000.0, 0.040000000000000001, 33554432.0): (16, 1, 8),\n",
       " (1048672.0, 128.0, 10000.0, 0.040000000000000001, 33554432.0): (16, 1, 8),\n",
       " (5242929.0, 1000.0, 10000.0, 0.040000000000000001, 33554432.0): (32, 1, 2),\n",
       " (26214461.0, 200.0, 10000.0, 0.040000000000000001, 33554432.0): (32, 8, 2),\n",
       " (104857664.0, 64.0, 10000.0, 0.040000000000000001, 33554432.0): (32, 8, 1),\n",
       " (1073742080.0, 16.0, 10000.0, 0.040000000000000001, 33554432.0): (16, 32, 4),\n",
       " (3221225984.0, 8.0, 10000.0, 0.040000000000000001, 33554432.0): (8, 32, 1)}"
      ]
     },
     "execution_count": 101,
     "metadata": {},
     "output_type": "execute_result"
    }
   ],
   "source": [
    "# find optimal params for all transfer requests\n",
    "max_th, max_cc, max_p, max_pp,compact = find_max_params(data_ann,uni_trans)\n",
    "compact"
   ]
  },
  {
   "cell_type": "code",
   "execution_count": 133,
   "metadata": {
    "collapsed": false
   },
   "outputs": [],
   "source": [
    "labels = {(256069.0, 1000.0, 10000.0, 0.040000000000000001, 33554432.0):0,\n",
    " (256072.0, 512.0, 10000.0, 0.040000000000000001, 33554432.0):1,\n",
    " (256080.0, 256.0, 10000.0, 0.040000000000000001, 33554432.0):2,\n",
    " (256096.0, 128.0, 10000.0, 0.040000000000000001, 33554432.0):3,\n",
    " (512069.0, 1000.0, 10000.0, 0.040000000000000001, 33554432.0):3,\n",
    " (512072.0, 512.0, 10000.0, 0.040000000000000001, 33554432.0):4,\n",
    " (512080.0, 256.0, 10000.0, 0.040000000000000001, 33554432.0):1,\n",
    " (512096.0, 128.0, 10000.0, 0.040000000000000001, 33554432.0):5,\n",
    " (1048640.0, 512.0, 10000.0, 0.040000000000000001, 33554432.0):6,\n",
    " (1048641.0, 1000.0, 10000.0, 0.040000000000000001, 33554432.0):1,\n",
    " (1048656.0, 256.0, 10000.0, 0.040000000000000001, 33554432.0): 1,\n",
    " (1048672.0, 128.0, 10000.0, 0.040000000000000001, 33554432.0):1,\n",
    " (5242929.0, 1000.0, 10000.0, 0.040000000000000001, 33554432.0):7,\n",
    " (26214461.0, 200.0, 10000.0, 0.040000000000000001, 33554432.0):8,\n",
    " (104857664.0, 64.0, 10000.0, 0.040000000000000001, 33554432.0):8,\n",
    " (1073742080.0, 16.0, 10000.0, 0.040000000000000001, 33554432.0):9,\n",
    " (3221225984.0, 8.0, 10000.0, 0.040000000000000001, 33554432.0): 10}   "
   ]
  },
  {
   "cell_type": "code",
   "execution_count": 118,
   "metadata": {
    "collapsed": false
   },
   "outputs": [
    {
     "data": {
      "text/html": [
       "<div>\n",
       "<table border=\"1\" class=\"dataframe\">\n",
       "  <thead>\n",
       "    <tr style=\"text-align: right;\">\n",
       "      <th></th>\n",
       "      <th>file_size</th>\n",
       "      <th>number_of_files</th>\n",
       "      <th>bandwidth</th>\n",
       "      <th>rtt</th>\n",
       "      <th>buffer_size</th>\n",
       "      <th>p</th>\n",
       "      <th>cc</th>\n",
       "      <th>pp</th>\n",
       "      <th>fast</th>\n",
       "      <th>throughput</th>\n",
       "      <th>time_needed</th>\n",
       "      <th>date</th>\n",
       "      <th>time</th>\n",
       "      <th>source</th>\n",
       "      <th>destination</th>\n",
       "      <th>run_id</th>\n",
       "      <th>background</th>\n",
       "      <th>exp_name</th>\n",
       "    </tr>\n",
       "  </thead>\n",
       "  <tbody>\n",
       "    <tr>\n",
       "      <th>0</th>\n",
       "      <td>256069</td>\n",
       "      <td>1000</td>\n",
       "      <td>10000</td>\n",
       "      <td>0.04</td>\n",
       "      <td>33554432</td>\n",
       "      <td>1</td>\n",
       "      <td>1</td>\n",
       "      <td>1</td>\n",
       "      <td>1</td>\n",
       "      <td>53.622316</td>\n",
       "      <td>36.433726</td>\n",
       "      <td>11/13/14</td>\n",
       "      <td>07:36.2</td>\n",
       "      <td>Stampede</td>\n",
       "      <td>Gordon/Oasis</td>\n",
       "      <td>1</td>\n",
       "      <td>0</td>\n",
       "      <td>exp_1</td>\n",
       "    </tr>\n",
       "    <tr>\n",
       "      <th>2</th>\n",
       "      <td>256069</td>\n",
       "      <td>1000</td>\n",
       "      <td>10000</td>\n",
       "      <td>0.04</td>\n",
       "      <td>33554432</td>\n",
       "      <td>1</td>\n",
       "      <td>1</td>\n",
       "      <td>2</td>\n",
       "      <td>1</td>\n",
       "      <td>94.712707</td>\n",
       "      <td>20.627214</td>\n",
       "      <td>11/13/14</td>\n",
       "      <td>08:42.5</td>\n",
       "      <td>Stampede</td>\n",
       "      <td>Gordon/Oasis</td>\n",
       "      <td>1</td>\n",
       "      <td>0</td>\n",
       "      <td>exp_1</td>\n",
       "    </tr>\n",
       "    <tr>\n",
       "      <th>4</th>\n",
       "      <td>256069</td>\n",
       "      <td>1000</td>\n",
       "      <td>10000</td>\n",
       "      <td>0.04</td>\n",
       "      <td>33554432</td>\n",
       "      <td>1</td>\n",
       "      <td>1</td>\n",
       "      <td>4</td>\n",
       "      <td>1</td>\n",
       "      <td>159.132638</td>\n",
       "      <td>12.276979</td>\n",
       "      <td>11/13/14</td>\n",
       "      <td>09:22.6</td>\n",
       "      <td>Stampede</td>\n",
       "      <td>Gordon/Oasis</td>\n",
       "      <td>1</td>\n",
       "      <td>0</td>\n",
       "      <td>exp_1</td>\n",
       "    </tr>\n",
       "    <tr>\n",
       "      <th>6</th>\n",
       "      <td>256069</td>\n",
       "      <td>1000</td>\n",
       "      <td>10000</td>\n",
       "      <td>0.04</td>\n",
       "      <td>33554432</td>\n",
       "      <td>1</td>\n",
       "      <td>1</td>\n",
       "      <td>8</td>\n",
       "      <td>1</td>\n",
       "      <td>135.107270</td>\n",
       "      <td>14.460125</td>\n",
       "      <td>11/13/14</td>\n",
       "      <td>09:47.2</td>\n",
       "      <td>Stampede</td>\n",
       "      <td>Gordon/Oasis</td>\n",
       "      <td>1</td>\n",
       "      <td>0</td>\n",
       "      <td>exp_1</td>\n",
       "    </tr>\n",
       "    <tr>\n",
       "      <th>8</th>\n",
       "      <td>256069</td>\n",
       "      <td>1000</td>\n",
       "      <td>10000</td>\n",
       "      <td>0.04</td>\n",
       "      <td>33554432</td>\n",
       "      <td>1</td>\n",
       "      <td>1</td>\n",
       "      <td>16</td>\n",
       "      <td>1</td>\n",
       "      <td>155.985309</td>\n",
       "      <td>12.524720</td>\n",
       "      <td>11/13/14</td>\n",
       "      <td>10:13.4</td>\n",
       "      <td>Stampede</td>\n",
       "      <td>Gordon/Oasis</td>\n",
       "      <td>1</td>\n",
       "      <td>0</td>\n",
       "      <td>exp_1</td>\n",
       "    </tr>\n",
       "  </tbody>\n",
       "</table>\n",
       "</div>"
      ],
      "text/plain": [
       "   file_size  number_of_files  bandwidth   rtt  buffer_size  p  cc  pp  fast  \\\n",
       "0     256069             1000      10000  0.04     33554432  1   1   1     1   \n",
       "2     256069             1000      10000  0.04     33554432  1   1   2     1   \n",
       "4     256069             1000      10000  0.04     33554432  1   1   4     1   \n",
       "6     256069             1000      10000  0.04     33554432  1   1   8     1   \n",
       "8     256069             1000      10000  0.04     33554432  1   1  16     1   \n",
       "\n",
       "   throughput  time_needed      date     time    source   destination  run_id  \\\n",
       "0   53.622316    36.433726  11/13/14  07:36.2  Stampede  Gordon/Oasis       1   \n",
       "2   94.712707    20.627214  11/13/14  08:42.5  Stampede  Gordon/Oasis       1   \n",
       "4  159.132638    12.276979  11/13/14  09:22.6  Stampede  Gordon/Oasis       1   \n",
       "6  135.107270    14.460125  11/13/14  09:47.2  Stampede  Gordon/Oasis       1   \n",
       "8  155.985309    12.524720  11/13/14  10:13.4  Stampede  Gordon/Oasis       1   \n",
       "\n",
       "   background exp_name  \n",
       "0           0    exp_1  \n",
       "2           0    exp_1  \n",
       "4           0    exp_1  \n",
       "6           0    exp_1  \n",
       "8           0    exp_1  "
      ]
     },
     "execution_count": 118,
     "metadata": {},
     "output_type": "execute_result"
    }
   ],
   "source": [
    "data_ann.head()"
   ]
  },
  {
   "cell_type": "code",
   "execution_count": 125,
   "metadata": {
    "collapsed": false
   },
   "outputs": [
    {
     "data": {
      "text/plain": [
       "216"
      ]
     },
     "execution_count": 125,
     "metadata": {},
     "output_type": "execute_result"
    }
   ],
   "source": [
    "# Generate all the data samples:\n",
    "param_list = []\n",
    "for index, row in data_ann.iterrows():\n",
    "    param_tuple = (row.cc,row.p,row.pp)\n",
    "    param_list.append(param_tuple)\n",
    "param_list = list(set(param_list))\n",
    "len(param_list)"
   ]
  },
  {
   "cell_type": "code",
   "execution_count": 130,
   "metadata": {
    "collapsed": false
   },
   "outputs": [],
   "source": [
    "import itertools\n",
    "#a = [(1,2),(4,8),(16,32)]\n",
    "inputs = list(itertools.combinations(param_list,3))"
   ]
  },
  {
   "cell_type": "code",
   "execution_count": 131,
   "metadata": {
    "collapsed": false
   },
   "outputs": [
    {
     "data": {
      "text/plain": [
       "1656360"
      ]
     },
     "execution_count": 131,
     "metadata": {},
     "output_type": "execute_result"
    }
   ],
   "source": [
    "len(inputs)"
   ]
  },
  {
   "cell_type": "code",
   "execution_count": 132,
   "metadata": {
    "collapsed": false
   },
   "outputs": [
    {
     "data": {
      "text/plain": [
       "((1, 1, 32), (1, 2, 8), (4, 2, 2))"
      ]
     },
     "execution_count": 132,
     "metadata": {},
     "output_type": "execute_result"
    }
   ],
   "source": [
    "inputs[0]"
   ]
  },
  {
   "cell_type": "code",
   "execution_count": 135,
   "metadata": {
    "collapsed": false
   },
   "outputs": [
    {
     "data": {
      "text/plain": [
       "28158120"
      ]
     },
     "execution_count": 135,
     "metadata": {},
     "output_type": "execute_result"
    }
   ],
   "source": [
    "number_of_datarows = len(inputs) * len(uni_trans)\n",
    "number_of_datarows"
   ]
  },
  {
   "cell_type": "code",
   "execution_count": null,
   "metadata": {
    "collapsed": true
   },
   "outputs": [],
   "source": [
    "number_of_datarows = len(inputs) * len(uni_trans)\n",
    "data_lookup = data_ann.set_index(['file_size','number_of_files','bandwidth','rtt','buffer_size','p','cc','pp'])\n",
    "three_com = np.zeros((number_of_datarows, 17))\n",
    "for trans, label in labels.items():\n",
    "    trans_arr = np.array(trans)\n",
    "    for item in inputs: \n",
    "        for param in item:\n",
    "            selector = trans + param\n",
    "            temp = data_loopup.loc(selector)\n",
    "            "
   ]
  },
  {
   "cell_type": "code",
   "execution_count": 137,
   "metadata": {
    "collapsed": false
   },
   "outputs": [
    {
     "data": {
      "text/plain": [
       "array([1, 2, 3])"
      ]
     },
     "execution_count": 137,
     "metadata": {},
     "output_type": "execute_result"
    }
   ],
   "source": [
    "a = (1,2,3)\n",
    "b = np.array(a)\n",
    "b"
   ]
  },
  {
   "cell_type": "code",
   "execution_count": 157,
   "metadata": {
    "collapsed": false
   },
   "outputs": [
    {
     "data": {
      "text/html": [
       "<div>\n",
       "<table border=\"1\" class=\"dataframe\">\n",
       "  <thead>\n",
       "    <tr style=\"text-align: right;\">\n",
       "      <th></th>\n",
       "      <th></th>\n",
       "      <th></th>\n",
       "      <th></th>\n",
       "      <th></th>\n",
       "      <th></th>\n",
       "      <th></th>\n",
       "      <th></th>\n",
       "      <th>fast</th>\n",
       "      <th>throughput</th>\n",
       "      <th>time_needed</th>\n",
       "      <th>date</th>\n",
       "      <th>time</th>\n",
       "      <th>source</th>\n",
       "      <th>destination</th>\n",
       "      <th>run_id</th>\n",
       "      <th>background</th>\n",
       "      <th>exp_name</th>\n",
       "    </tr>\n",
       "    <tr>\n",
       "      <th>file_size</th>\n",
       "      <th>number_of_files</th>\n",
       "      <th>bandwidth</th>\n",
       "      <th>rtt</th>\n",
       "      <th>buffer_size</th>\n",
       "      <th>p</th>\n",
       "      <th>cc</th>\n",
       "      <th>pp</th>\n",
       "      <th></th>\n",
       "      <th></th>\n",
       "      <th></th>\n",
       "      <th></th>\n",
       "      <th></th>\n",
       "      <th></th>\n",
       "      <th></th>\n",
       "      <th></th>\n",
       "      <th></th>\n",
       "      <th></th>\n",
       "    </tr>\n",
       "  </thead>\n",
       "  <tbody>\n",
       "    <tr>\n",
       "      <th rowspan=\"5\" valign=\"top\">256069</th>\n",
       "      <th rowspan=\"5\" valign=\"top\">1000</th>\n",
       "      <th rowspan=\"5\" valign=\"top\">10000</th>\n",
       "      <th rowspan=\"5\" valign=\"top\">0.04</th>\n",
       "      <th rowspan=\"5\" valign=\"top\">33554432</th>\n",
       "      <th rowspan=\"5\" valign=\"top\">1</th>\n",
       "      <th rowspan=\"5\" valign=\"top\">1</th>\n",
       "      <th>1</th>\n",
       "      <td>1</td>\n",
       "      <td>53.622316</td>\n",
       "      <td>36.433726</td>\n",
       "      <td>11/13/14</td>\n",
       "      <td>07:36.2</td>\n",
       "      <td>Stampede</td>\n",
       "      <td>Gordon/Oasis</td>\n",
       "      <td>1</td>\n",
       "      <td>0</td>\n",
       "      <td>exp_1</td>\n",
       "    </tr>\n",
       "    <tr>\n",
       "      <th>2</th>\n",
       "      <td>1</td>\n",
       "      <td>94.712707</td>\n",
       "      <td>20.627214</td>\n",
       "      <td>11/13/14</td>\n",
       "      <td>08:42.5</td>\n",
       "      <td>Stampede</td>\n",
       "      <td>Gordon/Oasis</td>\n",
       "      <td>1</td>\n",
       "      <td>0</td>\n",
       "      <td>exp_1</td>\n",
       "    </tr>\n",
       "    <tr>\n",
       "      <th>4</th>\n",
       "      <td>1</td>\n",
       "      <td>159.132638</td>\n",
       "      <td>12.276979</td>\n",
       "      <td>11/13/14</td>\n",
       "      <td>09:22.6</td>\n",
       "      <td>Stampede</td>\n",
       "      <td>Gordon/Oasis</td>\n",
       "      <td>1</td>\n",
       "      <td>0</td>\n",
       "      <td>exp_1</td>\n",
       "    </tr>\n",
       "    <tr>\n",
       "      <th>8</th>\n",
       "      <td>1</td>\n",
       "      <td>135.107270</td>\n",
       "      <td>14.460125</td>\n",
       "      <td>11/13/14</td>\n",
       "      <td>09:47.2</td>\n",
       "      <td>Stampede</td>\n",
       "      <td>Gordon/Oasis</td>\n",
       "      <td>1</td>\n",
       "      <td>0</td>\n",
       "      <td>exp_1</td>\n",
       "    </tr>\n",
       "    <tr>\n",
       "      <th>16</th>\n",
       "      <td>1</td>\n",
       "      <td>155.985309</td>\n",
       "      <td>12.524720</td>\n",
       "      <td>11/13/14</td>\n",
       "      <td>10:13.4</td>\n",
       "      <td>Stampede</td>\n",
       "      <td>Gordon/Oasis</td>\n",
       "      <td>1</td>\n",
       "      <td>0</td>\n",
       "      <td>exp_1</td>\n",
       "    </tr>\n",
       "  </tbody>\n",
       "</table>\n",
       "</div>"
      ],
      "text/plain": [
       "                                                              fast  \\\n",
       "file_size number_of_files bandwidth rtt  buffer_size p cc pp         \n",
       "256069    1000            10000     0.04 33554432    1 1  1      1   \n",
       "                                                          2      1   \n",
       "                                                          4      1   \n",
       "                                                          8      1   \n",
       "                                                          16     1   \n",
       "\n",
       "                                                              throughput  \\\n",
       "file_size number_of_files bandwidth rtt  buffer_size p cc pp               \n",
       "256069    1000            10000     0.04 33554432    1 1  1    53.622316   \n",
       "                                                          2    94.712707   \n",
       "                                                          4   159.132638   \n",
       "                                                          8   135.107270   \n",
       "                                                          16  155.985309   \n",
       "\n",
       "                                                              time_needed  \\\n",
       "file_size number_of_files bandwidth rtt  buffer_size p cc pp                \n",
       "256069    1000            10000     0.04 33554432    1 1  1     36.433726   \n",
       "                                                          2     20.627214   \n",
       "                                                          4     12.276979   \n",
       "                                                          8     14.460125   \n",
       "                                                          16    12.524720   \n",
       "\n",
       "                                                                  date  \\\n",
       "file_size number_of_files bandwidth rtt  buffer_size p cc pp             \n",
       "256069    1000            10000     0.04 33554432    1 1  1   11/13/14   \n",
       "                                                          2   11/13/14   \n",
       "                                                          4   11/13/14   \n",
       "                                                          8   11/13/14   \n",
       "                                                          16  11/13/14   \n",
       "\n",
       "                                                                 time  \\\n",
       "file_size number_of_files bandwidth rtt  buffer_size p cc pp            \n",
       "256069    1000            10000     0.04 33554432    1 1  1   07:36.2   \n",
       "                                                          2   08:42.5   \n",
       "                                                          4   09:22.6   \n",
       "                                                          8   09:47.2   \n",
       "                                                          16  10:13.4   \n",
       "\n",
       "                                                                source  \\\n",
       "file_size number_of_files bandwidth rtt  buffer_size p cc pp             \n",
       "256069    1000            10000     0.04 33554432    1 1  1   Stampede   \n",
       "                                                          2   Stampede   \n",
       "                                                          4   Stampede   \n",
       "                                                          8   Stampede   \n",
       "                                                          16  Stampede   \n",
       "\n",
       "                                                               destination  \\\n",
       "file_size number_of_files bandwidth rtt  buffer_size p cc pp                 \n",
       "256069    1000            10000     0.04 33554432    1 1  1   Gordon/Oasis   \n",
       "                                                          2   Gordon/Oasis   \n",
       "                                                          4   Gordon/Oasis   \n",
       "                                                          8   Gordon/Oasis   \n",
       "                                                          16  Gordon/Oasis   \n",
       "\n",
       "                                                              run_id  \\\n",
       "file_size number_of_files bandwidth rtt  buffer_size p cc pp           \n",
       "256069    1000            10000     0.04 33554432    1 1  1        1   \n",
       "                                                          2        1   \n",
       "                                                          4        1   \n",
       "                                                          8        1   \n",
       "                                                          16       1   \n",
       "\n",
       "                                                              background  \\\n",
       "file_size number_of_files bandwidth rtt  buffer_size p cc pp               \n",
       "256069    1000            10000     0.04 33554432    1 1  1            0   \n",
       "                                                          2            0   \n",
       "                                                          4            0   \n",
       "                                                          8            0   \n",
       "                                                          16           0   \n",
       "\n",
       "                                                             exp_name  \n",
       "file_size number_of_files bandwidth rtt  buffer_size p cc pp           \n",
       "256069    1000            10000     0.04 33554432    1 1  1     exp_1  \n",
       "                                                          2     exp_1  \n",
       "                                                          4     exp_1  \n",
       "                                                          8     exp_1  \n",
       "                                                          16    exp_1  "
      ]
     },
     "execution_count": 157,
     "metadata": {},
     "output_type": "execute_result"
    }
   ],
   "source": [
    "data_lookup = data_ann.set_index(['file_size','number_of_files','bandwidth','rtt','buffer_size','p','cc','pp'])\n",
    "data_lookup.head()"
   ]
  },
  {
   "cell_type": "code",
   "execution_count": 164,
   "metadata": {
    "collapsed": false
   },
   "outputs": [
    {
     "data": {
      "text/plain": [
       "dtype('int64')"
      ]
     },
     "execution_count": 164,
     "metadata": {},
     "output_type": "execute_result"
    }
   ],
   "source": [
    "data_ann.file_size.dtype"
   ]
  },
  {
   "cell_type": "code",
   "execution_count": 167,
   "metadata": {
    "collapsed": false
   },
   "outputs": [
    {
     "data": {
      "text/plain": [
       "array([ 53.62231574,  43.18554448,  47.16296004,  54.70853713,\n",
       "        44.99865507,  50.01083695,  57.27836133,  51.80117528,  50.14121588])"
      ]
     },
     "execution_count": 167,
     "metadata": {},
     "output_type": "execute_result"
    }
   ],
   "source": [
    "index = (256069, 1000, 10000, 0.04, 33554432,1,1,1)\n",
    "col = 'throughput'\n",
    "data_lookup.get_value(index, col, takeable=False)"
   ]
  },
  {
   "cell_type": "code",
   "execution_count": null,
   "metadata": {
    "collapsed": true
   },
   "outputs": [],
   "source": []
  },
  {
   "cell_type": "code",
   "execution_count": null,
   "metadata": {
    "collapsed": true
   },
   "outputs": [],
   "source": []
  },
  {
   "cell_type": "code",
   "execution_count": null,
   "metadata": {
    "collapsed": true
   },
   "outputs": [],
   "source": []
  },
  {
   "cell_type": "markdown",
   "metadata": {},
   "source": [
    "# Sample ANN:"
   ]
  },
  {
   "cell_type": "code",
   "execution_count": 32,
   "metadata": {
    "collapsed": true
   },
   "outputs": [],
   "source": [
    "from sklearn.datasets import load_breast_cancer\n",
    "cancer = load_breast_cancer()"
   ]
  },
  {
   "cell_type": "code",
   "execution_count": 33,
   "metadata": {
    "collapsed": false
   },
   "outputs": [
    {
     "data": {
      "text/plain": [
       "dict_keys(['data', 'target', 'target_names', 'DESCR', 'feature_names'])"
      ]
     },
     "execution_count": 33,
     "metadata": {},
     "output_type": "execute_result"
    }
   ],
   "source": [
    "cancer.keys()"
   ]
  },
  {
   "cell_type": "code",
   "execution_count": 34,
   "metadata": {
    "collapsed": false
   },
   "outputs": [
    {
     "data": {
      "text/plain": [
       "(569, 30)"
      ]
     },
     "execution_count": 34,
     "metadata": {},
     "output_type": "execute_result"
    }
   ],
   "source": [
    "# Print full description by running:\n",
    "# print(cancer['DESCR'])\n",
    "# 569 data points with 30 features\n",
    "cancer['data'].shape"
   ]
  },
  {
   "cell_type": "code",
   "execution_count": 35,
   "metadata": {
    "collapsed": true
   },
   "outputs": [],
   "source": [
    "X = cancer['data']\n",
    "y = cancer['target']"
   ]
  },
  {
   "cell_type": "code",
   "execution_count": 103,
   "metadata": {
    "collapsed": false
   },
   "outputs": [
    {
     "data": {
      "text/plain": [
       "array([0, 0, 0, 0, 0, 0, 0, 0, 0, 0, 0, 0, 0, 0, 0, 0, 0, 0, 0, 1, 1, 1, 0,\n",
       "       0, 0, 0, 0, 0, 0, 0, 0, 0, 0, 0, 0, 0, 0, 1, 0, 0, 0, 0, 0, 0, 0, 0,\n",
       "       1, 0, 1, 1, 1, 1, 1, 0, 0, 1, 0, 0, 1, 1, 1, 1, 0, 1, 0, 0, 1, 1, 1,\n",
       "       1, 0, 1, 0, 0, 1, 0, 1, 0, 0, 1, 1, 1, 0, 0, 1, 0, 0, 0, 1, 1, 1, 0,\n",
       "       1, 1, 0, 0, 1, 1, 1, 0, 0, 1, 1, 1, 1, 0, 1, 1, 0, 1, 1, 1, 1, 1, 1,\n",
       "       1, 1, 0, 0, 0, 1, 0, 0, 1, 1, 1, 0, 0, 1, 0, 1, 0, 0, 1, 0, 0, 1, 1,\n",
       "       0, 1, 1, 0, 1, 1, 1, 1, 0, 1, 1, 1, 1, 1, 1, 1, 1, 1, 0, 1, 1, 1, 1,\n",
       "       0, 0, 1, 0, 1, 1, 0, 0, 1, 1, 0, 0, 1, 1, 1, 1, 0, 1, 1, 0, 0, 0, 1,\n",
       "       0, 1, 0, 1, 1, 1, 0, 1, 1, 0, 0, 1, 0, 0, 0, 0, 1, 0, 0, 0, 1, 0, 1,\n",
       "       0, 1, 1, 0, 1, 0, 0, 0, 0, 1, 1, 0, 0, 1, 1, 1, 0, 1, 1, 1, 1, 1, 0,\n",
       "       0, 1, 1, 0, 1, 1, 0, 0, 1, 0, 1, 1, 1, 1, 0, 1, 1, 1, 1, 1, 0, 1, 0,\n",
       "       0, 0, 0, 0, 0, 0, 0, 0, 0, 0, 0, 0, 0, 1, 1, 1, 1, 1, 1, 0, 1, 0, 1,\n",
       "       1, 0, 1, 1, 0, 1, 0, 0, 1, 1, 1, 1, 1, 1, 1, 1, 1, 1, 1, 1, 1, 0, 1,\n",
       "       1, 0, 1, 0, 1, 1, 1, 1, 1, 1, 1, 1, 1, 1, 1, 1, 1, 1, 0, 1, 1, 1, 0,\n",
       "       1, 0, 1, 1, 1, 1, 0, 0, 0, 1, 1, 1, 1, 0, 1, 0, 1, 0, 1, 1, 1, 0, 1,\n",
       "       1, 1, 1, 1, 1, 1, 0, 0, 0, 1, 1, 1, 1, 1, 1, 1, 1, 1, 1, 1, 0, 0, 1,\n",
       "       0, 0, 0, 1, 0, 0, 1, 1, 1, 1, 1, 0, 1, 1, 1, 1, 1, 0, 1, 1, 1, 0, 1,\n",
       "       1, 0, 0, 1, 1, 1, 1, 1, 1, 0, 1, 1, 1, 1, 1, 1, 1, 0, 1, 1, 1, 1, 1,\n",
       "       0, 1, 1, 0, 1, 1, 1, 1, 1, 1, 1, 1, 1, 1, 1, 1, 0, 1, 0, 0, 1, 0, 1,\n",
       "       1, 1, 1, 1, 0, 1, 1, 0, 1, 0, 1, 1, 0, 1, 0, 1, 1, 1, 1, 1, 1, 1, 1,\n",
       "       0, 0, 1, 1, 1, 1, 1, 1, 0, 1, 1, 1, 1, 1, 1, 1, 1, 1, 1, 0, 1, 1, 1,\n",
       "       1, 1, 1, 1, 0, 1, 0, 1, 1, 0, 1, 1, 1, 1, 1, 0, 0, 1, 0, 1, 0, 1, 1,\n",
       "       1, 1, 1, 0, 1, 1, 0, 1, 0, 1, 0, 0, 1, 1, 1, 0, 1, 1, 1, 1, 1, 1, 1,\n",
       "       1, 1, 1, 1, 0, 1, 0, 0, 1, 1, 1, 1, 1, 1, 1, 1, 1, 1, 1, 1, 1, 1, 1,\n",
       "       1, 1, 1, 1, 1, 1, 1, 1, 1, 1, 0, 0, 0, 0, 0, 0, 1])"
      ]
     },
     "execution_count": 103,
     "metadata": {},
     "output_type": "execute_result"
    }
   ],
   "source": [
    "y"
   ]
  },
  {
   "cell_type": "code",
   "execution_count": 36,
   "metadata": {
    "collapsed": true
   },
   "outputs": [],
   "source": [
    "from sklearn.model_selection import train_test_split\n",
    "X_train, X_test, y_train, y_test = train_test_split(X, y)"
   ]
  },
  {
   "cell_type": "code",
   "execution_count": 37,
   "metadata": {
    "collapsed": false
   },
   "outputs": [
    {
     "data": {
      "text/plain": [
       "StandardScaler(copy=True, with_mean=True, with_std=True)"
      ]
     },
     "execution_count": 37,
     "metadata": {},
     "output_type": "execute_result"
    }
   ],
   "source": [
    "from sklearn.preprocessing import StandardScaler\n",
    "scaler = StandardScaler()\n",
    "# Fit only to the training data\n",
    "scaler.fit(X_train)"
   ]
  },
  {
   "cell_type": "code",
   "execution_count": 38,
   "metadata": {
    "collapsed": true
   },
   "outputs": [],
   "source": [
    "# Now apply the transformations to the data:\n",
    "X_train = scaler.transform(X_train)\n",
    "X_test = scaler.transform(X_test)"
   ]
  },
  {
   "cell_type": "code",
   "execution_count": 39,
   "metadata": {
    "collapsed": true
   },
   "outputs": [],
   "source": [
    "from sklearn.neural_network import MLPClassifier"
   ]
  },
  {
   "cell_type": "code",
   "execution_count": 40,
   "metadata": {
    "collapsed": true
   },
   "outputs": [],
   "source": [
    "mlp = MLPClassifier(hidden_layer_sizes=(30,30,30))"
   ]
  },
  {
   "cell_type": "code",
   "execution_count": 41,
   "metadata": {
    "collapsed": false
   },
   "outputs": [
    {
     "data": {
      "text/plain": [
       "MLPClassifier(activation='relu', alpha=0.0001, batch_size='auto', beta_1=0.9,\n",
       "       beta_2=0.999, early_stopping=False, epsilon=1e-08,\n",
       "       hidden_layer_sizes=(30, 30, 30), learning_rate='constant',\n",
       "       learning_rate_init=0.001, max_iter=200, momentum=0.9,\n",
       "       nesterovs_momentum=True, power_t=0.5, random_state=None,\n",
       "       shuffle=True, solver='adam', tol=0.0001, validation_fraction=0.1,\n",
       "       verbose=False, warm_start=False)"
      ]
     },
     "execution_count": 41,
     "metadata": {},
     "output_type": "execute_result"
    }
   ],
   "source": [
    "mlp.fit(X_train,y_train)"
   ]
  },
  {
   "cell_type": "code",
   "execution_count": 42,
   "metadata": {
    "collapsed": true
   },
   "outputs": [],
   "source": [
    "predictions = mlp.predict(X_test)"
   ]
  },
  {
   "cell_type": "code",
   "execution_count": 44,
   "metadata": {
    "collapsed": false
   },
   "outputs": [
    {
     "name": "stdout",
     "output_type": "stream",
     "text": [
      "             precision    recall  f1-score   support\n",
      "\n",
      "          0       0.98      0.91      0.94        56\n",
      "          1       0.95      0.99      0.97        87\n",
      "\n",
      "avg / total       0.96      0.96      0.96       143\n",
      "\n"
     ]
    }
   ],
   "source": [
    "print(classification_report(y_test,predictions))"
   ]
  },
  {
   "cell_type": "code",
   "execution_count": null,
   "metadata": {
    "collapsed": true
   },
   "outputs": [],
   "source": []
  },
  {
   "cell_type": "code",
   "execution_count": null,
   "metadata": {
    "collapsed": true
   },
   "outputs": [],
   "source": []
  },
  {
   "cell_type": "code",
   "execution_count": null,
   "metadata": {
    "collapsed": true
   },
   "outputs": [],
   "source": []
  },
  {
   "cell_type": "markdown",
   "metadata": {},
   "source": [
    "# Get all data and perform CNN:"
   ]
  },
  {
   "cell_type": "code",
   "execution_count": 16,
   "metadata": {
    "collapsed": false
   },
   "outputs": [],
   "source": [
    "temp_data = data.copy(deep=True)"
   ]
  },
  {
   "cell_type": "code",
   "execution_count": 17,
   "metadata": {
    "collapsed": false
   },
   "outputs": [],
   "source": [
    "args = ['file_size', 'number_of_files', 'bandwidth', 'rtt', 'buffer_size','source', 'destination','run_id', 'background']\n",
    "unique_req = find_unique_transfers(temp_data, args)\n",
    "num_reqs = len(find_unique_transfers(temp_data, args))"
   ]
  },
  {
   "cell_type": "code",
   "execution_count": null,
   "metadata": {
    "collapsed": false,
    "scrolled": true
   },
   "outputs": [],
   "source": [
    "temp_data = temp_data.set_index(args)\n",
    "temp_data.head()"
   ]
  },
  {
   "cell_type": "markdown",
   "metadata": {},
   "source": [
    "## Make Ndarray for CNN:"
   ]
  },
  {
   "cell_type": "code",
   "execution_count": null,
   "metadata": {
    "collapsed": false
   },
   "outputs": [],
   "source": [
    "# make each request a matrix of ndarray \n",
    "# with all requests make 264 * 32 * 32 matrix\n",
    "m = 32\n",
    "n = 32\n",
    "x = num_reqs\n",
    "\n",
    "mat = np.zeros([x,m+1,n+1])\n",
    "temp_mat = np.zeros([m+1,n+1])\n",
    "mat_yy = np.zeros(x)\n",
    "req_count = 0\n",
    "for req in unique_req:\n",
    "    current_req = temp_data.loc[req]\n",
    "    current_req = current_req.reset_index()\n",
    "    for index, row in current_req.iterrows():\n",
    "        mat[req_count, row.p, row.cc] = row.throughput\n",
    "        temp_mat[row.p, row.cc] = row.throughput\n",
    "        run_id = row.run_id\n",
    "    mat_yy[req_count] = np.sum(temp_mat)\n",
    "    #mat_y[req_count] = run_id\n",
    "    req_count = req_count + 1\n",
    "    "
   ]
  },
  {
   "cell_type": "code",
   "execution_count": null,
   "metadata": {
    "collapsed": false
   },
   "outputs": [],
   "source": [
    "mat_yy"
   ]
  },
  {
   "cell_type": "code",
   "execution_count": null,
   "metadata": {
    "collapsed": false
   },
   "outputs": [],
   "source": [
    "high = np.percentile(mat_yy,80)\n",
    "mid_high = np.percentile(mat_yy,60)\n",
    "mid = np.percentile(mat_yy,50)\n",
    "low_high = np.percentile(mat_yy,40)\n",
    "low = np.percentile(mat_yy,20)\n",
    "#profile = [low,low_high,mid,mid_high,high]"
   ]
  },
  {
   "cell_type": "code",
   "execution_count": null,
   "metadata": {
    "collapsed": false
   },
   "outputs": [],
   "source": [
    "def convert_to_discrete_traffic(x,high,mid_high,mid,low_high,low):\n",
    "    y = x\n",
    "    count = 0\n",
    "    for item in x:\n",
    "        if item >= high:\n",
    "            y[count] = 5\n",
    "        elif (item < high) and item >=mid_high:\n",
    "            y[count] = 4\n",
    "        elif(item < mid_high) and (item >= mid):\n",
    "            y[count] = 3\n",
    "        elif(item < mid) and (item >= low_high):\n",
    "            y[count] = 2\n",
    "        elif(item < low_high) and (item >= low):\n",
    "            y[count] = 1\n",
    "        else:\n",
    "            y[count] = 0\n",
    "        count = count + 1\n",
    "    return y"
   ]
  },
  {
   "cell_type": "code",
   "execution_count": null,
   "metadata": {
    "collapsed": false
   },
   "outputs": [],
   "source": [
    "mat_y = convert_to_discrete_traffic(mat_yy,high,mid_high,mid,low_high,low)\n",
    "mat_y"
   ]
  },
  {
   "cell_type": "markdown",
   "metadata": {},
   "source": [
    "# Core CNN code:"
   ]
  },
  {
   "cell_type": "code",
   "execution_count": null,
   "metadata": {
    "collapsed": true
   },
   "outputs": [],
   "source": []
  },
  {
   "cell_type": "code",
   "execution_count": null,
   "metadata": {
    "collapsed": false
   },
   "outputs": [],
   "source": [
    "\n",
    "import theano \n",
    "import warnings\n",
    "\n",
    "from keras.models import Sequential\n",
    "from keras.layers import Dense, Dropout, Activation, Flatten\n",
    "from keras.layers import Convolution2D, MaxPooling2D\n",
    "from keras.utils import np_utils\n",
    "from keras.datasets import mnist"
   ]
  },
  {
   "cell_type": "code",
   "execution_count": null,
   "metadata": {
    "collapsed": false
   },
   "outputs": [],
   "source": [
    "# split data for training and testing: \n",
    "training_idx = np.random.randint(mat.shape[0], size=220)\n",
    "test_idx = np.random.randint(mat.shape[0], size=44)\n",
    "X_train, X_test = mat[training_idx,:], mat[test_idx,:]\n",
    "y_train = mat_y[training_idx]\n",
    "y_test = mat_y[test_idx]"
   ]
  },
  {
   "cell_type": "code",
   "execution_count": null,
   "metadata": {
    "collapsed": false
   },
   "outputs": [],
   "source": [
    "X_train.shape"
   ]
  },
  {
   "cell_type": "code",
   "execution_count": null,
   "metadata": {
    "collapsed": false
   },
   "outputs": [],
   "source": [
    "X_train = X_train.reshape(X_train.shape[0], 1, 33, 33)\n",
    "X_test = X_test.reshape(X_test.shape[0], 1, 33, 33)\n",
    "X_train = X_train.astype('float32')\n",
    "X_test = X_test.astype('float32')\n",
    "X_train /= 255\n",
    "X_test /= 255"
   ]
  },
  {
   "cell_type": "code",
   "execution_count": null,
   "metadata": {
    "collapsed": false
   },
   "outputs": [],
   "source": [
    "Y_train = np_utils.to_categorical(y_train, 12)\n",
    "Y_test = np_utils.to_categorical(y_test, 12)"
   ]
  },
  {
   "cell_type": "code",
   "execution_count": null,
   "metadata": {
    "collapsed": false
   },
   "outputs": [],
   "source": [
    "# 7. Define model architecture\n",
    "model = Sequential()\n",
    "model.add(Convolution2D(32, 3, 3, activation='relu', input_shape=(1,33,33), \n",
    "                        dim_ordering='th'))\n",
    "#model.add(Convolution2D(32, 3, 3, activation='relu', input_shape=(1,28,28)))\n",
    "model.add(Convolution2D(32, 3, 3, activation='relu'))\n",
    "model.add(Convolution2D(32, 3, 3, activation='relu'))\n",
    "model.add(MaxPooling2D(pool_size=(2,2)))\n",
    "model.add(Dropout(0.25))\n",
    "\n",
    "model.add(Flatten())\n",
    "model.add(Dense(128, activation='relu'))\n",
    "model.add(Dropout(0.5))\n",
    "model.add(Dense(12, activation='softmax'))\n",
    "model.summary()"
   ]
  },
  {
   "cell_type": "code",
   "execution_count": null,
   "metadata": {
    "collapsed": true
   },
   "outputs": [],
   "source": [
    "# 8. Compile model\n",
    "model.compile(loss='categorical_crossentropy',\n",
    "              optimizer='adam',\n",
    "              metrics=['accuracy'])"
   ]
  },
  {
   "cell_type": "code",
   "execution_count": null,
   "metadata": {
    "collapsed": false
   },
   "outputs": [],
   "source": [
    "# 9. Fit model on training data\n",
    "history = model.fit(X_train, Y_train, \n",
    "          batch_size=32, nb_epoch=30, verbose=1)"
   ]
  },
  {
   "cell_type": "code",
   "execution_count": null,
   "metadata": {
    "collapsed": false
   },
   "outputs": [],
   "source": [
    "history"
   ]
  },
  {
   "cell_type": "code",
   "execution_count": null,
   "metadata": {
    "collapsed": false
   },
   "outputs": [],
   "source": [
    "# list all data in history\n",
    "print(history.history.keys())\n",
    "# summarize history for accuracy\n",
    "plt.plot(history.history['acc'])\n",
    "#plt.plot(history.history['val_acc'])\n",
    "plt.title('model accuracy')\n",
    "plt.ylabel('accuracy')\n",
    "plt.xlabel('epoch')\n",
    "plt.legend(['train', 'test'], loc='upper left')\n",
    "plt.show()\n"
   ]
  },
  {
   "cell_type": "code",
   "execution_count": null,
   "metadata": {
    "collapsed": false
   },
   "outputs": [],
   "source": [
    "# summarize history for loss\n",
    "plt.plot(history.history['loss'])\n",
    "#plt.plot(history.history['val_loss'])\n",
    "plt.title('model loss')\n",
    "plt.ylabel('loss')\n",
    "plt.xlabel('epoch')\n",
    "plt.legend(['train', 'test'], loc='upper right')\n",
    "plt.show()"
   ]
  },
  {
   "cell_type": "code",
   "execution_count": null,
   "metadata": {
    "collapsed": true
   },
   "outputs": [],
   "source": [
    "# 10. Evaluate model on test data\n",
    "score = model.evaluate(X_test, Y_test, verbose=0)"
   ]
  },
  {
   "cell_type": "code",
   "execution_count": null,
   "metadata": {
    "collapsed": false
   },
   "outputs": [],
   "source": [
    "score"
   ]
  },
  {
   "cell_type": "code",
   "execution_count": null,
   "metadata": {
    "collapsed": true
   },
   "outputs": [],
   "source": []
  },
  {
   "cell_type": "code",
   "execution_count": null,
   "metadata": {
    "collapsed": true
   },
   "outputs": [],
   "source": []
  },
  {
   "cell_type": "code",
   "execution_count": null,
   "metadata": {
    "collapsed": true
   },
   "outputs": [],
   "source": []
  },
  {
   "cell_type": "code",
   "execution_count": null,
   "metadata": {
    "collapsed": true
   },
   "outputs": [],
   "source": []
  },
  {
   "cell_type": "code",
   "execution_count": null,
   "metadata": {
    "collapsed": true
   },
   "outputs": [],
   "source": [
    "suffled_data = data.sample(frac=1)"
   ]
  },
  {
   "cell_type": "code",
   "execution_count": null,
   "metadata": {
    "collapsed": false
   },
   "outputs": [],
   "source": [
    "suffled_data.reset_index(drop=True)"
   ]
  },
  {
   "cell_type": "code",
   "execution_count": null,
   "metadata": {
    "collapsed": true
   },
   "outputs": [],
   "source": [
    "del suffled_data[\"run_id\"]"
   ]
  },
  {
   "cell_type": "code",
   "execution_count": null,
   "metadata": {
    "collapsed": true
   },
   "outputs": [],
   "source": [
    "del suffled_data[\"fast\"]"
   ]
  },
  {
   "cell_type": "code",
   "execution_count": null,
   "metadata": {
    "collapsed": false
   },
   "outputs": [],
   "source": [
    "suffled_data.head()"
   ]
  },
  {
   "cell_type": "code",
   "execution_count": null,
   "metadata": {
    "collapsed": true
   },
   "outputs": [],
   "source": [
    "suffled_data.to_csv(\"logs_mixed_traffic_3runs.csv\",index=False)"
   ]
  },
  {
   "cell_type": "code",
   "execution_count": null,
   "metadata": {
    "collapsed": true
   },
   "outputs": [],
   "source": []
  },
  {
   "cell_type": "code",
   "execution_count": null,
   "metadata": {
    "collapsed": true
   },
   "outputs": [],
   "source": []
  },
  {
   "cell_type": "code",
   "execution_count": null,
   "metadata": {
    "collapsed": true
   },
   "outputs": [],
   "source": []
  },
  {
   "cell_type": "code",
   "execution_count": null,
   "metadata": {
    "collapsed": true
   },
   "outputs": [],
   "source": []
  },
  {
   "cell_type": "code",
   "execution_count": null,
   "metadata": {
    "collapsed": true
   },
   "outputs": [],
   "source": []
  },
  {
   "cell_type": "code",
   "execution_count": null,
   "metadata": {
    "collapsed": true
   },
   "outputs": [],
   "source": []
  }
 ],
 "metadata": {
  "anaconda-cloud": {},
  "kernelspec": {
   "display_name": "Python [conda env:deep_learning]",
   "language": "python",
   "name": "conda-env-deep_learning-py"
  },
  "language_info": {
   "codemirror_mode": {
    "name": "ipython",
    "version": 3
   },
   "file_extension": ".py",
   "mimetype": "text/x-python",
   "name": "python",
   "nbconvert_exporter": "python",
   "pygments_lexer": "ipython3",
   "version": "3.6.0"
  }
 },
 "nbformat": 4,
 "nbformat_minor": 2
}
