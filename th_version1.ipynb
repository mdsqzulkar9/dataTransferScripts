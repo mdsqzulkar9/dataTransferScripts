{
 "cells": [
  {
   "cell_type": "raw",
   "metadata": {},
   "source": [
    "This notebook is to analyze the transfer throughputs.\n",
    "\n",
    "the dataset repository is in Dropbox:\n",
    "Dropbox/gits/data/ThOpt/master/\n",
    "\n",
    "Important units in the dataset: (your new data must agree with the units)\n",
    "    file_size - Megabytes\n",
    "    number_of_files - number int\n",
    "    bandwidth - Megabytes per second\n",
    "    rtt - millisecond\n",
    "    buffer_size - MegaBytes\n",
    "    p - number - int\n",
    "    cc - number - int\n",
    "    pp - number - int\n",
    "    fast - boolean - {0,1}\n",
    "    throughput - (Mega Byte per second)\n",
    "    time - second\n",
    "    start_time - yyyy-mm-dd HH:MM:SS (e.g. 2015-03-31 00:57:22)\n",
    "    source - string name\n",
    "    destination - string name \n",
    "    \n",
    "\n",
    "    \n",
    "    \n",
    "Author: Md S Q Zulkar Nine     Start Date: June 2, 2016      Last Modified: September 14, 2016"
   ]
  },
  {
   "cell_type": "code",
   "execution_count": 1,
   "metadata": {
    "collapsed": false
   },
   "outputs": [
    {
     "name": "stdout",
     "output_type": "stream",
     "text": [
      "master_06_10_2016_18_27 master_06_29_2016_15_00 master_09_13_2016_13_37\r\n",
      "master_06_29_2016_14_52 master_09_13_2016_11_51 readme.txt\r\n"
     ]
    }
   ],
   "source": [
    "# See the dataset folder in linux-lab:\n",
    "! ls $HOME/Dropbox/gits/data/ThOpt/master/\n"
   ]
  },
  {
   "cell_type": "code",
   "execution_count": 2,
   "metadata": {
    "collapsed": true
   },
   "outputs": [],
   "source": [
    "# Control variables: \n",
    "\n",
    "\n",
    "# master dataset location:\n",
    "master_location = 'Dropbox/gits/data/ThOpt/master/'\n",
    "\n",
    "# master file name : \n",
    "master_file_name = 'master_09_13_2016_13_37'\n"
   ]
  },
  {
   "cell_type": "code",
   "execution_count": 3,
   "metadata": {
    "collapsed": true
   },
   "outputs": [],
   "source": [
    "# import pandas library:\n",
    "import os\n",
    "import pandas as pds\n",
    "import pylab as pyl\n",
    "import numpy as np\n",
    "from scipy.interpolate import *\n",
    "%matplotlib inline"
   ]
  },
  {
   "cell_type": "code",
   "execution_count": 4,
   "metadata": {
    "collapsed": false
   },
   "outputs": [
    {
     "data": {
      "text/html": [
       "<style>body {\n",
       "    margin: 0;\n",
       "    font-family: Helvetica;\n",
       "}\n",
       "table.dataframe {\n",
       "    border-collapse: collapse;\n",
       "    border: none;\n",
       "}\n",
       "table.dataframe tr {\n",
       "    border: none;\n",
       "}\n",
       "table.dataframe td, table.dataframe th {\n",
       "    margin: 0;\n",
       "    border: 1px solid white;\n",
       "    padding-left: 0.25em;\n",
       "    padding-right: 0.25em;\n",
       "}\n",
       "table.dataframe th:not(:empty) {\n",
       "    background-color: #fec;\n",
       "    text-align: left;\n",
       "    font-weight: normal;\n",
       "}\n",
       "table.dataframe tr:nth-child(2) th:empty {\n",
       "    border-left: none;\n",
       "    border-right: 1px dashed #888;\n",
       "}\n",
       "table.dataframe td {\n",
       "    border: 2px solid #ccf;\n",
       "    background-color: #f4f4ff;\n",
       "}h3 {\n",
       "    color: white;\n",
       "    background-color: black;\n",
       "    padding: 0.5em;\n",
       "}</style>"
      ],
      "text/plain": [
       "<IPython.core.display.HTML object>"
      ]
     },
     "execution_count": 4,
     "metadata": {},
     "output_type": "execute_result"
    }
   ],
   "source": [
    "# pretty dataframe :\n",
    "from IPython.core.display import HTML\n",
    "css = open('style-table.css').read() + open('style-notebook.css').read()\n",
    "HTML('<style>{}</style>'.format(css))"
   ]
  },
  {
   "cell_type": "code",
   "execution_count": 5,
   "metadata": {
    "collapsed": false
   },
   "outputs": [
    {
     "data": {
      "text/plain": [
       "'/Users/mds/'"
      ]
     },
     "execution_count": 5,
     "metadata": {},
     "output_type": "execute_result"
    }
   ],
   "source": [
    "# required values :\n",
    "\n",
    "# OS file seperator: \n",
    "file_seperator = os.sep\n",
    "\n",
    "\n",
    "# User OS home directory:\n",
    "user_home = os.environ['HOME']\n",
    "user_home = user_home+file_seperator\n",
    "user_home"
   ]
  },
  {
   "cell_type": "code",
   "execution_count": 6,
   "metadata": {
    "collapsed": false,
    "scrolled": true
   },
   "outputs": [
    {
     "data": {
      "text/html": [
       "<div>\n",
       "<table border=\"1\" class=\"dataframe\">\n",
       "  <thead>\n",
       "    <tr style=\"text-align: right;\">\n",
       "      <th></th>\n",
       "      <th>file_size</th>\n",
       "      <th>number_of_files</th>\n",
       "      <th>bandwidth</th>\n",
       "      <th>rtt</th>\n",
       "      <th>buffer_size</th>\n",
       "      <th>p</th>\n",
       "      <th>cc</th>\n",
       "      <th>pp</th>\n",
       "      <th>fast</th>\n",
       "      <th>throughput</th>\n",
       "      <th>time</th>\n",
       "      <th>start_time</th>\n",
       "      <th>source</th>\n",
       "      <th>destination</th>\n",
       "      <th>artificial_bk_traffic</th>\n",
       "    </tr>\n",
       "  </thead>\n",
       "  <tbody>\n",
       "    <tr>\n",
       "      <th>0</th>\n",
       "      <td>652486</td>\n",
       "      <td>3293</td>\n",
       "      <td>128</td>\n",
       "      <td>0.25</td>\n",
       "      <td>4194304</td>\n",
       "      <td>1</td>\n",
       "      <td>1</td>\n",
       "      <td>1</td>\n",
       "      <td>0</td>\n",
       "      <td>48.360560</td>\n",
       "      <td>42.371396</td>\n",
       "      <td>2015-07-24 00:05:45</td>\n",
       "      <td>Evenstar</td>\n",
       "      <td>Didclab-ws10</td>\n",
       "      <td>0</td>\n",
       "    </tr>\n",
       "    <tr>\n",
       "      <th>1</th>\n",
       "      <td>652486</td>\n",
       "      <td>3293</td>\n",
       "      <td>128</td>\n",
       "      <td>0.25</td>\n",
       "      <td>4194304</td>\n",
       "      <td>1</td>\n",
       "      <td>1</td>\n",
       "      <td>2</td>\n",
       "      <td>0</td>\n",
       "      <td>56.777687</td>\n",
       "      <td>36.089951</td>\n",
       "      <td>2015-07-24 00:06:27</td>\n",
       "      <td>Evenstar</td>\n",
       "      <td>Didclab-ws10</td>\n",
       "      <td>0</td>\n",
       "    </tr>\n",
       "    <tr>\n",
       "      <th>2</th>\n",
       "      <td>652486</td>\n",
       "      <td>3293</td>\n",
       "      <td>128</td>\n",
       "      <td>0.25</td>\n",
       "      <td>4194304</td>\n",
       "      <td>1</td>\n",
       "      <td>1</td>\n",
       "      <td>4</td>\n",
       "      <td>0</td>\n",
       "      <td>62.801374</td>\n",
       "      <td>32.628335</td>\n",
       "      <td>2015-07-24 00:07:03</td>\n",
       "      <td>Evenstar</td>\n",
       "      <td>Didclab-ws10</td>\n",
       "      <td>0</td>\n",
       "    </tr>\n",
       "    <tr>\n",
       "      <th>3</th>\n",
       "      <td>652486</td>\n",
       "      <td>3293</td>\n",
       "      <td>128</td>\n",
       "      <td>0.25</td>\n",
       "      <td>4194304</td>\n",
       "      <td>1</td>\n",
       "      <td>1</td>\n",
       "      <td>8</td>\n",
       "      <td>0</td>\n",
       "      <td>76.870653</td>\n",
       "      <td>26.656531</td>\n",
       "      <td>2015-07-24 00:07:36</td>\n",
       "      <td>Evenstar</td>\n",
       "      <td>Didclab-ws10</td>\n",
       "      <td>0</td>\n",
       "    </tr>\n",
       "    <tr>\n",
       "      <th>4</th>\n",
       "      <td>652486</td>\n",
       "      <td>3293</td>\n",
       "      <td>128</td>\n",
       "      <td>0.25</td>\n",
       "      <td>4194304</td>\n",
       "      <td>1</td>\n",
       "      <td>1</td>\n",
       "      <td>16</td>\n",
       "      <td>0</td>\n",
       "      <td>79.185026</td>\n",
       "      <td>25.877430</td>\n",
       "      <td>2015-07-24 00:08:03</td>\n",
       "      <td>Evenstar</td>\n",
       "      <td>Didclab-ws10</td>\n",
       "      <td>0</td>\n",
       "    </tr>\n",
       "  </tbody>\n",
       "</table>\n",
       "</div>"
      ],
      "text/plain": [
       "   file_size  number_of_files  bandwidth   rtt  buffer_size  p  cc  pp  fast  \\\n",
       "0     652486             3293        128  0.25      4194304  1   1   1     0   \n",
       "1     652486             3293        128  0.25      4194304  1   1   2     0   \n",
       "2     652486             3293        128  0.25      4194304  1   1   4     0   \n",
       "3     652486             3293        128  0.25      4194304  1   1   8     0   \n",
       "4     652486             3293        128  0.25      4194304  1   1  16     0   \n",
       "\n",
       "   throughput       time           start_time    source   destination  \\\n",
       "0   48.360560  42.371396  2015-07-24 00:05:45  Evenstar  Didclab-ws10   \n",
       "1   56.777687  36.089951  2015-07-24 00:06:27  Evenstar  Didclab-ws10   \n",
       "2   62.801374  32.628335  2015-07-24 00:07:03  Evenstar  Didclab-ws10   \n",
       "3   76.870653  26.656531  2015-07-24 00:07:36  Evenstar  Didclab-ws10   \n",
       "4   79.185026  25.877430  2015-07-24 00:08:03  Evenstar  Didclab-ws10   \n",
       "\n",
       "   artificial_bk_traffic  \n",
       "0                      0  \n",
       "1                      0  \n",
       "2                      0  \n",
       "3                      0  \n",
       "4                      0  "
      ]
     },
     "execution_count": 6,
     "metadata": {},
     "output_type": "execute_result"
    }
   ],
   "source": [
    "# read the master file : \n",
    "full_master_file_path = user_home + master_location + master_file_name\n",
    "data = pds.read_csv(full_master_file_path)\n",
    "data.head()"
   ]
  },
  {
   "cell_type": "code",
   "execution_count": 7,
   "metadata": {
    "collapsed": false
   },
   "outputs": [
    {
     "data": {
      "text/html": [
       "<div>\n",
       "<table border=\"1\" class=\"dataframe\">\n",
       "  <thead>\n",
       "    <tr style=\"text-align: right;\">\n",
       "      <th></th>\n",
       "      <th>file_size</th>\n",
       "      <th>number_of_files</th>\n",
       "      <th>bandwidth</th>\n",
       "      <th>rtt</th>\n",
       "      <th>buffer_size</th>\n",
       "      <th>p</th>\n",
       "      <th>cc</th>\n",
       "      <th>pp</th>\n",
       "      <th>fast</th>\n",
       "      <th>throughput</th>\n",
       "      <th>time</th>\n",
       "      <th>start_time</th>\n",
       "      <th>source</th>\n",
       "      <th>destination</th>\n",
       "      <th>artificial_bk_traffic</th>\n",
       "    </tr>\n",
       "  </thead>\n",
       "  <tbody>\n",
       "    <tr>\n",
       "      <th>0</th>\n",
       "      <td>652486</td>\n",
       "      <td>3293</td>\n",
       "      <td>128</td>\n",
       "      <td>0.25</td>\n",
       "      <td>4194304</td>\n",
       "      <td>1</td>\n",
       "      <td>1</td>\n",
       "      <td>1</td>\n",
       "      <td>0</td>\n",
       "      <td>48.360560</td>\n",
       "      <td>42.371396</td>\n",
       "      <td>2015-07-24 00:05:45</td>\n",
       "      <td>Evenstar</td>\n",
       "      <td>Didclab-ws10</td>\n",
       "      <td>0</td>\n",
       "    </tr>\n",
       "    <tr>\n",
       "      <th>1</th>\n",
       "      <td>652486</td>\n",
       "      <td>3293</td>\n",
       "      <td>128</td>\n",
       "      <td>0.25</td>\n",
       "      <td>4194304</td>\n",
       "      <td>1</td>\n",
       "      <td>1</td>\n",
       "      <td>2</td>\n",
       "      <td>0</td>\n",
       "      <td>56.777687</td>\n",
       "      <td>36.089951</td>\n",
       "      <td>2015-07-24 00:06:27</td>\n",
       "      <td>Evenstar</td>\n",
       "      <td>Didclab-ws10</td>\n",
       "      <td>0</td>\n",
       "    </tr>\n",
       "    <tr>\n",
       "      <th>2</th>\n",
       "      <td>652486</td>\n",
       "      <td>3293</td>\n",
       "      <td>128</td>\n",
       "      <td>0.25</td>\n",
       "      <td>4194304</td>\n",
       "      <td>1</td>\n",
       "      <td>1</td>\n",
       "      <td>4</td>\n",
       "      <td>0</td>\n",
       "      <td>62.801374</td>\n",
       "      <td>32.628335</td>\n",
       "      <td>2015-07-24 00:07:03</td>\n",
       "      <td>Evenstar</td>\n",
       "      <td>Didclab-ws10</td>\n",
       "      <td>0</td>\n",
       "    </tr>\n",
       "    <tr>\n",
       "      <th>3</th>\n",
       "      <td>652486</td>\n",
       "      <td>3293</td>\n",
       "      <td>128</td>\n",
       "      <td>0.25</td>\n",
       "      <td>4194304</td>\n",
       "      <td>1</td>\n",
       "      <td>1</td>\n",
       "      <td>8</td>\n",
       "      <td>0</td>\n",
       "      <td>76.870653</td>\n",
       "      <td>26.656531</td>\n",
       "      <td>2015-07-24 00:07:36</td>\n",
       "      <td>Evenstar</td>\n",
       "      <td>Didclab-ws10</td>\n",
       "      <td>0</td>\n",
       "    </tr>\n",
       "    <tr>\n",
       "      <th>4</th>\n",
       "      <td>652486</td>\n",
       "      <td>3293</td>\n",
       "      <td>128</td>\n",
       "      <td>0.25</td>\n",
       "      <td>4194304</td>\n",
       "      <td>1</td>\n",
       "      <td>1</td>\n",
       "      <td>16</td>\n",
       "      <td>0</td>\n",
       "      <td>79.185026</td>\n",
       "      <td>25.877430</td>\n",
       "      <td>2015-07-24 00:08:03</td>\n",
       "      <td>Evenstar</td>\n",
       "      <td>Didclab-ws10</td>\n",
       "      <td>0</td>\n",
       "    </tr>\n",
       "  </tbody>\n",
       "</table>\n",
       "</div>"
      ],
      "text/plain": [
       "  file_size number_of_files bandwidth   rtt buffer_size  p  cc  pp  fast  \\\n",
       "0    652486            3293       128  0.25     4194304  1   1   1     0   \n",
       "1    652486            3293       128  0.25     4194304  1   1   2     0   \n",
       "2    652486            3293       128  0.25     4194304  1   1   4     0   \n",
       "3    652486            3293       128  0.25     4194304  1   1   8     0   \n",
       "4    652486            3293       128  0.25     4194304  1   1  16     0   \n",
       "\n",
       "   throughput       time           start_time    source   destination  \\\n",
       "0   48.360560  42.371396  2015-07-24 00:05:45  Evenstar  Didclab-ws10   \n",
       "1   56.777687  36.089951  2015-07-24 00:06:27  Evenstar  Didclab-ws10   \n",
       "2   62.801374  32.628335  2015-07-24 00:07:03  Evenstar  Didclab-ws10   \n",
       "3   76.870653  26.656531  2015-07-24 00:07:36  Evenstar  Didclab-ws10   \n",
       "4   79.185026  25.877430  2015-07-24 00:08:03  Evenstar  Didclab-ws10   \n",
       "\n",
       "   artificial_bk_traffic  \n",
       "0                      0  \n",
       "1                      0  \n",
       "2                      0  \n",
       "3                      0  \n",
       "4                      0  "
      ]
     },
     "execution_count": 7,
     "metadata": {},
     "output_type": "execute_result"
    }
   ],
   "source": [
    "# as first five columns are data transfer requests. we can convert them into string for accurate and \n",
    "# efficient indexing. \n",
    "\n",
    "data['file_size'] = data['file_size'].astype(str)\n",
    "data['number_of_files'] = data['number_of_files'].astype(str)\n",
    "data['bandwidth'] = data['bandwidth'].astype(str)\n",
    "data['rtt'] = data['rtt'].astype(str)\n",
    "data['buffer_size'] = data['buffer_size'].astype(str)\n",
    "data.head()"
   ]
  },
  {
   "cell_type": "code",
   "execution_count": 9,
   "metadata": {
    "collapsed": false
   },
   "outputs": [
    {
     "data": {
      "text/plain": [
       "[('652486', '3293', '128', '0.25', '4194304'),\n",
       " ('10623021', '405', '128', '0.25', '4194304'),\n",
       " ('51421866', '126', '128', '0.25', '4194304'),\n",
       " ('912680960', '10', '128', '0.25', '4194304'),\n",
       " ('3131997', '3429', '1280', '80.0', '33554432'),\n",
       " ('23727255', '906', '1280', '80.0', '33554432'),\n",
       " ('132236763', '325', '1280', '80.0', '33554432'),\n",
       " ('3063322383', '34', '1280', '80.0', '33554432'),\n",
       " ('5242929', '1000', '1280', '40.0', '33554432'),\n",
       " ('26214461', '200', '1280', '40.0', '33554432'),\n",
       " ('256069', '1000', '1280', '40.0', '33554432'),\n",
       " ('256096', '128', '1280', '40.0', '33554432'),\n",
       " ('256080', '256', '1280', '40.0', '33554432'),\n",
       " ('256072', '512', '1280', '40.0', '33554432'),\n",
       " ('512069', '1000', '1280', '40.0', '33554432'),\n",
       " ('512096', '128', '1280', '40.0', '33554432'),\n",
       " ('512080', '256', '1280', '40.0', '33554432'),\n",
       " ('512072', '512', '1280', '40.0', '33554432'),\n",
       " ('1048641', '1000', '1280', '40.0', '33554432'),\n",
       " ('1048672', '128', '1280', '40.0', '33554432'),\n",
       " ('1048656', '256', '1280', '40.0', '33554432'),\n",
       " ('1048640', '512', '1280', '40.0', '33554432'),\n",
       " ('1073742080', '16', '1280', '40.0', '33554432'),\n",
       " ('3221225984', '8', '1280', '40.0', '33554432'),\n",
       " ('104857664', '64', '1280', '40.0', '33554432'),\n",
       " ('104857664', '64', '128', '0.25', '4194304'),\n",
       " ('3145760', '500', '128', '0.25', '4194304'),\n",
       " ('5242900', '200', '128', '0.25', '4194304'),\n",
       " ('15728680', '100', '128', '0.25', '4194304'),\n",
       " ('3221225984', '8', '128', '0.25', '4194304'),\n",
       " ('1073742080', '16', '128', '0.25', '4194304'),\n",
       " ('256036', '1000', '128', '0.25', '4194304'),\n",
       " ('256032', '128', '128', '0.25', '4194304'),\n",
       " ('256048', '256', '128', '0.25', '4194304'),\n",
       " ('256040', '512', '128', '0.25', '4194304'),\n",
       " ('512036', '1000', '128', '0.25', '4194304'),\n",
       " ('512032', '128', '128', '0.25', '4194304'),\n",
       " ('512048', '256', '128', '0.25', '4194304'),\n",
       " ('512040', '512', '128', '0.25', '4194304'),\n",
       " ('1048612', '1000', '128', '0.25', '4194304'),\n",
       " ('1048608', '128', '128', '0.25', '4194304'),\n",
       " ('1048624', '256', '128', '0.25', '4194304'),\n",
       " ('1048616', '512', '128', '0.25', '4194304'),\n",
       " ('3150088', '3409', '1280', '40.0', '33554432'),\n",
       " ('23553926', '912', '1280', '40.0', '33554432'),\n",
       " ('130884019', '329', '1280', '40.0', '33554432'),\n",
       " ('2873838531', '34', '1280', '40.0', '33554432'),\n",
       " ('3136594', '3424', '1280', '40.0', '33554432'),\n",
       " ('5242941', '4999', '1280', '39.0', '49920000'),\n",
       " ('3145769', '99', '1280', '39.0', '49920000'),\n",
       " ('2097213', '999', '1280', '39.0', '49920000'),\n",
       " ('5242941', '999', '1280', '39.0', '49920000'),\n",
       " ('1572923', '9999', '1280', '39.0', '49920000'),\n",
       " ('2097213', '4999', '1280', '39.0', '49920000'),\n",
       " ('3145793', '499', '1280', '39.0', '49920000'),\n",
       " ('1572923', '19999', '1280', '39.0', '49920000'),\n",
       " ('209715259', '69', '1280', '39.0', '49920000'),\n",
       " ('104857659', '69', '1280', '39.0', '49920000'),\n",
       " ('209715261', '199', '1280', '39.0', '49920000'),\n",
       " ('104857741', '29', '1280', '39.0', '49920000'),\n",
       " ('209715415', '19', '1280', '39.0', '49920000'),\n",
       " ('209715283', '49', '1280', '39.0', '49920000'),\n",
       " ('104857641', '99', '1280', '39.0', '49920000'),\n",
       " ('209715305', '39', '1280', '39.0', '49920000'),\n",
       " ('104857683', '49', '1280', '39.0', '49920000'),\n",
       " ('104857815', '19', '1280', '39.0', '49920000'),\n",
       " ('104857661', '199', '1280', '39.0', '49920000'),\n",
       " ('104857705', '39', '1280', '39.0', '49920000'),\n",
       " ('209715241', '99', '1280', '39.0', '49920000'),\n",
       " ('209715341', '29', '1280', '39.0', '49920000'),\n",
       " ('104857668', '299', '1280', '39.0', '49920000'),\n",
       " ('3137508', '3424', '1280', '32.0', '33554432'),\n",
       " ('23553931', '912', '1280', '32.0', '33554432'),\n",
       " ('130884019', '329', '1280', '32.0', '33554432'),\n",
       " ('2873838531', '34', '1280', '32.0', '33554432'),\n",
       " ('2873560967', '34', '1280', '32.0', '33554432'),\n",
       " ('3137512', '3424', '1280', '32.0', '33554432'),\n",
       " ('23553926', '912', '1280', '32.0', '33554432'),\n",
       " ('3136594', '3424', '1280', '32.0', '33554432')]"
      ]
     },
     "execution_count": 9,
     "metadata": {},
     "output_type": "execute_result"
    }
   ],
   "source": [
    "# get the unique transfers : as tuple \n",
    "transfer_requests = data[['file_size','number_of_files','bandwidth','rtt','buffer_size']]\n",
    "droped_duplicate_trans_req = transfer_requests.drop_duplicates()\n",
    "\n",
    "unique_transfers = [tuple(transfers) for transfers in droped_duplicate_trans_req.values]\n",
    "unique_transfers\n",
    "#len(unique_transfers)"
   ]
  },
  {
   "cell_type": "code",
   "execution_count": 10,
   "metadata": {
    "collapsed": true
   },
   "outputs": [],
   "source": [
    "def get_unique_values(temp_df):\n",
    "# function : get_unique_source_destination(dataframe, columns_list)    \n",
    "    \n",
    "    # drop duplicate entries:\n",
    "    drop_duplicate_items = temp_df.drop_duplicates()\n",
    "    \n",
    "    # get the unique items as tuples:\n",
    "    unique_items = [tuple(items) for items in drop_duplicate_items.values]\n",
    "    return unique_items"
   ]
  },
  {
   "cell_type": "code",
   "execution_count": 11,
   "metadata": {
    "collapsed": false
   },
   "outputs": [
    {
     "data": {
      "text/plain": [
       "[('Evenstar', 'Didclab-ws10'),\n",
       " ('Blacklight', 'Trestles'),\n",
       " ('Stampede', 'Gordon-Oasis'),\n",
       " ('Stampede', 'Blacklight')]"
      ]
     },
     "execution_count": 11,
     "metadata": {},
     "output_type": "execute_result"
    }
   ],
   "source": [
    "# get the unique destination names : as tuple \n",
    "#transfer_requests = data[['file_size','number_of_files','bandwidth','rtt','buffer_size']]\n",
    "source_destination_name = data[['source','destination']]\n",
    "droped_duplicate_sources_destinations = source_destination_name.drop_duplicates()\n",
    "\n",
    "unique_source_destination = [tuple(sources_destinations) for sources_destinations in droped_duplicate_sources_destinations.values]\n",
    "unique_source_destination"
   ]
  },
  {
   "cell_type": "markdown",
   "metadata": {
    "collapsed": true
   },
   "source": [
    "# Query : Get all transfers between XSEDE nodes:"
   ]
  },
  {
   "cell_type": "code",
   "execution_count": 12,
   "metadata": {
    "collapsed": true
   },
   "outputs": [],
   "source": [
    "# copy main data into a temporary variable :\n",
    "temp_data = data.copy(deep=True)"
   ]
  },
  {
   "cell_type": "code",
   "execution_count": 22,
   "metadata": {
    "collapsed": false
   },
   "outputs": [
    {
     "data": {
      "text/plain": [
       "(96936, 15)"
      ]
     },
     "execution_count": 22,
     "metadata": {},
     "output_type": "execute_result"
    }
   ],
   "source": [
    "# get individual ones and then combine:\n",
    "BT = temp_data[(temp_data.source == 'Blacklight') & (temp_data.destination == 'Trestles')]\n",
    "SG = temp_data[(temp_data.source == 'Stampede') & (temp_data.destination == 'Gordon-Oasis')]\n",
    "SB = temp_data[(temp_data.source == 'Stampede') & (temp_data.destination == 'Blacklight')]\n",
    "temp_xsede_data = [BT, SG, SB]\n",
    "xsede_data = pds.concat(temp_xsede_data)\n",
    "xsede_data.shape"
   ]
  },
  {
   "cell_type": "code",
   "execution_count": 27,
   "metadata": {
    "collapsed": false
   },
   "outputs": [
    {
     "data": {
      "text/html": [
       "<div>\n",
       "<table border=\"1\" class=\"dataframe\">\n",
       "  <thead>\n",
       "    <tr style=\"text-align: right;\">\n",
       "      <th></th>\n",
       "      <th>file_size</th>\n",
       "      <th>number_of_files</th>\n",
       "      <th>bandwidth</th>\n",
       "      <th>rtt</th>\n",
       "      <th>buffer_size</th>\n",
       "      <th>p</th>\n",
       "      <th>cc</th>\n",
       "      <th>pp</th>\n",
       "      <th>fast</th>\n",
       "      <th>throughput</th>\n",
       "      <th>time</th>\n",
       "      <th>start_time</th>\n",
       "      <th>source</th>\n",
       "      <th>destination</th>\n",
       "      <th>artificial_bk_traffic</th>\n",
       "    </tr>\n",
       "  </thead>\n",
       "  <tbody>\n",
       "    <tr>\n",
       "      <th>2190</th>\n",
       "      <td>3131997</td>\n",
       "      <td>3429</td>\n",
       "      <td>1280</td>\n",
       "      <td>80.0</td>\n",
       "      <td>33554432</td>\n",
       "      <td>1</td>\n",
       "      <td>1</td>\n",
       "      <td>1</td>\n",
       "      <td>0</td>\n",
       "      <td>25.187269</td>\n",
       "      <td>406.637939</td>\n",
       "      <td>2015-03-31 00:57:22</td>\n",
       "      <td>Blacklight</td>\n",
       "      <td>Trestles</td>\n",
       "      <td>0</td>\n",
       "    </tr>\n",
       "    <tr>\n",
       "      <th>2191</th>\n",
       "      <td>3131997</td>\n",
       "      <td>3429</td>\n",
       "      <td>1280</td>\n",
       "      <td>80.0</td>\n",
       "      <td>33554432</td>\n",
       "      <td>1</td>\n",
       "      <td>1</td>\n",
       "      <td>2</td>\n",
       "      <td>0</td>\n",
       "      <td>35.116388</td>\n",
       "      <td>291.661520</td>\n",
       "      <td>2015-03-31 00:04:09</td>\n",
       "      <td>Blacklight</td>\n",
       "      <td>Trestles</td>\n",
       "      <td>0</td>\n",
       "    </tr>\n",
       "    <tr>\n",
       "      <th>2192</th>\n",
       "      <td>3131997</td>\n",
       "      <td>3429</td>\n",
       "      <td>1280</td>\n",
       "      <td>80.0</td>\n",
       "      <td>33554432</td>\n",
       "      <td>1</td>\n",
       "      <td>1</td>\n",
       "      <td>4</td>\n",
       "      <td>0</td>\n",
       "      <td>23.076415</td>\n",
       "      <td>443.834042</td>\n",
       "      <td>2015-03-31 00:09:01</td>\n",
       "      <td>Blacklight</td>\n",
       "      <td>Trestles</td>\n",
       "      <td>0</td>\n",
       "    </tr>\n",
       "  </tbody>\n",
       "</table>\n",
       "</div>"
      ],
      "text/plain": [
       "     file_size number_of_files bandwidth   rtt buffer_size  p  cc  pp  fast  \\\n",
       "2190   3131997            3429      1280  80.0    33554432  1   1   1     0   \n",
       "2191   3131997            3429      1280  80.0    33554432  1   1   2     0   \n",
       "2192   3131997            3429      1280  80.0    33554432  1   1   4     0   \n",
       "\n",
       "      throughput        time           start_time      source destination  \\\n",
       "2190   25.187269  406.637939  2015-03-31 00:57:22  Blacklight    Trestles   \n",
       "2191   35.116388  291.661520  2015-03-31 00:04:09  Blacklight    Trestles   \n",
       "2192   23.076415  443.834042  2015-03-31 00:09:01  Blacklight    Trestles   \n",
       "\n",
       "      artificial_bk_traffic  \n",
       "2190                      0  \n",
       "2191                      0  \n",
       "2192                      0  "
      ]
     },
     "execution_count": 27,
     "metadata": {},
     "output_type": "execute_result"
    }
   ],
   "source": [
    "xsede_data.head(3)"
   ]
  },
  {
   "cell_type": "code",
   "execution_count": 28,
   "metadata": {
    "collapsed": false
   },
   "outputs": [
    {
     "data": {
      "text/plain": [
       "[('3131997', '3429', '1280', '80.0', '33554432'),\n",
       " ('23727255', '906', '1280', '80.0', '33554432'),\n",
       " ('132236763', '325', '1280', '80.0', '33554432'),\n",
       " ('3063322383', '34', '1280', '80.0', '33554432'),\n",
       " ('5242929', '1000', '1280', '40.0', '33554432'),\n",
       " ('26214461', '200', '1280', '40.0', '33554432'),\n",
       " ('256069', '1000', '1280', '40.0', '33554432'),\n",
       " ('256096', '128', '1280', '40.0', '33554432'),\n",
       " ('256080', '256', '1280', '40.0', '33554432'),\n",
       " ('256072', '512', '1280', '40.0', '33554432'),\n",
       " ('512069', '1000', '1280', '40.0', '33554432'),\n",
       " ('512096', '128', '1280', '40.0', '33554432'),\n",
       " ('512080', '256', '1280', '40.0', '33554432'),\n",
       " ('512072', '512', '1280', '40.0', '33554432'),\n",
       " ('1048641', '1000', '1280', '40.0', '33554432'),\n",
       " ('1048672', '128', '1280', '40.0', '33554432'),\n",
       " ('1048656', '256', '1280', '40.0', '33554432'),\n",
       " ('1048640', '512', '1280', '40.0', '33554432'),\n",
       " ('1073742080', '16', '1280', '40.0', '33554432'),\n",
       " ('3221225984', '8', '1280', '40.0', '33554432'),\n",
       " ('104857664', '64', '1280', '40.0', '33554432'),\n",
       " ('3150088', '3409', '1280', '40.0', '33554432'),\n",
       " ('23553926', '912', '1280', '40.0', '33554432'),\n",
       " ('130884019', '329', '1280', '40.0', '33554432'),\n",
       " ('2873838531', '34', '1280', '40.0', '33554432'),\n",
       " ('3136594', '3424', '1280', '40.0', '33554432'),\n",
       " ('5242941', '4999', '1280', '39.0', '49920000'),\n",
       " ('3145769', '99', '1280', '39.0', '49920000'),\n",
       " ('2097213', '999', '1280', '39.0', '49920000'),\n",
       " ('5242941', '999', '1280', '39.0', '49920000'),\n",
       " ('1572923', '9999', '1280', '39.0', '49920000'),\n",
       " ('2097213', '4999', '1280', '39.0', '49920000'),\n",
       " ('3145793', '499', '1280', '39.0', '49920000'),\n",
       " ('1572923', '19999', '1280', '39.0', '49920000'),\n",
       " ('209715259', '69', '1280', '39.0', '49920000'),\n",
       " ('104857659', '69', '1280', '39.0', '49920000'),\n",
       " ('209715261', '199', '1280', '39.0', '49920000'),\n",
       " ('104857741', '29', '1280', '39.0', '49920000'),\n",
       " ('209715415', '19', '1280', '39.0', '49920000'),\n",
       " ('209715283', '49', '1280', '39.0', '49920000'),\n",
       " ('104857641', '99', '1280', '39.0', '49920000'),\n",
       " ('209715305', '39', '1280', '39.0', '49920000'),\n",
       " ('104857683', '49', '1280', '39.0', '49920000'),\n",
       " ('104857815', '19', '1280', '39.0', '49920000'),\n",
       " ('104857661', '199', '1280', '39.0', '49920000'),\n",
       " ('104857705', '39', '1280', '39.0', '49920000'),\n",
       " ('209715241', '99', '1280', '39.0', '49920000'),\n",
       " ('209715341', '29', '1280', '39.0', '49920000'),\n",
       " ('104857668', '299', '1280', '39.0', '49920000'),\n",
       " ('3137508', '3424', '1280', '32.0', '33554432'),\n",
       " ('23553931', '912', '1280', '32.0', '33554432'),\n",
       " ('130884019', '329', '1280', '32.0', '33554432'),\n",
       " ('2873838531', '34', '1280', '32.0', '33554432'),\n",
       " ('2873560967', '34', '1280', '32.0', '33554432'),\n",
       " ('3137512', '3424', '1280', '32.0', '33554432'),\n",
       " ('23553926', '912', '1280', '32.0', '33554432'),\n",
       " ('3136594', '3424', '1280', '32.0', '33554432')]"
      ]
     },
     "execution_count": 28,
     "metadata": {},
     "output_type": "execute_result"
    }
   ],
   "source": [
    "# Get the unique thransfers in xsede data: \n",
    "def get_unique_transfers(data):\n",
    "    # get the unique transfers : as tuple \n",
    "    transfer_requests = data[['file_size','number_of_files','bandwidth','rtt','buffer_size']]\n",
    "    droped_duplicate_trans_req = transfer_requests.drop_duplicates()\n",
    "\n",
    "    unique_transfers = [tuple(transfers) for transfers in droped_duplicate_trans_req.values]\n",
    "    return unique_transfers\n",
    "xsede_unique_transfers = get_unique_transfers(xsede_data)\n",
    "xsede_unique_transfers"
   ]
  },
  {
   "cell_type": "code",
   "execution_count": null,
   "metadata": {
    "collapsed": true
   },
   "outputs": [],
   "source": []
  },
  {
   "cell_type": "code",
   "execution_count": null,
   "metadata": {
    "collapsed": true
   },
   "outputs": [],
   "source": []
  },
  {
   "cell_type": "code",
   "execution_count": null,
   "metadata": {
    "collapsed": true
   },
   "outputs": [],
   "source": []
  },
  {
   "cell_type": "code",
   "execution_count": null,
   "metadata": {
    "collapsed": true
   },
   "outputs": [],
   "source": []
  },
  {
   "cell_type": "markdown",
   "metadata": {},
   "source": [
    "# Sub-divide the xsede transfers into 4 clusters :"
   ]
  },
  {
   "cell_type": "raw",
   "metadata": {},
   "source": [
    "Cluster 1 : .25 ~ 25\n",
    "Cluster 2 :  26 ~ 100\n",
    "Cluster 3 : 101 ~ 600\n",
    "Cluster 4 : 600 ~ higher "
   ]
  },
  {
   "cell_type": "code",
   "execution_count": 33,
   "metadata": {
    "collapsed": false
   },
   "outputs": [
    {
     "data": {
      "text/html": [
       "<div>\n",
       "<table border=\"1\" class=\"dataframe\">\n",
       "  <thead>\n",
       "    <tr style=\"text-align: right;\">\n",
       "      <th></th>\n",
       "      <th>file_size</th>\n",
       "      <th>number_of_files</th>\n",
       "      <th>bandwidth</th>\n",
       "      <th>rtt</th>\n",
       "      <th>buffer_size</th>\n",
       "      <th>p</th>\n",
       "      <th>cc</th>\n",
       "      <th>pp</th>\n",
       "      <th>fast</th>\n",
       "      <th>throughput</th>\n",
       "      <th>time</th>\n",
       "      <th>start_time</th>\n",
       "      <th>source</th>\n",
       "      <th>destination</th>\n",
       "      <th>artificial_bk_traffic</th>\n",
       "    </tr>\n",
       "  </thead>\n",
       "  <tbody>\n",
       "    <tr>\n",
       "      <th>2190</th>\n",
       "      <td>3131997</td>\n",
       "      <td>3429</td>\n",
       "      <td>1280</td>\n",
       "      <td>80.0</td>\n",
       "      <td>33554432</td>\n",
       "      <td>1</td>\n",
       "      <td>1</td>\n",
       "      <td>1</td>\n",
       "      <td>0</td>\n",
       "      <td>25.187269</td>\n",
       "      <td>406.637939</td>\n",
       "      <td>2015-03-31 00:57:22</td>\n",
       "      <td>Blacklight</td>\n",
       "      <td>Trestles</td>\n",
       "      <td>0</td>\n",
       "    </tr>\n",
       "    <tr>\n",
       "      <th>2191</th>\n",
       "      <td>3131997</td>\n",
       "      <td>3429</td>\n",
       "      <td>1280</td>\n",
       "      <td>80.0</td>\n",
       "      <td>33554432</td>\n",
       "      <td>1</td>\n",
       "      <td>1</td>\n",
       "      <td>2</td>\n",
       "      <td>0</td>\n",
       "      <td>35.116388</td>\n",
       "      <td>291.661520</td>\n",
       "      <td>2015-03-31 00:04:09</td>\n",
       "      <td>Blacklight</td>\n",
       "      <td>Trestles</td>\n",
       "      <td>0</td>\n",
       "    </tr>\n",
       "    <tr>\n",
       "      <th>2192</th>\n",
       "      <td>3131997</td>\n",
       "      <td>3429</td>\n",
       "      <td>1280</td>\n",
       "      <td>80.0</td>\n",
       "      <td>33554432</td>\n",
       "      <td>1</td>\n",
       "      <td>1</td>\n",
       "      <td>4</td>\n",
       "      <td>0</td>\n",
       "      <td>23.076415</td>\n",
       "      <td>443.834042</td>\n",
       "      <td>2015-03-31 00:09:01</td>\n",
       "      <td>Blacklight</td>\n",
       "      <td>Trestles</td>\n",
       "      <td>0</td>\n",
       "    </tr>\n",
       "  </tbody>\n",
       "</table>\n",
       "</div>"
      ],
      "text/plain": [
       "     file_size number_of_files bandwidth   rtt buffer_size  p  cc  pp  fast  \\\n",
       "2190   3131997            3429      1280  80.0    33554432  1   1   1     0   \n",
       "2191   3131997            3429      1280  80.0    33554432  1   1   2     0   \n",
       "2192   3131997            3429      1280  80.0    33554432  1   1   4     0   \n",
       "\n",
       "      throughput        time           start_time      source destination  \\\n",
       "2190   25.187269  406.637939  2015-03-31 00:57:22  Blacklight    Trestles   \n",
       "2191   35.116388  291.661520  2015-03-31 00:04:09  Blacklight    Trestles   \n",
       "2192   23.076415  443.834042  2015-03-31 00:09:01  Blacklight    Trestles   \n",
       "\n",
       "      artificial_bk_traffic  \n",
       "2190                      0  \n",
       "2191                      0  \n",
       "2192                      0  "
      ]
     },
     "execution_count": 33,
     "metadata": {},
     "output_type": "execute_result"
    }
   ],
   "source": [
    "# get all the C1 files from xsede data:  \n",
    "xsede_c1 = xsede_data[(xsede_data.file_size.astype(int) <= (26*1000*1000))]\n",
    "xsede_c1.head(3)"
   ]
  },
  {
   "cell_type": "code",
   "execution_count": 32,
   "metadata": {
    "collapsed": false
   },
   "outputs": [
    {
     "data": {
      "text/html": [
       "<div>\n",
       "<table border=\"1\" class=\"dataframe\">\n",
       "  <thead>\n",
       "    <tr style=\"text-align: right;\">\n",
       "      <th></th>\n",
       "      <th>file_size</th>\n",
       "      <th>number_of_files</th>\n",
       "      <th>bandwidth</th>\n",
       "      <th>rtt</th>\n",
       "      <th>buffer_size</th>\n",
       "      <th>p</th>\n",
       "      <th>cc</th>\n",
       "      <th>pp</th>\n",
       "      <th>fast</th>\n",
       "      <th>throughput</th>\n",
       "      <th>time</th>\n",
       "      <th>start_time</th>\n",
       "      <th>source</th>\n",
       "      <th>destination</th>\n",
       "      <th>artificial_bk_traffic</th>\n",
       "    </tr>\n",
       "  </thead>\n",
       "  <tbody>\n",
       "    <tr>\n",
       "      <th>4968</th>\n",
       "      <td>26214461</td>\n",
       "      <td>200</td>\n",
       "      <td>1280</td>\n",
       "      <td>40.0</td>\n",
       "      <td>33554432</td>\n",
       "      <td>1</td>\n",
       "      <td>1</td>\n",
       "      <td>1</td>\n",
       "      <td>1</td>\n",
       "      <td>101.352009</td>\n",
       "      <td>49.333171</td>\n",
       "      <td>2014-10-30 18:57:00</td>\n",
       "      <td>Stampede</td>\n",
       "      <td>Gordon-Oasis</td>\n",
       "      <td>0</td>\n",
       "    </tr>\n",
       "    <tr>\n",
       "      <th>4969</th>\n",
       "      <td>26214461</td>\n",
       "      <td>200</td>\n",
       "      <td>1280</td>\n",
       "      <td>40.0</td>\n",
       "      <td>33554432</td>\n",
       "      <td>1</td>\n",
       "      <td>1</td>\n",
       "      <td>1</td>\n",
       "      <td>0</td>\n",
       "      <td>61.058133</td>\n",
       "      <td>81.889407</td>\n",
       "      <td>2014-10-30 18:57:49</td>\n",
       "      <td>Stampede</td>\n",
       "      <td>Gordon-Oasis</td>\n",
       "      <td>0</td>\n",
       "    </tr>\n",
       "    <tr>\n",
       "      <th>4970</th>\n",
       "      <td>26214461</td>\n",
       "      <td>200</td>\n",
       "      <td>1280</td>\n",
       "      <td>40.0</td>\n",
       "      <td>33554432</td>\n",
       "      <td>1</td>\n",
       "      <td>1</td>\n",
       "      <td>2</td>\n",
       "      <td>1</td>\n",
       "      <td>88.959301</td>\n",
       "      <td>56.205648</td>\n",
       "      <td>2014-10-30 18:59:11</td>\n",
       "      <td>Stampede</td>\n",
       "      <td>Gordon-Oasis</td>\n",
       "      <td>0</td>\n",
       "    </tr>\n",
       "  </tbody>\n",
       "</table>\n",
       "</div>"
      ],
      "text/plain": [
       "     file_size number_of_files bandwidth   rtt buffer_size  p  cc  pp  fast  \\\n",
       "4968  26214461             200      1280  40.0    33554432  1   1   1     1   \n",
       "4969  26214461             200      1280  40.0    33554432  1   1   1     0   \n",
       "4970  26214461             200      1280  40.0    33554432  1   1   2     1   \n",
       "\n",
       "      throughput       time           start_time    source   destination  \\\n",
       "4968  101.352009  49.333171  2014-10-30 18:57:00  Stampede  Gordon-Oasis   \n",
       "4969   61.058133  81.889407  2014-10-30 18:57:49  Stampede  Gordon-Oasis   \n",
       "4970   88.959301  56.205648  2014-10-30 18:59:11  Stampede  Gordon-Oasis   \n",
       "\n",
       "      artificial_bk_traffic  \n",
       "4968                      0  \n",
       "4969                      0  \n",
       "4970                      0  "
      ]
     },
     "execution_count": 32,
     "metadata": {},
     "output_type": "execute_result"
    }
   ],
   "source": [
    "# get all the C2 files from xsede data:  \n",
    "xsede_c2 = xsede_data[(xsede_data.file_size.astype(int) >= (26*1000*1000)) & \n",
    "                      (xsede_data.file_size.astype(int) <= (85*1000*1000))]\n",
    "xsede_c2.head(3)"
   ]
  },
  {
   "cell_type": "code",
   "execution_count": 34,
   "metadata": {
    "collapsed": false
   },
   "outputs": [
    {
     "data": {
      "text/html": [
       "<div>\n",
       "<table border=\"1\" class=\"dataframe\">\n",
       "  <thead>\n",
       "    <tr style=\"text-align: right;\">\n",
       "      <th></th>\n",
       "      <th>file_size</th>\n",
       "      <th>number_of_files</th>\n",
       "      <th>bandwidth</th>\n",
       "      <th>rtt</th>\n",
       "      <th>buffer_size</th>\n",
       "      <th>p</th>\n",
       "      <th>cc</th>\n",
       "      <th>pp</th>\n",
       "      <th>fast</th>\n",
       "      <th>throughput</th>\n",
       "      <th>time</th>\n",
       "      <th>start_time</th>\n",
       "      <th>source</th>\n",
       "      <th>destination</th>\n",
       "      <th>artificial_bk_traffic</th>\n",
       "    </tr>\n",
       "  </thead>\n",
       "  <tbody>\n",
       "    <tr>\n",
       "      <th>2622</th>\n",
       "      <td>132236763</td>\n",
       "      <td>325</td>\n",
       "      <td>1280</td>\n",
       "      <td>80.0</td>\n",
       "      <td>33554432</td>\n",
       "      <td>1</td>\n",
       "      <td>1</td>\n",
       "      <td>1</td>\n",
       "      <td>0</td>\n",
       "      <td>31.764421</td>\n",
       "      <td>1290.311992</td>\n",
       "      <td>2015-04-02 00:39:40</td>\n",
       "      <td>Blacklight</td>\n",
       "      <td>Trestles</td>\n",
       "      <td>0</td>\n",
       "    </tr>\n",
       "    <tr>\n",
       "      <th>2623</th>\n",
       "      <td>132236763</td>\n",
       "      <td>325</td>\n",
       "      <td>1280</td>\n",
       "      <td>80.0</td>\n",
       "      <td>33554432</td>\n",
       "      <td>1</td>\n",
       "      <td>1</td>\n",
       "      <td>2</td>\n",
       "      <td>0</td>\n",
       "      <td>30.418342</td>\n",
       "      <td>1347.411133</td>\n",
       "      <td>2015-04-02 00:01:10</td>\n",
       "      <td>Blacklight</td>\n",
       "      <td>Trestles</td>\n",
       "      <td>0</td>\n",
       "    </tr>\n",
       "    <tr>\n",
       "      <th>2624</th>\n",
       "      <td>132236763</td>\n",
       "      <td>325</td>\n",
       "      <td>1280</td>\n",
       "      <td>80.0</td>\n",
       "      <td>33554432</td>\n",
       "      <td>1</td>\n",
       "      <td>1</td>\n",
       "      <td>4</td>\n",
       "      <td>0</td>\n",
       "      <td>37.903374</td>\n",
       "      <td>1081.328882</td>\n",
       "      <td>2015-04-02 00:23:37</td>\n",
       "      <td>Blacklight</td>\n",
       "      <td>Trestles</td>\n",
       "      <td>0</td>\n",
       "    </tr>\n",
       "  </tbody>\n",
       "</table>\n",
       "</div>"
      ],
      "text/plain": [
       "      file_size number_of_files bandwidth   rtt buffer_size  p  cc  pp  fast  \\\n",
       "2622  132236763             325      1280  80.0    33554432  1   1   1     0   \n",
       "2623  132236763             325      1280  80.0    33554432  1   1   2     0   \n",
       "2624  132236763             325      1280  80.0    33554432  1   1   4     0   \n",
       "\n",
       "      throughput         time           start_time      source destination  \\\n",
       "2622   31.764421  1290.311992  2015-04-02 00:39:40  Blacklight    Trestles   \n",
       "2623   30.418342  1347.411133  2015-04-02 00:01:10  Blacklight    Trestles   \n",
       "2624   37.903374  1081.328882  2015-04-02 00:23:37  Blacklight    Trestles   \n",
       "\n",
       "      artificial_bk_traffic  \n",
       "2622                      0  \n",
       "2623                      0  \n",
       "2624                      0  "
      ]
     },
     "execution_count": 34,
     "metadata": {},
     "output_type": "execute_result"
    }
   ],
   "source": [
    "# get all the C3 files from xsede data:  \n",
    "xsede_c3 = xsede_data[(xsede_data.file_size.astype(int) >= (90*1000*1000)) & \n",
    "                      (xsede_data.file_size.astype(int) <= (700*1000*1000))]\n",
    "xsede_c3.head(3)"
   ]
  },
  {
   "cell_type": "code",
   "execution_count": 35,
   "metadata": {
    "collapsed": false
   },
   "outputs": [
    {
     "data": {
      "text/html": [
       "<div>\n",
       "<table border=\"1\" class=\"dataframe\">\n",
       "  <thead>\n",
       "    <tr style=\"text-align: right;\">\n",
       "      <th></th>\n",
       "      <th>file_size</th>\n",
       "      <th>number_of_files</th>\n",
       "      <th>bandwidth</th>\n",
       "      <th>rtt</th>\n",
       "      <th>buffer_size</th>\n",
       "      <th>p</th>\n",
       "      <th>cc</th>\n",
       "      <th>pp</th>\n",
       "      <th>fast</th>\n",
       "      <th>throughput</th>\n",
       "      <th>time</th>\n",
       "      <th>start_time</th>\n",
       "      <th>source</th>\n",
       "      <th>destination</th>\n",
       "      <th>artificial_bk_traffic</th>\n",
       "    </tr>\n",
       "  </thead>\n",
       "  <tbody>\n",
       "    <tr>\n",
       "      <th>2838</th>\n",
       "      <td>3063322383</td>\n",
       "      <td>34</td>\n",
       "      <td>1280</td>\n",
       "      <td>80.0</td>\n",
       "      <td>33554432</td>\n",
       "      <td>1</td>\n",
       "      <td>1</td>\n",
       "      <td>1</td>\n",
       "      <td>0</td>\n",
       "      <td>19.862434</td>\n",
       "      <td>5000.797314</td>\n",
       "      <td>2015-04-04 00:49:22</td>\n",
       "      <td>Blacklight</td>\n",
       "      <td>Trestles</td>\n",
       "      <td>0</td>\n",
       "    </tr>\n",
       "    <tr>\n",
       "      <th>2839</th>\n",
       "      <td>3063322383</td>\n",
       "      <td>34</td>\n",
       "      <td>1280</td>\n",
       "      <td>80.0</td>\n",
       "      <td>33554432</td>\n",
       "      <td>1</td>\n",
       "      <td>1</td>\n",
       "      <td>2</td>\n",
       "      <td>0</td>\n",
       "      <td>19.861540</td>\n",
       "      <td>5001.022274</td>\n",
       "      <td>2015-04-04 00:12:43</td>\n",
       "      <td>Blacklight</td>\n",
       "      <td>Trestles</td>\n",
       "      <td>0</td>\n",
       "    </tr>\n",
       "    <tr>\n",
       "      <th>2840</th>\n",
       "      <td>3063322383</td>\n",
       "      <td>34</td>\n",
       "      <td>1280</td>\n",
       "      <td>80.0</td>\n",
       "      <td>33554432</td>\n",
       "      <td>1</td>\n",
       "      <td>1</td>\n",
       "      <td>4</td>\n",
       "      <td>0</td>\n",
       "      <td>19.862387</td>\n",
       "      <td>5000.809055</td>\n",
       "      <td>2015-04-04 00:36:04</td>\n",
       "      <td>Blacklight</td>\n",
       "      <td>Trestles</td>\n",
       "      <td>0</td>\n",
       "    </tr>\n",
       "  </tbody>\n",
       "</table>\n",
       "</div>"
      ],
      "text/plain": [
       "       file_size number_of_files bandwidth   rtt buffer_size  p  cc  pp  fast  \\\n",
       "2838  3063322383              34      1280  80.0    33554432  1   1   1     0   \n",
       "2839  3063322383              34      1280  80.0    33554432  1   1   2     0   \n",
       "2840  3063322383              34      1280  80.0    33554432  1   1   4     0   \n",
       "\n",
       "      throughput         time           start_time      source destination  \\\n",
       "2838   19.862434  5000.797314  2015-04-04 00:49:22  Blacklight    Trestles   \n",
       "2839   19.861540  5001.022274  2015-04-04 00:12:43  Blacklight    Trestles   \n",
       "2840   19.862387  5000.809055  2015-04-04 00:36:04  Blacklight    Trestles   \n",
       "\n",
       "      artificial_bk_traffic  \n",
       "2838                      0  \n",
       "2839                      0  \n",
       "2840                      0  "
      ]
     },
     "execution_count": 35,
     "metadata": {},
     "output_type": "execute_result"
    }
   ],
   "source": [
    "# get all the C4 files from xsede data:  \n",
    "xsede_c4 = xsede_data[(xsede_data.file_size.astype(int) >= (800*1000*1000))]\n",
    "xsede_c4.head(3)"
   ]
  },
  {
   "cell_type": "code",
   "execution_count": 39,
   "metadata": {
    "collapsed": false
   },
   "outputs": [
    {
     "data": {
      "text/plain": [
       "[('132236763', '325', '1280', '80.0', '33554432'),\n",
       " ('104857664', '64', '1280', '40.0', '33554432'),\n",
       " ('130884019', '329', '1280', '40.0', '33554432'),\n",
       " ('209715259', '69', '1280', '39.0', '49920000'),\n",
       " ('104857659', '69', '1280', '39.0', '49920000'),\n",
       " ('209715261', '199', '1280', '39.0', '49920000'),\n",
       " ('104857741', '29', '1280', '39.0', '49920000'),\n",
       " ('209715415', '19', '1280', '39.0', '49920000'),\n",
       " ('209715283', '49', '1280', '39.0', '49920000'),\n",
       " ('104857641', '99', '1280', '39.0', '49920000'),\n",
       " ('209715305', '39', '1280', '39.0', '49920000'),\n",
       " ('104857683', '49', '1280', '39.0', '49920000'),\n",
       " ('104857815', '19', '1280', '39.0', '49920000'),\n",
       " ('104857661', '199', '1280', '39.0', '49920000'),\n",
       " ('104857705', '39', '1280', '39.0', '49920000'),\n",
       " ('209715241', '99', '1280', '39.0', '49920000'),\n",
       " ('209715341', '29', '1280', '39.0', '49920000'),\n",
       " ('104857668', '299', '1280', '39.0', '49920000'),\n",
       " ('130884019', '329', '1280', '32.0', '33554432')]"
      ]
     },
     "execution_count": 39,
     "metadata": {},
     "output_type": "execute_result"
    }
   ],
   "source": [
    "# Get the unique transfers for xsede c3:\n",
    "ut = get_unique_transfers(xsede_c3)\n",
    "ut"
   ]
  },
  {
   "cell_type": "code",
   "execution_count": 42,
   "metadata": {
    "collapsed": false
   },
   "outputs": [],
   "source": [
    "# seperate data with fast == 0 and fast == 1\n",
    "xsede_c3_f0 = xsede_c3[xsede_c3.fast == 0]\n",
    "xsede_c3_f1 = xsede_c3[xsede_c3.fast == 1]"
   ]
  },
  {
   "cell_type": "markdown",
   "metadata": {},
   "source": [
    "# Create lexicographical graph for medium data in xsede:"
   ]
  },
  {
   "cell_type": "code",
   "execution_count": 67,
   "metadata": {
    "collapsed": false
   },
   "outputs": [
    {
     "name": "stderr",
     "output_type": "stream",
     "text": [
      "/Users/mds/anaconda/envs/py3k/lib/python3.5/site-packages/ipykernel/__main__.py:3: PerformanceWarning: indexing past lexsort depth may impact performance.\n",
      "  app.launch_new_instance()\n"
     ]
    },
    {
     "data": {
      "text/html": [
       "<div>\n",
       "<table border=\"1\" class=\"dataframe\">\n",
       "  <thead>\n",
       "    <tr style=\"text-align: right;\">\n",
       "      <th></th>\n",
       "      <th></th>\n",
       "      <th></th>\n",
       "      <th></th>\n",
       "      <th></th>\n",
       "      <th>p</th>\n",
       "      <th>cc</th>\n",
       "      <th>pp</th>\n",
       "      <th>fast</th>\n",
       "      <th>throughput</th>\n",
       "      <th>time</th>\n",
       "      <th>start_time</th>\n",
       "      <th>source</th>\n",
       "      <th>destination</th>\n",
       "      <th>artificial_bk_traffic</th>\n",
       "    </tr>\n",
       "    <tr>\n",
       "      <th>file_size</th>\n",
       "      <th>number_of_files</th>\n",
       "      <th>bandwidth</th>\n",
       "      <th>rtt</th>\n",
       "      <th>buffer_size</th>\n",
       "      <th></th>\n",
       "      <th></th>\n",
       "      <th></th>\n",
       "      <th></th>\n",
       "      <th></th>\n",
       "      <th></th>\n",
       "      <th></th>\n",
       "      <th></th>\n",
       "      <th></th>\n",
       "      <th></th>\n",
       "    </tr>\n",
       "  </thead>\n",
       "  <tbody>\n",
       "    <tr>\n",
       "      <th rowspan=\"3\" valign=\"top\">132236763</th>\n",
       "      <th rowspan=\"3\" valign=\"top\">325</th>\n",
       "      <th rowspan=\"3\" valign=\"top\">1280</th>\n",
       "      <th rowspan=\"3\" valign=\"top\">80.0</th>\n",
       "      <th>33554432</th>\n",
       "      <td>1</td>\n",
       "      <td>1</td>\n",
       "      <td>1</td>\n",
       "      <td>0</td>\n",
       "      <td>31.764421</td>\n",
       "      <td>1290.311992</td>\n",
       "      <td>2015-04-02 00:39:40</td>\n",
       "      <td>Blacklight</td>\n",
       "      <td>Trestles</td>\n",
       "      <td>0</td>\n",
       "    </tr>\n",
       "    <tr>\n",
       "      <th>33554432</th>\n",
       "      <td>1</td>\n",
       "      <td>1</td>\n",
       "      <td>2</td>\n",
       "      <td>0</td>\n",
       "      <td>30.418342</td>\n",
       "      <td>1347.411133</td>\n",
       "      <td>2015-04-02 00:01:10</td>\n",
       "      <td>Blacklight</td>\n",
       "      <td>Trestles</td>\n",
       "      <td>0</td>\n",
       "    </tr>\n",
       "    <tr>\n",
       "      <th>33554432</th>\n",
       "      <td>1</td>\n",
       "      <td>1</td>\n",
       "      <td>4</td>\n",
       "      <td>0</td>\n",
       "      <td>37.903374</td>\n",
       "      <td>1081.328882</td>\n",
       "      <td>2015-04-02 00:23:37</td>\n",
       "      <td>Blacklight</td>\n",
       "      <td>Trestles</td>\n",
       "      <td>0</td>\n",
       "    </tr>\n",
       "  </tbody>\n",
       "</table>\n",
       "</div>"
      ],
      "text/plain": [
       "                                                      p  cc  pp  fast  \\\n",
       "file_size number_of_files bandwidth rtt  buffer_size                    \n",
       "132236763 325             1280      80.0 33554432     1   1   1     0   \n",
       "                                         33554432     1   1   2     0   \n",
       "                                         33554432     1   1   4     0   \n",
       "\n",
       "                                                      throughput         time  \\\n",
       "file_size number_of_files bandwidth rtt  buffer_size                            \n",
       "132236763 325             1280      80.0 33554432      31.764421  1290.311992   \n",
       "                                         33554432      30.418342  1347.411133   \n",
       "                                         33554432      37.903374  1081.328882   \n",
       "\n",
       "                                                               start_time  \\\n",
       "file_size number_of_files bandwidth rtt  buffer_size                        \n",
       "132236763 325             1280      80.0 33554432     2015-04-02 00:39:40   \n",
       "                                         33554432     2015-04-02 00:01:10   \n",
       "                                         33554432     2015-04-02 00:23:37   \n",
       "\n",
       "                                                          source destination  \\\n",
       "file_size number_of_files bandwidth rtt  buffer_size                           \n",
       "132236763 325             1280      80.0 33554432     Blacklight    Trestles   \n",
       "                                         33554432     Blacklight    Trestles   \n",
       "                                         33554432     Blacklight    Trestles   \n",
       "\n",
       "                                                      artificial_bk_traffic  \n",
       "file_size number_of_files bandwidth rtt  buffer_size                         \n",
       "132236763 325             1280      80.0 33554432                         0  \n",
       "                                         33554432                         0  \n",
       "                                         33554432                         0  "
      ]
     },
     "execution_count": 67,
     "metadata": {},
     "output_type": "execute_result"
    }
   ],
   "source": [
    "# We have 3 different background traffic data for : '132236763', '325', '1280', '80.0', '33554432'\n",
    "temp_xsede_c3_f0 = xsede_c3_f0.set_index(['file_size','number_of_files','bandwidth','rtt','buffer_size'])\n",
    "req_132mb_325 = temp_xsede_c3_f0.loc[('132236763', '325', '1280', '80.0', '33554432')]\n",
    "req_132mb_325.head(3)"
   ]
  },
  {
   "cell_type": "code",
   "execution_count": 93,
   "metadata": {
    "collapsed": false
   },
   "outputs": [
    {
     "data": {
      "text/plain": [
       "19"
      ]
     },
     "execution_count": 93,
     "metadata": {},
     "output_type": "execute_result"
    }
   ],
   "source": [
    "-14%33"
   ]
  },
  {
   "cell_type": "code",
   "execution_count": 70,
   "metadata": {
    "collapsed": false
   },
   "outputs": [
    {
     "data": {
      "text/plain": [
       "109"
      ]
     },
     "execution_count": 70,
     "metadata": {},
     "output_type": "execute_result"
    }
   ],
   "source": [
    "1759- 550*3"
   ]
  },
  {
   "cell_type": "code",
   "execution_count": 75,
   "metadata": {
    "collapsed": false
   },
   "outputs": [
    {
     "data": {
      "text/plain": [
       "4"
      ]
     },
     "execution_count": 75,
     "metadata": {},
     "output_type": "execute_result"
    }
   ],
   "source": [
    "109-(5*21)"
   ]
  },
  {
   "cell_type": "markdown",
   "metadata": {},
   "source": [
    "# Analysis : bitonic sequence "
   ]
  },
  {
   "cell_type": "code",
   "execution_count": null,
   "metadata": {
    "collapsed": true
   },
   "outputs": [],
   "source": [
    "import matplotlib.pyplot as plt\n",
    "%matplotlib inline"
   ]
  },
  {
   "cell_type": "code",
   "execution_count": null,
   "metadata": {
    "collapsed": false
   },
   "outputs": [],
   "source": [
    "# Figure with lexicographical order : p, cc, pp \n",
    "run0 = l_100MB_64[1:430]\n",
    "# Plot your graph:\n",
    "\n",
    "run1 = run0.copy(deep=True)\n",
    "run1['ticks'] = run1.p.astype(str) + '-' + run1.cc.astype(str) + '-' + run1.pp.astype(str)\n",
    "\n",
    "\n",
    "x_value = np.arange(1,430)\n",
    "x_value\n",
    "y_value = np.array(run1.throughput)\n",
    "y_value.shape\n",
    "tick_value = np.array(run1.ticks)\n",
    "plt.figure(figsize=(35,15))\n",
    "plt.xlabel('Parameter order - P CC PP', fontsize=40)\n",
    "plt.xticks(x_value[0:429:32], tick_value[0:429:32])\n",
    "plt.tick_params(axis='both', which='major', labelsize=30)\n",
    "plt.ylabel('Throughput (Gbps)', fontsize=40)\n",
    "plt.title('Throughput Trajectory(1) - Parameter order- P, CC, PP', fontsize=50)\n",
    "plt.plot(x_value, y_value,'-ro',)"
   ]
  },
  {
   "cell_type": "code",
   "execution_count": null,
   "metadata": {
    "collapsed": false
   },
   "outputs": [],
   "source": [
    "# Figure with lexicographical order : p, pp, cc \n",
    "run2 = run0.copy(deep=True)\n",
    "run2 = run2.reset_index()\n",
    "# rearrange the columns:\n",
    "#column_order = ['file_size', 'number_of_files', 'bandwidth', 'rtt', 'buffer_size', \n",
    "#                'pp', 'cc', 'p', 'fast', 'throughput', 'time', 'start_time', 'source', 'destination']\n",
    "#run2 = run2[column_order]\n",
    "run2 = run2.sort(['p','pp','cc'])\n",
    "column_order = ['file_size', 'number_of_files', 'bandwidth', 'rtt', 'buffer_size', \n",
    "                'p', 'pp', 'cc', 'fast', 'throughput', 'time', 'start_time', 'source', 'destination']\n",
    "run2 = run2[column_order]\n",
    "\n",
    "# plot the graph:\n",
    "\n",
    "run2['ticks'] = run2.p.astype(str) + '-' + run2.pp.astype(str) + '-' + run2.cc.astype(str)\n",
    "\n",
    "\n",
    "x_value = np.arange(1,430)\n",
    "x_value\n",
    "y_value = np.array(run2.throughput)\n",
    "y_value.shape\n",
    "tick_value = np.array(run2.ticks)\n",
    "plt.figure(figsize=(35,13))\n",
    "plt.xlabel('Parameter order - P PP CC', fontsize=40)\n",
    "plt.xticks(x_value[0:429:32], tick_value[0:429:32])\n",
    "plt.tick_params(axis='both', which='major', labelsize=30)\n",
    "plt.ylabel('Throughput (Gbps)', fontsize=40)\n",
    "plt.title('Throughput Trajectory(2) - Parameter order- P, PP, CC', fontsize=50)\n",
    "plt.plot(x_value, y_value,'-ro',)"
   ]
  },
  {
   "cell_type": "code",
   "execution_count": null,
   "metadata": {
    "collapsed": false
   },
   "outputs": [],
   "source": [
    "# Figure with lexicographical order : cc, p, pp \n",
    "run3 = run0.copy(deep=True)\n",
    "run3 = run3.reset_index()\n",
    "# rearrange the columns:\n",
    "#column_order = ['file_size', 'number_of_files', 'bandwidth', 'rtt', 'buffer_size', \n",
    "#                'pp', 'cc', 'p', 'fast', 'throughput', 'time', 'start_time', 'source', 'destination']\n",
    "#run2 = run2[column_order]\n",
    "run3 = run3.sort(['cc','p','pp'])\n",
    "column_order = ['file_size', 'number_of_files', 'bandwidth', 'rtt', 'buffer_size', \n",
    "                'cc', 'p', 'pp', 'fast', 'throughput', 'time', 'start_time', 'source', 'destination']\n",
    "run3 = run3[column_order]\n",
    "\n",
    "# plot the graph:\n",
    "\n",
    "run3['ticks'] = run3.cc.astype(str) + '-' + run3.p.astype(str) + '-' + run3.pp.astype(str)\n",
    "\n",
    "\n",
    "x_value = np.arange(1,430)\n",
    "x_value\n",
    "y_value = np.array(run3.throughput)\n",
    "y_value.shape\n",
    "tick_value = np.array(run3.ticks)\n",
    "plt.figure(figsize=(35,13))\n",
    "plt.xlabel('Parameter order - CC P PP', fontsize=40)\n",
    "plt.xticks(x_value[0:429:32], tick_value[0:429:32])\n",
    "plt.tick_params(axis='both', which='major', labelsize=30)\n",
    "plt.ylabel('Throughput (Gbps)', fontsize=40)\n",
    "plt.title('Throughput Trajectory(3) - Parameter order- CC, P, PP', fontsize=50)\n",
    "plt.plot(x_value, y_value,'-ro',)"
   ]
  },
  {
   "cell_type": "code",
   "execution_count": null,
   "metadata": {
    "collapsed": false
   },
   "outputs": [],
   "source": [
    "# Figure with lexicographical order : cc, pp, p \n",
    "run4 = run0.copy(deep=True)\n",
    "run4 = run4.reset_index()\n",
    "# rearrange the columns:\n",
    "#column_order = ['file_size', 'number_of_files', 'bandwidth', 'rtt', 'buffer_size', \n",
    "#                'pp', 'cc', 'p', 'fast', 'throughput', 'time', 'start_time', 'source', 'destination']\n",
    "#run2 = run2[column_order]\n",
    "run4 = run4.sort(['cc','pp','p'])\n",
    "column_order = ['file_size', 'number_of_files', 'bandwidth', 'rtt', 'buffer_size', \n",
    "                'cc', 'pp', 'p', 'fast', 'throughput', 'time', 'start_time', 'source', 'destination']\n",
    "run4 = run4[column_order]\n",
    "\n",
    "# plot the graph:\n",
    "\n",
    "run4['ticks'] = run4.cc.astype(str) + '-' + run4.pp.astype(str) + '-' + run4.p.astype(str)\n",
    "\n",
    "\n",
    "x_value = np.arange(1,430)\n",
    "x_value\n",
    "y_value = np.array(run4.throughput)\n",
    "y_value.shape\n",
    "tick_value = np.array(run4.ticks)\n",
    "plt.figure(figsize=(35,13))\n",
    "plt.xlabel('Parameter order - CC PP P', fontsize=40)\n",
    "plt.xticks(x_value[0:429:32], tick_value[0:429:32])\n",
    "plt.tick_params(axis='both', which='major', labelsize=30)\n",
    "plt.ylabel('Throughput (Gbps)', fontsize=40)\n",
    "plt.title('Throughput Trajectory(4) - Parameter order- CC, PP, P', fontsize=50)\n",
    "plt.plot(x_value, y_value,'-ro',)"
   ]
  },
  {
   "cell_type": "code",
   "execution_count": null,
   "metadata": {
    "collapsed": false
   },
   "outputs": [],
   "source": [
    "# Figure with lexicographical order : pp, cc, p \n",
    "run5 = run0.copy(deep=True)\n",
    "run5 = run5.reset_index()\n",
    "# rearrange the columns:\n",
    "#column_order = ['file_size', 'number_of_files', 'bandwidth', 'rtt', 'buffer_size', \n",
    "#                'pp', 'cc', 'p', 'fast', 'throughput', 'time', 'start_time', 'source', 'destination']\n",
    "#run2 = run2[column_order]\n",
    "run5 = run5.sort(['pp','cc','p'])\n",
    "column_order = ['file_size', 'number_of_files', 'bandwidth', 'rtt', 'buffer_size', \n",
    "                'pp', 'cc', 'p', 'fast', 'throughput', 'time', 'start_time', 'source', 'destination']\n",
    "run5 = run5[column_order]\n",
    "\n",
    "# plot the graph:\n",
    "\n",
    "run5['ticks'] = run5.pp.astype(str) + '-' + run5.cc.astype(str) + '-' + run5.p.astype(str)\n",
    "\n",
    "\n",
    "x_value = np.arange(1,430)\n",
    "x_value\n",
    "y_value = np.array(run5.throughput)\n",
    "y_value.shape\n",
    "tick_value = np.array(run5.ticks)\n",
    "plt.figure(figsize=(35,13))\n",
    "plt.xlabel('Parameter order - PP CC P', fontsize=40)\n",
    "plt.xticks(x_value[0:429:32], tick_value[0:429:32])\n",
    "plt.tick_params(axis='both', which='major', labelsize=30)\n",
    "plt.ylabel('Throughput (Gbps)', fontsize=40)\n",
    "plt.title('Throughput Trajectory(5) - Parameter order- PP, CC, P', fontsize=50)\n",
    "plt.plot(x_value, y_value,'-ro',)"
   ]
  },
  {
   "cell_type": "code",
   "execution_count": null,
   "metadata": {
    "collapsed": false
   },
   "outputs": [],
   "source": [
    "# Figure with lexicographical order : pp, p, cc \n",
    "run6 = run0.copy(deep=True)\n",
    "run6 = run6.reset_index()\n",
    "# rearrange the columns:\n",
    "#column_order = ['file_size', 'number_of_files', 'bandwidth', 'rtt', 'buffer_size', \n",
    "#                'pp', 'cc', 'p', 'fast', 'throughput', 'time', 'start_time', 'source', 'destination']\n",
    "#run2 = run2[column_order]\n",
    "run6 = run6.sort(['pp','p','cc'])\n",
    "column_order = ['file_size', 'number_of_files', 'bandwidth', 'rtt', 'buffer_size', \n",
    "                'pp', 'p', 'cc', 'fast', 'throughput', 'time', 'start_time', 'source', 'destination']\n",
    "run6 = run6[column_order]\n",
    "\n",
    "# plot the graph:\n",
    "\n",
    "run6['ticks'] = run6.pp.astype(str) + '-' + run6.p.astype(str) + '-' + run6.cc.astype(str)\n",
    "\n",
    "\n",
    "x_value = np.arange(1,430)\n",
    "x_value\n",
    "y_value = np.array(run6.throughput)\n",
    "y_value.shape\n",
    "tick_value = np.array(run6.ticks)\n",
    "plt.figure(figsize=(35,13))\n",
    "plt.xlabel('Parameter order - PP P CC', fontsize=40)\n",
    "plt.xticks(x_value[0:429:32], tick_value[0:429:32])\n",
    "plt.tick_params(axis='both', which='major', labelsize=30)\n",
    "plt.ylabel('Throughput (Gbps)', fontsize=40)\n",
    "plt.title('Throughput Trajectory(6) - Parameter order- PP, P, CC', fontsize=50)\n",
    "plt.plot(x_value, y_value,'-ro',)"
   ]
  },
  {
   "cell_type": "markdown",
   "metadata": {},
   "source": [
    "# Curve smoothing for all trajectories"
   ]
  },
  {
   "cell_type": "code",
   "execution_count": null,
   "metadata": {
    "collapsed": false
   },
   "outputs": [],
   "source": [
    "# running average :\n",
    "run_mov = pds.rolling_mean(run1.throughput, 30)\n",
    "run_mov = pds.rolling_mean(run_mov, 10)\n",
    "#run_mov.plot()\n",
    "# plot the graph:\n",
    "\n",
    "run1['ticks'] = run1.p.astype(str) + '-' + run1.cc.astype(str) + '-' + run1.pp.astype(str)\n",
    "\n",
    "\n",
    "x_value = np.arange(1,430)\n",
    "x_value\n",
    "y_value = np.array(run_mov)\n",
    "y_value.shape\n",
    "tick_value = np.array(run1.ticks)\n",
    "plt.figure(figsize=(35,13))\n",
    "plt.xlabel('Parameter order - P CC PP', fontsize=40)\n",
    "plt.xticks(x_value[0:429:32], tick_value[0:429:32])\n",
    "plt.tick_params(axis='both', which='major', labelsize=30)\n",
    "plt.ylabel('Throughput (Gbps)', fontsize=40)\n",
    "plt.title('Throughput Trajectory After smoothing(1) - Parameter order- P, CC, PP', fontsize=50)\n",
    "plt.plot(x_value, y_value,'-ro',)"
   ]
  },
  {
   "cell_type": "code",
   "execution_count": null,
   "metadata": {
    "collapsed": false
   },
   "outputs": [],
   "source": [
    "# running average : order p, pp, cc\n",
    "run_mov = pds.rolling_mean(run2.throughput, 30)\n",
    "run_mov = pds.rolling_mean(run_mov, 10)\n",
    "#run_mov.plot()\n",
    "# plot the graph:\n",
    "\n",
    "run2['ticks'] = run2.p.astype(str) + '-' + run2.pp.astype(str) + '-' + run2.cc.astype(str)\n",
    "\n",
    "\n",
    "x_value = np.arange(1,430)\n",
    "x_value\n",
    "y_value = np.array(run_mov)\n",
    "y_value.shape\n",
    "tick_value = np.array(run2.ticks)\n",
    "plt.figure(figsize=(35,13))\n",
    "plt.xlabel('Parameter order - P PP CC', fontsize=40)\n",
    "plt.xticks(x_value[0:429:32], tick_value[0:429:32])\n",
    "plt.tick_params(axis='both', which='major', labelsize=30)\n",
    "plt.ylabel('Throughput (Gbps)', fontsize=40)\n",
    "plt.title('Throughput Trajectory After smoothing(2) - Parameter order- P, PP, CC', fontsize=50)\n",
    "plt.plot(x_value, y_value,'-ro',)"
   ]
  },
  {
   "cell_type": "code",
   "execution_count": null,
   "metadata": {
    "collapsed": true
   },
   "outputs": [],
   "source": []
  },
  {
   "cell_type": "code",
   "execution_count": null,
   "metadata": {
    "collapsed": true
   },
   "outputs": [],
   "source": [
    "def smoothing(cc):\n",
    "    length = cc.shape\n",
    "    p = list(range(1,length[0]+1))\n",
    "    x = np.array(p)\n",
    "    fitvar = np.polyfit(x,cc,9)\n",
    "    plt.plot(x,cc,'o')\n",
    "    plt.plot(x,np.polyval(fitvar,x))"
   ]
  },
  {
   "cell_type": "code",
   "execution_count": null,
   "metadata": {
    "collapsed": true
   },
   "outputs": [],
   "source": [
    "# Spline : \n",
    "def smoothing_spline(cc):\n",
    "    length = cc.shape\n",
    "    p = list(range(1,length[0]+1))\n",
    "    x = np.array(p)\n",
    "    fitvar = splrep(x,cc,s=0)\n",
    "    plt.plot(x,cc,'o')\n",
    "    newx = np.arange(1,length[0], 0.01)\n",
    "    plt.plot(newx,splev(newx,fitvar,der=0))"
   ]
  },
  {
   "cell_type": "code",
   "execution_count": null,
   "metadata": {
    "collapsed": false
   },
   "outputs": [],
   "source": [
    "# moving average then poly regression run_mov\n",
    "smoothing(run_mov.dropna())"
   ]
  },
  {
   "cell_type": "code",
   "execution_count": null,
   "metadata": {
    "collapsed": false
   },
   "outputs": [],
   "source": [
    "# run1: polynomial regression \n",
    "smoothing(run1.throughput)"
   ]
  },
  {
   "cell_type": "code",
   "execution_count": null,
   "metadata": {
    "collapsed": false
   },
   "outputs": [],
   "source": [
    "# cubic spline fitting\n",
    "smoothing_spline(run1.throughput)"
   ]
  },
  {
   "cell_type": "code",
   "execution_count": null,
   "metadata": {
    "collapsed": false
   },
   "outputs": [],
   "source": [
    "cc1 = run1[run1.cc == 1]\n",
    "cc1_1 = cc1[1:12].throughput.plot()\n",
    "#smoothing(cc1_1)"
   ]
  },
  {
   "cell_type": "code",
   "execution_count": null,
   "metadata": {
    "collapsed": true
   },
   "outputs": [],
   "source": []
  },
  {
   "cell_type": "code",
   "execution_count": null,
   "metadata": {
    "collapsed": false,
    "scrolled": true
   },
   "outputs": [],
   "source": [
    "run1.head(5)"
   ]
  },
  {
   "cell_type": "markdown",
   "metadata": {},
   "source": [
    "# Cubic Spline for fitting:"
   ]
  },
  {
   "cell_type": "code",
   "execution_count": null,
   "metadata": {
    "collapsed": false
   },
   "outputs": [],
   "source": [
    "# moving average + spline\n",
    "cc1 = run1[(run1.cc == 1) & (run1.fast == 1)]\n",
    "cc1_1 = cc1[0:6].throughput"
   ]
  },
  {
   "cell_type": "code",
   "execution_count": null,
   "metadata": {
    "collapsed": false
   },
   "outputs": [],
   "source": []
  },
  {
   "cell_type": "code",
   "execution_count": null,
   "metadata": {
    "collapsed": false
   },
   "outputs": [],
   "source": [
    "def smoothing_with_errorbar(cc):\n",
    "    length = cc.shape\n",
    "    p = list(range(1,length[0]+1))\n",
    "    x = np.array(p)\n",
    "    fitvar = np.polyfit(x,cc,9)\n",
    "    plt.plot(x,cc,'o')\n",
    "    plt.errorbar(x,cc,yerr=[[20,30,25,78,17,20],[20,34,12,10,13,14]])\n",
    "    plt.plot(x,np.polyval(fitvar,x))\n",
    "#cc1_mov = pds.rolling_mean(cc1_1, 2)\n",
    "#smoothing_spline(cc1_mov.dropna())\n",
    "smoothing_with_errorbar(cc1_1)"
   ]
  },
  {
   "cell_type": "code",
   "execution_count": null,
   "metadata": {
    "collapsed": false
   },
   "outputs": [],
   "source": []
  },
  {
   "cell_type": "code",
   "execution_count": null,
   "metadata": {
    "collapsed": false
   },
   "outputs": [],
   "source": [
    "# Only spline\n",
    "cc2 = run1[run1.cc == 2]\n",
    "cc2_1 = cc2[0:12].throughput\n",
    "smoothing_spline(cc2_1)"
   ]
  },
  {
   "cell_type": "code",
   "execution_count": null,
   "metadata": {
    "collapsed": false
   },
   "outputs": [],
   "source": [
    "# Only spline\n",
    "cc2 = run1[run1.cc == 2]\n",
    "cc2_1 = cc2[0:12].throughput\n",
    "cc2_mov = pds.rolling_mean(cc2_1, 2)\n",
    "smoothing_spline(cc2_mov.dropna())\n",
    "#smoothing_spline(cc2_1)"
   ]
  },
  {
   "cell_type": "code",
   "execution_count": null,
   "metadata": {
    "collapsed": false
   },
   "outputs": [],
   "source": [
    "# Only spline\n",
    "cc4 = run1[run1.cc == 4]\n",
    "cc4_1 = cc4[0:12].throughput\n",
    "smoothing_spline(cc4_1)"
   ]
  },
  {
   "cell_type": "code",
   "execution_count": null,
   "metadata": {
    "collapsed": false
   },
   "outputs": [],
   "source": [
    "# Only moving avearage + spline \n",
    "cc4 = run1[run1.cc == 4]\n",
    "cc4_1 = cc4[0:12].throughput\n",
    "cc4_mov = pds.rolling_mean(cc4_1, 2)\n",
    "smoothing_spline(cc4_mov.dropna())"
   ]
  },
  {
   "cell_type": "code",
   "execution_count": null,
   "metadata": {
    "collapsed": false
   },
   "outputs": [],
   "source": [
    "cc8 = run1[run1.cc == 8]\n",
    "cc8_1 = cc8[0:12].throughput\n",
    "smoothing_spline(cc8_1)"
   ]
  },
  {
   "cell_type": "code",
   "execution_count": null,
   "metadata": {
    "collapsed": false
   },
   "outputs": [],
   "source": [
    "cc8 = run1[run1.cc == 8]\n",
    "cc8_1 = cc8[0:12].throughput\n",
    "cc8_mov = pds.rolling_mean(cc8_1, 2)\n",
    "smoothing_spline(cc8_mov.dropna())"
   ]
  },
  {
   "cell_type": "code",
   "execution_count": null,
   "metadata": {
    "collapsed": false
   },
   "outputs": [],
   "source": [
    "cc16 = run1[run1.cc == 16]\n",
    "cc16_1 = cc16[0:12].throughput\n",
    "smoothing_spline(cc16_1)"
   ]
  },
  {
   "cell_type": "code",
   "execution_count": null,
   "metadata": {
    "collapsed": false
   },
   "outputs": [],
   "source": [
    "cc16 = run1[run1.cc == 16]\n",
    "cc16_1 = cc16[0:12].throughput\n",
    "cc16_mov = pds.rolling_mean(cc16_1, 2)\n",
    "smoothing_spline(cc16_mov.dropna())"
   ]
  },
  {
   "cell_type": "code",
   "execution_count": null,
   "metadata": {
    "collapsed": false
   },
   "outputs": [],
   "source": [
    "cc32 = run1[run1.cc == 32]\n",
    "cc32_1 = cc32[0:12].throughput\n",
    "smoothing_spline(cc32_1)"
   ]
  },
  {
   "cell_type": "code",
   "execution_count": null,
   "metadata": {
    "collapsed": false
   },
   "outputs": [],
   "source": [
    "cc32 = run1[run1.cc == 32]\n",
    "cc32_1 = cc32[0:12].throughput\n",
    "cc32_mov = pds.rolling_mean(cc32_1, 2)\n",
    "smoothing_spline(cc32_mov.dropna())"
   ]
  },
  {
   "cell_type": "markdown",
   "metadata": {},
   "source": [
    "# "
   ]
  },
  {
   "cell_type": "code",
   "execution_count": null,
   "metadata": {
    "collapsed": false
   },
   "outputs": [],
   "source": [
    "\n",
    "# find all p for which cc = 32 and pp = 2\n",
    "p_value = run1[(run1.cc==32) & (run1.pp==2)]\n",
    "x_value = np.arange(1,13)\n",
    "y_value = np.array(p_value.throughput)\n",
    "x_ticks = np.arange(1,33)\n",
    "plt.plot(x_value, y_value, '--bo')\n",
    "plt.xticks(x_value, x_ticks)\n",
    "y_value.shape"
   ]
  },
  {
   "cell_type": "code",
   "execution_count": null,
   "metadata": {
    "collapsed": false
   },
   "outputs": [],
   "source": [
    "def smoothing_custom(cc):\n",
    "    length = cc.shape\n",
    "    p = list(range(1,length[0]+1))\n",
    "    x = np.array(p)\n",
    "    fitvar = splrep(x,cc,s=0)\n",
    "    plt.plot(x,cc,'o')\n",
    "    tick_value = np.arange(1,33)\n",
    "    newx = np.arange(1,length[0], 0.01)\n",
    "    plt.plot(newx,splev(newx,fitvar,der=0))\n",
    "    #plt.xticks(x[1:12:1],tick_value[1:32:4])\n",
    "pp_opt = p_value.throughput\n",
    "#cc32_mov1 = pds.rolling_mean(pp_opt, 2)\n",
    "#cc32_mov = pds.rolling_mean(cc32_mov1, 2)\n",
    "smoothing_custom(pp_opt.dropna())"
   ]
  },
  {
   "cell_type": "code",
   "execution_count": null,
   "metadata": {
    "collapsed": false
   },
   "outputs": [],
   "source": [
    "p_value"
   ]
  },
  {
   "cell_type": "code",
   "execution_count": null,
   "metadata": {
    "collapsed": false
   },
   "outputs": [],
   "source": [
    "run1.sort(['throughput']).tail()"
   ]
  },
  {
   "cell_type": "raw",
   "metadata": {
    "collapsed": true
   },
   "source": []
  },
  {
   "cell_type": "code",
   "execution_count": null,
   "metadata": {
    "collapsed": false
   },
   "outputs": [],
   "source": [
    "def find_max_bitonic(ary):\n",
    "    def recurse(low, high):\n",
    "        mid = int(low + (high - low) / 2)\n",
    "        # Handle base cases first.\n",
    "        if (high - low == 1):\n",
    "            return high\n",
    "\n",
    "        if (ary[mid] < ary[mid+1]):\n",
    "            return recurse(mid, high) # Go right.\n",
    "        else:\n",
    "            return recurse(low, mid)\n",
    "    return recurse(0, len(ary) - 1)\n",
    "\n",
    "\n",
    "    \n",
    "\n"
   ]
  },
  {
   "cell_type": "code",
   "execution_count": null,
   "metadata": {
    "collapsed": false
   },
   "outputs": [],
   "source": [
    "ary = (50,500, 45, 20, 10, 4)\n",
    "plt.plot(ary)\n",
    "maximum = find_max_bitonic(ary)\n",
    "maximum"
   ]
  },
  {
   "cell_type": "markdown",
   "metadata": {},
   "source": [
    "# 3D plot for cc and pp"
   ]
  },
  {
   "cell_type": "code",
   "execution_count": null,
   "metadata": {
    "collapsed": false
   },
   "outputs": [],
   "source": [
    "import matplotlib as mpl\n",
    "from mpl_toolkits.mplot3d import Axes3D\n",
    "import numpy as np\n",
    "import matplotlib.pyplot as plt\n",
    "\n",
    "mpl.rcParams['legend.fontsize'] = 10\n",
    "\n",
    "#plt.figure(figsize=(35,13))\n",
    "fig = plt.figure(figsize=(17,11))\n",
    "ax = fig.gca(projection='3d')\n",
    "pipe = np.array([1,2,4,8,16,32])\n",
    "conc = np.array([1,1,1,1,1,1])\n",
    "ths = np.array(cc1_1[1:12:2])\n",
    "#theta = np.linspace(-4 * np.pi, 4 * np.pi, 100)\n",
    "#z = np.linspace(-2, 2, 100)\n",
    "#r = z**2 + 1\n",
    "#x = r * np.sin(theta)\n",
    "#y = r * np.cos(theta)\n",
    "ax.plot(pipe, conc, ths, label='parametric curve')\n",
    "\n",
    "pipe = np.array([1,2,4,8,16,32])\n",
    "conc = np.array([2,2,2,2,2,2])\n",
    "ths = np.array(cc2_1[1:12:2])\n",
    "\n",
    "ax.plot(pipe, conc, ths, label='parametric curve')\n",
    "\n",
    "pipe = np.array([1,2,4,8,16,32])\n",
    "conc = np.array([4,4,4,4,4,4])\n",
    "ths = np.array(cc4_1[1:12:2])\n",
    "\n",
    "ax.plot(pipe, conc, ths, label='parametric curve')\n",
    "\n",
    "pipe = np.array([1,2,4,8,16,32])\n",
    "conc = np.array([8,8,8,8,8,8])\n",
    "ths = np.array(cc8_1[1:12:2])\n",
    "\n",
    "ax.plot(pipe, conc, ths, label='parametric curve')\n",
    "\n",
    "pipe = np.array([1,2,4,8,16,32])\n",
    "conc = np.array([16,16,16,16,16,16])\n",
    "ths = np.array(cc16_1[1:12:2])\n",
    "\n",
    "ax.plot(pipe, conc, ths, label='parametric curve')\n",
    "\n",
    "pipe = np.array([1,2,4,8,16,32])\n",
    "conc = np.array([32,32,32,32,32,32])\n",
    "ths = np.array(cc32_1[1:12:2])\n",
    "\n",
    "ax.plot(pipe, conc, ths, label='parametric curve')\n",
    "\n",
    "ax.plot_wireframe(pipe, conc, ths, rstride=1, cstride=1)\n",
    "# ax.plot_wireframe(X, Y, Z, rstride=10, cstride=10)\n",
    "#ax.legend()\n",
    "ax.set_xlabel('pp',fontsize=20)\n",
    "ax.set_ylabel('CC',fontsize=20)\n",
    "ax.set_zlabel('Throughput',fontsize=20)\n",
    "plt.show()"
   ]
  },
  {
   "cell_type": "code",
   "execution_count": null,
   "metadata": {
    "collapsed": false
   },
   "outputs": [],
   "source": [
    "from mpl_toolkits.mplot3d import axes3d\n",
    "import matplotlib.pyplot as plt\n",
    "import numpy as np\n",
    "\n",
    "fig = plt.figure()\n",
    "ax = fig.add_subplot(111, projection='3d')\n",
    "X, Y, Z = axes3d.get_test_data(0.05)\n",
    "ax.plot_wireframe(X, Y, Z, rstride=10, cstride=10)\n",
    "\n",
    "plt.show()"
   ]
  },
  {
   "cell_type": "code",
   "execution_count": null,
   "metadata": {
    "collapsed": false
   },
   "outputs": [],
   "source": [
    "X"
   ]
  },
  {
   "cell_type": "code",
   "execution_count": null,
   "metadata": {
    "collapsed": false
   },
   "outputs": [],
   "source": [
    "#!/usr/bin/env python\n",
    "import numpy as np\n",
    "import matplotlib.pyplot as plt\n",
    "\n",
    "# example data\n",
    "x = np.arange(0.1, 4, 0.5)\n",
    "y = np.exp(-x)\n",
    "\n",
    "# example variable error bar values\n",
    "yerr = 0.1 + 0.2*np.sqrt(x)\n",
    "xerr = 0.1 + yerr\n",
    "\n",
    "# First illustrate basic pyplot interface, using defaults where possible.\n",
    "plt.figure()\n",
    "#plt.errorbar(x, y, xerr=0.2, yerr=0.4)\n",
    "#plt.title(\"Simplest errorbars, 0.2 in x, 0.4 in y\")\n",
    "\n",
    "# Now switch to a more OO interface to exercise more features.\n",
    "fig, axs = plt.subplots(nrows=2, ncols=2, sharex=True)\n",
    "ax = axs[0,0]\n",
    "ax.errorbar(x, y, yerr=yerr, fmt='o')\n",
    "ax.set_title('Vert. symmetric')\n",
    "\n",
    "# With 4 subplots, reduce the number of axis ticks to avoid crowding.\n",
    "ax.locator_params(nbins=4)\n",
    "\n",
    "ax = axs[0,1]\n",
    "ax.errorbar(x, y, xerr=xerr, fmt='o')\n",
    "ax.set_title('Hor. symmetric')\n",
    "\n",
    "ax = axs[1,0]\n",
    "ax.errorbar(x, y, yerr=[yerr, 2*yerr], xerr=[xerr, 2*xerr], fmt='--o')\n",
    "ax.set_title('H, V asymmetric')\n",
    "\n",
    "ax = axs[1,1]\n",
    "ax.set_yscale('log')\n",
    "# Here we have to be careful to keep all y values positive:\n",
    "ylower = np.maximum(1e-2, y - yerr)\n",
    "yerr_lower = y - ylower\n",
    "\n",
    "ax.errorbar(x, y, yerr=[yerr_lower, 2*yerr], xerr=xerr,\n",
    "            fmt='o', ecolor='g', capthick=2)\n",
    "ax.set_title('Mixed sym., log y')\n",
    "\n",
    "fig.suptitle('Variable errorbars')\n",
    "\n",
    "plt.show()"
   ]
  },
  {
   "cell_type": "code",
   "execution_count": null,
   "metadata": {
    "collapsed": false
   },
   "outputs": [],
   "source": [
    "yerr=[yerr_lower, 2*yerr]\n",
    "yerr"
   ]
  },
  {
   "cell_type": "code",
   "execution_count": null,
   "metadata": {
    "collapsed": true
   },
   "outputs": [],
   "source": []
  },
  {
   "cell_type": "markdown",
   "metadata": {},
   "source": [
    "#  Manually analyze the large file transfers:"
   ]
  },
  {
   "cell_type": "code",
   "execution_count": null,
   "metadata": {
    "collapsed": false
   },
   "outputs": [],
   "source": [
    "# copy main data into a temporary variable :\n",
    "temp_data = data.copy(deep=True)\n",
    "temp_data.head()"
   ]
  },
  {
   "cell_type": "code",
   "execution_count": null,
   "metadata": {
    "collapsed": false
   },
   "outputs": [],
   "source": [
    "# get the unique source and destination names : as tuple \n",
    "#transfer_requests = data[['file_size','number_of_files','bandwidth','rtt','buffer_size']]\n",
    "source_name = temp_data[['source']]\n",
    "droped_duplicate_sources = source_name.drop_duplicates()\n",
    "\n",
    "unique_sources = [tuple(sources) for sources in droped_duplicate_sources.values]\n",
    "unique_sources"
   ]
  },
  {
   "cell_type": "code",
   "execution_count": null,
   "metadata": {
    "collapsed": false
   },
   "outputs": [],
   "source": [
    "# get the unique destination names : as tuple \n",
    "#transfer_requests = data[['file_size','number_of_files','bandwidth','rtt','buffer_size']]\n",
    "destination_name = temp_data[['destination']]\n",
    "droped_duplicate_destinations = destination_name.drop_duplicates()\n",
    "\n",
    "unique_destination = [tuple(destinations) for destinations in droped_duplicate_destinations.values]\n",
    "unique_destination"
   ]
  },
  {
   "cell_type": "code",
   "execution_count": null,
   "metadata": {
    "collapsed": false
   },
   "outputs": [],
   "source": [
    "# get the unique destination names : as tuple \n",
    "#transfer_requests = data[['file_size','number_of_files','bandwidth','rtt','buffer_size']]\n",
    "source_destination_name = temp_data[['source','destination']]\n",
    "droped_duplicate_sources_destinations = source_destination_name.drop_duplicates()\n",
    "\n",
    "unique_sources_destination = [tuple(sources_destinations) for sources_destinations in droped_duplicate_sources_destinations.values]\n",
    "unique_sources_destination"
   ]
  },
  {
   "cell_type": "code",
   "execution_count": null,
   "metadata": {
    "collapsed": false
   },
   "outputs": [],
   "source": [
    "# filter data based on source and destination tuple:\n",
    "# set source and destination as index:\n",
    "r = temp_data.set_index(['source','destination'])\n",
    "r.head()"
   ]
  },
  {
   "cell_type": "code",
   "execution_count": null,
   "metadata": {
    "collapsed": false
   },
   "outputs": [],
   "source": [
    "# Get the data with source = Stampede and destination = Gordon or Gordon/Oasis\n",
    "part_1 = r.loc[('Stampede', 'Gordon/Oasis')]\n",
    "#part_2 = r.loc[('Stampede', 'Gordon/oasis')]\n",
    "#part_3 = r.loc[('Stampede', 'Gordon')]\n",
    "# concatanate all three :\n",
    "stampede_gordon = pds.concat([part_1], axis=0)\n",
    "stampede_gordon.head()"
   ]
  },
  {
   "cell_type": "code",
   "execution_count": null,
   "metadata": {
    "collapsed": false
   },
   "outputs": [],
   "source": [
    "# reset the index:\n",
    "stampede_gordon = stampede_gordon.reset_index(['source','destination'])\n",
    "# reordering the columns inside the dataframe:\n",
    "column_order = ['file_size', 'number_of_files', 'bandwidth', 'rtt', 'buffer_size', \n",
    "            'p', 'cc', 'pp', 'fast', 'throughput', 'time', 'start_time', 'source', 'destination']\n",
    "stampede_gordon = stampede_gordon[column_order]\n",
    "stampede_gordon.head()"
   ]
  },
  {
   "cell_type": "markdown",
   "metadata": {},
   "source": [
    "# small file analysis: "
   ]
  },
  {
   "cell_type": "code",
   "execution_count": null,
   "metadata": {
    "collapsed": false
   },
   "outputs": [],
   "source": [
    "# get the logs with filesize in between 50MB and 250MB. \n",
    "filesize_filter_small = ((stampede_gordon.file_size.astype(int) <= (40*1000*1000))  )\n",
    "small_st_gordon = stampede_gordon[filesize_filter_small]\n",
    "small_st_gordon.head()"
   ]
  },
  {
   "cell_type": "code",
   "execution_count": null,
   "metadata": {
    "collapsed": false
   },
   "outputs": [],
   "source": [
    "# get the unique transfers : \n",
    "# get the unique transfers : as tuple \n",
    "transfer_requests = small_st_gordon[['file_size','number_of_files','bandwidth','rtt','buffer_size']]\n",
    "droped_duplicate_trans_req = transfer_requests.drop_duplicates()\n",
    "\n",
    "unique_transfers_small = [tuple(transfers) for transfers in droped_duplicate_trans_req.values]\n",
    "unique_transfers_small"
   ]
  },
  {
   "cell_type": "code",
   "execution_count": null,
   "metadata": {
    "collapsed": false
   },
   "outputs": [],
   "source": [
    "# set request param as index:\n",
    "r_small = small_st_gordon.set_index(['file_size','number_of_files','bandwidth','rtt','buffer_size'])\n",
    "r_small.head()"
   ]
  },
  {
   "cell_type": "code",
   "execution_count": null,
   "metadata": {
    "collapsed": false
   },
   "outputs": [],
   "source": [
    "# same operations for 50MB with 999 files dataset:\n",
    "l_50MB_999 = r_small.loc[('5242941', '999', '1280', '39.0', '49920000')]\n",
    "l_50MB_999 = l_50MB_999[l_50MB_999.p*l_50MB_999.cc <= 14]\n",
    "p_50MB_999 = l_50MB_999.sort_values('throughput')\n",
    "p_50MB_999.tail(25)"
   ]
  },
  {
   "cell_type": "code",
   "execution_count": null,
   "metadata": {
    "collapsed": false
   },
   "outputs": [],
   "source": [
    "p_50MB_999[(p_50MB_999.p==4) & (p_50MB_999.cc==2) & (p_50MB_999.pp == 8)]"
   ]
  },
  {
   "cell_type": "code",
   "execution_count": null,
   "metadata": {
    "collapsed": false
   },
   "outputs": [],
   "source": [
    "# same operations for 25MB with 200 files dataset:\n",
    "l_25MB_200 = r_small.loc[('26214461', '200', '1280', '40.0', '33554432')]\n",
    "l_25MB_200 = l_25MB_200[l_25MB_200.p*l_25MB_200.cc <= 16]\n",
    "p_25MB_200 = l_25MB_200.sort_values('throughput')\n",
    "p_25MB_200.tail(25)"
   ]
  },
  {
   "cell_type": "code",
   "execution_count": null,
   "metadata": {
    "collapsed": false
   },
   "outputs": [],
   "source": [
    "p_25MB_200[(p_25MB_200.p==4) & (p_25MB_200.cc==2) & (p_25MB_200.pp == 8)]"
   ]
  },
  {
   "cell_type": "code",
   "execution_count": null,
   "metadata": {
    "collapsed": false
   },
   "outputs": [],
   "source": [
    "p_25MB_200[(p_25MB_200.p==1) & (p_25MB_200.cc==8) & (p_25MB_200.pp == 32)]"
   ]
  },
  {
   "cell_type": "code",
   "execution_count": null,
   "metadata": {
    "collapsed": false
   },
   "outputs": [],
   "source": [
    "# same operations for 100MB with 299 files dataset:\n",
    "l_512KB = r_small.loc[('5242929', '1000', '1280', '40.0', '33554432')]\n",
    "l_512KB = l_512KB[l_512KB.p*l_512KB.cc <= 8]\n",
    "p_512KB = l_512KB.sort_values('throughput')\n",
    "p_512KB.tail(25)"
   ]
  },
  {
   "cell_type": "code",
   "execution_count": null,
   "metadata": {
    "collapsed": false
   },
   "outputs": [],
   "source": [
    "p_512KB[(p_512KB.p==2) & (p_512KB.cc==2) & (p_512KB.pp == 16)]"
   ]
  },
  {
   "cell_type": "markdown",
   "metadata": {},
   "source": [
    "# Medium file analysis:"
   ]
  },
  {
   "cell_type": "code",
   "execution_count": null,
   "metadata": {
    "collapsed": false
   },
   "outputs": [],
   "source": [
    "# get the logs with filesize in between 50MB and 250MB. \n",
    "filesize_filter_medium = ((stampede_gordon.file_size.astype(int) <= (200*1000*1000)) & ( stampede_gordon.file_size.astype(int) >= (45*1000*1000) ) )\n",
    "medium_st_gordon = stampede_gordon[filesize_filter_medium]\n",
    "medium_st_gordon.head()"
   ]
  },
  {
   "cell_type": "code",
   "execution_count": null,
   "metadata": {
    "collapsed": false
   },
   "outputs": [],
   "source": [
    "# get the unique transfers : \n",
    "# get the unique transfers : as tuple \n",
    "transfer_requests = medium_st_gordon[['file_size','number_of_files','bandwidth','rtt','buffer_size']]\n",
    "droped_duplicate_trans_req = transfer_requests.drop_duplicates()\n",
    "\n",
    "unique_transfers_medium = [tuple(transfers) for transfers in droped_duplicate_trans_req.values]\n",
    "unique_transfers_medium"
   ]
  },
  {
   "cell_type": "code",
   "execution_count": null,
   "metadata": {
    "collapsed": false
   },
   "outputs": [],
   "source": [
    "# set request param as index:\n",
    "r_medium = medium_st_gordon.set_index(['file_size','number_of_files','bandwidth','rtt','buffer_size'])\n",
    "r_medium.head()"
   ]
  },
  {
   "cell_type": "code",
   "execution_count": null,
   "metadata": {
    "collapsed": false
   },
   "outputs": [],
   "source": [
    "# same operations for 100MB with 69 files dataset:\n",
    "l_100MB_69 = r_medium.loc[('104857659', '69', '1280', '39.0', '49920000')]\n",
    "l_100MB_69 = l_100MB_69[l_100MB_69.p*l_100MB_69.cc <= 16]\n",
    "p_100MB_69 = l_100MB_69.sort_values('throughput')\n",
    "p_100MB_69.tail(25)"
   ]
  },
  {
   "cell_type": "code",
   "execution_count": null,
   "metadata": {
    "collapsed": false
   },
   "outputs": [],
   "source": [
    "# same operations for 130MB with 329 files dataset:\n",
    "l_130MB_329 = r_medium.loc[('130884019', '329', '1280', '40.0', '33554432')]\n",
    "l_130MB_329 = l_130MB_329[l_130MB_329.p*l_130MB_329.cc <= 16]\n",
    "p_130MB_329 = l_130MB_329.sort_values('throughput')\n",
    "p_130MB_329.tail(25)"
   ]
  },
  {
   "cell_type": "code",
   "execution_count": null,
   "metadata": {
    "collapsed": false
   },
   "outputs": [],
   "source": [
    "p_130MB_329[(p_130MB_329.p==4) & (p_130MB_329.cc==2) & (p_130MB_329.pp == 8)]"
   ]
  },
  {
   "cell_type": "code",
   "execution_count": null,
   "metadata": {
    "collapsed": false
   },
   "outputs": [],
   "source": [
    "# same operations for 100MB with 299 files dataset:\n",
    "l_100MB_299 = r_medium.loc[('104857668', '299', '1280', '39.0', '49920000')]\n",
    "l_100MB_299 = l_100MB_299[l_100MB_299.p*l_100MB_299.cc <= 16]\n",
    "p_100MB_299 = l_100MB_299.sort_values('throughput')\n",
    "p_100MB_299.tail(25)"
   ]
  },
  {
   "cell_type": "code",
   "execution_count": null,
   "metadata": {
    "collapsed": true
   },
   "outputs": [],
   "source": []
  },
  {
   "cell_type": "code",
   "execution_count": null,
   "metadata": {
    "collapsed": false
   },
   "outputs": [],
   "source": [
    "p_100MB_299[(p_100MB_299.p==4) & (p_100MB_299.cc==2) & (p_100MB_299.pp == 8)]"
   ]
  },
  {
   "cell_type": "code",
   "execution_count": null,
   "metadata": {
    "collapsed": false
   },
   "outputs": [],
   "source": [
    "# same operations for 100MB dataset:\n",
    "l_100MB = r_medium.loc[('104857664', '64', '1280', '40.0', '33554432')]\n",
    "l_100MB = l_100MB[l_100MB.p*l_100MB.cc <= 16]\n",
    "p_100MB = l_100MB.sort_values('throughput')\n",
    "p_100MB.tail(25)"
   ]
  },
  {
   "cell_type": "code",
   "execution_count": null,
   "metadata": {
    "collapsed": false
   },
   "outputs": [],
   "source": [
    "p_100MB[(p_100MB.p==4) & (p_100MB.cc==2) & (p_100MB.pp == 8)]"
   ]
  },
  {
   "cell_type": "markdown",
   "metadata": {},
   "source": [
    "# Large file analysis:"
   ]
  },
  {
   "cell_type": "code",
   "execution_count": null,
   "metadata": {
    "collapsed": false
   },
   "outputs": [],
   "source": [
    "# get the logs with filesize greater than 250MB. \n",
    "filesize_filter = (stampede_gordon.file_size.astype(int) > (200*1000*1000) )\n",
    "large_st_gordon = stampede_gordon[filesize_filter]\n",
    "large_st_gordon.head()"
   ]
  },
  {
   "cell_type": "code",
   "execution_count": null,
   "metadata": {
    "collapsed": false,
    "scrolled": true
   },
   "outputs": [],
   "source": [
    "# get the unique transfers : \n",
    "# get the unique transfers : as tuple \n",
    "transfer_requests = large_st_gordon[['file_size','number_of_files','bandwidth','rtt','buffer_size']]\n",
    "droped_duplicate_trans_req = transfer_requests.drop_duplicates()\n",
    "\n",
    "unique_transfers = [tuple(transfers) for transfers in droped_duplicate_trans_req.values]\n",
    "unique_transfers"
   ]
  },
  {
   "cell_type": "code",
   "execution_count": null,
   "metadata": {
    "collapsed": false
   },
   "outputs": [],
   "source": [
    "# set request param as index:\n",
    "r = large_st_gordon.set_index(['file_size','number_of_files','bandwidth','rtt','buffer_size'])\n",
    "r.head()"
   ]
  },
  {
   "cell_type": "code",
   "execution_count": null,
   "metadata": {
    "collapsed": false
   },
   "outputs": [],
   "source": [
    "# get the values 20 streams:\n",
    "l = r.loc[('1073742080', '16', '1280', '40.0', '33554432')]\n",
    "l = l[l.p*l.cc <= 20]\n",
    "l.head()"
   ]
  },
  {
   "cell_type": "code",
   "execution_count": null,
   "metadata": {
    "collapsed": false
   },
   "outputs": [],
   "source": [
    "p1 = l.sort_values('throughput')\n",
    "p1.tail(25)"
   ]
  },
  {
   "cell_type": "code",
   "execution_count": null,
   "metadata": {
    "collapsed": false
   },
   "outputs": [],
   "source": [
    "# find throughput for globus online:\n",
    "p1[(p1.p==8) & (p1.cc==2) & (p1.pp == 4)]"
   ]
  },
  {
   "cell_type": "code",
   "execution_count": null,
   "metadata": {
    "collapsed": false
   },
   "outputs": [],
   "source": [
    "# same operations for 3GB dataset:\n",
    "l_3GB = r.loc[('3221225984', '8', '1280', '40.0', '33554432')]\n",
    "l_3GB = l_3GB[l_3GB.p*l_3GB.cc <= 20]\n",
    "p_3GB = l_3GB.sort_values('throughput')\n",
    "p_3GB.tail(25)"
   ]
  },
  {
   "cell_type": "code",
   "execution_count": null,
   "metadata": {
    "collapsed": false
   },
   "outputs": [],
   "source": [
    "# find throughput for globus online:\n",
    "p_3GB[(p_3GB.p==8) & (p_3GB.cc==2) & (p_3GB.pp == 4)]"
   ]
  },
  {
   "cell_type": "code",
   "execution_count": null,
   "metadata": {
    "collapsed": false
   },
   "outputs": [],
   "source": [
    "# same operations for 3GB dataset:\n",
    "l_200MB = r.loc[('209715259', '69', '1280', '39.0', '49920000')]\n",
    "l_200MB = l_200MB[l_200MB.p*l_200MB.cc <= 20]\n",
    "p_200MB = l_200MB.sort_values('throughput')\n",
    "p_200MB.tail(25)"
   ]
  },
  {
   "cell_type": "code",
   "execution_count": null,
   "metadata": {
    "collapsed": false
   },
   "outputs": [],
   "source": [
    "# find throughput for globus online:\n",
    "p_200MB[(p_200MB.p==8) & (p_200MB.cc==2) & (p_200MB.pp == 4)]"
   ]
  },
  {
   "cell_type": "code",
   "execution_count": null,
   "metadata": {
    "collapsed": false
   },
   "outputs": [],
   "source": [
    "\n",
    "# same operations for 2GB dataset:\n",
    "l_2GB = r.loc[('2873838531', '34', '1280', '40.0', '33554432')]\n",
    "l_2GB = l_2GB[l_2GB.p*l_2GB.cc <= 20]\n",
    "p_2GB = l_2GB.sort_values('throughput')\n",
    "p_2GB.tail(25)"
   ]
  },
  {
   "cell_type": "code",
   "execution_count": null,
   "metadata": {
    "collapsed": false
   },
   "outputs": [],
   "source": [
    "# find throughput for globus online:\n",
    "p_2GB[(p_2GB.p==8) & (p_2GB.cc==2) & (p_2GB.pp == 4)]"
   ]
  },
  {
   "cell_type": "markdown",
   "metadata": {
    "collapsed": false
   },
   "source": [
    "# clustering data based on file requests:"
   ]
  },
  {
   "cell_type": "raw",
   "metadata": {
    "collapsed": true
   },
   "source": [
    "We will use k-means clustering for benchmarking:\n",
    "To identify the number of possible clusters we performed hierarchical clustering:\n",
    "\n",
    "\n"
   ]
  },
  {
   "cell_type": "code",
   "execution_count": null,
   "metadata": {
    "collapsed": true
   },
   "outputs": [],
   "source": [
    "# importing libraries:\n",
    "from matplotlib import pyplot as plt\n",
    "from scipy.cluster.hierarchy import dendrogram, linkage\n",
    "import numpy as np"
   ]
  },
  {
   "cell_type": "code",
   "execution_count": null,
   "metadata": {
    "collapsed": true
   },
   "outputs": [],
   "source": [
    "# some setting for this notebook to actually show the graphs inline, you probably won't need this\n",
    "%matplotlib inline\n",
    "np.set_printoptions(precision=5, suppress=True)  # suppress scientific float notation"
   ]
  },
  {
   "cell_type": "code",
   "execution_count": null,
   "metadata": {
    "collapsed": false
   },
   "outputs": [],
   "source": [
    "# get the data:\n",
    "unique_transfers[0:5]\n",
    "# preprocessing : \n",
    "# normalization: all columns between 1 to 100: (x - x_min) / (x_max - x_min)\n",
    "\n",
    "file_size_min = data.file_size.min() \n",
    "file_size_max = data.file_size.max()\n",
    "number_of_files_min = data.number_of_files.min()\n",
    "number_of_files_max = data.number_of_files.max()\n",
    "bandwidth_max = data.bandwidth.max()\n",
    "bandwidth_min = data.bandwidth.min()\n",
    "rtt_min = data.rtt.min()\n",
    "rtt_max = data.rtt.max()\n",
    "buffer_size_min = data.buffer_size.min()\n",
    "buffer_size_max = data.buffer_size.max()\n",
    "\n",
    "unique_transfers[0:5]\n",
    "\n",
    "droped_duplicate_trans_req.head()\n",
    "#droped_duplicate_trans_req.file_size = (droped_duplicate_trans_req.file_size - file_size_min) / (file_size_max -file_size_min)\n",
    "#droped_duplicate_trans_req.head()\n",
    "ndarry_data_req = droped_duplicate_trans_req.as_matrix()\n"
   ]
  },
  {
   "cell_type": "code",
   "execution_count": null,
   "metadata": {
    "collapsed": false
   },
   "outputs": [],
   "source": [
    "# generate the linkage matrix\n",
    "# we are using Ward variance minimization algorithm.\n",
    "# link: https://en.wikipedia.org/wiki/Ward%27s_method\n",
    "Z = linkage(ndarry_data_req, 'ward')  \n",
    "Z.shape"
   ]
  },
  {
   "cell_type": "code",
   "execution_count": null,
   "metadata": {
    "collapsed": false
   },
   "outputs": [],
   "source": [
    "# computing cophenetic correlation coefficient\n",
    "from scipy.cluster.hierarchy import cophenet\n",
    "from scipy.spatial.distance import pdist\n",
    "\n",
    "c, coph_dists = cophenet(Z, pdist(ndarry_data_req))\n",
    "c"
   ]
  },
  {
   "cell_type": "code",
   "execution_count": null,
   "metadata": {
    "collapsed": false
   },
   "outputs": [],
   "source": [
    "\n",
    "# calculate full dendrogram\n",
    "plt.figure(figsize=(20, 10))\n",
    "plt.title('Hierarchical Clustering Dendrogram')\n",
    "plt.xlabel('sample index')\n",
    "plt.ylabel('distance')\n",
    "dendrogram(\n",
    "    Z,\n",
    "    leaf_rotation=90.,  # rotates the x axis labels\n",
    "    leaf_font_size=10.,  # font size for the x axis labels\n",
    ")\n",
    "plt.show()"
   ]
  },
  {
   "cell_type": "code",
   "execution_count": null,
   "metadata": {
    "collapsed": false
   },
   "outputs": [],
   "source": [
    "# truncating the dendrogram: \n",
    "plt.title('Hierarchical Clustering Dendrogram (truncated)')\n",
    "plt.xlabel('sample index')\n",
    "plt.ylabel('distance')\n",
    "dendrogram(\n",
    "    Z,\n",
    "    truncate_mode='lastp',  # show only the last p merged clusters\n",
    "    p=12,  # show only the last p merged clusters\n",
    "    show_leaf_counts=False,  # otherwise numbers in brackets are counts\n",
    "    leaf_rotation=90.,\n",
    "    leaf_font_size=12.,\n",
    "    show_contracted=True,  # to get a distribution impression in truncated branches\n",
    ")\n",
    "plt.show()"
   ]
  },
  {
   "cell_type": "code",
   "execution_count": null,
   "metadata": {
    "collapsed": true
   },
   "outputs": [],
   "source": []
  },
  {
   "cell_type": "code",
   "execution_count": null,
   "metadata": {
    "collapsed": true
   },
   "outputs": [],
   "source": []
  }
 ],
 "metadata": {
  "kernelspec": {
   "display_name": "Python 3",
   "language": "python",
   "name": "python3"
  },
  "language_info": {
   "codemirror_mode": {
    "name": "ipython",
    "version": 3
   },
   "file_extension": ".py",
   "mimetype": "text/x-python",
   "name": "python",
   "nbconvert_exporter": "python",
   "pygments_lexer": "ipython3",
   "version": "3.5.1"
  }
 },
 "nbformat": 4,
 "nbformat_minor": 0
}
