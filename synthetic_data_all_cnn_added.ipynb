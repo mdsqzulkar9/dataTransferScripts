{
 "cells": [
  {
   "cell_type": "raw",
   "metadata": {
    "collapsed": true
   },
   "source": []
  },
  {
   "cell_type": "markdown",
   "metadata": {},
   "source": [
    "# Master file with exp_name:"
   ]
  },
  {
   "cell_type": "raw",
   "metadata": {
    "collapsed": true
   },
   "source": [
    "This script is actually merge all the files in clean_csv folder \n",
    "with additional columns to get the whole dataset. Now this version \n",
    "is more easier to work with as it has individual experiments. Each\n",
    "experients has individual names. So that pandas searching and slicing \n",
    "would be more easier to work with."
   ]
  },
  {
   "cell_type": "code",
   "execution_count": 1,
   "metadata": {
    "collapsed": true
   },
   "outputs": [],
   "source": [
    "# import pandas library:\n",
    "import os\n",
    "import pandas as pd\n",
    "import pylab as pyl\n",
    "import numpy as np\n",
    "from scipy.interpolate import *\n",
    "import datetime\n",
    "import matplotlib.pyplot as plt\n",
    "%matplotlib inline"
   ]
  },
  {
   "cell_type": "code",
   "execution_count": 2,
   "metadata": {
    "collapsed": false
   },
   "outputs": [
    {
     "data": {
      "text/html": [
       "<style>body {\n",
       "    margin: 0;\n",
       "    font-family: Helvetica;\n",
       "}\n",
       "table.dataframe {\n",
       "    border-collapse: collapse;\n",
       "    border: none;\n",
       "}\n",
       "table.dataframe tr {\n",
       "    border: none;\n",
       "}\n",
       "table.dataframe td, table.dataframe th {\n",
       "    margin: 0;\n",
       "    border: 1px solid white;\n",
       "    padding-left: 0.25em;\n",
       "    padding-right: 0.25em;\n",
       "}\n",
       "table.dataframe th:not(:empty) {\n",
       "    background-color: #fec;\n",
       "    text-align: left;\n",
       "    font-weight: normal;\n",
       "}\n",
       "table.dataframe tr:nth-child(2) th:empty {\n",
       "    border-left: none;\n",
       "    border-right: 1px dashed #888;\n",
       "}\n",
       "table.dataframe td {\n",
       "    border: 2px solid #ccf;\n",
       "    background-color: #f4f4ff;\n",
       "}h3 {\n",
       "    color: white;\n",
       "    background-color: black;\n",
       "    padding: 0.5em;\n",
       "}</style>"
      ],
      "text/plain": [
       "<IPython.core.display.HTML object>"
      ]
     },
     "execution_count": 2,
     "metadata": {},
     "output_type": "execute_result"
    }
   ],
   "source": [
    "# pretty dataframe :\n",
    "from IPython.core.display import HTML\n",
    "css = open('style-table.css').read() + open('style-notebook.css').read()\n",
    "HTML('<style>{}</style>'.format(css))"
   ]
  },
  {
   "cell_type": "code",
   "execution_count": 3,
   "metadata": {
    "collapsed": true
   },
   "outputs": [],
   "source": [
    "# Control variables: \n",
    "\n",
    "\n",
    "# master dataset location:\n",
    "master_location = 'Dropbox/gits/data/ThOpt/clean_csv/'\n",
    "\n",
    "# master file name : \n",
    "#file_name = 'ex4_EDData.csv'\n",
    "#file_name_med = 'ex2_enDataSG_2T.csv'\n",
    "#file_name_large = 'ex2_enDataSG_1T.csv'"
   ]
  },
  {
   "cell_type": "markdown",
   "metadata": {},
   "source": [
    "# Functions:"
   ]
  },
  {
   "cell_type": "code",
   "execution_count": 4,
   "metadata": {
    "collapsed": true
   },
   "outputs": [],
   "source": [
    "def change_type(df, col, dtype):\n",
    "    # This function change the column datatype\n",
    "    # df - main data frame - type: dataframe\n",
    "    # col - columns that you want to change data type - type: list\n",
    "    # dtype - new column type - type: list\n",
    "    # col and dtype must be equal in length\n",
    "\n",
    "    if len(col) != len(dtype):\n",
    "        print(\"col and dtype must be equal\")\n",
    "        return df\n",
    "    for col,n_type in zip(col,dtype):\n",
    "        df[col] = df[col].astype(n_type)\n",
    "\n",
    "    return df"
   ]
  },
  {
   "cell_type": "code",
   "execution_count": 5,
   "metadata": {
    "collapsed": true
   },
   "outputs": [],
   "source": [
    "def find_unique_transfers(df, \n",
    "                          args = ['file_size','number_of_files','bandwidth','rtt','buffer_size']):\n",
    "    # find unique transfers:\n",
    "    # df - main dataframe\n",
    "    # args - list of columns you want for uniqueness\n",
    "\n",
    "    # get the unique transfers : as tuple \n",
    "    transfer_requests = df[args]\n",
    "    droped_duplicate_trans_req = transfer_requests.drop_duplicates()\n",
    "\n",
    "    unique_transfers = [tuple(transfers) for transfers in droped_duplicate_trans_req.values]\n",
    "    return unique_transfers"
   ]
  },
  {
   "cell_type": "code",
   "execution_count": 6,
   "metadata": {
    "collapsed": true
   },
   "outputs": [],
   "source": [
    "def plot_runs_1D(df, bk_tr, runs,colors,sort_order):\n",
    "    # This function plots runs\n",
    "    # df - main dataframe, type: dataframe\n",
    "    # bk_tr - background traffic type\n",
    "    # runs - list of runs you want to plot, type: List\n",
    "    # colors - list of colors for the graphs\n",
    "    # length of colors must be equal to (bk_tr X runs)\n",
    "    # sort_order - order of params, type: list. (for example 'p-cc-pp','pp-cc-p')\n",
    "    # \n",
    "    \n",
    "    if len(colors) != (len(bk_tr) * len(runs)) :\n",
    "        print(\"length of colors must be equal to (bk_tr X runs)\")\n",
    "        return\n",
    "    \n",
    "    \n",
    "    plt.figure(figsize=(35,13))\n",
    "    \n",
    "    df = df.sort(sort_order)\n",
    "    x_label = 'Parameter order - ' + sort_order[0] +', '+ sort_order[1] + ', ' + sort_order[2]\n",
    "    plt.xlabel(x_label, fontsize=40)\n",
    "    plt.ylabel('Throughput (Gbps)', fontsize=40)\n",
    "    title = 'Throughput Trajectory(4) - Parameter order - '+ sort_order[0] +', '+ sort_order[1] + ', ' + sort_order[2]\n",
    "    plt.title(title, fontsize=50)\n",
    "\n",
    "    #df = df.sort(['cc','p','pp'])\n",
    "    color_count = 0\n",
    "    for bk in bk_tr:\n",
    "        bk_data = df[df.background == bk]\n",
    "        for run in runs:\n",
    "            run_data = bk_data[bk_data.run_id == run]\n",
    "            num_rows = run_data.shape[0]\n",
    "            #df_list.append(run_data)\n",
    "            run_data['ticks'] = run_data[sort_order[0]].astype(str) + '-' \\\n",
    "                                + run_data[sort_order[1]].astype(str) + '-' \\\n",
    "                                + run_data[sort_order[2]].astype(str)\n",
    "\n",
    "\n",
    "            x_value = np.arange(1,num_rows+1)\n",
    "            x_value\n",
    "            y_value = np.array(run_data.throughput)\n",
    "            y_value.shape\n",
    "            tick_value = np.array(run_data.ticks)\n",
    "\n",
    "            plt.xticks(x_value[0:(num_rows+1):32], tick_value[0:(num_rows+1):32])\n",
    "            plt.tick_params(axis='both', which='major', labelsize=30)\n",
    "\n",
    "            plt.plot(x_value, y_value,colors[color_count],)\n",
    "            color_count = color_count + 1\n",
    "    plt.show()"
   ]
  },
  {
   "cell_type": "markdown",
   "metadata": {},
   "source": [
    "# Read and merge data files:"
   ]
  },
  {
   "cell_type": "code",
   "execution_count": 7,
   "metadata": {
    "collapsed": false
   },
   "outputs": [
    {
     "name": "stdout",
     "output_type": "stream",
     "text": [
      "ex1_sg0.25-1M.csv   ex1_sg5-25M.csv     ex2_enDataSb_1T.csv ex4_EDData.csv\r\n",
      "ex1_sg100M.csv      ex2_enDataSG.csv    ex3_SBData.csv\r\n",
      "ex1_sg1G.csv        ex2_enDataSG_1T.csv ex3_SGData.csv\r\n",
      "ex1_sg3G.csv        ex2_enDataSG_2T.csv ex4_BTData.csv\r\n"
     ]
    }
   ],
   "source": [
    "!ls ~/Dropbox/gits/data/ThOpt/clean_csv/"
   ]
  },
  {
   "cell_type": "code",
   "execution_count": 8,
   "metadata": {
    "collapsed": false
   },
   "outputs": [],
   "source": [
    "# required values :\n",
    "\n",
    "# OS file seperator: \n",
    "file_seperator = os.sep\n",
    "\n",
    "\n",
    "# User OS home directory:\n",
    "user_home = os.environ['HOME']\n",
    "user_home = user_home+file_seperator\n",
    "#user_home"
   ]
  },
  {
   "cell_type": "code",
   "execution_count": 9,
   "metadata": {
    "collapsed": false
   },
   "outputs": [
    {
     "data": {
      "text/plain": [
       "['ex1_sg0.25-1M.csv',\n",
       " 'ex1_sg100M.csv',\n",
       " 'ex1_sg1G.csv',\n",
       " 'ex1_sg3G.csv',\n",
       " 'ex1_sg5-25M.csv',\n",
       " 'ex2_enDataSG.csv',\n",
       " 'ex2_enDataSG_1T.csv',\n",
       " 'ex2_enDataSG_2T.csv',\n",
       " 'ex2_enDataSb_1T.csv',\n",
       " 'ex3_SBData.csv',\n",
       " 'ex3_SGData.csv',\n",
       " 'ex4_BTData.csv',\n",
       " 'ex4_EDData.csv']"
      ]
     },
     "execution_count": 9,
     "metadata": {},
     "output_type": "execute_result"
    }
   ],
   "source": [
    "log_files_path = user_home + master_location\n",
    "list_of_logs = os.listdir(log_files_path)\n",
    "list_of_logs"
   ]
  },
  {
   "cell_type": "code",
   "execution_count": 10,
   "metadata": {
    "collapsed": false,
    "scrolled": false
   },
   "outputs": [
    {
     "name": "stdout",
     "output_type": "stream",
     "text": [
      "ex1_sg0.25-1M.csv\n",
      "ex1_sg100M.csv\n",
      "ex1_sg1G.csv\n",
      "ex1_sg3G.csv\n",
      "ex1_sg5-25M.csv\n",
      "ex2_enDataSG.csv\n",
      "ex2_enDataSG_1T.csv\n",
      "ex2_enDataSG_2T.csv\n",
      "ex2_enDataSb_1T.csv\n",
      "ex3_SBData.csv\n",
      "ex3_SGData.csv\n",
      "ex4_BTData.csv\n",
      "ex4_EDData.csv\n"
     ]
    },
    {
     "data": {
      "text/plain": [
       "(92583, 18)"
      ]
     },
     "execution_count": 10,
     "metadata": {},
     "output_type": "execute_result"
    }
   ],
   "source": [
    "file_list = []\n",
    "for file_path in list_of_logs:\n",
    "    print(file_path)\n",
    "    url = user_home + master_location + file_path\n",
    "    temp_data = pd.read_csv(url)\n",
    "    \n",
    "    file_list.append(temp_data)\n",
    "data = pd.concat(file_list, ignore_index=True) \n",
    "data.shape"
   ]
  },
  {
   "cell_type": "code",
   "execution_count": 11,
   "metadata": {
    "collapsed": false
   },
   "outputs": [
    {
     "data": {
      "text/plain": [
       "array(['exp_1', 'exp_2_background_traffic', 'exp_3_engin', 'exp_3_kemal',\n",
       "       'exp_4_BT', 'exp_4_ED'], dtype=object)"
      ]
     },
     "execution_count": 11,
     "metadata": {},
     "output_type": "execute_result"
    }
   ],
   "source": [
    "# See all the experiments:\n",
    "data.exp_name.unique()"
   ]
  },
  {
   "cell_type": "code",
   "execution_count": 12,
   "metadata": {
    "collapsed": false,
    "scrolled": true
   },
   "outputs": [
    {
     "data": {
      "text/html": [
       "<div>\n",
       "<table border=\"1\" class=\"dataframe\">\n",
       "  <thead>\n",
       "    <tr style=\"text-align: right;\">\n",
       "      <th></th>\n",
       "      <th>file_size</th>\n",
       "      <th>number_of_files</th>\n",
       "      <th>bandwidth</th>\n",
       "      <th>rtt</th>\n",
       "      <th>buffer_size</th>\n",
       "      <th>p</th>\n",
       "      <th>cc</th>\n",
       "      <th>pp</th>\n",
       "      <th>fast</th>\n",
       "      <th>throughput</th>\n",
       "      <th>time_needed</th>\n",
       "      <th>date</th>\n",
       "      <th>time</th>\n",
       "      <th>source</th>\n",
       "      <th>destination</th>\n",
       "      <th>run_id</th>\n",
       "      <th>background</th>\n",
       "      <th>exp_name</th>\n",
       "    </tr>\n",
       "  </thead>\n",
       "  <tbody>\n",
       "    <tr>\n",
       "      <th>0</th>\n",
       "      <td>256069</td>\n",
       "      <td>1000</td>\n",
       "      <td>10000</td>\n",
       "      <td>0.04</td>\n",
       "      <td>33554432</td>\n",
       "      <td>1</td>\n",
       "      <td>1</td>\n",
       "      <td>1</td>\n",
       "      <td>1</td>\n",
       "      <td>53.622316</td>\n",
       "      <td>36.433726</td>\n",
       "      <td>11/13/14</td>\n",
       "      <td>07:36.2</td>\n",
       "      <td>Stampede</td>\n",
       "      <td>Gordon/Oasis</td>\n",
       "      <td>1</td>\n",
       "      <td>0</td>\n",
       "      <td>exp_1</td>\n",
       "    </tr>\n",
       "    <tr>\n",
       "      <th>1</th>\n",
       "      <td>256069</td>\n",
       "      <td>1000</td>\n",
       "      <td>10000</td>\n",
       "      <td>0.04</td>\n",
       "      <td>33554432</td>\n",
       "      <td>1</td>\n",
       "      <td>1</td>\n",
       "      <td>1</td>\n",
       "      <td>0</td>\n",
       "      <td>65.436956</td>\n",
       "      <td>29.855622</td>\n",
       "      <td>11/13/14</td>\n",
       "      <td>08:12.7</td>\n",
       "      <td>Stampede</td>\n",
       "      <td>Gordon/Oasis</td>\n",
       "      <td>1</td>\n",
       "      <td>0</td>\n",
       "      <td>exp_1</td>\n",
       "    </tr>\n",
       "    <tr>\n",
       "      <th>2</th>\n",
       "      <td>256069</td>\n",
       "      <td>1000</td>\n",
       "      <td>10000</td>\n",
       "      <td>0.04</td>\n",
       "      <td>33554432</td>\n",
       "      <td>1</td>\n",
       "      <td>1</td>\n",
       "      <td>2</td>\n",
       "      <td>1</td>\n",
       "      <td>94.712707</td>\n",
       "      <td>20.627214</td>\n",
       "      <td>11/13/14</td>\n",
       "      <td>08:42.5</td>\n",
       "      <td>Stampede</td>\n",
       "      <td>Gordon/Oasis</td>\n",
       "      <td>1</td>\n",
       "      <td>0</td>\n",
       "      <td>exp_1</td>\n",
       "    </tr>\n",
       "    <tr>\n",
       "      <th>3</th>\n",
       "      <td>256069</td>\n",
       "      <td>1000</td>\n",
       "      <td>10000</td>\n",
       "      <td>0.04</td>\n",
       "      <td>33554432</td>\n",
       "      <td>1</td>\n",
       "      <td>1</td>\n",
       "      <td>2</td>\n",
       "      <td>0</td>\n",
       "      <td>100.561361</td>\n",
       "      <td>19.427579</td>\n",
       "      <td>11/13/14</td>\n",
       "      <td>09:03.1</td>\n",
       "      <td>Stampede</td>\n",
       "      <td>Gordon/Oasis</td>\n",
       "      <td>1</td>\n",
       "      <td>0</td>\n",
       "      <td>exp_1</td>\n",
       "    </tr>\n",
       "    <tr>\n",
       "      <th>4</th>\n",
       "      <td>256069</td>\n",
       "      <td>1000</td>\n",
       "      <td>10000</td>\n",
       "      <td>0.04</td>\n",
       "      <td>33554432</td>\n",
       "      <td>1</td>\n",
       "      <td>1</td>\n",
       "      <td>4</td>\n",
       "      <td>1</td>\n",
       "      <td>159.132638</td>\n",
       "      <td>12.276979</td>\n",
       "      <td>11/13/14</td>\n",
       "      <td>09:22.6</td>\n",
       "      <td>Stampede</td>\n",
       "      <td>Gordon/Oasis</td>\n",
       "      <td>1</td>\n",
       "      <td>0</td>\n",
       "      <td>exp_1</td>\n",
       "    </tr>\n",
       "  </tbody>\n",
       "</table>\n",
       "</div>"
      ],
      "text/plain": [
       "   file_size  number_of_files  bandwidth   rtt  buffer_size  p  cc  pp  fast  \\\n",
       "0     256069             1000      10000  0.04     33554432  1   1   1     1   \n",
       "1     256069             1000      10000  0.04     33554432  1   1   1     0   \n",
       "2     256069             1000      10000  0.04     33554432  1   1   2     1   \n",
       "3     256069             1000      10000  0.04     33554432  1   1   2     0   \n",
       "4     256069             1000      10000  0.04     33554432  1   1   4     1   \n",
       "\n",
       "   throughput  time_needed      date     time    source   destination  run_id  \\\n",
       "0   53.622316    36.433726  11/13/14  07:36.2  Stampede  Gordon/Oasis       1   \n",
       "1   65.436956    29.855622  11/13/14  08:12.7  Stampede  Gordon/Oasis       1   \n",
       "2   94.712707    20.627214  11/13/14  08:42.5  Stampede  Gordon/Oasis       1   \n",
       "3  100.561361    19.427579  11/13/14  09:03.1  Stampede  Gordon/Oasis       1   \n",
       "4  159.132638    12.276979  11/13/14  09:22.6  Stampede  Gordon/Oasis       1   \n",
       "\n",
       "   background exp_name  \n",
       "0           0    exp_1  \n",
       "1           0    exp_1  \n",
       "2           0    exp_1  \n",
       "3           0    exp_1  \n",
       "4           0    exp_1  "
      ]
     },
     "execution_count": 12,
     "metadata": {},
     "output_type": "execute_result"
    }
   ],
   "source": [
    "data[\"destination\"] = data[\"destination\"].replace(['Gordon/oasis','Gordon'],'Gordon/Oasis')\n",
    "data.head()"
   ]
  },
  {
   "cell_type": "code",
   "execution_count": 16,
   "metadata": {
    "collapsed": false
   },
   "outputs": [
    {
     "data": {
      "text/plain": [
       "array(['Stampede', 'Blacklight', 'Evenstar'], dtype=object)"
      ]
     },
     "execution_count": 16,
     "metadata": {},
     "output_type": "execute_result"
    }
   ],
   "source": [
    "# Get the sources:\n",
    "data[\"source\"].unique()"
   ]
  },
  {
   "cell_type": "code",
   "execution_count": 17,
   "metadata": {
    "collapsed": false
   },
   "outputs": [
    {
     "data": {
      "text/plain": [
       "array(['Gordon/Oasis', 'Blacklight', 'Trestles', 'Didclab-ws10'], dtype=object)"
      ]
     },
     "execution_count": 17,
     "metadata": {},
     "output_type": "execute_result"
    }
   ],
   "source": [
    "# Get the destinations:\n",
    "data['destination'].unique()"
   ]
  },
  {
   "cell_type": "code",
   "execution_count": 19,
   "metadata": {
    "collapsed": false
   },
   "outputs": [],
   "source": [
    "small = data[(data.exp_name == 'exp_1')]"
   ]
  },
  {
   "cell_type": "code",
   "execution_count": 20,
   "metadata": {
    "collapsed": false
   },
   "outputs": [
    {
     "data": {
      "text/plain": [
       "[(256069.0, 1000.0, 10000.0, 0.040000000000000001, 33554432.0),\n",
       " (256096.0, 128.0, 10000.0, 0.040000000000000001, 33554432.0),\n",
       " (256080.0, 256.0, 10000.0, 0.040000000000000001, 33554432.0),\n",
       " (256072.0, 512.0, 10000.0, 0.040000000000000001, 33554432.0),\n",
       " (512069.0, 1000.0, 10000.0, 0.040000000000000001, 33554432.0),\n",
       " (512096.0, 128.0, 10000.0, 0.040000000000000001, 33554432.0),\n",
       " (512080.0, 256.0, 10000.0, 0.040000000000000001, 33554432.0),\n",
       " (512072.0, 512.0, 10000.0, 0.040000000000000001, 33554432.0),\n",
       " (1048641.0, 1000.0, 10000.0, 0.040000000000000001, 33554432.0),\n",
       " (1048672.0, 128.0, 10000.0, 0.040000000000000001, 33554432.0),\n",
       " (1048656.0, 256.0, 10000.0, 0.040000000000000001, 33554432.0),\n",
       " (1048640.0, 512.0, 10000.0, 0.040000000000000001, 33554432.0),\n",
       " (104857664.0, 64.0, 10000.0, 0.040000000000000001, 33554432.0),\n",
       " (1073742080.0, 16.0, 10000.0, 0.040000000000000001, 33554432.0),\n",
       " (3221225984.0, 8.0, 10000.0, 0.040000000000000001, 33554432.0),\n",
       " (5242929.0, 1000.0, 10000.0, 0.040000000000000001, 33554432.0),\n",
       " (26214461.0, 200.0, 10000.0, 0.040000000000000001, 33554432.0)]"
      ]
     },
     "execution_count": 20,
     "metadata": {},
     "output_type": "execute_result"
    }
   ],
   "source": [
    "uf = find_unique_transfers(small)\n",
    "uf"
   ]
  },
  {
   "cell_type": "code",
   "execution_count": 22,
   "metadata": {
    "collapsed": false
   },
   "outputs": [],
   "source": [
    "small = small.set_index(['file_size','number_of_files','bandwidth','rtt','buffer_size'])"
   ]
  },
  {
   "cell_type": "code",
   "execution_count": 24,
   "metadata": {
    "collapsed": false
   },
   "outputs": [],
   "source": [
    "c = small.loc([(512069.0, 1000.0, 10000.0, 0.040000000000000001, 33554432.0)])"
   ]
  },
  {
   "cell_type": "code",
   "execution_count": 26,
   "metadata": {
    "collapsed": false
   },
   "outputs": [
    {
     "ename": "AttributeError",
     "evalue": "'_LocIndexer' object has no attribute 'head'",
     "output_type": "error",
     "traceback": [
      "\u001b[0;31m---------------------------------------------------------------------------\u001b[0m",
      "\u001b[0;31mAttributeError\u001b[0m                            Traceback (most recent call last)",
      "\u001b[0;32m<ipython-input-26-2c4d44adc012>\u001b[0m in \u001b[0;36m<module>\u001b[0;34m()\u001b[0m\n\u001b[0;32m----> 1\u001b[0;31m \u001b[0mc\u001b[0m\u001b[0;34m.\u001b[0m\u001b[0mhead\u001b[0m\u001b[0;34m(\u001b[0m\u001b[0;34m)\u001b[0m\u001b[0;34m\u001b[0m\u001b[0m\n\u001b[0m",
      "\u001b[0;31mAttributeError\u001b[0m: '_LocIndexer' object has no attribute 'head'"
     ]
    }
   ],
   "source": []
  },
  {
   "cell_type": "code",
   "execution_count": null,
   "metadata": {
    "collapsed": true
   },
   "outputs": [],
   "source": []
  },
  {
   "cell_type": "code",
   "execution_count": null,
   "metadata": {
    "collapsed": true
   },
   "outputs": [],
   "source": []
  },
  {
   "cell_type": "code",
   "execution_count": null,
   "metadata": {
    "collapsed": true
   },
   "outputs": [],
   "source": []
  },
  {
   "cell_type": "code",
   "execution_count": null,
   "metadata": {
    "collapsed": true
   },
   "outputs": [],
   "source": []
  },
  {
   "cell_type": "code",
   "execution_count": 13,
   "metadata": {
    "collapsed": false
   },
   "outputs": [
    {
     "data": {
      "text/plain": [
       "[(256069.0, 1000.0, 10000.0, 0.040000000000000001, 33554432.0),\n",
       " (256096.0, 128.0, 10000.0, 0.040000000000000001, 33554432.0),\n",
       " (256080.0, 256.0, 10000.0, 0.040000000000000001, 33554432.0),\n",
       " (256072.0, 512.0, 10000.0, 0.040000000000000001, 33554432.0),\n",
       " (512069.0, 1000.0, 10000.0, 0.040000000000000001, 33554432.0),\n",
       " (512096.0, 128.0, 10000.0, 0.040000000000000001, 33554432.0),\n",
       " (512080.0, 256.0, 10000.0, 0.040000000000000001, 33554432.0),\n",
       " (512072.0, 512.0, 10000.0, 0.040000000000000001, 33554432.0),\n",
       " (1048641.0, 1000.0, 10000.0, 0.040000000000000001, 33554432.0),\n",
       " (1048672.0, 128.0, 10000.0, 0.040000000000000001, 33554432.0),\n",
       " (1048656.0, 256.0, 10000.0, 0.040000000000000001, 33554432.0),\n",
       " (1048640.0, 512.0, 10000.0, 0.040000000000000001, 33554432.0),\n",
       " (104857664.0, 64.0, 10000.0, 0.040000000000000001, 33554432.0),\n",
       " (1073742080.0, 16.0, 10000.0, 0.040000000000000001, 33554432.0),\n",
       " (3221225984.0, 8.0, 10000.0, 0.040000000000000001, 33554432.0),\n",
       " (5242929.0, 1000.0, 10000.0, 0.040000000000000001, 33554432.0),\n",
       " (26214461.0, 200.0, 10000.0, 0.040000000000000001, 33554432.0),\n",
       " (3150088.0, 3409.0, 10000000000.0, 0.040000000000000001, 33554432.0),\n",
       " (23553926.0, 912.0, 10000000000.0, 0.040000000000000001, 33554432.0),\n",
       " (130884019.0, 329.0, 10000000000.0, 0.040000000000000001, 33554432.0),\n",
       " (2873838531.0, 34.0, 10000000000.0, 0.040000000000000001, 33554432.0),\n",
       " (3136594.0, 3424.0, 10000000000.0, 0.040000000000000001, 33554432.0),\n",
       " (3137508.0, 3424.0, 10000000000.0, 0.040000000000000001, 33554432.0),\n",
       " (23553931.0, 912.0, 10000000000.0, 0.040000000000000001, 33554432.0),\n",
       " (2873560967.0, 34.0, 10000000000.0, 0.040000000000000001, 33554432.0),\n",
       " (3137512.0, 3424.0, 10000000000.0, 0.040000000000000001, 33554432.0),\n",
       " (3137508.0, 3424.0, 10000000000.0, 0.044000000000000004, 33554432.0),\n",
       " (23553931.0, 912.0, 10000000000.0, 0.044000000000000004, 33554432.0),\n",
       " (130884019.0, 329.0, 10000000000.0, 0.044000000000000004, 33554432.0),\n",
       " (2873838531.0, 34.0, 10000000000.0, 0.044000000000000004, 33554432.0),\n",
       " (3136594.0, 3424.0, 10000000000.0, 0.044000000000000004, 33554432.0),\n",
       " (23553926.0, 912.0, 10000000000.0, 0.044000000000000004, 33554432.0),\n",
       " (3131997.0, 3429.0, 10000.0, 0.080000000000000002, 33554432.0),\n",
       " (23727255.0, 906.0, 10000.0, 0.080000000000000002, 33554432.0),\n",
       " (132236763.0, 325.0, 10000.0, 0.080000000000000002, 33554432.0),\n",
       " (3063322383.0, 34.0, 10000.0, 0.080000000000000002, 33554432.0),\n",
       " (652486.0, 3293.0, 1000000000.0, 0.00020000000000000001, 4194304.0),\n",
       " (10623021.0, 405.0, 1000000000.0, 0.00020000000000000001, 4194304.0),\n",
       " (51421866.0, 126.0, 1000000000.0, 0.00020000000000000001, 4194304.0),\n",
       " (912680960.0, 10.0, 1000000000.0, 0.00020000000000000001, 4194304.0)]"
      ]
     },
     "execution_count": 13,
     "metadata": {},
     "output_type": "execute_result"
    }
   ],
   "source": [
    "find_unique_transfers(data)"
   ]
  },
  {
   "cell_type": "markdown",
   "metadata": {},
   "source": [
    "# Get exp_2 data:"
   ]
  },
  {
   "cell_type": "code",
   "execution_count": 14,
   "metadata": {
    "collapsed": true
   },
   "outputs": [],
   "source": [
    "exp_2 = data[data.exp_name == \"exp_2_background_traffic\"]"
   ]
  },
  {
   "cell_type": "code",
   "execution_count": 15,
   "metadata": {
    "collapsed": false
   },
   "outputs": [
    {
     "name": "stderr",
     "output_type": "stream",
     "text": [
      "/Users/mds/anaconda/envs/deep_learning/lib/python3.6/site-packages/ipykernel/__main__.py:12: SettingWithCopyWarning: \n",
      "A value is trying to be set on a copy of a slice from a DataFrame.\n",
      "Try using .loc[row_indexer,col_indexer] = value instead\n",
      "\n",
      "See the caveats in the documentation: http://pandas.pydata.org/pandas-docs/stable/indexing.html#indexing-view-versus-copy\n",
      "/Users/mds/anaconda/envs/deep_learning/lib/python3.6/site-packages/ipykernel/__main__.py:18: FutureWarning: sort(columns=....) is deprecated, use sort_values(by=.....)\n",
      "/Users/mds/anaconda/envs/deep_learning/lib/python3.6/site-packages/ipykernel/__main__.py:33: SettingWithCopyWarning: \n",
      "A value is trying to be set on a copy of a slice from a DataFrame.\n",
      "Try using .loc[row_indexer,col_indexer] = value instead\n",
      "\n",
      "See the caveats in the documentation: http://pandas.pydata.org/pandas-docs/stable/indexing.html#indexing-view-versus-copy\n"
     ]
    },
    {
     "data": {
      "image/png": "[encoded data removed]",
      "text/plain": [
       "<matplotlib.figure.Figure at 0x119794898>"
      ]
     },
     "metadata": {},
     "output_type": "display_data"
    }
   ],
   "source": [
    "# get the small data and only transfer from gordon and stampede:\n",
    "temp_exp2 = change_type(exp_2, [\"file_size\"], [\"int\"])\n",
    "exp_2_small = temp_exp2[(temp_exp2.file_size < 10000000) & (temp_exp2.destination == 'Gordon/Oasis') ] \n",
    "\n",
    "bk_traffic = [0,1,2]\n",
    "runs = [2]\n",
    "colors = ['ro','ro','ro']\n",
    "sort_order = ['cc','p','pp']\n",
    "plot_runs_1D(exp_2_small,bk_traffic,runs,colors, sort_order)"
   ]
  },
  {
   "cell_type": "code",
   "execution_count": null,
   "metadata": {
    "collapsed": true
   },
   "outputs": [],
   "source": []
  },
  {
   "cell_type": "markdown",
   "metadata": {},
   "source": [
    "# Get all data and perform CNN:"
   ]
  },
  {
   "cell_type": "code",
   "execution_count": null,
   "metadata": {
    "collapsed": false
   },
   "outputs": [],
   "source": [
    "temp_data = data.copy(deep=True)"
   ]
  },
  {
   "cell_type": "code",
   "execution_count": null,
   "metadata": {
    "collapsed": false
   },
   "outputs": [],
   "source": [
    "args = ['file_size', 'number_of_files', 'bandwidth', 'rtt', 'buffer_size','source', 'destination','run_id', 'background']\n",
    "unique_req = find_unique_transfers(temp_data, args)\n",
    "num_reqs = len(find_unique_transfers(temp_data, args))"
   ]
  },
  {
   "cell_type": "code",
   "execution_count": null,
   "metadata": {
    "collapsed": false,
    "scrolled": true
   },
   "outputs": [],
   "source": [
    "temp_data = temp_data.set_index(args)\n",
    "temp_data.head()"
   ]
  },
  {
   "cell_type": "markdown",
   "metadata": {},
   "source": [
    "## Make Ndarray for CNN:"
   ]
  },
  {
   "cell_type": "code",
   "execution_count": null,
   "metadata": {
    "collapsed": false
   },
   "outputs": [],
   "source": [
    "# make each request a matrix of ndarray \n",
    "# with all requests make 264 * 32 * 32 matrix\n",
    "m = 32\n",
    "n = 32\n",
    "x = num_reqs\n",
    "\n",
    "mat = np.zeros([x,m+1,n+1])\n",
    "mat_y = np.zeros(x)\n",
    "req_count = 0\n",
    "for req in unique_req:\n",
    "    current_req = temp_data.loc[req]\n",
    "    current_req = current_req.reset_index()\n",
    "    for index, row in current_req.iterrows():\n",
    "        mat[req_count, row.p, row.cc] = row.throughput\n",
    "        run_id = row.run_id\n",
    "    mat_y[req_count] = run_id\n",
    "    req_count = req_count + 1\n",
    "        "
   ]
  },
  {
   "cell_type": "markdown",
   "metadata": {},
   "source": [
    "# Core CNN code:"
   ]
  },
  {
   "cell_type": "code",
   "execution_count": null,
   "metadata": {
    "collapsed": false
   },
   "outputs": [],
   "source": [
    "\n",
    "import theano \n",
    "import warnings\n",
    "\n",
    "from keras.models import Sequential\n",
    "from keras.layers import Dense, Dropout, Activation, Flatten\n",
    "from keras.layers import Convolution2D, MaxPooling2D\n",
    "from keras.utils import np_utils\n",
    "from keras.datasets import mnist"
   ]
  },
  {
   "cell_type": "code",
   "execution_count": null,
   "metadata": {
    "collapsed": false
   },
   "outputs": [],
   "source": [
    "# split data for training and testing: \n",
    "training_idx = np.random.randint(mat.shape[0], size=220)\n",
    "test_idx = np.random.randint(mat.shape[0], size=44)\n",
    "X_train, X_test = mat[training_idx,:], mat[test_idx,:]\n",
    "y_train = mat_y[training_idx]\n",
    "y_test = mat_y[test_idx]"
   ]
  },
  {
   "cell_type": "code",
   "execution_count": null,
   "metadata": {
    "collapsed": false
   },
   "outputs": [],
   "source": [
    "X_train.shape"
   ]
  },
  {
   "cell_type": "code",
   "execution_count": null,
   "metadata": {
    "collapsed": false
   },
   "outputs": [],
   "source": [
    "X_train = X_train.reshape(X_train.shape[0], 1, 33, 33)\n",
    "X_test = X_test.reshape(X_test.shape[0], 1, 33, 33)\n",
    "X_train = X_train.astype('float32')\n",
    "X_test = X_test.astype('float32')\n",
    "X_train /= 255\n",
    "X_test /= 255"
   ]
  },
  {
   "cell_type": "code",
   "execution_count": null,
   "metadata": {
    "collapsed": false
   },
   "outputs": [],
   "source": [
    "Y_train = np_utils.to_categorical(y_train, 12)\n",
    "Y_test = np_utils.to_categorical(y_test, 12)"
   ]
  },
  {
   "cell_type": "code",
   "execution_count": null,
   "metadata": {
    "collapsed": false
   },
   "outputs": [],
   "source": [
    "# 7. Define model architecture\n",
    "model = Sequential()\n",
    "model.add(Convolution2D(32, 3, 3, activation='relu', input_shape=(1,33,33), \n",
    "                        dim_ordering='th'))\n",
    "#model.add(Convolution2D(32, 3, 3, activation='relu', input_shape=(1,28,28)))\n",
    "model.add(Convolution2D(32, 3, 3, activation='relu'))\n",
    "model.add(Convolution2D(32, 3, 3, activation='relu'))\n",
    "model.add(MaxPooling2D(pool_size=(2,2)))\n",
    "model.add(Dropout(0.25))\n",
    "\n",
    "model.add(Flatten())\n",
    "model.add(Dense(128, activation='relu'))\n",
    "model.add(Dropout(0.5))\n",
    "model.add(Dense(12, activation='softmax'))\n",
    "model.summary()"
   ]
  },
  {
   "cell_type": "code",
   "execution_count": null,
   "metadata": {
    "collapsed": true
   },
   "outputs": [],
   "source": [
    "# 8. Compile model\n",
    "model.compile(loss='categorical_crossentropy',\n",
    "              optimizer='adam',\n",
    "              metrics=['accuracy'])"
   ]
  },
  {
   "cell_type": "code",
   "execution_count": null,
   "metadata": {
    "collapsed": false
   },
   "outputs": [],
   "source": [
    "# 9. Fit model on training data\n",
    "model.fit(X_train, Y_train, \n",
    "          batch_size=32, nb_epoch=400, verbose=1)"
   ]
  },
  {
   "cell_type": "code",
   "execution_count": null,
   "metadata": {
    "collapsed": true
   },
   "outputs": [],
   "source": [
    "# 10. Evaluate model on test data\n",
    "score = model.evaluate(X_test, Y_test, verbose=0)"
   ]
  },
  {
   "cell_type": "code",
   "execution_count": null,
   "metadata": {
    "collapsed": false
   },
   "outputs": [],
   "source": [
    "score"
   ]
  },
  {
   "cell_type": "code",
   "execution_count": null,
   "metadata": {
    "collapsed": true
   },
   "outputs": [],
   "source": []
  },
  {
   "cell_type": "code",
   "execution_count": null,
   "metadata": {
    "collapsed": true
   },
   "outputs": [],
   "source": []
  },
  {
   "cell_type": "code",
   "execution_count": null,
   "metadata": {
    "collapsed": true
   },
   "outputs": [],
   "source": []
  },
  {
   "cell_type": "code",
   "execution_count": null,
   "metadata": {
    "collapsed": true
   },
   "outputs": [],
   "source": []
  },
  {
   "cell_type": "code",
   "execution_count": null,
   "metadata": {
    "collapsed": true
   },
   "outputs": [],
   "source": [
    "suffled_data = data.sample(frac=1)"
   ]
  },
  {
   "cell_type": "code",
   "execution_count": null,
   "metadata": {
    "collapsed": false
   },
   "outputs": [],
   "source": [
    "suffled_data.reset_index(drop=True)"
   ]
  },
  {
   "cell_type": "code",
   "execution_count": null,
   "metadata": {
    "collapsed": true
   },
   "outputs": [],
   "source": [
    "del suffled_data[\"run_id\"]"
   ]
  },
  {
   "cell_type": "code",
   "execution_count": null,
   "metadata": {
    "collapsed": true
   },
   "outputs": [],
   "source": [
    "del suffled_data[\"fast\"]"
   ]
  },
  {
   "cell_type": "code",
   "execution_count": null,
   "metadata": {
    "collapsed": false
   },
   "outputs": [],
   "source": [
    "suffled_data.head()"
   ]
  },
  {
   "cell_type": "code",
   "execution_count": null,
   "metadata": {
    "collapsed": true
   },
   "outputs": [],
   "source": [
    "suffled_data.to_csv(\"logs_mixed_traffic_3runs.csv\",index=False)"
   ]
  },
  {
   "cell_type": "code",
   "execution_count": null,
   "metadata": {
    "collapsed": true
   },
   "outputs": [],
   "source": []
  },
  {
   "cell_type": "code",
   "execution_count": null,
   "metadata": {
    "collapsed": true
   },
   "outputs": [],
   "source": []
  },
  {
   "cell_type": "code",
   "execution_count": null,
   "metadata": {
    "collapsed": true
   },
   "outputs": [],
   "source": []
  },
  {
   "cell_type": "code",
   "execution_count": null,
   "metadata": {
    "collapsed": true
   },
   "outputs": [],
   "source": []
  },
  {
   "cell_type": "code",
   "execution_count": null,
   "metadata": {
    "collapsed": true
   },
   "outputs": [],
   "source": []
  },
  {
   "cell_type": "code",
   "execution_count": null,
   "metadata": {
    "collapsed": true
   },
   "outputs": [],
   "source": []
  }
 ],
 "metadata": {
  "anaconda-cloud": {},
  "kernelspec": {
   "display_name": "Python [conda env:deep_learning]",
   "language": "python",
   "name": "conda-env-deep_learning-py"
  },
  "language_info": {
   "codemirror_mode": {
    "name": "ipython",
    "version": 3
   },
   "file_extension": ".py",
   "mimetype": "text/x-python",
   "name": "python",
   "nbconvert_exporter": "python",
   "pygments_lexer": "ipython3",
   "version": "3.6.0"
  }
 },
 "nbformat": 4,
 "nbformat_minor": 2
}
