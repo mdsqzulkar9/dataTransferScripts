{
 "cells": [
  {
   "cell_type": "raw",
   "metadata": {
    "collapsed": true
   },
   "source": []
  },
  {
   "cell_type": "markdown",
   "metadata": {},
   "source": [
    "# Master file with exp_name:"
   ]
  },
  {
   "cell_type": "raw",
   "metadata": {
    "collapsed": true
   },
   "source": [
    "This script is actually merge all the files in clean_csv folder \n",
    "with additional columns to get the whole dataset. Now this version \n",
    "is more easier to work with as it has individual experiments. Each\n",
    "experients has individual names. So that pandas searching and slicing \n",
    "would be more easier to work with."
   ]
  },
  {
   "cell_type": "code",
   "execution_count": 1,
   "metadata": {
    "collapsed": true
   },
   "outputs": [],
   "source": [
    "# import pandas library:\n",
    "import os\n",
    "import pandas as pd\n",
    "import pylab as pyl\n",
    "import numpy as np\n",
    "from scipy.interpolate import *\n",
    "import datetime\n",
    "import matplotlib.pyplot as plt\n",
    "%matplotlib inline"
   ]
  },
  {
   "cell_type": "code",
   "execution_count": 2,
   "metadata": {
    "collapsed": false
   },
   "outputs": [
    {
     "data": {
      "text/html": [
       "<style>body {\n",
       "    margin: 0;\n",
       "    font-family: Helvetica;\n",
       "}\n",
       "table.dataframe {\n",
       "    border-collapse: collapse;\n",
       "    border: none;\n",
       "}\n",
       "table.dataframe tr {\n",
       "    border: none;\n",
       "}\n",
       "table.dataframe td, table.dataframe th {\n",
       "    margin: 0;\n",
       "    border: 1px solid white;\n",
       "    padding-left: 0.25em;\n",
       "    padding-right: 0.25em;\n",
       "}\n",
       "table.dataframe th:not(:empty) {\n",
       "    background-color: #fec;\n",
       "    text-align: left;\n",
       "    font-weight: normal;\n",
       "}\n",
       "table.dataframe tr:nth-child(2) th:empty {\n",
       "    border-left: none;\n",
       "    border-right: 1px dashed #888;\n",
       "}\n",
       "table.dataframe td {\n",
       "    border: 2px solid #ccf;\n",
       "    background-color: #f4f4ff;\n",
       "}h3 {\n",
       "    color: white;\n",
       "    background-color: black;\n",
       "    padding: 0.5em;\n",
       "}</style>"
      ],
      "text/plain": [
       "<IPython.core.display.HTML object>"
      ]
     },
     "execution_count": 2,
     "metadata": {},
     "output_type": "execute_result"
    }
   ],
   "source": [
    "# pretty dataframe :\n",
    "from IPython.core.display import HTML\n",
    "css = open('style-table.css').read() + open('style-notebook.css').read()\n",
    "HTML('<style>{}</style>'.format(css))"
   ]
  },
  {
   "cell_type": "code",
   "execution_count": 3,
   "metadata": {
    "collapsed": true
   },
   "outputs": [],
   "source": [
    "# Control variables: \n",
    "\n",
    "\n",
    "# master dataset location:\n",
    "master_location = 'Dropbox/gits/data/ThOpt/clean_csv/'\n",
    "\n",
    "# master file name : \n",
    "#file_name = 'ex4_EDData.csv'\n",
    "#file_name_med = 'ex2_enDataSG_2T.csv'\n",
    "#file_name_large = 'ex2_enDataSG_1T.csv'"
   ]
  },
  {
   "cell_type": "markdown",
   "metadata": {},
   "source": [
    "# Functions:"
   ]
  },
  {
   "cell_type": "code",
   "execution_count": 4,
   "metadata": {
    "collapsed": true
   },
   "outputs": [],
   "source": [
    "def change_type(df, col, dtype):\n",
    "    # This function change the column datatype\n",
    "    # df - main data frame - type: dataframe\n",
    "    # col - columns that you want to change data type - type: list\n",
    "    # dtype - new column type - type: list\n",
    "    # col and dtype must be equal in length\n",
    "\n",
    "    if len(col) != len(dtype):\n",
    "        print(\"col and dtype must be equal\")\n",
    "        return df\n",
    "    for col,n_type in zip(col,dtype):\n",
    "        df[col] = df[col].astype(n_type)\n",
    "\n",
    "    return df"
   ]
  },
  {
   "cell_type": "code",
   "execution_count": 5,
   "metadata": {
    "collapsed": true
   },
   "outputs": [],
   "source": [
    "def find_unique_transfers(df, \n",
    "                          args = ['file_size','number_of_files','bandwidth','rtt','buffer_size']):\n",
    "    # find unique transfers:\n",
    "    # df - main dataframe\n",
    "    # args - list of columns you want for uniqueness\n",
    "\n",
    "    # get the unique transfers : as tuple \n",
    "    transfer_requests = df[args]\n",
    "    droped_duplicate_trans_req = transfer_requests.drop_duplicates()\n",
    "\n",
    "    unique_transfers = [tuple(transfers) for transfers in droped_duplicate_trans_req.values]\n",
    "    return unique_transfers"
   ]
  },
  {
   "cell_type": "code",
   "execution_count": 6,
   "metadata": {
    "collapsed": true
   },
   "outputs": [],
   "source": [
    "def plot_runs_1D(df, bk_tr, runs,colors,sort_order):\n",
    "    # This function plots runs\n",
    "    # df - main dataframe, type: dataframe\n",
    "    # bk_tr - background traffic type\n",
    "    # runs - list of runs you want to plot, type: List\n",
    "    # colors - list of colors for the graphs\n",
    "    # length of colors must be equal to (bk_tr X runs)\n",
    "    # sort_order - order of params, type: list. (for example 'p-cc-pp','pp-cc-p')\n",
    "    # \n",
    "    \n",
    "    if len(colors) != (len(bk_tr) * len(runs)) :\n",
    "        print(\"length of colors must be equal to (bk_tr X runs)\")\n",
    "        return\n",
    "    \n",
    "    \n",
    "    plt.figure(figsize=(35,13))\n",
    "    \n",
    "    df = df.sort(sort_order)\n",
    "    x_label = 'Parameter order - ' + sort_order[0] +', '+ sort_order[1] + ', ' + sort_order[2]\n",
    "    plt.xlabel(x_label, fontsize=40)\n",
    "    plt.ylabel('Throughput (Gbps)', fontsize=40)\n",
    "    title = 'Throughput Trajectory(4) - Parameter order - '+ sort_order[0] +', '+ sort_order[1] + ', ' + sort_order[2]\n",
    "    plt.title(title, fontsize=50)\n",
    "\n",
    "    #df = df.sort(['cc','p','pp'])\n",
    "    color_count = 0\n",
    "    for bk in bk_tr:\n",
    "        bk_data = df[df.background == bk]\n",
    "        for run in runs:\n",
    "            run_data = bk_data[bk_data.run_id == run]\n",
    "            num_rows = run_data.shape[0]\n",
    "            #df_list.append(run_data)\n",
    "            run_data['ticks'] = run_data[sort_order[0]].astype(str) + '-' \\\n",
    "                                + run_data[sort_order[1]].astype(str) + '-' \\\n",
    "                                + run_data[sort_order[2]].astype(str)\n",
    "\n",
    "\n",
    "            x_value = np.arange(1,num_rows+1)\n",
    "            x_value\n",
    "            y_value = np.array(run_data.throughput)\n",
    "            y_value.shape\n",
    "            tick_value = np.array(run_data.ticks)\n",
    "\n",
    "            plt.xticks(x_value[0:(num_rows+1):32], tick_value[0:(num_rows+1):32])\n",
    "            plt.tick_params(axis='both', which='major', labelsize=30)\n",
    "\n",
    "            plt.plot(x_value, y_value,colors[color_count],)\n",
    "            color_count = color_count + 1\n",
    "    plt.show()"
   ]
  },
  {
   "cell_type": "markdown",
   "metadata": {},
   "source": [
    "# Read and merge data files:"
   ]
  },
  {
   "cell_type": "code",
   "execution_count": 7,
   "metadata": {
    "collapsed": false
   },
   "outputs": [
    {
     "name": "stdout",
     "output_type": "stream",
     "text": [
      "ex1_sg0.25-1M.csv   ex1_sg5-25M.csv     ex2_enDataSb_1T.csv ex4_EDData.csv\r\n",
      "ex1_sg100M.csv      ex2_enDataSG.csv    ex3_SBData.csv\r\n",
      "ex1_sg1G.csv        ex2_enDataSG_1T.csv ex3_SGData.csv\r\n",
      "ex1_sg3G.csv        ex2_enDataSG_2T.csv ex4_BTData.csv\r\n"
     ]
    }
   ],
   "source": [
    "!ls ~/Dropbox/gits/data/ThOpt/clean_csv/"
   ]
  },
  {
   "cell_type": "code",
   "execution_count": 8,
   "metadata": {
    "collapsed": false
   },
   "outputs": [],
   "source": [
    "# required values :\n",
    "\n",
    "# OS file seperator: \n",
    "file_seperator = os.sep\n",
    "\n",
    "\n",
    "# User OS home directory:\n",
    "user_home = os.environ['HOME']\n",
    "user_home = user_home+file_seperator\n",
    "#user_home"
   ]
  },
  {
   "cell_type": "code",
   "execution_count": 9,
   "metadata": {
    "collapsed": false
   },
   "outputs": [
    {
     "data": {
      "text/plain": [
       "['ex1_sg0.25-1M.csv',\n",
       " 'ex1_sg100M.csv',\n",
       " 'ex1_sg1G.csv',\n",
       " 'ex1_sg3G.csv',\n",
       " 'ex1_sg5-25M.csv',\n",
       " 'ex2_enDataSG.csv',\n",
       " 'ex2_enDataSG_1T.csv',\n",
       " 'ex2_enDataSG_2T.csv',\n",
       " 'ex2_enDataSb_1T.csv',\n",
       " 'ex3_SBData.csv',\n",
       " 'ex3_SGData.csv',\n",
       " 'ex4_BTData.csv',\n",
       " 'ex4_EDData.csv']"
      ]
     },
     "execution_count": 9,
     "metadata": {},
     "output_type": "execute_result"
    }
   ],
   "source": [
    "log_files_path = user_home + master_location\n",
    "list_of_logs = os.listdir(log_files_path)\n",
    "list_of_logs"
   ]
  },
  {
   "cell_type": "code",
   "execution_count": 10,
   "metadata": {
    "collapsed": false,
    "scrolled": false
   },
   "outputs": [
    {
     "name": "stdout",
     "output_type": "stream",
     "text": [
      "ex1_sg0.25-1M.csv\n",
      "ex1_sg100M.csv\n",
      "ex1_sg1G.csv\n",
      "ex1_sg3G.csv\n",
      "ex1_sg5-25M.csv\n",
      "ex2_enDataSG.csv\n",
      "ex2_enDataSG_1T.csv\n",
      "ex2_enDataSG_2T.csv\n",
      "ex2_enDataSb_1T.csv\n",
      "ex3_SBData.csv\n",
      "ex3_SGData.csv\n",
      "ex4_BTData.csv\n",
      "ex4_EDData.csv\n"
     ]
    },
    {
     "data": {
      "text/plain": [
       "(92583, 18)"
      ]
     },
     "execution_count": 10,
     "metadata": {},
     "output_type": "execute_result"
    }
   ],
   "source": [
    "file_list = []\n",
    "for file_path in list_of_logs:\n",
    "    print(file_path)\n",
    "    url = user_home + master_location + file_path\n",
    "    temp_data = pd.read_csv(url)\n",
    "    \n",
    "    file_list.append(temp_data)\n",
    "data = pd.concat(file_list, ignore_index=True) \n",
    "data.shape"
   ]
  },
  {
   "cell_type": "code",
   "execution_count": 11,
   "metadata": {
    "collapsed": false
   },
   "outputs": [
    {
     "data": {
      "text/plain": [
       "array(['exp_1', 'exp_2_background_traffic', 'exp_3_engin', 'exp_3_kemal',\n",
       "       'exp_4_BT', 'exp_4_ED'], dtype=object)"
      ]
     },
     "execution_count": 11,
     "metadata": {},
     "output_type": "execute_result"
    }
   ],
   "source": [
    "# See all the experiments:\n",
    "data.exp_name.unique()"
   ]
  },
  {
   "cell_type": "code",
   "execution_count": 12,
   "metadata": {
    "collapsed": false,
    "scrolled": true
   },
   "outputs": [
    {
     "data": {
      "text/html": [
       "<div>\n",
       "<table border=\"1\" class=\"dataframe\">\n",
       "  <thead>\n",
       "    <tr style=\"text-align: right;\">\n",
       "      <th></th>\n",
       "      <th>file_size</th>\n",
       "      <th>number_of_files</th>\n",
       "      <th>bandwidth</th>\n",
       "      <th>rtt</th>\n",
       "      <th>buffer_size</th>\n",
       "      <th>p</th>\n",
       "      <th>cc</th>\n",
       "      <th>pp</th>\n",
       "      <th>fast</th>\n",
       "      <th>throughput</th>\n",
       "      <th>time_needed</th>\n",
       "      <th>date</th>\n",
       "      <th>time</th>\n",
       "      <th>source</th>\n",
       "      <th>destination</th>\n",
       "      <th>run_id</th>\n",
       "      <th>background</th>\n",
       "      <th>exp_name</th>\n",
       "    </tr>\n",
       "  </thead>\n",
       "  <tbody>\n",
       "    <tr>\n",
       "      <th>0</th>\n",
       "      <td>256069</td>\n",
       "      <td>1000</td>\n",
       "      <td>10000</td>\n",
       "      <td>0.04</td>\n",
       "      <td>33554432</td>\n",
       "      <td>1</td>\n",
       "      <td>1</td>\n",
       "      <td>1</td>\n",
       "      <td>1</td>\n",
       "      <td>53.622316</td>\n",
       "      <td>36.433726</td>\n",
       "      <td>11/13/14</td>\n",
       "      <td>07:36.2</td>\n",
       "      <td>Stampede</td>\n",
       "      <td>Gordon/Oasis</td>\n",
       "      <td>1</td>\n",
       "      <td>0</td>\n",
       "      <td>exp_1</td>\n",
       "    </tr>\n",
       "    <tr>\n",
       "      <th>1</th>\n",
       "      <td>256069</td>\n",
       "      <td>1000</td>\n",
       "      <td>10000</td>\n",
       "      <td>0.04</td>\n",
       "      <td>33554432</td>\n",
       "      <td>1</td>\n",
       "      <td>1</td>\n",
       "      <td>1</td>\n",
       "      <td>0</td>\n",
       "      <td>65.436956</td>\n",
       "      <td>29.855622</td>\n",
       "      <td>11/13/14</td>\n",
       "      <td>08:12.7</td>\n",
       "      <td>Stampede</td>\n",
       "      <td>Gordon/Oasis</td>\n",
       "      <td>1</td>\n",
       "      <td>0</td>\n",
       "      <td>exp_1</td>\n",
       "    </tr>\n",
       "    <tr>\n",
       "      <th>2</th>\n",
       "      <td>256069</td>\n",
       "      <td>1000</td>\n",
       "      <td>10000</td>\n",
       "      <td>0.04</td>\n",
       "      <td>33554432</td>\n",
       "      <td>1</td>\n",
       "      <td>1</td>\n",
       "      <td>2</td>\n",
       "      <td>1</td>\n",
       "      <td>94.712707</td>\n",
       "      <td>20.627214</td>\n",
       "      <td>11/13/14</td>\n",
       "      <td>08:42.5</td>\n",
       "      <td>Stampede</td>\n",
       "      <td>Gordon/Oasis</td>\n",
       "      <td>1</td>\n",
       "      <td>0</td>\n",
       "      <td>exp_1</td>\n",
       "    </tr>\n",
       "    <tr>\n",
       "      <th>3</th>\n",
       "      <td>256069</td>\n",
       "      <td>1000</td>\n",
       "      <td>10000</td>\n",
       "      <td>0.04</td>\n",
       "      <td>33554432</td>\n",
       "      <td>1</td>\n",
       "      <td>1</td>\n",
       "      <td>2</td>\n",
       "      <td>0</td>\n",
       "      <td>100.561361</td>\n",
       "      <td>19.427579</td>\n",
       "      <td>11/13/14</td>\n",
       "      <td>09:03.1</td>\n",
       "      <td>Stampede</td>\n",
       "      <td>Gordon/Oasis</td>\n",
       "      <td>1</td>\n",
       "      <td>0</td>\n",
       "      <td>exp_1</td>\n",
       "    </tr>\n",
       "    <tr>\n",
       "      <th>4</th>\n",
       "      <td>256069</td>\n",
       "      <td>1000</td>\n",
       "      <td>10000</td>\n",
       "      <td>0.04</td>\n",
       "      <td>33554432</td>\n",
       "      <td>1</td>\n",
       "      <td>1</td>\n",
       "      <td>4</td>\n",
       "      <td>1</td>\n",
       "      <td>159.132638</td>\n",
       "      <td>12.276979</td>\n",
       "      <td>11/13/14</td>\n",
       "      <td>09:22.6</td>\n",
       "      <td>Stampede</td>\n",
       "      <td>Gordon/Oasis</td>\n",
       "      <td>1</td>\n",
       "      <td>0</td>\n",
       "      <td>exp_1</td>\n",
       "    </tr>\n",
       "  </tbody>\n",
       "</table>\n",
       "</div>"
      ],
      "text/plain": [
       "   file_size  number_of_files  bandwidth   rtt  buffer_size  p  cc  pp  fast  \\\n",
       "0     256069             1000      10000  0.04     33554432  1   1   1     1   \n",
       "1     256069             1000      10000  0.04     33554432  1   1   1     0   \n",
       "2     256069             1000      10000  0.04     33554432  1   1   2     1   \n",
       "3     256069             1000      10000  0.04     33554432  1   1   2     0   \n",
       "4     256069             1000      10000  0.04     33554432  1   1   4     1   \n",
       "\n",
       "   throughput  time_needed      date     time    source   destination  run_id  \\\n",
       "0   53.622316    36.433726  11/13/14  07:36.2  Stampede  Gordon/Oasis       1   \n",
       "1   65.436956    29.855622  11/13/14  08:12.7  Stampede  Gordon/Oasis       1   \n",
       "2   94.712707    20.627214  11/13/14  08:42.5  Stampede  Gordon/Oasis       1   \n",
       "3  100.561361    19.427579  11/13/14  09:03.1  Stampede  Gordon/Oasis       1   \n",
       "4  159.132638    12.276979  11/13/14  09:22.6  Stampede  Gordon/Oasis       1   \n",
       "\n",
       "   background exp_name  \n",
       "0           0    exp_1  \n",
       "1           0    exp_1  \n",
       "2           0    exp_1  \n",
       "3           0    exp_1  \n",
       "4           0    exp_1  "
      ]
     },
     "execution_count": 12,
     "metadata": {},
     "output_type": "execute_result"
    }
   ],
   "source": [
    "data[\"destination\"] = data[\"destination\"].replace(['Gordon/oasis','Gordon'],'Gordon/Oasis')\n",
    "data.head()"
   ]
  },
  {
   "cell_type": "code",
   "execution_count": 13,
   "metadata": {
    "collapsed": false
   },
   "outputs": [
    {
     "data": {
      "text/plain": [
       "[(256069.0, 1000.0, 10000.0, 0.040000000000000001, 33554432.0),\n",
       " (256096.0, 128.0, 10000.0, 0.040000000000000001, 33554432.0),\n",
       " (256080.0, 256.0, 10000.0, 0.040000000000000001, 33554432.0),\n",
       " (256072.0, 512.0, 10000.0, 0.040000000000000001, 33554432.0),\n",
       " (512069.0, 1000.0, 10000.0, 0.040000000000000001, 33554432.0),\n",
       " (512096.0, 128.0, 10000.0, 0.040000000000000001, 33554432.0),\n",
       " (512080.0, 256.0, 10000.0, 0.040000000000000001, 33554432.0),\n",
       " (512072.0, 512.0, 10000.0, 0.040000000000000001, 33554432.0),\n",
       " (1048641.0, 1000.0, 10000.0, 0.040000000000000001, 33554432.0),\n",
       " (1048672.0, 128.0, 10000.0, 0.040000000000000001, 33554432.0),\n",
       " (1048656.0, 256.0, 10000.0, 0.040000000000000001, 33554432.0),\n",
       " (1048640.0, 512.0, 10000.0, 0.040000000000000001, 33554432.0),\n",
       " (104857664.0, 64.0, 10000.0, 0.040000000000000001, 33554432.0),\n",
       " (1073742080.0, 16.0, 10000.0, 0.040000000000000001, 33554432.0),\n",
       " (3221225984.0, 8.0, 10000.0, 0.040000000000000001, 33554432.0),\n",
       " (5242929.0, 1000.0, 10000.0, 0.040000000000000001, 33554432.0),\n",
       " (26214461.0, 200.0, 10000.0, 0.040000000000000001, 33554432.0),\n",
       " (3150088.0, 3409.0, 10000000000.0, 0.040000000000000001, 33554432.0),\n",
       " (23553926.0, 912.0, 10000000000.0, 0.040000000000000001, 33554432.0),\n",
       " (130884019.0, 329.0, 10000000000.0, 0.040000000000000001, 33554432.0),\n",
       " (2873838531.0, 34.0, 10000000000.0, 0.040000000000000001, 33554432.0),\n",
       " (3136594.0, 3424.0, 10000000000.0, 0.040000000000000001, 33554432.0),\n",
       " (3137508.0, 3424.0, 10000000000.0, 0.040000000000000001, 33554432.0),\n",
       " (23553931.0, 912.0, 10000000000.0, 0.040000000000000001, 33554432.0),\n",
       " (2873560967.0, 34.0, 10000000000.0, 0.040000000000000001, 33554432.0),\n",
       " (3137512.0, 3424.0, 10000000000.0, 0.040000000000000001, 33554432.0),\n",
       " (3137508.0, 3424.0, 10000000000.0, 0.044000000000000004, 33554432.0),\n",
       " (23553931.0, 912.0, 10000000000.0, 0.044000000000000004, 33554432.0),\n",
       " (130884019.0, 329.0, 10000000000.0, 0.044000000000000004, 33554432.0),\n",
       " (2873838531.0, 34.0, 10000000000.0, 0.044000000000000004, 33554432.0),\n",
       " (3136594.0, 3424.0, 10000000000.0, 0.044000000000000004, 33554432.0),\n",
       " (23553926.0, 912.0, 10000000000.0, 0.044000000000000004, 33554432.0),\n",
       " (3131997.0, 3429.0, 10000.0, 0.080000000000000002, 33554432.0),\n",
       " (23727255.0, 906.0, 10000.0, 0.080000000000000002, 33554432.0),\n",
       " (132236763.0, 325.0, 10000.0, 0.080000000000000002, 33554432.0),\n",
       " (3063322383.0, 34.0, 10000.0, 0.080000000000000002, 33554432.0),\n",
       " (652486.0, 3293.0, 1000000000.0, 0.00020000000000000001, 4194304.0),\n",
       " (10623021.0, 405.0, 1000000000.0, 0.00020000000000000001, 4194304.0),\n",
       " (51421866.0, 126.0, 1000000000.0, 0.00020000000000000001, 4194304.0),\n",
       " (912680960.0, 10.0, 1000000000.0, 0.00020000000000000001, 4194304.0)]"
      ]
     },
     "execution_count": 13,
     "metadata": {},
     "output_type": "execute_result"
    }
   ],
   "source": [
    "find_unique_transfers(data)"
   ]
  },
  {
   "cell_type": "markdown",
   "metadata": {},
   "source": [
    "# Get exp_2 data:"
   ]
  },
  {
   "cell_type": "code",
   "execution_count": 14,
   "metadata": {
    "collapsed": true
   },
   "outputs": [],
   "source": [
    "exp_2 = data[data.exp_name == \"exp_2_background_traffic\"]"
   ]
  },
  {
   "cell_type": "code",
   "execution_count": 2,
   "metadata": {
    "collapsed": false
   },
   "outputs": [
    {
     "ename": "NameError",
     "evalue": "name 'change_type' is not defined",
     "output_type": "error",
     "traceback": [
      "\u001b[0;31m---------------------------------------------------------------------------\u001b[0m",
      "\u001b[0;31mNameError\u001b[0m                                 Traceback (most recent call last)",
      "\u001b[0;32m<ipython-input-2-a093e4b0463e>\u001b[0m in \u001b[0;36m<module>\u001b[0;34m()\u001b[0m\n\u001b[1;32m      1\u001b[0m \u001b[0;31m# get the small data and only transfer from gordon and stampede:\u001b[0m\u001b[0;34m\u001b[0m\u001b[0;34m\u001b[0m\u001b[0m\n\u001b[0;32m----> 2\u001b[0;31m \u001b[0mtemp_exp2\u001b[0m \u001b[0;34m=\u001b[0m \u001b[0mchange_type\u001b[0m\u001b[0;34m(\u001b[0m\u001b[0mexp_2\u001b[0m\u001b[0;34m,\u001b[0m \u001b[0;34m[\u001b[0m\u001b[0;34m\"file_size\"\u001b[0m\u001b[0;34m]\u001b[0m\u001b[0;34m,\u001b[0m \u001b[0;34m[\u001b[0m\u001b[0;34m\"int\"\u001b[0m\u001b[0;34m]\u001b[0m\u001b[0;34m)\u001b[0m\u001b[0;34m\u001b[0m\u001b[0m\n\u001b[0m\u001b[1;32m      3\u001b[0m \u001b[0mexp_2_small\u001b[0m \u001b[0;34m=\u001b[0m \u001b[0mtemp_exp2\u001b[0m\u001b[0;34m[\u001b[0m\u001b[0;34m(\u001b[0m\u001b[0mtemp_exp2\u001b[0m\u001b[0;34m.\u001b[0m\u001b[0mfile_size\u001b[0m \u001b[0;34m<\u001b[0m \u001b[0;36m10000000\u001b[0m\u001b[0;34m)\u001b[0m \u001b[0;34m&\u001b[0m \u001b[0;34m(\u001b[0m\u001b[0mtemp_exp2\u001b[0m\u001b[0;34m.\u001b[0m\u001b[0mdestination\u001b[0m \u001b[0;34m==\u001b[0m \u001b[0;34m'Gordon/Oasis'\u001b[0m\u001b[0;34m)\u001b[0m \u001b[0;34m]\u001b[0m\u001b[0;34m\u001b[0m\u001b[0m\n\u001b[1;32m      4\u001b[0m \u001b[0;34m\u001b[0m\u001b[0m\n\u001b[1;32m      5\u001b[0m \u001b[0mbk_traffic\u001b[0m \u001b[0;34m=\u001b[0m \u001b[0;34m[\u001b[0m\u001b[0;36m0\u001b[0m\u001b[0;34m,\u001b[0m\u001b[0;36m1\u001b[0m\u001b[0;34m,\u001b[0m\u001b[0;36m2\u001b[0m\u001b[0;34m]\u001b[0m\u001b[0;34m\u001b[0m\u001b[0m\n",
      "\u001b[0;31mNameError\u001b[0m: name 'change_type' is not defined"
     ]
    }
   ],
   "source": [
    "# get the small data and only transfer from gordon and stampede:\n",
    "temp_exp2 = change_type(exp_2, [\"file_size\"], [\"int\"])\n",
    "exp_2_small = temp_exp2[(temp_exp2.file_size < 10000000) & (temp_exp2.destination == 'Gordon/Oasis') ] \n",
    "\n",
    "bk_traffic = [0,1,2]\n",
    "runs = [2]\n",
    "colors = ['-go','-ro','-bo']\n",
    "sort_order = ['cc','p','pp']\n",
    "plot_runs_1D(exp_2_small,bk_traffic,runs,colors, sort_order)"
   ]
  },
  {
   "cell_type": "code",
   "execution_count": null,
   "metadata": {
    "collapsed": true
   },
   "outputs": [],
   "source": []
  },
  {
   "cell_type": "markdown",
   "metadata": {},
   "source": [
    "# Get all data and perform CNN:"
   ]
  },
  {
   "cell_type": "code",
   "execution_count": 16,
   "metadata": {
    "collapsed": false
   },
   "outputs": [],
   "source": [
    "temp_data = data.copy(deep=True)"
   ]
  },
  {
   "cell_type": "code",
   "execution_count": 17,
   "metadata": {
    "collapsed": false
   },
   "outputs": [],
   "source": [
    "args = ['file_size', 'number_of_files', 'bandwidth', 'rtt', 'buffer_size','source', 'destination','run_id', 'background']\n",
    "unique_req = find_unique_transfers(temp_data, args)\n",
    "num_reqs = len(find_unique_transfers(temp_data, args))"
   ]
  },
  {
   "cell_type": "code",
   "execution_count": 18,
   "metadata": {
    "collapsed": false,
    "scrolled": true
   },
   "outputs": [
    {
     "data": {
      "text/html": [
       "<div>\n",
       "<table border=\"1\" class=\"dataframe\">\n",
       "  <thead>\n",
       "    <tr style=\"text-align: right;\">\n",
       "      <th></th>\n",
       "      <th></th>\n",
       "      <th></th>\n",
       "      <th></th>\n",
       "      <th></th>\n",
       "      <th></th>\n",
       "      <th></th>\n",
       "      <th></th>\n",
       "      <th></th>\n",
       "      <th>p</th>\n",
       "      <th>cc</th>\n",
       "      <th>pp</th>\n",
       "      <th>fast</th>\n",
       "      <th>throughput</th>\n",
       "      <th>time_needed</th>\n",
       "      <th>date</th>\n",
       "      <th>time</th>\n",
       "      <th>exp_name</th>\n",
       "    </tr>\n",
       "    <tr>\n",
       "      <th>file_size</th>\n",
       "      <th>number_of_files</th>\n",
       "      <th>bandwidth</th>\n",
       "      <th>rtt</th>\n",
       "      <th>buffer_size</th>\n",
       "      <th>source</th>\n",
       "      <th>destination</th>\n",
       "      <th>run_id</th>\n",
       "      <th>background</th>\n",
       "      <th></th>\n",
       "      <th></th>\n",
       "      <th></th>\n",
       "      <th></th>\n",
       "      <th></th>\n",
       "      <th></th>\n",
       "      <th></th>\n",
       "      <th></th>\n",
       "      <th></th>\n",
       "    </tr>\n",
       "  </thead>\n",
       "  <tbody>\n",
       "    <tr>\n",
       "      <th rowspan=\"5\" valign=\"top\">256069</th>\n",
       "      <th rowspan=\"5\" valign=\"top\">1000</th>\n",
       "      <th rowspan=\"5\" valign=\"top\">10000</th>\n",
       "      <th rowspan=\"5\" valign=\"top\">0.04</th>\n",
       "      <th rowspan=\"5\" valign=\"top\">33554432</th>\n",
       "      <th rowspan=\"5\" valign=\"top\">Stampede</th>\n",
       "      <th rowspan=\"5\" valign=\"top\">Gordon/Oasis</th>\n",
       "      <th rowspan=\"5\" valign=\"top\">1</th>\n",
       "      <th>0</th>\n",
       "      <td>1</td>\n",
       "      <td>1</td>\n",
       "      <td>1</td>\n",
       "      <td>1</td>\n",
       "      <td>53.622316</td>\n",
       "      <td>36.433726</td>\n",
       "      <td>11/13/14</td>\n",
       "      <td>07:36.2</td>\n",
       "      <td>exp_1</td>\n",
       "    </tr>\n",
       "    <tr>\n",
       "      <th>0</th>\n",
       "      <td>1</td>\n",
       "      <td>1</td>\n",
       "      <td>1</td>\n",
       "      <td>0</td>\n",
       "      <td>65.436956</td>\n",
       "      <td>29.855622</td>\n",
       "      <td>11/13/14</td>\n",
       "      <td>08:12.7</td>\n",
       "      <td>exp_1</td>\n",
       "    </tr>\n",
       "    <tr>\n",
       "      <th>0</th>\n",
       "      <td>1</td>\n",
       "      <td>1</td>\n",
       "      <td>2</td>\n",
       "      <td>1</td>\n",
       "      <td>94.712707</td>\n",
       "      <td>20.627214</td>\n",
       "      <td>11/13/14</td>\n",
       "      <td>08:42.5</td>\n",
       "      <td>exp_1</td>\n",
       "    </tr>\n",
       "    <tr>\n",
       "      <th>0</th>\n",
       "      <td>1</td>\n",
       "      <td>1</td>\n",
       "      <td>2</td>\n",
       "      <td>0</td>\n",
       "      <td>100.561361</td>\n",
       "      <td>19.427579</td>\n",
       "      <td>11/13/14</td>\n",
       "      <td>09:03.1</td>\n",
       "      <td>exp_1</td>\n",
       "    </tr>\n",
       "    <tr>\n",
       "      <th>0</th>\n",
       "      <td>1</td>\n",
       "      <td>1</td>\n",
       "      <td>4</td>\n",
       "      <td>1</td>\n",
       "      <td>159.132638</td>\n",
       "      <td>12.276979</td>\n",
       "      <td>11/13/14</td>\n",
       "      <td>09:22.6</td>\n",
       "      <td>exp_1</td>\n",
       "    </tr>\n",
       "  </tbody>\n",
       "</table>\n",
       "</div>"
      ],
      "text/plain": [
       "                                                                                              p  \\\n",
       "file_size number_of_files bandwidth rtt  buffer_size source   destination  run_id background      \n",
       "256069    1000            10000     0.04 33554432    Stampede Gordon/Oasis 1      0           1   \n",
       "                                                                                  0           1   \n",
       "                                                                                  0           1   \n",
       "                                                                                  0           1   \n",
       "                                                                                  0           1   \n",
       "\n",
       "                                                                                              cc  \\\n",
       "file_size number_of_files bandwidth rtt  buffer_size source   destination  run_id background       \n",
       "256069    1000            10000     0.04 33554432    Stampede Gordon/Oasis 1      0            1   \n",
       "                                                                                  0            1   \n",
       "                                                                                  0            1   \n",
       "                                                                                  0            1   \n",
       "                                                                                  0            1   \n",
       "\n",
       "                                                                                              pp  \\\n",
       "file_size number_of_files bandwidth rtt  buffer_size source   destination  run_id background       \n",
       "256069    1000            10000     0.04 33554432    Stampede Gordon/Oasis 1      0            1   \n",
       "                                                                                  0            1   \n",
       "                                                                                  0            2   \n",
       "                                                                                  0            2   \n",
       "                                                                                  0            4   \n",
       "\n",
       "                                                                                              fast  \\\n",
       "file_size number_of_files bandwidth rtt  buffer_size source   destination  run_id background         \n",
       "256069    1000            10000     0.04 33554432    Stampede Gordon/Oasis 1      0              1   \n",
       "                                                                                  0              0   \n",
       "                                                                                  0              1   \n",
       "                                                                                  0              0   \n",
       "                                                                                  0              1   \n",
       "\n",
       "                                                                                              throughput  \\\n",
       "file_size number_of_files bandwidth rtt  buffer_size source   destination  run_id background               \n",
       "256069    1000            10000     0.04 33554432    Stampede Gordon/Oasis 1      0            53.622316   \n",
       "                                                                                  0            65.436956   \n",
       "                                                                                  0            94.712707   \n",
       "                                                                                  0           100.561361   \n",
       "                                                                                  0           159.132638   \n",
       "\n",
       "                                                                                              time_needed  \\\n",
       "file_size number_of_files bandwidth rtt  buffer_size source   destination  run_id background                \n",
       "256069    1000            10000     0.04 33554432    Stampede Gordon/Oasis 1      0             36.433726   \n",
       "                                                                                  0             29.855622   \n",
       "                                                                                  0             20.627214   \n",
       "                                                                                  0             19.427579   \n",
       "                                                                                  0             12.276979   \n",
       "\n",
       "                                                                                                  date  \\\n",
       "file_size number_of_files bandwidth rtt  buffer_size source   destination  run_id background             \n",
       "256069    1000            10000     0.04 33554432    Stampede Gordon/Oasis 1      0           11/13/14   \n",
       "                                                                                  0           11/13/14   \n",
       "                                                                                  0           11/13/14   \n",
       "                                                                                  0           11/13/14   \n",
       "                                                                                  0           11/13/14   \n",
       "\n",
       "                                                                                                 time  \\\n",
       "file_size number_of_files bandwidth rtt  buffer_size source   destination  run_id background            \n",
       "256069    1000            10000     0.04 33554432    Stampede Gordon/Oasis 1      0           07:36.2   \n",
       "                                                                                  0           08:12.7   \n",
       "                                                                                  0           08:42.5   \n",
       "                                                                                  0           09:03.1   \n",
       "                                                                                  0           09:22.6   \n",
       "\n",
       "                                                                                             exp_name  \n",
       "file_size number_of_files bandwidth rtt  buffer_size source   destination  run_id background           \n",
       "256069    1000            10000     0.04 33554432    Stampede Gordon/Oasis 1      0             exp_1  \n",
       "                                                                                  0             exp_1  \n",
       "                                                                                  0             exp_1  \n",
       "                                                                                  0             exp_1  \n",
       "                                                                                  0             exp_1  "
      ]
     },
     "execution_count": 18,
     "metadata": {},
     "output_type": "execute_result"
    }
   ],
   "source": [
    "temp_data = temp_data.set_index(args)\n",
    "temp_data.head()"
   ]
  },
  {
   "cell_type": "markdown",
   "metadata": {},
   "source": [
    "## Make Ndarray for CNN:"
   ]
  },
  {
   "cell_type": "code",
   "execution_count": 19,
   "metadata": {
    "collapsed": false
   },
   "outputs": [
    {
     "name": "stderr",
     "output_type": "stream",
     "text": [
      "/Users/mds/anaconda/envs/deep_learning/lib/python3.6/site-packages/ipykernel/__main__.py:12: PerformanceWarning: indexing past lexsort depth may impact performance.\n"
     ]
    }
   ],
   "source": [
    "# make each request a matrix of ndarray \n",
    "# with all requests make 264 * 32 * 32 matrix\n",
    "m = 32\n",
    "n = 32\n",
    "x = num_reqs\n",
    "\n",
    "mat = np.zeros([x,m+1,n+1])\n",
    "temp_mat = np.zeros([m+1,n+1])\n",
    "mat_yy = np.zeros(x)\n",
    "req_count = 0\n",
    "for req in unique_req:\n",
    "    current_req = temp_data.loc[req]\n",
    "    current_req = current_req.reset_index()\n",
    "    for index, row in current_req.iterrows():\n",
    "        mat[req_count, row.p, row.cc] = row.throughput\n",
    "        temp_mat[row.p, row.cc] = row.throughput\n",
    "        run_id = row.run_id\n",
    "    mat_yy[req_count] = np.sum(temp_mat)\n",
    "    #mat_y[req_count] = run_id\n",
    "    req_count = req_count + 1\n",
    "    "
   ]
  },
  {
   "cell_type": "code",
   "execution_count": 20,
   "metadata": {
    "collapsed": false
   },
   "outputs": [
    {
     "data": {
      "text/plain": [
       "array([  13388.748282  ,    2820.12478268,    5139.9820747 ,\n",
       "          9038.3114912 ,   20334.5457308 ,    4874.15898701,\n",
       "          9100.496235  ,   13946.78534953,   30416.813785  ,\n",
       "          8907.478368  ,   15458.1579609 ,   22500.5522119 ,\n",
       "         13231.4150908 ,    2706.37257165,    4696.17391572,\n",
       "          8516.688471  ,   19486.9198617 ,    5117.0393524 ,\n",
       "          8894.9102355 ,   14526.1506654 ,   32439.4396852 ,\n",
       "          8554.3730026 ,   15115.0531788 ,   22076.3316453 ,\n",
       "         13367.9877892 ,    2849.64900363,    3775.97629151,\n",
       "         12954.0850509 ,    2633.27385358,    4715.46946211,\n",
       "         13578.574852  ,    2705.00975954,    5020.69215331,\n",
       "          8577.0622973 ,   20772.0168595 ,    5149.7259059 ,\n",
       "          9091.8543398 ,   14689.715464  ,   32467.1478931 ,\n",
       "          8603.3524406 ,   14411.4943519 ,   20555.9195224 ,\n",
       "         11742.2428709 ,    4905.84026764,    3728.04494233,\n",
       "          8307.3636603 ,   20942.1331897 ,    5020.36620293,\n",
       "          9218.9123849 ,   15510.8138657 ,   31912.7607892 ,\n",
       "          8657.093688  ,   14775.3198365 ,   22297.2696459 ,\n",
       "         12533.0865742 ,    2630.4675867 ,    4782.99512079,\n",
       "          5522.04172567,   19013.8565159 ,    5191.58601455,\n",
       "          9199.4222573 ,   15784.9795165 ,   32564.5065269 ,\n",
       "          8822.6344201 ,   15068.7191306 ,   23550.3792612 ,\n",
       "         14326.4960959 ,    2851.3004353 ,    5268.86726894,\n",
       "          8672.23006864,   20922.1986121 ,    5086.96117035,\n",
       "          8885.3577659 ,   15485.2315125 ,   31728.2786225 ,\n",
       "          8740.5975495 ,   15326.2586823 ,   21920.5305513 ,\n",
       "         13946.0633127 ,    2797.2904828 ,    5207.66866095,\n",
       "          8612.1389244 ,   21281.2381431 ,    5109.815098  ,\n",
       "          9485.9512808 ,   15182.4661594 ,   31124.8387574 ,\n",
       "          9087.4022347 ,   15158.9835331 ,   22689.4955761 ,\n",
       "         12954.0297126 ,    2672.08488922,    3994.41807071,\n",
       "          6639.56704436,   17960.9220298 ,    4929.25693063,\n",
       "          8602.10914981,   13596.0161134 ,   27507.1968314 ,\n",
       "          7763.45999294,   11518.21249702,   14052.84384932,\n",
       "         34122.8127274 ,   26530.7556123 ,   39224.4777245 ,\n",
       "         48737.7555733 ,   31541.7428847 ,   47877.5976218 ,\n",
       "         62959.1698047 ,   33392.3105624 ,   34480.3004779 ,\n",
       "         47859.7645274 ,   62792.8158509 ,  113678.870281  ,\n",
       "        118869.03197   ,  114447.310413  ,  115739.986516  ,\n",
       "        112992.906097  ,  104380.2613894 ,  115550.3756487 ,\n",
       "        117889.047103  ,  111378.740545  ,  104978.536845  ,\n",
       "        107153.2567986 ,  103841.6662181 ,   78221.8137693 ,\n",
       "         60224.3861905 ,   69639.608184  ,   66766.5534645 ,\n",
       "         68004.4359143 ,   45482.7645151 ,   52173.1674837 ,\n",
       "         51818.8791453 ,   51704.4571175 ,   49205.2459394 ,\n",
       "         50615.3622989 ,   47542.7827228 ,   53711.9882861 ,\n",
       "         55323.6965863 ,   57142.7154263 ,   53677.3344085 ,\n",
       "         53502.7279024 ,   51296.9673106 ,   48155.6334196 ,\n",
       "         53671.346893  ,   51575.6445781 ,   49926.6971151 ,\n",
       "         46853.1753458 ,   44787.9703613 ,   44067.5990452 ,\n",
       "         48126.2465397 ,   46919.3700451 ,   56013.3511789 ,\n",
       "         77581.0608513 ,   95383.28749   ,   97500.235091  ,\n",
       "         57220.3792205 ,   69483.2333527 ,   84959.9636571 ,\n",
       "         95898.5449664 ,   52856.5974877 ,   64286.5991579 ,\n",
       "         79603.1225016 ,  100715.019708  ,   46566.451421  ,\n",
       "         68713.6561532 ,   71029.9350093 ,   93670.0515941 ,\n",
       "         48307.7011324 ,   78212.6731155 ,   99807.843061  ,\n",
       "        103081.445079  ,   37922.27757839,   42190.0863754 ,\n",
       "         77066.9293736 ,   70655.4297543 ,   32738.65763076,\n",
       "         48402.5514659 ,   73994.0614534 ,   87038.7708363 ,\n",
       "         41311.95968212,   61640.707963  ,   73405.1516584 ,\n",
       "         81692.0300125 ,   37560.3894921 ,   55288.8254588 ,\n",
       "         69100.1455747 ,   67321.5359184 ,   65777.3093994 ,\n",
       "         37400.5938754 ,   57197.5729846 ,   75824.6201651 ,\n",
       "         82523.6459694 ,   40837.5577354 ,   58689.7684647 ,\n",
       "         69076.3723105 ,   75204.5572166 ,   38991.1565696 ,\n",
       "         52623.5482828 ,   64653.2046397 ,   61842.5458315 ,\n",
       "         30521.0775061 ,   43381.15100584,   65974.2305032 ,\n",
       "         65152.3557535 ,   34929.8169271 ,   50295.5965311 ,\n",
       "         89770.2074732 ,   31676.01631081,   35288.3830288 ,\n",
       "         41414.1002395 ,   42408.2805777 ,   35224.1587601 ,\n",
       "         46121.3794647 ,   52431.3105219 ,   54877.6002379 ,\n",
       "         52943.793761  ,   62453.2790591 ,   72150.5133695 ,\n",
       "         50566.3695345 ,   35645.49356471,   47267.2588678 ,\n",
       "         44709.4057379 ,   59558.6813142 ,   97916.6239588 ,\n",
       "         71980.7083304 ,   49534.9969699 ,   61164.4492475 ,\n",
       "         56294.7554415 ,   68064.410147  ,   44980.0237438 ,\n",
       "         61074.3255508 ,   66450.3200664 ,   71539.585733  ,\n",
       "         43935.9661137 ,   57029.1637702 ,   67971.950707  ,\n",
       "         70303.314309  ,   44179.7065443 ,   58229.5712037 ,\n",
       "         71752.0567711 ,   18378.8409398 ,   23675.68265869,\n",
       "         26859.80157862,   31529.678722  ,   17172.04034428,\n",
       "        369148.8616158 ,   23168.59846581,   32111.9245602 ,\n",
       "         16145.43510997,   23314.7561038 ,   24007.73507957,\n",
       "         24555.3668405 ,   25425.5950074 ,   26382.7014338 ,\n",
       "         22296.437998  ,   26178.0115635 ,   25645.2324286 ,\n",
       "         25782.1202709 ,   22436.9838995 ,   26036.9448937 ,\n",
       "         24437.7823413 ,   25817.936823  ,   23402.0912408 ])"
      ]
     },
     "execution_count": 20,
     "metadata": {},
     "output_type": "execute_result"
    }
   ],
   "source": [
    "mat_yy"
   ]
  },
  {
   "cell_type": "code",
   "execution_count": 21,
   "metadata": {
    "collapsed": false
   },
   "outputs": [],
   "source": [
    "high = np.percentile(mat_yy,80)\n",
    "mid_high = np.percentile(mat_yy,60)\n",
    "mid = np.percentile(mat_yy,50)\n",
    "low_high = np.percentile(mat_yy,40)\n",
    "low = np.percentile(mat_yy,20)\n",
    "#profile = [low,low_high,mid,mid_high,high]"
   ]
  },
  {
   "cell_type": "code",
   "execution_count": 22,
   "metadata": {
    "collapsed": false
   },
   "outputs": [],
   "source": [
    "def convert_to_discrete_traffic(x,high,mid_high,mid,low_high,low):\n",
    "    y = x\n",
    "    count = 0\n",
    "    for item in x:\n",
    "        if item >= high:\n",
    "            y[count] = 5\n",
    "        elif (item < high) and item >=mid_high:\n",
    "            y[count] = 4\n",
    "        elif(item < mid_high) and (item >= mid):\n",
    "            y[count] = 3\n",
    "        elif(item < mid) and (item >= low_high):\n",
    "            y[count] = 2\n",
    "        elif(item < low_high) and (item >= low):\n",
    "            y[count] = 1\n",
    "        else:\n",
    "            y[count] = 0\n",
    "        count = count + 1\n",
    "    return y"
   ]
  },
  {
   "cell_type": "code",
   "execution_count": 23,
   "metadata": {
    "collapsed": false
   },
   "outputs": [
    {
     "data": {
      "text/plain": [
       "array([ 1.,  0.,  0.,  0.,  1.,  0.,  0.,  1.,  2.,  0.,  1.,  1.,  1.,\n",
       "        0.,  0.,  0.,  1.,  0.,  0.,  1.,  2.,  0.,  1.,  1.,  1.,  0.,\n",
       "        0.,  1.,  0.,  0.,  1.,  0.,  0.,  0.,  1.,  0.,  0.,  1.,  2.,\n",
       "        0.,  1.,  1.,  1.,  0.,  0.,  0.,  1.,  0.,  0.,  1.,  2.,  0.,\n",
       "        1.,  1.,  1.,  0.,  0.,  0.,  1.,  0.,  0.,  1.,  2.,  0.,  1.,\n",
       "        1.,  1.,  0.,  0.,  0.,  1.,  0.,  0.,  1.,  2.,  0.,  1.,  1.,\n",
       "        1.,  0.,  0.,  0.,  1.,  0.,  0.,  1.,  2.,  0.,  1.,  1.,  1.,\n",
       "        0.,  0.,  0.,  1.,  0.,  0.,  1.,  2.,  0.,  0.,  1.,  2.,  2.,\n",
       "        3.,  4.,  2.,  4.,  4.,  2.,  2.,  4.,  4.,  5.,  5.,  5.,  5.,\n",
       "        5.,  5.,  5.,  5.,  5.,  5.,  5.,  5.,  5.,  4.,  5.,  5.,  5.,\n",
       "        3.,  4.,  4.,  4.,  4.,  4.,  4.,  4.,  4.,  4.,  4.,  4.,  4.,\n",
       "        4.,  4.,  4.,  4.,  3.,  3.,  3.,  4.,  3.,  4.,  5.,  5.,  5.,\n",
       "        4.,  5.,  5.,  5.,  4.,  4.,  5.,  5.,  3.,  5.,  5.,  5.,  4.,\n",
       "        5.,  5.,  5.,  3.,  3.,  5.,  5.,  2.,  4.,  5.,  5.,  3.,  4.,\n",
       "        5.,  5.,  3.,  4.,  5.,  5.,  4.,  3.,  4.,  5.,  5.,  3.,  4.,\n",
       "        5.,  5.,  3.,  4.,  4.,  4.,  2.,  3.,  4.,  4.,  3.,  4.,  5.,\n",
       "        2.,  3.,  3.,  3.,  3.,  3.,  4.,  4.,  4.,  4.,  5.,  4.,  3.,\n",
       "        4.,  3.,  4.,  5.,  5.,  4.,  4.,  4.,  5.,  3.,  4.,  5.,  5.,\n",
       "        3.,  4.,  5.,  5.,  3.,  4.,  5.,  1.,  1.,  2.,  2.,  1.,  5.,\n",
       "        1.,  2.,  1.,  1.,  1.,  1.,  2.,  2.,  1.,  2.,  2.,  2.,  1.,\n",
       "        2.,  1.,  2.,  1.])"
      ]
     },
     "execution_count": 23,
     "metadata": {},
     "output_type": "execute_result"
    }
   ],
   "source": [
    "mat_y = convert_to_discrete_traffic(mat_yy,high,mid_high,mid,low_high,low)\n",
    "mat_y"
   ]
  },
  {
   "cell_type": "markdown",
   "metadata": {},
   "source": [
    "# Core CNN code:"
   ]
  },
  {
   "cell_type": "code",
   "execution_count": null,
   "metadata": {
    "collapsed": true
   },
   "outputs": [],
   "source": []
  },
  {
   "cell_type": "code",
   "execution_count": 24,
   "metadata": {
    "collapsed": false
   },
   "outputs": [
    {
     "name": "stderr",
     "output_type": "stream",
     "text": [
      "Using Theano backend.\n"
     ]
    }
   ],
   "source": [
    "\n",
    "import theano \n",
    "import warnings\n",
    "\n",
    "from keras.models import Sequential\n",
    "from keras.layers import Dense, Dropout, Activation, Flatten\n",
    "from keras.layers import Convolution2D, MaxPooling2D\n",
    "from keras.utils import np_utils\n",
    "from keras.datasets import mnist"
   ]
  },
  {
   "cell_type": "code",
   "execution_count": 25,
   "metadata": {
    "collapsed": false
   },
   "outputs": [],
   "source": [
    "# split data for training and testing: \n",
    "training_idx = np.random.randint(mat.shape[0], size=220)\n",
    "test_idx = np.random.randint(mat.shape[0], size=44)\n",
    "X_train, X_test = mat[training_idx,:], mat[test_idx,:]\n",
    "y_train = mat_y[training_idx]\n",
    "y_test = mat_y[test_idx]"
   ]
  },
  {
   "cell_type": "code",
   "execution_count": 26,
   "metadata": {
    "collapsed": false
   },
   "outputs": [
    {
     "data": {
      "text/plain": [
       "(220, 33, 33)"
      ]
     },
     "execution_count": 26,
     "metadata": {},
     "output_type": "execute_result"
    }
   ],
   "source": [
    "X_train.shape"
   ]
  },
  {
   "cell_type": "code",
   "execution_count": 27,
   "metadata": {
    "collapsed": false
   },
   "outputs": [],
   "source": [
    "X_train = X_train.reshape(X_train.shape[0], 1, 33, 33)\n",
    "X_test = X_test.reshape(X_test.shape[0], 1, 33, 33)\n",
    "X_train = X_train.astype('float32')\n",
    "X_test = X_test.astype('float32')\n",
    "X_train /= 255\n",
    "X_test /= 255"
   ]
  },
  {
   "cell_type": "code",
   "execution_count": 28,
   "metadata": {
    "collapsed": false
   },
   "outputs": [],
   "source": [
    "Y_train = np_utils.to_categorical(y_train, 12)\n",
    "Y_test = np_utils.to_categorical(y_test, 12)"
   ]
  },
  {
   "cell_type": "code",
   "execution_count": 29,
   "metadata": {
    "collapsed": false
   },
   "outputs": [
    {
     "name": "stdout",
     "output_type": "stream",
     "text": [
      "____________________________________________________________________________________________________\n",
      "Layer (type)                     Output Shape          Param #     Connected to                     \n",
      "====================================================================================================\n",
      "convolution2d_1 (Convolution2D)  (None, 32, 31, 31)    320         convolution2d_input_1[0][0]      \n",
      "____________________________________________________________________________________________________\n",
      "convolution2d_2 (Convolution2D)  (None, 30, 29, 32)    8960        convolution2d_1[0][0]            \n",
      "____________________________________________________________________________________________________\n",
      "convolution2d_3 (Convolution2D)  (None, 28, 27, 32)    9248        convolution2d_2[0][0]            \n",
      "____________________________________________________________________________________________________\n",
      "maxpooling2d_1 (MaxPooling2D)    (None, 14, 13, 32)    0           convolution2d_3[0][0]            \n",
      "____________________________________________________________________________________________________\n",
      "dropout_1 (Dropout)              (None, 14, 13, 32)    0           maxpooling2d_1[0][0]             \n",
      "____________________________________________________________________________________________________\n",
      "flatten_1 (Flatten)              (None, 5824)          0           dropout_1[0][0]                  \n",
      "____________________________________________________________________________________________________\n",
      "dense_1 (Dense)                  (None, 128)           745600      flatten_1[0][0]                  \n",
      "____________________________________________________________________________________________________\n",
      "dropout_2 (Dropout)              (None, 128)           0           dense_1[0][0]                    \n",
      "____________________________________________________________________________________________________\n",
      "dense_2 (Dense)                  (None, 12)            1548        dropout_2[0][0]                  \n",
      "====================================================================================================\n",
      "Total params: 765,676\n",
      "Trainable params: 765,676\n",
      "Non-trainable params: 0\n",
      "____________________________________________________________________________________________________\n"
     ]
    }
   ],
   "source": [
    "# 7. Define model architecture\n",
    "model = Sequential()\n",
    "model.add(Convolution2D(32, 3, 3, activation='relu', input_shape=(1,33,33), \n",
    "                        dim_ordering='th'))\n",
    "#model.add(Convolution2D(32, 3, 3, activation='relu', input_shape=(1,28,28)))\n",
    "model.add(Convolution2D(32, 3, 3, activation='relu'))\n",
    "model.add(Convolution2D(32, 3, 3, activation='relu'))\n",
    "model.add(MaxPooling2D(pool_size=(2,2)))\n",
    "model.add(Dropout(0.25))\n",
    "\n",
    "model.add(Flatten())\n",
    "model.add(Dense(128, activation='relu'))\n",
    "model.add(Dropout(0.5))\n",
    "model.add(Dense(12, activation='softmax'))\n",
    "model.summary()"
   ]
  },
  {
   "cell_type": "code",
   "execution_count": 30,
   "metadata": {
    "collapsed": true
   },
   "outputs": [],
   "source": [
    "# 8. Compile model\n",
    "model.compile(loss='categorical_crossentropy',\n",
    "              optimizer='adam',\n",
    "              metrics=['accuracy'])"
   ]
  },
  {
   "cell_type": "code",
   "execution_count": 31,
   "metadata": {
    "collapsed": false
   },
   "outputs": [
    {
     "name": "stdout",
     "output_type": "stream",
     "text": [
      "Epoch 1/30\n",
      "220/220 [==============================] - 1s - loss: 2.1601 - acc: 0.1636     \n",
      "Epoch 2/30\n",
      "220/220 [==============================] - 1s - loss: 1.8716 - acc: 0.3182     \n",
      "Epoch 3/30\n",
      "220/220 [==============================] - 1s - loss: 1.6592 - acc: 0.4091     \n",
      "Epoch 4/30\n",
      "220/220 [==============================] - 1s - loss: 1.4607 - acc: 0.4182     \n",
      "Epoch 5/30\n",
      "220/220 [==============================] - 1s - loss: 1.3072 - acc: 0.5136     \n",
      "Epoch 6/30\n",
      "220/220 [==============================] - 1s - loss: 1.1830 - acc: 0.5136     \n",
      "Epoch 7/30\n",
      "220/220 [==============================] - 1s - loss: 1.0181 - acc: 0.6136     \n",
      "Epoch 8/30\n",
      "220/220 [==============================] - 1s - loss: 1.0181 - acc: 0.6273     \n",
      "Epoch 9/30\n",
      "220/220 [==============================] - 1s - loss: 0.9159 - acc: 0.6727     \n",
      "Epoch 10/30\n",
      "220/220 [==============================] - 1s - loss: 0.8745 - acc: 0.6682     \n",
      "Epoch 11/30\n",
      "220/220 [==============================] - 1s - loss: 0.7989 - acc: 0.6909     \n",
      "Epoch 12/30\n",
      "220/220 [==============================] - 1s - loss: 0.7361 - acc: 0.7227     \n",
      "Epoch 13/30\n",
      "220/220 [==============================] - 1s - loss: 0.7141 - acc: 0.7227     \n",
      "Epoch 14/30\n",
      "220/220 [==============================] - 1s - loss: 0.6395 - acc: 0.7909     \n",
      "Epoch 15/30\n",
      "220/220 [==============================] - 1s - loss: 0.5931 - acc: 0.8045     \n",
      "Epoch 16/30\n",
      "220/220 [==============================] - 1s - loss: 0.5838 - acc: 0.7909     \n",
      "Epoch 17/30\n",
      "220/220 [==============================] - 1s - loss: 0.5611 - acc: 0.7955     \n",
      "Epoch 18/30\n",
      "220/220 [==============================] - 1s - loss: 0.5144 - acc: 0.8364     \n",
      "Epoch 19/30\n",
      "220/220 [==============================] - 1s - loss: 0.4864 - acc: 0.8409     \n",
      "Epoch 20/30\n",
      "220/220 [==============================] - 1s - loss: 0.4661 - acc: 0.8091     \n",
      "Epoch 21/30\n",
      "220/220 [==============================] - 1s - loss: 0.4558 - acc: 0.8455     \n",
      "Epoch 22/30\n",
      "220/220 [==============================] - 1s - loss: 0.4865 - acc: 0.8227     \n",
      "Epoch 23/30\n",
      "220/220 [==============================] - 1s - loss: 0.4789 - acc: 0.8273     \n",
      "Epoch 24/30\n",
      "220/220 [==============================] - 1s - loss: 0.4484 - acc: 0.8545     \n",
      "Epoch 25/30\n",
      "220/220 [==============================] - 1s - loss: 0.4271 - acc: 0.8455     \n",
      "Epoch 26/30\n",
      "220/220 [==============================] - 1s - loss: 0.4344 - acc: 0.8545     \n",
      "Epoch 27/30\n",
      "220/220 [==============================] - 1s - loss: 0.3878 - acc: 0.8636     \n",
      "Epoch 28/30\n",
      "220/220 [==============================] - 1s - loss: 0.3539 - acc: 0.8727     \n",
      "Epoch 29/30\n",
      "220/220 [==============================] - 2s - loss: 0.3759 - acc: 0.8682     \n",
      "Epoch 30/30\n",
      "220/220 [==============================] - 2s - loss: 0.3289 - acc: 0.8864     \n"
     ]
    }
   ],
   "source": [
    "# 9. Fit model on training data\n",
    "history = model.fit(X_train, Y_train, \n",
    "          batch_size=32, nb_epoch=30, verbose=1)"
   ]
  },
  {
   "cell_type": "code",
   "execution_count": 32,
   "metadata": {
    "collapsed": false
   },
   "outputs": [
    {
     "data": {
      "text/plain": [
       "<keras.callbacks.History at 0x118fdb630>"
      ]
     },
     "execution_count": 32,
     "metadata": {},
     "output_type": "execute_result"
    }
   ],
   "source": [
    "history"
   ]
  },
  {
   "cell_type": "code",
   "execution_count": 33,
   "metadata": {
    "collapsed": false
   },
   "outputs": [
    {
     "name": "stdout",
     "output_type": "stream",
     "text": [
      "dict_keys(['loss', 'acc'])\n"
     ]
    },
    {
     "data": {
      "image/png": "[encoded data removed]",
      "text/plain": [
       "<matplotlib.figure.Figure at 0x118fdbfd0>"
      ]
     },
     "metadata": {},
     "output_type": "display_data"
    }
   ],
   "source": [
    "# list all data in history\n",
    "print(history.history.keys())\n",
    "# summarize history for accuracy\n",
    "plt.plot(history.history['acc'])\n",
    "#plt.plot(history.history['val_acc'])\n",
    "plt.title('model accuracy')\n",
    "plt.ylabel('accuracy')\n",
    "plt.xlabel('epoch')\n",
    "plt.legend(['train', 'test'], loc='upper left')\n",
    "plt.show()\n"
   ]
  },
  {
   "cell_type": "code",
   "execution_count": 37,
   "metadata": {
    "collapsed": false
   },
   "outputs": [
    {
     "data": {
      "image/png": "[encoded data removed]",
      "text/plain": [
       "<matplotlib.figure.Figure at 0x10fbf7320>"
      ]
     },
     "metadata": {},
     "output_type": "display_data"
    }
   ],
   "source": [
    "# summarize history for loss\n",
    "plt.plot(history.history['loss'])\n",
    "#plt.plot(history.history['val_loss'])\n",
    "plt.title('model loss')\n",
    "plt.ylabel('loss')\n",
    "plt.xlabel('epoch')\n",
    "plt.legend(['train', 'test'], loc='upper right')\n",
    "plt.show()"
   ]
  },
  {
   "cell_type": "code",
   "execution_count": 35,
   "metadata": {
    "collapsed": true
   },
   "outputs": [],
   "source": [
    "# 10. Evaluate model on test data\n",
    "score = model.evaluate(X_test, Y_test, verbose=0)"
   ]
  },
  {
   "cell_type": "code",
   "execution_count": 36,
   "metadata": {
    "collapsed": false
   },
   "outputs": [
    {
     "data": {
      "text/plain": [
       "[0.29633399573239411, 0.88636364178224047]"
      ]
     },
     "execution_count": 36,
     "metadata": {},
     "output_type": "execute_result"
    }
   ],
   "source": [
    "score"
   ]
  },
  {
   "cell_type": "code",
   "execution_count": null,
   "metadata": {
    "collapsed": true
   },
   "outputs": [],
   "source": []
  },
  {
   "cell_type": "code",
   "execution_count": null,
   "metadata": {
    "collapsed": true
   },
   "outputs": [],
   "source": []
  },
  {
   "cell_type": "code",
   "execution_count": null,
   "metadata": {
    "collapsed": true
   },
   "outputs": [],
   "source": []
  },
  {
   "cell_type": "code",
   "execution_count": null,
   "metadata": {
    "collapsed": true
   },
   "outputs": [],
   "source": []
  },
  {
   "cell_type": "code",
   "execution_count": null,
   "metadata": {
    "collapsed": true
   },
   "outputs": [],
   "source": [
    "suffled_data = data.sample(frac=1)"
   ]
  },
  {
   "cell_type": "code",
   "execution_count": null,
   "metadata": {
    "collapsed": false
   },
   "outputs": [],
   "source": [
    "suffled_data.reset_index(drop=True)"
   ]
  },
  {
   "cell_type": "code",
   "execution_count": null,
   "metadata": {
    "collapsed": true
   },
   "outputs": [],
   "source": [
    "del suffled_data[\"run_id\"]"
   ]
  },
  {
   "cell_type": "code",
   "execution_count": null,
   "metadata": {
    "collapsed": true
   },
   "outputs": [],
   "source": [
    "del suffled_data[\"fast\"]"
   ]
  },
  {
   "cell_type": "code",
   "execution_count": null,
   "metadata": {
    "collapsed": false
   },
   "outputs": [],
   "source": [
    "suffled_data.head()"
   ]
  },
  {
   "cell_type": "code",
   "execution_count": null,
   "metadata": {
    "collapsed": true
   },
   "outputs": [],
   "source": [
    "suffled_data.to_csv(\"logs_mixed_traffic_3runs.csv\",index=False)"
   ]
  },
  {
   "cell_type": "code",
   "execution_count": null,
   "metadata": {
    "collapsed": true
   },
   "outputs": [],
   "source": []
  },
  {
   "cell_type": "code",
   "execution_count": null,
   "metadata": {
    "collapsed": true
   },
   "outputs": [],
   "source": []
  },
  {
   "cell_type": "code",
   "execution_count": null,
   "metadata": {
    "collapsed": true
   },
   "outputs": [],
   "source": []
  },
  {
   "cell_type": "code",
   "execution_count": null,
   "metadata": {
    "collapsed": true
   },
   "outputs": [],
   "source": []
  },
  {
   "cell_type": "code",
   "execution_count": null,
   "metadata": {
    "collapsed": true
   },
   "outputs": [],
   "source": []
  },
  {
   "cell_type": "code",
   "execution_count": null,
   "metadata": {
    "collapsed": true
   },
   "outputs": [],
   "source": []
  }
 ],
 "metadata": {
  "anaconda-cloud": {},
  "kernelspec": {
   "display_name": "Python [conda env:deep_learning]",
   "language": "python",
   "name": "conda-env-deep_learning-py"
  },
  "language_info": {
   "codemirror_mode": {
    "name": "ipython",
    "version": 3
   },
   "file_extension": ".py",
   "mimetype": "text/x-python",
   "name": "python",
   "nbconvert_exporter": "python",
   "pygments_lexer": "ipython3",
   "version": "3.6.0"
  }
 },
 "nbformat": 4,
 "nbformat_minor": 2
}
