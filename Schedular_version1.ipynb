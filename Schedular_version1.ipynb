{
 "cells": [
  {
   "cell_type": "code",
   "execution_count": null,
   "metadata": {
    "collapsed": true
   },
   "outputs": [],
   "source": [
    "# This schedular performs sample transfers for small files. \n",
    "# then it performs gets the local maxima from the throughput curve."
   ]
  },
  {
   "cell_type": "markdown",
   "metadata": {},
   "source": [
    "# Pre-requisite:"
   ]
  },
  {
   "cell_type": "raw",
   "metadata": {},
   "source": [
    "Things you need to do before running this script. \n",
    "    + Obviously choose to node with gridftp server working.\n",
    "    + Check whether globus-url-copy is working or not. \n",
    "    + Run gloubus-gridftp-sever with port in anonymous mode, or just do module load on XSEDE.\n",
    "    + You can use different ports in source and destination, however, use same port number for this script.\n",
    "    + Then run FileGenSimple.py to create the dataset or choose a dataset to transfer.\n",
    "    + Update the variables accordingly. Be consistant with FileGenSimple.py parameters. \n",
    "    + Measure RTT and bandwidth of the link, you might need those information in variable section. \n",
    "    "
   ]
  },
  {
   "cell_type": "markdown",
   "metadata": {},
   "source": [
    "# Libraries:"
   ]
  },
  {
   "cell_type": "code",
   "execution_count": 26,
   "metadata": {
    "collapsed": true
   },
   "outputs": [],
   "source": [
    "import os\n",
    "import random\n",
    "import sys, time\n",
    "import datetime\n",
    "import math"
   ]
  },
  {
   "cell_type": "markdown",
   "metadata": {},
   "source": [
    "# Variables:\n"
   ]
  },
  {
   "cell_type": "code",
   "execution_count": 27,
   "metadata": {
    "collapsed": false
   },
   "outputs": [
    {
     "name": "stdout",
     "output_type": "stream",
     "text": [
      "source node:  evenstar.cse.buffalo.edu\n",
      "destination node:  didclab-ws10.cse.buffalo.edu\n",
      "control port:  50000  This port is same to both source and destination, just to make life easy\n",
      "dataset path in source:  /home/zulkar/dataset/first_one/\n",
      "destination path:  /home/zulkar/received/\n",
      "link bandwidth:  1\n",
      "rtt:  0.2\n",
      "buffer size:  25600\n"
     ]
    }
   ],
   "source": [
    "# Feel free to update those variable. If you know \n",
    "# what you are doing! :-)\n",
    "\n",
    "# node information: \n",
    "source = 'evenstar.cse.buffalo.edu'\n",
    "destination = 'didclab-ws10.cse.buffalo.edu'\n",
    "port = 50000\n",
    "source_path = \"/home/zulkar/dataset/first_one/\"\n",
    "destination_path = \"/home/zulkar/received/\"\n",
    "\n",
    "\n",
    "# Network information: \n",
    "bandwidth = 1  # Gbps\n",
    "rtt = 0.2   # ms\n",
    "\n",
    "# Dataset information:\n",
    "# group range is a dictionary with key as group names:\n",
    "# group means file size range e.g. small, medium, large \n",
    "# value of this dictionary is a list:\n",
    "#      first element : lowest filesize\n",
    "#      second element : hight filesize\n",
    "#      third element : number of files\n",
    "#      fourth element : sample folders\n",
    "group_range = {'1':[1,40,100,10],'2':[100,600,50,4],'3':[900,10000,10,10]}\n",
    "ind_low  = 0\n",
    "ind_high = 1\n",
    "ind_n = 2\n",
    "ind_samples = 3\n",
    "\n",
    "\n",
    "#################### Derived variables : Don't Set those ! ################\n",
    "full_source = \"file://\" + source_path  + \"/\"\n",
    "full_destination = 'ftp://' + destination + \":\" + str(port) + destination_path\n",
    "\n",
    "buffer_size = int((bandwidth*1024*rtt*1000)/8)\n",
    "\n",
    "\n",
    "######################################################################\n",
    "\n",
    "print(\"source node: \", source)\n",
    "print(\"destination node: \", destination)\n",
    "print(\"control port: \", port, \" This port is same to both source and destination, just to make life easy\")\n",
    "print(\"dataset path in source: \", source_path)\n",
    "print(\"destination path: \", destination_path)\n",
    "print(\"link bandwidth: \", bandwidth)\n",
    "print(\"rtt: \", rtt)\n",
    "print(\"buffer size: \", buffer_size)"
   ]
  },
  {
   "cell_type": "code",
   "execution_count": null,
   "metadata": {
    "collapsed": true
   },
   "outputs": [],
   "source": []
  },
  {
   "cell_type": "code",
   "execution_count": null,
   "metadata": {
    "collapsed": true
   },
   "outputs": [],
   "source": []
  },
  {
   "cell_type": "markdown",
   "metadata": {},
   "source": [
    "# Methods:"
   ]
  },
  {
   "cell_type": "code",
   "execution_count": 28,
   "metadata": {
    "collapsed": true
   },
   "outputs": [],
   "source": [
    "def getFolderSize(folder):\n",
    "    \"\"\" This function takes full path of a folder as input\n",
    "        Returns size of whole folder in (bytes)\n",
    "    \"\"\"\n",
    "    total_size = os.path.getsize(folder)\n",
    "    for item in os.listdir(folder):\n",
    "        itempath = os.path.join(folder, item)\n",
    "        if os.path.isfile(itempath):\n",
    "            total_size += os.path.getsize(itempath)\n",
    "        elif os.path.isdir(itempath):\n",
    "            total_size += getFolderSize(itempath)\n",
    "    return total_size # bytes"
   ]
  },
  {
   "cell_type": "code",
   "execution_count": 29,
   "metadata": {
    "collapsed": false
   },
   "outputs": [],
   "source": [
    "def perform_transfer(source, destination, p = 1, cc=1, pp=1, fast=True, tcp_bs=25600):\n",
    "    \"\"\"To do a transfer you need to provide:\n",
    "            source \n",
    "            destination\n",
    "            p\n",
    "            cc\n",
    "            pp\n",
    "            fast\n",
    "            tcp-bs\n",
    "       performs the transfer and returns \n",
    "           throughput\n",
    "           time\n",
    "    \"\"\"\n",
    "    space = \" \"\n",
    "    globus_cmd = \"globus-url-copy\" + \\\n",
    "                    space + \"-tcp-bs\" + space + str(tcp_bs) + \\\n",
    "                    space + \"-p\" + space + str(p) + \\\n",
    "                    space + \"-cc\" + space + str(cc) + \\\n",
    "                    space + \"-pp\" + space + str(pp) + \\\n",
    "                    space + full_source + \\\n",
    "                    space + full_destination\n",
    "    globus_cmd \n",
    "    \n",
    "    print(\"started data transfer: \")\n",
    "    print(\"globus command:\",globus_cmd)\n",
    "    \n",
    "    \n",
    "    transfer_start_time = time.time()\n",
    "    os.system(globus_cmd)\n",
    "    transfer_finish_time = time.time()  # in seconds\n",
    "    \n",
    "    time_required = transfer_finish_time - transfer_start_time \n",
    "    bytes_xfered = getFolderSize(sample_path)\n",
    "    \n",
    "    \n",
    "    throughput = ( bytes_xfered *8) / (time_required * 1024 * 1024 )     # in Giga bit per seconds\n",
    "    throughput\n",
    "    \n",
    "    print(\"transfer finished !\")\n",
    "    print(\"bytes transferred: \", bytes_xfered)\n",
    "    print(\"time needed for transfer: \", time_required, \"s.\")\n",
    "    print(\"throughput: \", throughput)\n",
    "    \n",
    "    return time_required, throughput"
   ]
  },
  {
   "cell_type": "code",
   "execution_count": null,
   "metadata": {
    "collapsed": true
   },
   "outputs": [],
   "source": []
  },
  {
   "cell_type": "code",
   "execution_count": null,
   "metadata": {
    "collapsed": true
   },
   "outputs": [],
   "source": []
  },
  {
   "cell_type": "code",
   "execution_count": null,
   "metadata": {
    "collapsed": true
   },
   "outputs": [],
   "source": []
  },
  {
   "cell_type": "code",
   "execution_count": null,
   "metadata": {
    "collapsed": true
   },
   "outputs": [],
   "source": []
  },
  {
   "cell_type": "markdown",
   "metadata": {},
   "source": [
    "# Schedular:"
   ]
  },
  {
   "cell_type": "code",
   "execution_count": 30,
   "metadata": {
    "collapsed": true
   },
   "outputs": [],
   "source": [
    "# perform initial transfer from small files.\n",
    "# group_1 is the small files:\n"
   ]
  },
  {
   "cell_type": "code",
   "execution_count": 35,
   "metadata": {
    "collapsed": false
   },
   "outputs": [],
   "source": [
    "# initialize sample data structure for samples to be transferred.\n",
    "# its a three level deep dictionary:\n",
    "# level one : map - group_id to sample_id\n",
    "# level two : map - sample_id to sample_fields\n",
    "# level three : map sample_fields to corresponding values\n",
    "# sample_info = { <group_id> : { <sample_id> : { 'path': <path_val>,\n",
    "#                                         'size': <samplesize in bytes>,\n",
    "#                                         'transferred': <transferred_or_not boolean>,\n",
    "#                                         'throughput' : <throughput_val in Gbps>,\n",
    "#                                         'transfer-time' : <val>,\n",
    "#                                         'p' : <p_value>,\n",
    "#                                         'cc' : <cc_value>,\n",
    "#                                         'pp' : <pp_value>,\n",
    "#                                         'fast' : <fast value>,\n",
    "#                                         'tcp-bs': <tcp_buffer size>,\n",
    "#                                         'traffic-intensity': <intensity from 0 to 1>}}}\n",
    "\n",
    "sample_info = {}\n",
    "for key, value in group_range.items():\n",
    "    group_id = key\n",
    "    n_samples = value[ind_samples]\n",
    "    \n",
    "    level_two_dict = {}\n",
    "    for sample in range(n_samples):\n",
    "        level_three_dict = {}\n",
    "        \n",
    "        # Compute path:\n",
    "        sample_folder_name = 'sample_' + group_id + '_' + str(sample)\n",
    "        full_sample_path = source_path + sample_folder_name\n",
    "        \n",
    "        level_three_dict['path'] = full_sample_path\n",
    "        \n",
    "        # Compute size:\n",
    "        level_three_dict['size'] = getFolderSize(full_sample_path)\n",
    "        \n",
    "        level_three_dict['transferred'] = False\n",
    "        \n",
    "        level_three_dict['p'] = 0\n",
    "        \n",
    "        level_three_dict['cc'] = 0\n",
    "        \n",
    "        level_three_dict['pp'] = 0\n",
    "        \n",
    "        level_three_dict['fast'] = 'false'\n",
    "        \n",
    "        level_three_dict['tcp-bs'] = 25600\n",
    "        \n",
    "        level_three_dict['throughput'] = 0\n",
    "        \n",
    "        level_three_dict['transfer-time'] = 0 \n",
    "        \n",
    "        \n",
    "        # Add level three dict to level two dict\n",
    "        sample_name = str(sample)\n",
    "        level_two_dict[sample_name] = level_three_dict\n",
    "    \n",
    "    # Add level two dict to level one dict  (sample_info)  \n",
    "    sample_info[group_id] = level_two_dict\n",
    "#sample_info"
   ]
  },
  {
   "cell_type": "code",
   "execution_count": 36,
   "metadata": {
    "collapsed": false
   },
   "outputs": [
    {
     "data": {
      "text/plain": [
       "{'cc': 0,\n",
       " 'fast': 'false',\n",
       " 'p': 0,\n",
       " 'path': '/home/zulkar/dataset/first_one/sample_1_2',\n",
       " 'pp': 0,\n",
       " 'size': 80744448,\n",
       " 'tcp-bs': 25600,\n",
       " 'throughput': 0,\n",
       " 'transfer-time': 0,\n",
       " 'transferred': False}"
      ]
     },
     "execution_count": 36,
     "metadata": {},
     "output_type": "execute_result"
    }
   ],
   "source": [
    "sample_info['1']['2']"
   ]
  },
  {
   "cell_type": "code",
   "execution_count": 15,
   "metadata": {
    "collapsed": false
   },
   "outputs": [
    {
     "name": "stdout",
     "output_type": "stream",
     "text": [
      "Total size of dataset : 146766.29296875 Mbytes\n"
     ]
    }
   ],
   "source": [
    "# Get the total dataset size in bytes:\n",
    "dataset_size = getFolderSize(source_path)\n",
    "print(\"Total size of dataset :\", dataset_size/(1024*1024), \"Mbytes\")"
   ]
  },
  {
   "cell_type": "code",
   "execution_count": 19,
   "metadata": {
    "collapsed": false
   },
   "outputs": [
    {
     "data": {
      "text/plain": [
       "10"
      ]
     },
     "execution_count": 19,
     "metadata": {},
     "output_type": "execute_result"
    }
   ],
   "source": [
    "# get information of all small samples:\n",
    "group_id = '1'\n",
    "sample_id = '0'\n",
    "\n",
    "# get local \n",
    "\n"
   ]
  },
  {
   "cell_type": "code",
   "execution_count": null,
   "metadata": {
    "collapsed": true
   },
   "outputs": [],
   "source": []
  },
  {
   "cell_type": "code",
   "execution_count": null,
   "metadata": {
    "collapsed": true
   },
   "outputs": [],
   "source": []
  },
  {
   "cell_type": "code",
   "execution_count": null,
   "metadata": {
    "collapsed": true
   },
   "outputs": [],
   "source": []
  },
  {
   "cell_type": "code",
   "execution_count": null,
   "metadata": {
    "collapsed": true
   },
   "outputs": [],
   "source": []
  },
  {
   "cell_type": "code",
   "execution_count": null,
   "metadata": {
    "collapsed": true
   },
   "outputs": [],
   "source": []
  },
  {
   "cell_type": "code",
   "execution_count": null,
   "metadata": {
    "collapsed": true
   },
   "outputs": [],
   "source": []
  },
  {
   "cell_type": "code",
   "execution_count": null,
   "metadata": {
    "collapsed": true
   },
   "outputs": [],
   "source": []
  },
  {
   "cell_type": "code",
   "execution_count": null,
   "metadata": {
    "collapsed": true
   },
   "outputs": [],
   "source": []
  },
  {
   "cell_type": "code",
   "execution_count": null,
   "metadata": {
    "collapsed": true
   },
   "outputs": [],
   "source": []
  },
  {
   "cell_type": "code",
   "execution_count": null,
   "metadata": {
    "collapsed": true
   },
   "outputs": [],
   "source": []
  },
  {
   "cell_type": "code",
   "execution_count": null,
   "metadata": {
    "collapsed": true
   },
   "outputs": [],
   "source": []
  },
  {
   "cell_type": "code",
   "execution_count": null,
   "metadata": {
    "collapsed": true
   },
   "outputs": [],
   "source": []
  },
  {
   "cell_type": "code",
   "execution_count": null,
   "metadata": {
    "collapsed": true
   },
   "outputs": [],
   "source": []
  },
  {
   "cell_type": "code",
   "execution_count": null,
   "metadata": {
    "collapsed": true
   },
   "outputs": [],
   "source": []
  },
  {
   "cell_type": "code",
   "execution_count": null,
   "metadata": {
    "collapsed": true
   },
   "outputs": [],
   "source": []
  }
 ],
 "metadata": {
  "anaconda-cloud": {},
  "kernelspec": {
   "display_name": "Python [conda env:power_env]",
   "language": "python",
   "name": "conda-env-power_env-py"
  },
  "language_info": {
   "codemirror_mode": {
    "name": "ipython",
    "version": 3
   },
   "file_extension": ".py",
   "mimetype": "text/x-python",
   "name": "python",
   "nbconvert_exporter": "python",
   "pygments_lexer": "ipython3",
   "version": "3.5.3"
  }
 },
 "nbformat": 4,
 "nbformat_minor": 2
}
