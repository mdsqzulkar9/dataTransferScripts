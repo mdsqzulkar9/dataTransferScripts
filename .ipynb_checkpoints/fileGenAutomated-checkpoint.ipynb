{
 "cells": [
  {
   "cell_type": "raw",
   "metadata": {
    "collapsed": true
   },
   "source": [
    "Script : Dataset creation, Prepare system for data transfer, and store results.\n",
    "\n",
    "In this notebook we are going to create dataset and make our system ready for coming data transfer.\n",
    "To do that, we need to set some variables. We also need file system level access in both source and destination. \n",
    "you have to put your user credential in a file name called \"user.txt\". all possible variables can be controled from User control section.Make sure all the input files are in appropriate places.\n",
    "\n",
    "In this version, you need a fileGen.jar placed in the file system of source. It will generate files by reading the requirements such as- average file size, number of files from the  \"inputfile.txt\"  file. So you need to put \"inputfile.txt\" in the same directory of the fileGen.jar in source node. \n",
    "\n",
    "This script has two parts, \n",
    "    (1) init part : data creation, Prepare system for data transfer\n",
    "    (2) finalize part : collect the log file, and other necessary files, zip them, copy them\n",
    "        to a repository. \n",
    "Running Sequence : \n",
    "    (1) init part : from the script\n",
    "    (2) login to the source.\n",
    "    (3) module load globus/5.2.5\n",
    "    (4) myproxy-logon -t 9999 -l zulkar9\n",
    "    (5) cd /dataTransferScripts/xfer/\n",
    "    (6) python xfer_version3.py\n",
    "    (7) finalize part : from this script\n",
    "Version - 1.01 \n",
    "Author : Md S Q Zulkar-Nine     Date: May 20, 2016"
   ]
  },
  {
   "cell_type": "code",
   "execution_count": 1,
   "metadata": {
    "collapsed": true
   },
   "outputs": [],
   "source": [
    "# import modules over here\n",
    "import paramiko\n",
    "import os"
   ]
  },
  {
   "cell_type": "code",
   "execution_count": 2,
   "metadata": {
    "collapsed": false
   },
   "outputs": [],
   "source": [
    "## User Control Section :\n",
    "\n",
    "# valid source values : \n",
    "#        stampede\n",
    "#        gordon\n",
    "source = 'stampede'   \n",
    "source_partition = 'scratch'   # can be scratch or home \n",
    "# valid destination_key values:\n",
    "#        stampede\n",
    "#        gordon    \n",
    "destination = 'gordon'  # can be : stampede or gordon\n",
    "destination_partition = 'scratch' # can be scratch or home \n",
    "\n",
    "# Dataset folder name :\n",
    "dataset_folder_name = 'small'\n",
    "\n",
    "\n",
    "# fileGen.jar : input files:\n",
    "input_file_name = \"inputfile.txt\"\n",
    "statistics_file_name = \"statistics.txt\"\n",
    "subfolder_name_file = \"subfolders.txt\"\n",
    "fileGen_location = \"dataTransferScripts/fileGen/\"\n",
    "\n",
    "# User crediential file : where you have to provide your username\n",
    "# and password for both source and destination. \n",
    "user_credential_file = \"user.txt\"\n",
    "\n",
    "\n",
    "# Defined variables:\n",
    "site_name_to_url_dict ={\n",
    "    'stampede':'stampede.tacc.xsede.org',\n",
    "    'gordon':'oasis-dm.sdsc.xsede.org',\n",
    "}\n",
    "\n",
    "name_to_directory_dict = {\n",
    "    'stampede-home':'/home1/03644/zulkar9/',\n",
    "    'stampede-scratch':'/scratch/03644/zulkar9/',\n",
    "    'gordon-home':'/home/mdsqzulk/',\n",
    "    'gordon-scratch':'/oasis/scratch/mdsqzulk/temp_project/'   \n",
    "}\n",
    "\n",
    "\n",
    "if(source == destination):\n",
    "    print('Check control variables. Source and destination have same keys!')\n",
    "    sys.exit();\n",
    "\n",
    "\n",
    "# setup source url : \n",
    "source_url = site_name_to_url_dict[source]\n",
    "destination_url = site_name_to_url_dict[destination]\n",
    "\n",
    "\n",
    "# setup source and destination directory: \n",
    "source_key = source+\"-\"+source_partition\n",
    "destination_key = destination+\"-\"+destination_partition\n",
    "\n",
    "source_home_dir = name_to_directory_dict[source+'-home']\n",
    "\n",
    "source_directory = name_to_directory_dict[source_key]\n",
    "destination_directory = name_to_directory_dict[destination_key]"
   ]
  },
  {
   "cell_type": "code",
   "execution_count": 3,
   "metadata": {
    "collapsed": false
   },
   "outputs": [],
   "source": [
    "# read credentials : \n",
    "user_file = open(user_credential_file,'r')\n",
    "credentials = user_file.read().splitlines()\n",
    "source_credentials = credentials[:2]\n",
    "destination_credentials = credentials[2:]"
   ]
  },
  {
   "cell_type": "code",
   "execution_count": 4,
   "metadata": {
    "collapsed": true
   },
   "outputs": [],
   "source": [
    "# open a SSH Session in source:\n",
    "ssh_source = paramiko.SSHClient()\n",
    "ssh_source.set_missing_host_key_policy(\n",
    "    paramiko.AutoAddPolicy())\n",
    "ssh_source.connect(source_url, username=source_credentials[0], password=source_credentials[1])\n",
    "\n",
    "# open a SSH Session in destination:\n",
    "ssh_destination = paramiko.SSHClient()\n",
    "ssh_destination.set_missing_host_key_policy(\n",
    "    paramiko.AutoAddPolicy())\n",
    "ssh_destination.connect(destination_url, username=destination_credentials[0], password=destination_credentials[1])\n"
   ]
  },
  {
   "cell_type": "code",
   "execution_count": 5,
   "metadata": {
    "collapsed": false
   },
   "outputs": [
    {
     "data": {
      "text/plain": [
       "'java -jar /home1/03644/zulkar9/dataTransferScripts/fileGen/fileGen.jar -verbose -f inputfile.txt -s statistics.txt -d /scratch/03644/zulkar9/small -sfl subfolders.txt'"
      ]
     },
     "execution_count": 5,
     "metadata": {},
     "output_type": "execute_result"
    }
   ],
   "source": [
    "# create fileGen.jar command:\n",
    "# An example : java -jar fileGen.jar -verbose -f inputfile.txt -s statistics.txt \n",
    "#                           -d /scratch/03644/zulkar9/medium -sfl subfolders.txt\n",
    "# fileGen_location : /home1/03644/zulkar9/dataTransferScripts/fileGen/fileGen.jar\n",
    "\n",
    "base_command = \"java -jar\"\n",
    "fileGen_file = \"fileGen.jar\"\n",
    "arg_verbose = \"-verbose\"\n",
    "space = \" \"\n",
    "arg_input_file = \"-f\" + space + input_file_name\n",
    "arg_stat_file = \"-s\" + space + statistics_file_name\n",
    "file_location = source_directory + dataset_folder_name\n",
    "arg_file_location = \"-d\" + space + file_location\n",
    "arg_subfolder = \"-sfl\" + space + subfolder_name_file\n",
    "\n",
    "\n",
    "fileGen_command =   base_command + space + source_home_dir + \\\n",
    "                    fileGen_location + fileGen_file + space +\\\n",
    "                    arg_verbose + \\\n",
    "                    space + arg_input_file + space + \\\n",
    "                    arg_stat_file + space + \\\n",
    "                    arg_file_location + space + \\\n",
    "                    arg_subfolder\n",
    "fileGen_command\n"
   ]
  },
  {
   "cell_type": "code",
   "execution_count": 6,
   "metadata": {
    "collapsed": false
   },
   "outputs": [
    {
     "name": "stdout",
     "output_type": "stream",
     "text": [
      "module load cmd: module load jdk64/1.8.0\n",
      "change dir cmd: cd /home1/03644/zulkar9/dataTransferScripts/fileGen/\n",
      "complete fileGen commands: module load jdk64/1.8.0;cd /home1/03644/zulkar9/dataTransferScripts/fileGen/;java -jar /home1/03644/zulkar9/dataTransferScripts/fileGen/fileGen.jar -verbose -f inputfile.txt -s statistics.txt -d /scratch/03644/zulkar9/small -sfl subfolders.txt\n"
     ]
    },
    {
     "data": {
      "text/plain": [
       "['inputfile.txt\\n',\n",
       " 'statistics.txt\\n',\n",
       " 'subfolders.txt\\n',\n",
       " '/scratch/03644/zulkar9/small\\n',\n",
       " 'fileSize - # of files : \\n',\n",
       " '1.5 20000.0 \\n',\n",
       " '1.5 10000.0 \\n',\n",
       " '2.0 5000.0 \\n',\n",
       " '2.0 1000.0 \\n',\n",
       " '3.0 100.0 \\n',\n",
       " '3.0 500.0 \\n',\n",
       " '5.0 5000.0 \\n',\n",
       " '5.0 1000.0 \\n',\n",
       " 'rows:8\\n',\n",
       " 'i:0\\n',\n",
       " 'f:1.5\\n',\n",
       " 'i:1\\n',\n",
       " 'f:1.5\\n',\n",
       " 'i:2\\n',\n",
       " 'f:2.0\\n',\n",
       " 'i:3\\n',\n",
       " 'f:2.0\\n',\n",
       " 'i:4\\n',\n",
       " 'f:3.0\\n',\n",
       " 'i:5\\n',\n",
       " 'f:3.0\\n',\n",
       " 'i:6\\n',\n",
       " 'f:5.0\\n',\n",
       " 'i:7\\n',\n",
       " 'f:5.0\\n',\n",
       " 'Successfully completed !! : subFolder_1.5MB_20000\\n',\n",
       " 'Successfully completed !! : subFolder_1.5MB_10000\\n',\n",
       " 'Successfully completed !! : subFolder_2MB_5000\\n',\n",
       " 'Successfully completed !! : subFolder_2MB_1000\\n',\n",
       " 'Successfully completed !! : subFolder_3MB_100\\n',\n",
       " 'Successfully completed !! : subFolder_3MB_500\\n',\n",
       " 'Successfully completed !! : subFolder_5MB_5000\\n',\n",
       " 'Successfully completed !! : subFolder_5MB_1000\\n',\n",
       " 'Successfully completed !! : listing subfolders\\n']"
      ]
     },
     "execution_count": 6,
     "metadata": {},
     "output_type": "execute_result"
    }
   ],
   "source": [
    "#execue fileGen.jar command :\n",
    "semi_colon = ';'\n",
    "module_load_command = 'module load jdk64/1.8.0'\n",
    "print(\"module load cmd:\",module_load_command)\n",
    "\n",
    "\n",
    "# change directory command: \n",
    "base_command = 'cd'\n",
    "space = ' '\n",
    "path_fileGen = source_home_dir + fileGen_location\n",
    "\n",
    "change_directory_command = base_command + space + path_fileGen\n",
    "print(\"change dir cmd:\",change_directory_command)\n",
    "\n",
    "complete_command =  module_load_command + semi_colon + \\\n",
    "                    change_directory_command + semi_colon + \\\n",
    "                    fileGen_command\n",
    "                        \n",
    "print(\"complete fileGen commands:\",complete_command)\n",
    "ssh_stdin, ssh_stdout, ssh_stderr = ssh_source.exec_command(complete_command)\n",
    "#ssh_stdin, ssh_stdout, ssh_stderr = ssh_source.exec_command(\"cd /home1/03644/zulkar9/dataTransferScripts/fileGen/\")\n",
    "#ssh_stdin, ssh_stdout, ssh_stderr = ssh_source.exec_command(fileGen_command)\n",
    "\n",
    "\n",
    "#ssh_stdin, ssh_stdout, ssh_stderr = ssh_source.exec_command(\"ls\")\n",
    "ssh_stdout.readlines()"
   ]
  },
  {
   "cell_type": "code",
   "execution_count": 7,
   "metadata": {
    "collapsed": false
   },
   "outputs": [
    {
     "name": "stdout",
     "output_type": "stream",
     "text": [
      "line: subFolder_1.5MB_20000\n",
      "line: subFolder_1.5MB_10000\n",
      "line: subFolder_2MB_5000\n",
      "line: subFolder_2MB_1000\n",
      "line: subFolder_3MB_100\n",
      "line: subFolder_3MB_500\n",
      "line: subFolder_5MB_5000\n",
      "line: subFolder_5MB_1000\n"
     ]
    },
    {
     "data": {
      "text/plain": [
       "['subFolder_1.5MB_20000',\n",
       " 'subFolder_1.5MB_10000',\n",
       " 'subFolder_2MB_5000',\n",
       " 'subFolder_2MB_1000',\n",
       " 'subFolder_3MB_100',\n",
       " 'subFolder_3MB_500',\n",
       " 'subFolder_5MB_5000',\n",
       " 'subFolder_5MB_1000']"
      ]
     },
     "execution_count": 7,
     "metadata": {},
     "output_type": "execute_result"
    }
   ],
   "source": [
    "# read the subfolder list file from the source location; \n",
    "# read subfolder file command ; \n",
    "\n",
    "sftp_client = ssh_source.open_sftp()\n",
    "subfolder_list = []\n",
    "subfolder_list_location = source_home_dir + fileGen_location + subfolder_name_file\n",
    "subfolder_list_location\n",
    "remote_file = sftp_client.open(subfolder_list_location)\n",
    "\n",
    "try:\n",
    "    for line in remote_file:\n",
    "        line = line.strip('\\n')\n",
    "        print(\"line:\",line)\n",
    "        subfolder_list.append(line)\n",
    "finally:\n",
    "    remote_file.close()\n",
    "\n",
    "subfolder_list\n",
    "\n"
   ]
  },
  {
   "cell_type": "code",
   "execution_count": 9,
   "metadata": {
    "collapsed": false
   },
   "outputs": [
    {
     "name": "stdout",
     "output_type": "stream",
     "text": [
      "remove command: rm -rf /oasis/scratch/mdsqzulk/temp_project/*\n"
     ]
    }
   ],
   "source": [
    "# create those folders in the destination location ; \n",
    "slash = os.sep\n",
    "destination_dataset =  destination_directory + dataset_folder_name + slash\n",
    "destination_dataset\n",
    "\n",
    "# remove everything from the destination location: \n",
    "base_command = \"rm -rf\"\n",
    "space = \" \"\n",
    "asteric = \"*\"\n",
    "remove_command = base_command + space + destination_directory + asteric\n",
    "print(\"remove command:\",remove_command)\n",
    "\n",
    "\n",
    "ssh_stdin, ssh_stdout, ssh_stderr = ssh_destination.exec_command(remove_command)\n"
   ]
  },
  {
   "cell_type": "code",
   "execution_count": 10,
   "metadata": {
    "collapsed": false
   },
   "outputs": [
    {
     "name": "stdout",
     "output_type": "stream",
     "text": [
      "master data folder creation in destination: mkdir /oasis/scratch/mdsqzulk/temp_project/small/\n",
      "['mkdir /oasis/scratch/mdsqzulk/temp_project/small/subFolder_1.5MB_20000', 'mkdir /oasis/scratch/mdsqzulk/temp_project/small/subFolder_1.5MB_10000', 'mkdir /oasis/scratch/mdsqzulk/temp_project/small/subFolder_2MB_5000', 'mkdir /oasis/scratch/mdsqzulk/temp_project/small/subFolder_2MB_1000', 'mkdir /oasis/scratch/mdsqzulk/temp_project/small/subFolder_3MB_100', 'mkdir /oasis/scratch/mdsqzulk/temp_project/small/subFolder_3MB_500', 'mkdir /oasis/scratch/mdsqzulk/temp_project/small/subFolder_5MB_5000', 'mkdir /oasis/scratch/mdsqzulk/temp_project/small/subFolder_5MB_1000']\n"
     ]
    }
   ],
   "source": [
    "# create the dataset folder :\n",
    "#folder creation command:\n",
    "base_command = \"mkdir\"\n",
    "space = \" \"\n",
    "\n",
    "#create the master folder: \n",
    "master_data_folder_cmd = base_command + space + destination_dataset\n",
    "print(\"master data folder creation in destination:\",master_data_folder_cmd)\n",
    "ssh_stdin, ssh_stdout, ssh_stderr = ssh_destination.exec_command(master_data_folder_cmd)\n",
    "\n",
    "mkdir_command_list = []\n",
    "for subfolder in subfolder_list:\n",
    "    mkdir_command = base_command + space + destination_dataset + subfolder\n",
    "    mkdir_command_list.append( mkdir_command )\n",
    "print(mkdir_command_list)\n",
    "\n",
    "\n",
    "# perform mkdir command : \n",
    "for cmd in mkdir_command_list:\n",
    "    ssh_stdin, ssh_stdout, ssh_stderr = ssh_destination.exec_command(cmd)"
   ]
  },
  {
   "cell_type": "markdown",
   "metadata": {},
   "source": [
    "# Finalize part :\n",
    "\n",
    "# Execute it after data transfer:"
   ]
  },
  {
   "cell_type": "code",
   "execution_count": null,
   "metadata": {
    "collapsed": true
   },
   "outputs": [],
   "source": [
    "# Todo :\n",
    "# add the user control section from init part and establish a session with the source. \n",
    "# you might end-up running this part days after init part. \n",
    "# So make this part independent of the init part.\n",
    "\n",
    "# User control:\n",
    "result_repository = \"\"\n",
    "\n",
    "# collect the log file: \n",
    "# /home1/03644/zulkar9/dataTransferScripts/xfer\n",
    "\n",
    "\n",
    "\n",
    "\n",
    "\n",
    "\n"
   ]
  }
 ],
 "metadata": {
  "kernelspec": {
   "display_name": "Python 3",
   "language": "python",
   "name": "python3"
  },
  "language_info": {
   "codemirror_mode": {
    "name": "ipython",
    "version": 3
   },
   "file_extension": ".py",
   "mimetype": "text/x-python",
   "name": "python",
   "nbconvert_exporter": "python",
   "pygments_lexer": "ipython3",
   "version": "3.5.1"
  }
 },
 "nbformat": 4,
 "nbformat_minor": 0
}
