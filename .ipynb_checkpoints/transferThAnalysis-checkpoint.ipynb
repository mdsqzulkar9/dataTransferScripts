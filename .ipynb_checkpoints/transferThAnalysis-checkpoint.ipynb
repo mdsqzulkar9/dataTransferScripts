{
 "cells": [
  {
   "cell_type": "raw",
   "metadata": {},
   "source": [
    "This notebook is to analyze the transfer throughputs.\n",
    "\n",
    "the dataset repository is in Dropbox:\n",
    "Dropbox/gits/data/ThOpt/master/\n",
    "\n",
    "Important units in the dataset: (your new data must agree with the units)\n",
    "    file_size - Megabytes\n",
    "    number_of_files - number int\n",
    "    bandwidth - Megabytes per second\n",
    "    rtt - millisecond\n",
    "    buffer_size - MegaBytes\n",
    "    p - number - int\n",
    "    cc - number - int\n",
    "    pp - number - int\n",
    "    fast - boolean - {0,1}\n",
    "    throughput - (Mega Byte per second)\n",
    "    time - second\n",
    "    start_time - yyyy-mm-dd HH:MM:SS (e.g. 2015-03-31 00:57:22)\n",
    "    source - string name\n",
    "    destination - string name \n",
    "    \n",
    "\n",
    "    \n",
    "    \n",
    "Author: Md S Q Zulkar Nine     Start Date: June 2, 2016      Last Modified: June 9, 2016"
   ]
  },
  {
   "cell_type": "code",
   "execution_count": null,
   "metadata": {
    "collapsed": false
   },
   "outputs": [],
   "source": [
    "# See the dataset folder in linux-lab:\n",
    "! ls /home/zulkar/Dropbox/gits/data/ThOpt/master/"
   ]
  },
  {
   "cell_type": "code",
   "execution_count": 1,
   "metadata": {
    "collapsed": true
   },
   "outputs": [],
   "source": [
    "# Control variables: \n",
    "\n",
    "# master dataset location:\n",
    "master_location = 'Dropbox/gits/data/ThOpt/master/'\n",
    "\n",
    "# master file name : \n",
    "master_file_name = 'master_06_29_2016_15_00'\n"
   ]
  },
  {
   "cell_type": "code",
   "execution_count": 2,
   "metadata": {
    "collapsed": true
   },
   "outputs": [],
   "source": [
    "# import pandas library:\n",
    "import os\n",
    "import pandas as pds\n",
    "import pylab as pyl\n",
    "import numpy as np\n",
    "%matplotlib inline"
   ]
  },
  {
   "cell_type": "code",
   "execution_count": 3,
   "metadata": {
    "collapsed": false
   },
   "outputs": [
    {
     "data": {
      "text/html": [
       "<style>body {\n",
       "    margin: 0;\n",
       "    font-family: Helvetica;\n",
       "}\n",
       "table.dataframe {\n",
       "    border-collapse: collapse;\n",
       "    border: none;\n",
       "}\n",
       "table.dataframe tr {\n",
       "    border: none;\n",
       "}\n",
       "table.dataframe td, table.dataframe th {\n",
       "    margin: 0;\n",
       "    border: 1px solid white;\n",
       "    padding-left: 0.25em;\n",
       "    padding-right: 0.25em;\n",
       "}\n",
       "table.dataframe th:not(:empty) {\n",
       "    background-color: #fec;\n",
       "    text-align: left;\n",
       "    font-weight: normal;\n",
       "}\n",
       "table.dataframe tr:nth-child(2) th:empty {\n",
       "    border-left: none;\n",
       "    border-right: 1px dashed #888;\n",
       "}\n",
       "table.dataframe td {\n",
       "    border: 2px solid #ccf;\n",
       "    background-color: #f4f4ff;\n",
       "}h3 {\n",
       "    color: white;\n",
       "    background-color: black;\n",
       "    padding: 0.5em;\n",
       "}</style>"
      ],
      "text/plain": [
       "<IPython.core.display.HTML object>"
      ]
     },
     "execution_count": 3,
     "metadata": {},
     "output_type": "execute_result"
    }
   ],
   "source": [
    "# pretty dataframe :\n",
    "from IPython.core.display import HTML\n",
    "css = open('style-table.css').read() + open('style-notebook.css').read()\n",
    "HTML('<style>{}</style>'.format(css))"
   ]
  },
  {
   "cell_type": "code",
   "execution_count": 4,
   "metadata": {
    "collapsed": false
   },
   "outputs": [
    {
     "data": {
      "text/plain": [
       "'/Users/mds/'"
      ]
     },
     "execution_count": 4,
     "metadata": {},
     "output_type": "execute_result"
    }
   ],
   "source": [
    "# required values :\n",
    "\n",
    "# OS file seperator: \n",
    "file_seperator = os.sep\n",
    "\n",
    "\n",
    "# User OS home directory:\n",
    "user_home = os.environ['HOME']\n",
    "user_home = user_home+file_seperator\n",
    "user_home"
   ]
  },
  {
   "cell_type": "code",
   "execution_count": 5,
   "metadata": {
    "collapsed": false,
    "scrolled": true
   },
   "outputs": [
    {
     "data": {
      "text/html": [
       "<div>\n",
       "<table border=\"1\" class=\"dataframe\">\n",
       "  <thead>\n",
       "    <tr style=\"text-align: right;\">\n",
       "      <th></th>\n",
       "      <th>file_size</th>\n",
       "      <th>number_of_files</th>\n",
       "      <th>bandwidth</th>\n",
       "      <th>rtt</th>\n",
       "      <th>buffer_size</th>\n",
       "      <th>p</th>\n",
       "      <th>cc</th>\n",
       "      <th>pp</th>\n",
       "      <th>fast</th>\n",
       "      <th>throughput</th>\n",
       "      <th>time</th>\n",
       "      <th>start_time</th>\n",
       "      <th>source</th>\n",
       "      <th>destination</th>\n",
       "    </tr>\n",
       "  </thead>\n",
       "  <tbody>\n",
       "    <tr>\n",
       "      <th>0</th>\n",
       "      <td>652486</td>\n",
       "      <td>3293</td>\n",
       "      <td>128</td>\n",
       "      <td>0.25</td>\n",
       "      <td>4194304</td>\n",
       "      <td>1</td>\n",
       "      <td>1</td>\n",
       "      <td>1</td>\n",
       "      <td>0</td>\n",
       "      <td>48.360560</td>\n",
       "      <td>42.371396</td>\n",
       "      <td>2015-07-24 00:05:45</td>\n",
       "      <td>Evenstar</td>\n",
       "      <td>Didclab-ws10</td>\n",
       "    </tr>\n",
       "    <tr>\n",
       "      <th>1</th>\n",
       "      <td>652486</td>\n",
       "      <td>3293</td>\n",
       "      <td>128</td>\n",
       "      <td>0.25</td>\n",
       "      <td>4194304</td>\n",
       "      <td>1</td>\n",
       "      <td>1</td>\n",
       "      <td>2</td>\n",
       "      <td>0</td>\n",
       "      <td>56.777687</td>\n",
       "      <td>36.089951</td>\n",
       "      <td>2015-07-24 00:06:27</td>\n",
       "      <td>Evenstar</td>\n",
       "      <td>Didclab-ws10</td>\n",
       "    </tr>\n",
       "    <tr>\n",
       "      <th>2</th>\n",
       "      <td>652486</td>\n",
       "      <td>3293</td>\n",
       "      <td>128</td>\n",
       "      <td>0.25</td>\n",
       "      <td>4194304</td>\n",
       "      <td>1</td>\n",
       "      <td>1</td>\n",
       "      <td>4</td>\n",
       "      <td>0</td>\n",
       "      <td>62.801374</td>\n",
       "      <td>32.628335</td>\n",
       "      <td>2015-07-24 00:07:03</td>\n",
       "      <td>Evenstar</td>\n",
       "      <td>Didclab-ws10</td>\n",
       "    </tr>\n",
       "    <tr>\n",
       "      <th>3</th>\n",
       "      <td>652486</td>\n",
       "      <td>3293</td>\n",
       "      <td>128</td>\n",
       "      <td>0.25</td>\n",
       "      <td>4194304</td>\n",
       "      <td>1</td>\n",
       "      <td>1</td>\n",
       "      <td>8</td>\n",
       "      <td>0</td>\n",
       "      <td>76.870653</td>\n",
       "      <td>26.656531</td>\n",
       "      <td>2015-07-24 00:07:36</td>\n",
       "      <td>Evenstar</td>\n",
       "      <td>Didclab-ws10</td>\n",
       "    </tr>\n",
       "    <tr>\n",
       "      <th>4</th>\n",
       "      <td>652486</td>\n",
       "      <td>3293</td>\n",
       "      <td>128</td>\n",
       "      <td>0.25</td>\n",
       "      <td>4194304</td>\n",
       "      <td>1</td>\n",
       "      <td>1</td>\n",
       "      <td>16</td>\n",
       "      <td>0</td>\n",
       "      <td>79.185026</td>\n",
       "      <td>25.877430</td>\n",
       "      <td>2015-07-24 00:08:03</td>\n",
       "      <td>Evenstar</td>\n",
       "      <td>Didclab-ws10</td>\n",
       "    </tr>\n",
       "  </tbody>\n",
       "</table>\n",
       "</div>"
      ],
      "text/plain": [
       "   file_size  number_of_files  bandwidth   rtt  buffer_size  p  cc  pp  fast  \\\n",
       "0     652486             3293        128  0.25      4194304  1   1   1     0   \n",
       "1     652486             3293        128  0.25      4194304  1   1   2     0   \n",
       "2     652486             3293        128  0.25      4194304  1   1   4     0   \n",
       "3     652486             3293        128  0.25      4194304  1   1   8     0   \n",
       "4     652486             3293        128  0.25      4194304  1   1  16     0   \n",
       "\n",
       "   throughput       time           start_time    source   destination  \n",
       "0   48.360560  42.371396  2015-07-24 00:05:45  Evenstar  Didclab-ws10  \n",
       "1   56.777687  36.089951  2015-07-24 00:06:27  Evenstar  Didclab-ws10  \n",
       "2   62.801374  32.628335  2015-07-24 00:07:03  Evenstar  Didclab-ws10  \n",
       "3   76.870653  26.656531  2015-07-24 00:07:36  Evenstar  Didclab-ws10  \n",
       "4   79.185026  25.877430  2015-07-24 00:08:03  Evenstar  Didclab-ws10  "
      ]
     },
     "execution_count": 5,
     "metadata": {},
     "output_type": "execute_result"
    }
   ],
   "source": [
    "# read the master file : \n",
    "full_master_file_path = user_home + master_location + master_file_name\n",
    "data = pds.read_csv(full_master_file_path)\n",
    "data.head()"
   ]
  },
  {
   "cell_type": "code",
   "execution_count": 6,
   "metadata": {
    "collapsed": false
   },
   "outputs": [
    {
     "data": {
      "text/html": [
       "<div>\n",
       "<table border=\"1\" class=\"dataframe\">\n",
       "  <thead>\n",
       "    <tr style=\"text-align: right;\">\n",
       "      <th></th>\n",
       "      <th>file_size</th>\n",
       "      <th>number_of_files</th>\n",
       "      <th>bandwidth</th>\n",
       "      <th>rtt</th>\n",
       "      <th>buffer_size</th>\n",
       "      <th>p</th>\n",
       "      <th>cc</th>\n",
       "      <th>pp</th>\n",
       "      <th>fast</th>\n",
       "      <th>throughput</th>\n",
       "      <th>time</th>\n",
       "      <th>start_time</th>\n",
       "      <th>source</th>\n",
       "      <th>destination</th>\n",
       "    </tr>\n",
       "  </thead>\n",
       "  <tbody>\n",
       "    <tr>\n",
       "      <th>0</th>\n",
       "      <td>652486</td>\n",
       "      <td>3293</td>\n",
       "      <td>128</td>\n",
       "      <td>0.25</td>\n",
       "      <td>4194304</td>\n",
       "      <td>1</td>\n",
       "      <td>1</td>\n",
       "      <td>1</td>\n",
       "      <td>0</td>\n",
       "      <td>48.360560</td>\n",
       "      <td>42.371396</td>\n",
       "      <td>2015-07-24 00:05:45</td>\n",
       "      <td>Evenstar</td>\n",
       "      <td>Didclab-ws10</td>\n",
       "    </tr>\n",
       "    <tr>\n",
       "      <th>1</th>\n",
       "      <td>652486</td>\n",
       "      <td>3293</td>\n",
       "      <td>128</td>\n",
       "      <td>0.25</td>\n",
       "      <td>4194304</td>\n",
       "      <td>1</td>\n",
       "      <td>1</td>\n",
       "      <td>2</td>\n",
       "      <td>0</td>\n",
       "      <td>56.777687</td>\n",
       "      <td>36.089951</td>\n",
       "      <td>2015-07-24 00:06:27</td>\n",
       "      <td>Evenstar</td>\n",
       "      <td>Didclab-ws10</td>\n",
       "    </tr>\n",
       "    <tr>\n",
       "      <th>2</th>\n",
       "      <td>652486</td>\n",
       "      <td>3293</td>\n",
       "      <td>128</td>\n",
       "      <td>0.25</td>\n",
       "      <td>4194304</td>\n",
       "      <td>1</td>\n",
       "      <td>1</td>\n",
       "      <td>4</td>\n",
       "      <td>0</td>\n",
       "      <td>62.801374</td>\n",
       "      <td>32.628335</td>\n",
       "      <td>2015-07-24 00:07:03</td>\n",
       "      <td>Evenstar</td>\n",
       "      <td>Didclab-ws10</td>\n",
       "    </tr>\n",
       "    <tr>\n",
       "      <th>3</th>\n",
       "      <td>652486</td>\n",
       "      <td>3293</td>\n",
       "      <td>128</td>\n",
       "      <td>0.25</td>\n",
       "      <td>4194304</td>\n",
       "      <td>1</td>\n",
       "      <td>1</td>\n",
       "      <td>8</td>\n",
       "      <td>0</td>\n",
       "      <td>76.870653</td>\n",
       "      <td>26.656531</td>\n",
       "      <td>2015-07-24 00:07:36</td>\n",
       "      <td>Evenstar</td>\n",
       "      <td>Didclab-ws10</td>\n",
       "    </tr>\n",
       "    <tr>\n",
       "      <th>4</th>\n",
       "      <td>652486</td>\n",
       "      <td>3293</td>\n",
       "      <td>128</td>\n",
       "      <td>0.25</td>\n",
       "      <td>4194304</td>\n",
       "      <td>1</td>\n",
       "      <td>1</td>\n",
       "      <td>16</td>\n",
       "      <td>0</td>\n",
       "      <td>79.185026</td>\n",
       "      <td>25.877430</td>\n",
       "      <td>2015-07-24 00:08:03</td>\n",
       "      <td>Evenstar</td>\n",
       "      <td>Didclab-ws10</td>\n",
       "    </tr>\n",
       "  </tbody>\n",
       "</table>\n",
       "</div>"
      ],
      "text/plain": [
       "  file_size number_of_files bandwidth   rtt buffer_size  p  cc  pp  fast  \\\n",
       "0    652486            3293       128  0.25     4194304  1   1   1     0   \n",
       "1    652486            3293       128  0.25     4194304  1   1   2     0   \n",
       "2    652486            3293       128  0.25     4194304  1   1   4     0   \n",
       "3    652486            3293       128  0.25     4194304  1   1   8     0   \n",
       "4    652486            3293       128  0.25     4194304  1   1  16     0   \n",
       "\n",
       "   throughput       time           start_time    source   destination  \n",
       "0   48.360560  42.371396  2015-07-24 00:05:45  Evenstar  Didclab-ws10  \n",
       "1   56.777687  36.089951  2015-07-24 00:06:27  Evenstar  Didclab-ws10  \n",
       "2   62.801374  32.628335  2015-07-24 00:07:03  Evenstar  Didclab-ws10  \n",
       "3   76.870653  26.656531  2015-07-24 00:07:36  Evenstar  Didclab-ws10  \n",
       "4   79.185026  25.877430  2015-07-24 00:08:03  Evenstar  Didclab-ws10  "
      ]
     },
     "execution_count": 6,
     "metadata": {},
     "output_type": "execute_result"
    }
   ],
   "source": [
    "# as first five columns are data transfer requests. we can convert them into string for accurate and \n",
    "# efficient indexing. \n",
    "\n",
    "data['file_size'] = data['file_size'].astype(str)\n",
    "data['number_of_files'] = data['number_of_files'].astype(str)\n",
    "data['bandwidth'] = data['bandwidth'].astype(str)\n",
    "data['rtt'] = data['rtt'].astype(str)\n",
    "data['buffer_size'] = data['buffer_size'].astype(str)\n",
    "data.head()"
   ]
  },
  {
   "cell_type": "code",
   "execution_count": 7,
   "metadata": {
    "collapsed": false
   },
   "outputs": [
    {
     "data": {
      "text/plain": [
       "[('652486', '3293', '128', '0.25', '4194304'),\n",
       " ('10623021', '405', '128', '0.25', '4194304'),\n",
       " ('51421866', '126', '128', '0.25', '4194304'),\n",
       " ('912680960', '10', '128', '0.25', '4194304'),\n",
       " ('3131997', '3429', '1280', '80.0', '33554432')]"
      ]
     },
     "execution_count": 7,
     "metadata": {},
     "output_type": "execute_result"
    }
   ],
   "source": [
    "# get the unique transfers : as tuple \n",
    "transfer_requests = data[['file_size','number_of_files','bandwidth','rtt','buffer_size']]\n",
    "droped_duplicate_trans_req = transfer_requests.drop_duplicates()\n",
    "\n",
    "unique_transfers = [tuple(transfers) for transfers in droped_duplicate_trans_req.values]\n",
    "unique_transfers[0:5]\n",
    "#len(unique_transfers)"
   ]
  },
  {
   "cell_type": "code",
   "execution_count": 8,
   "metadata": {
    "collapsed": true
   },
   "outputs": [],
   "source": [
    "# function : get_unique_source_destination(dataframe, columns_list)\n",
    "def get_unique_values(temp_df):\n",
    "    \n",
    "    # drop duplicate entries:\n",
    "    drop_duplicate_items = temp_df.drop_duplicates()\n",
    "    \n",
    "    # get the unique items as tuples:\n",
    "    unique_items = [tuple(items) for items in drop_duplicate_items.values]\n",
    "    return unique_items"
   ]
  },
  {
   "cell_type": "code",
   "execution_count": 9,
   "metadata": {
    "collapsed": false
   },
   "outputs": [
    {
     "data": {
      "text/plain": [
       "[('Evenstar', 'Didclab-ws10'),\n",
       " ('Blacklight', 'Trestles'),\n",
       " ('Stampede', 'Gordon/Oasis'),\n",
       " ('Stampede', 'Blacklight')]"
      ]
     },
     "execution_count": 9,
     "metadata": {},
     "output_type": "execute_result"
    }
   ],
   "source": [
    "# get the unique destination names : as tuple \n",
    "#transfer_requests = data[['file_size','number_of_files','bandwidth','rtt','buffer_size']]\n",
    "source_destination_name = data[['source','destination']]\n",
    "droped_duplicate_sources_destinations = source_destination_name.drop_duplicates()\n",
    "\n",
    "unique_source_destination = [tuple(sources_destinations) for sources_destinations in droped_duplicate_sources_destinations.values]\n",
    "unique_source_destination"
   ]
  },
  {
   "cell_type": "code",
   "execution_count": 10,
   "metadata": {
    "collapsed": false
   },
   "outputs": [
    {
     "data": {
      "text/html": [
       "<div>\n",
       "<table border=\"1\" class=\"dataframe\">\n",
       "  <thead>\n",
       "    <tr style=\"text-align: right;\">\n",
       "      <th></th>\n",
       "      <th></th>\n",
       "      <th>file_size</th>\n",
       "      <th>number_of_files</th>\n",
       "      <th>bandwidth</th>\n",
       "      <th>rtt</th>\n",
       "      <th>buffer_size</th>\n",
       "      <th>p</th>\n",
       "      <th>cc</th>\n",
       "      <th>pp</th>\n",
       "      <th>fast</th>\n",
       "      <th>throughput</th>\n",
       "      <th>time</th>\n",
       "      <th>start_time</th>\n",
       "    </tr>\n",
       "    <tr>\n",
       "      <th>source</th>\n",
       "      <th>destination</th>\n",
       "      <th></th>\n",
       "      <th></th>\n",
       "      <th></th>\n",
       "      <th></th>\n",
       "      <th></th>\n",
       "      <th></th>\n",
       "      <th></th>\n",
       "      <th></th>\n",
       "      <th></th>\n",
       "      <th></th>\n",
       "      <th></th>\n",
       "      <th></th>\n",
       "    </tr>\n",
       "  </thead>\n",
       "  <tbody>\n",
       "    <tr>\n",
       "      <th rowspan=\"5\" valign=\"top\">Evenstar</th>\n",
       "      <th>Didclab-ws10</th>\n",
       "      <td>652486</td>\n",
       "      <td>3293</td>\n",
       "      <td>128</td>\n",
       "      <td>0.25</td>\n",
       "      <td>4194304</td>\n",
       "      <td>1</td>\n",
       "      <td>1</td>\n",
       "      <td>1</td>\n",
       "      <td>0</td>\n",
       "      <td>48.360560</td>\n",
       "      <td>42.371396</td>\n",
       "      <td>2015-07-24 00:05:45</td>\n",
       "    </tr>\n",
       "    <tr>\n",
       "      <th>Didclab-ws10</th>\n",
       "      <td>652486</td>\n",
       "      <td>3293</td>\n",
       "      <td>128</td>\n",
       "      <td>0.25</td>\n",
       "      <td>4194304</td>\n",
       "      <td>1</td>\n",
       "      <td>1</td>\n",
       "      <td>2</td>\n",
       "      <td>0</td>\n",
       "      <td>56.777687</td>\n",
       "      <td>36.089951</td>\n",
       "      <td>2015-07-24 00:06:27</td>\n",
       "    </tr>\n",
       "    <tr>\n",
       "      <th>Didclab-ws10</th>\n",
       "      <td>652486</td>\n",
       "      <td>3293</td>\n",
       "      <td>128</td>\n",
       "      <td>0.25</td>\n",
       "      <td>4194304</td>\n",
       "      <td>1</td>\n",
       "      <td>1</td>\n",
       "      <td>4</td>\n",
       "      <td>0</td>\n",
       "      <td>62.801374</td>\n",
       "      <td>32.628335</td>\n",
       "      <td>2015-07-24 00:07:03</td>\n",
       "    </tr>\n",
       "    <tr>\n",
       "      <th>Didclab-ws10</th>\n",
       "      <td>652486</td>\n",
       "      <td>3293</td>\n",
       "      <td>128</td>\n",
       "      <td>0.25</td>\n",
       "      <td>4194304</td>\n",
       "      <td>1</td>\n",
       "      <td>1</td>\n",
       "      <td>8</td>\n",
       "      <td>0</td>\n",
       "      <td>76.870653</td>\n",
       "      <td>26.656531</td>\n",
       "      <td>2015-07-24 00:07:36</td>\n",
       "    </tr>\n",
       "    <tr>\n",
       "      <th>Didclab-ws10</th>\n",
       "      <td>652486</td>\n",
       "      <td>3293</td>\n",
       "      <td>128</td>\n",
       "      <td>0.25</td>\n",
       "      <td>4194304</td>\n",
       "      <td>1</td>\n",
       "      <td>1</td>\n",
       "      <td>16</td>\n",
       "      <td>0</td>\n",
       "      <td>79.185026</td>\n",
       "      <td>25.877430</td>\n",
       "      <td>2015-07-24 00:08:03</td>\n",
       "    </tr>\n",
       "  </tbody>\n",
       "</table>\n",
       "</div>"
      ],
      "text/plain": [
       "                      file_size number_of_files bandwidth   rtt buffer_size  \\\n",
       "source   destination                                                          \n",
       "Evenstar Didclab-ws10    652486            3293       128  0.25     4194304   \n",
       "         Didclab-ws10    652486            3293       128  0.25     4194304   \n",
       "         Didclab-ws10    652486            3293       128  0.25     4194304   \n",
       "         Didclab-ws10    652486            3293       128  0.25     4194304   \n",
       "         Didclab-ws10    652486            3293       128  0.25     4194304   \n",
       "\n",
       "                       p  cc  pp  fast  throughput       time  \\\n",
       "source   destination                                            \n",
       "Evenstar Didclab-ws10  1   1   1     0   48.360560  42.371396   \n",
       "         Didclab-ws10  1   1   2     0   56.777687  36.089951   \n",
       "         Didclab-ws10  1   1   4     0   62.801374  32.628335   \n",
       "         Didclab-ws10  1   1   8     0   76.870653  26.656531   \n",
       "         Didclab-ws10  1   1  16     0   79.185026  25.877430   \n",
       "\n",
       "                                start_time  \n",
       "source   destination                        \n",
       "Evenstar Didclab-ws10  2015-07-24 00:05:45  \n",
       "         Didclab-ws10  2015-07-24 00:06:27  \n",
       "         Didclab-ws10  2015-07-24 00:07:03  \n",
       "         Didclab-ws10  2015-07-24 00:07:36  \n",
       "         Didclab-ws10  2015-07-24 00:08:03  "
      ]
     },
     "execution_count": 10,
     "metadata": {},
     "output_type": "execute_result"
    }
   ],
   "source": [
    "# make (file_size, number_of_files, bandwidth, rtt, buffer_size) index \n",
    "# d = data.set_index(['source','destination','start_time','file_size','number_of_files','bandwidth','rtt','buffer_size','p','cc','pp','fast'])\n",
    "d = data.set_index(['source','destination'])\n",
    "d.head()"
   ]
  },
  {
   "cell_type": "code",
   "execution_count": 11,
   "metadata": {
    "collapsed": false
   },
   "outputs": [
    {
     "data": {
      "text/html": [
       "<div>\n",
       "<table border=\"1\" class=\"dataframe\">\n",
       "  <thead>\n",
       "    <tr style=\"text-align: right;\">\n",
       "      <th></th>\n",
       "      <th></th>\n",
       "      <th></th>\n",
       "      <th></th>\n",
       "      <th></th>\n",
       "      <th>p</th>\n",
       "      <th>cc</th>\n",
       "      <th>pp</th>\n",
       "      <th>fast</th>\n",
       "      <th>throughput</th>\n",
       "      <th>time</th>\n",
       "      <th>start_time</th>\n",
       "      <th>source</th>\n",
       "      <th>destination</th>\n",
       "    </tr>\n",
       "    <tr>\n",
       "      <th>file_size</th>\n",
       "      <th>number_of_files</th>\n",
       "      <th>bandwidth</th>\n",
       "      <th>rtt</th>\n",
       "      <th>buffer_size</th>\n",
       "      <th></th>\n",
       "      <th></th>\n",
       "      <th></th>\n",
       "      <th></th>\n",
       "      <th></th>\n",
       "      <th></th>\n",
       "      <th></th>\n",
       "      <th></th>\n",
       "      <th></th>\n",
       "    </tr>\n",
       "  </thead>\n",
       "  <tbody>\n",
       "    <tr>\n",
       "      <th rowspan=\"5\" valign=\"top\">652486</th>\n",
       "      <th rowspan=\"5\" valign=\"top\">3293</th>\n",
       "      <th rowspan=\"5\" valign=\"top\">128</th>\n",
       "      <th rowspan=\"5\" valign=\"top\">0.25</th>\n",
       "      <th>4194304</th>\n",
       "      <td>1</td>\n",
       "      <td>1</td>\n",
       "      <td>1</td>\n",
       "      <td>0</td>\n",
       "      <td>48.360560</td>\n",
       "      <td>42.371396</td>\n",
       "      <td>2015-07-24 00:05:45</td>\n",
       "      <td>Evenstar</td>\n",
       "      <td>Didclab-ws10</td>\n",
       "    </tr>\n",
       "    <tr>\n",
       "      <th>4194304</th>\n",
       "      <td>1</td>\n",
       "      <td>1</td>\n",
       "      <td>2</td>\n",
       "      <td>0</td>\n",
       "      <td>56.777687</td>\n",
       "      <td>36.089951</td>\n",
       "      <td>2015-07-24 00:06:27</td>\n",
       "      <td>Evenstar</td>\n",
       "      <td>Didclab-ws10</td>\n",
       "    </tr>\n",
       "    <tr>\n",
       "      <th>4194304</th>\n",
       "      <td>1</td>\n",
       "      <td>1</td>\n",
       "      <td>4</td>\n",
       "      <td>0</td>\n",
       "      <td>62.801374</td>\n",
       "      <td>32.628335</td>\n",
       "      <td>2015-07-24 00:07:03</td>\n",
       "      <td>Evenstar</td>\n",
       "      <td>Didclab-ws10</td>\n",
       "    </tr>\n",
       "    <tr>\n",
       "      <th>4194304</th>\n",
       "      <td>1</td>\n",
       "      <td>1</td>\n",
       "      <td>8</td>\n",
       "      <td>0</td>\n",
       "      <td>76.870653</td>\n",
       "      <td>26.656531</td>\n",
       "      <td>2015-07-24 00:07:36</td>\n",
       "      <td>Evenstar</td>\n",
       "      <td>Didclab-ws10</td>\n",
       "    </tr>\n",
       "    <tr>\n",
       "      <th>4194304</th>\n",
       "      <td>1</td>\n",
       "      <td>1</td>\n",
       "      <td>16</td>\n",
       "      <td>0</td>\n",
       "      <td>79.185026</td>\n",
       "      <td>25.877430</td>\n",
       "      <td>2015-07-24 00:08:03</td>\n",
       "      <td>Evenstar</td>\n",
       "      <td>Didclab-ws10</td>\n",
       "    </tr>\n",
       "  </tbody>\n",
       "</table>\n",
       "</div>"
      ],
      "text/plain": [
       "                                                      p  cc  pp  fast  \\\n",
       "file_size number_of_files bandwidth rtt  buffer_size                    \n",
       "652486    3293            128       0.25 4194304      1   1   1     0   \n",
       "                                         4194304      1   1   2     0   \n",
       "                                         4194304      1   1   4     0   \n",
       "                                         4194304      1   1   8     0   \n",
       "                                         4194304      1   1  16     0   \n",
       "\n",
       "                                                      throughput       time  \\\n",
       "file_size number_of_files bandwidth rtt  buffer_size                          \n",
       "652486    3293            128       0.25 4194304       48.360560  42.371396   \n",
       "                                         4194304       56.777687  36.089951   \n",
       "                                         4194304       62.801374  32.628335   \n",
       "                                         4194304       76.870653  26.656531   \n",
       "                                         4194304       79.185026  25.877430   \n",
       "\n",
       "                                                               start_time  \\\n",
       "file_size number_of_files bandwidth rtt  buffer_size                        \n",
       "652486    3293            128       0.25 4194304      2015-07-24 00:05:45   \n",
       "                                         4194304      2015-07-24 00:06:27   \n",
       "                                         4194304      2015-07-24 00:07:03   \n",
       "                                         4194304      2015-07-24 00:07:36   \n",
       "                                         4194304      2015-07-24 00:08:03   \n",
       "\n",
       "                                                        source   destination  \n",
       "file_size number_of_files bandwidth rtt  buffer_size                          \n",
       "652486    3293            128       0.25 4194304      Evenstar  Didclab-ws10  \n",
       "                                         4194304      Evenstar  Didclab-ws10  \n",
       "                                         4194304      Evenstar  Didclab-ws10  \n",
       "                                         4194304      Evenstar  Didclab-ws10  \n",
       "                                         4194304      Evenstar  Didclab-ws10  "
      ]
     },
     "execution_count": 11,
     "metadata": {},
     "output_type": "execute_result"
    }
   ],
   "source": [
    "r = data.set_index(['file_size','number_of_files','bandwidth','rtt','buffer_size'])\n",
    "r.head()"
   ]
  },
  {
   "cell_type": "code",
   "execution_count": 12,
   "metadata": {
    "collapsed": false
   },
   "outputs": [
    {
     "name": "stderr",
     "output_type": "stream",
     "text": [
      "/Users/mds/anaconda/envs/py3k/lib/python3.5/site-packages/ipykernel/__main__.py:1: PerformanceWarning: indexing past lexsort depth may impact performance.\n",
      "  if __name__ == '__main__':\n"
     ]
    },
    {
     "data": {
      "text/html": [
       "<div>\n",
       "<table border=\"1\" class=\"dataframe\">\n",
       "  <thead>\n",
       "    <tr style=\"text-align: right;\">\n",
       "      <th></th>\n",
       "      <th></th>\n",
       "      <th></th>\n",
       "      <th></th>\n",
       "      <th></th>\n",
       "      <th>p</th>\n",
       "      <th>cc</th>\n",
       "      <th>pp</th>\n",
       "      <th>fast</th>\n",
       "      <th>throughput</th>\n",
       "      <th>time</th>\n",
       "      <th>start_time</th>\n",
       "      <th>source</th>\n",
       "      <th>destination</th>\n",
       "    </tr>\n",
       "    <tr>\n",
       "      <th>file_size</th>\n",
       "      <th>number_of_files</th>\n",
       "      <th>bandwidth</th>\n",
       "      <th>rtt</th>\n",
       "      <th>buffer_size</th>\n",
       "      <th></th>\n",
       "      <th></th>\n",
       "      <th></th>\n",
       "      <th></th>\n",
       "      <th></th>\n",
       "      <th></th>\n",
       "      <th></th>\n",
       "      <th></th>\n",
       "      <th></th>\n",
       "    </tr>\n",
       "  </thead>\n",
       "  <tbody>\n",
       "    <tr>\n",
       "      <th rowspan=\"5\" valign=\"top\">209715259</th>\n",
       "      <th rowspan=\"5\" valign=\"top\">69</th>\n",
       "      <th rowspan=\"5\" valign=\"top\">1280</th>\n",
       "      <th rowspan=\"5\" valign=\"top\">39.0</th>\n",
       "      <th>49920000</th>\n",
       "      <td>1</td>\n",
       "      <td>1</td>\n",
       "      <td>1</td>\n",
       "      <td>0</td>\n",
       "      <td>47.266001</td>\n",
       "      <td>291.964704</td>\n",
       "      <td>2016-05-20 11:28:00</td>\n",
       "      <td>Stampede</td>\n",
       "      <td>Gordon/Oasis</td>\n",
       "    </tr>\n",
       "    <tr>\n",
       "      <th>49920000</th>\n",
       "      <td>1</td>\n",
       "      <td>1</td>\n",
       "      <td>1</td>\n",
       "      <td>1</td>\n",
       "      <td>55.589452</td>\n",
       "      <td>248.248604</td>\n",
       "      <td>2016-05-20 11:32:00</td>\n",
       "      <td>Stampede</td>\n",
       "      <td>Gordon/Oasis</td>\n",
       "    </tr>\n",
       "    <tr>\n",
       "      <th>49920000</th>\n",
       "      <td>1</td>\n",
       "      <td>1</td>\n",
       "      <td>2</td>\n",
       "      <td>0</td>\n",
       "      <td>63.238233</td>\n",
       "      <td>218.222477</td>\n",
       "      <td>2016-05-20 11:36:00</td>\n",
       "      <td>Stampede</td>\n",
       "      <td>Gordon/Oasis</td>\n",
       "    </tr>\n",
       "    <tr>\n",
       "      <th>49920000</th>\n",
       "      <td>1</td>\n",
       "      <td>1</td>\n",
       "      <td>2</td>\n",
       "      <td>1</td>\n",
       "      <td>47.229179</td>\n",
       "      <td>292.192334</td>\n",
       "      <td>2016-05-20 11:41:00</td>\n",
       "      <td>Stampede</td>\n",
       "      <td>Gordon/Oasis</td>\n",
       "    </tr>\n",
       "    <tr>\n",
       "      <th>49920000</th>\n",
       "      <td>1</td>\n",
       "      <td>1</td>\n",
       "      <td>4</td>\n",
       "      <td>0</td>\n",
       "      <td>53.472254</td>\n",
       "      <td>258.077842</td>\n",
       "      <td>2016-05-20 11:45:00</td>\n",
       "      <td>Stampede</td>\n",
       "      <td>Gordon/Oasis</td>\n",
       "    </tr>\n",
       "  </tbody>\n",
       "</table>\n",
       "</div>"
      ],
      "text/plain": [
       "                                                      p  cc  pp  fast  \\\n",
       "file_size number_of_files bandwidth rtt  buffer_size                    \n",
       "209715259 69              1280      39.0 49920000     1   1   1     0   \n",
       "                                         49920000     1   1   1     1   \n",
       "                                         49920000     1   1   2     0   \n",
       "                                         49920000     1   1   2     1   \n",
       "                                         49920000     1   1   4     0   \n",
       "\n",
       "                                                      throughput        time  \\\n",
       "file_size number_of_files bandwidth rtt  buffer_size                           \n",
       "209715259 69              1280      39.0 49920000      47.266001  291.964704   \n",
       "                                         49920000      55.589452  248.248604   \n",
       "                                         49920000      63.238233  218.222477   \n",
       "                                         49920000      47.229179  292.192334   \n",
       "                                         49920000      53.472254  258.077842   \n",
       "\n",
       "                                                               start_time  \\\n",
       "file_size number_of_files bandwidth rtt  buffer_size                        \n",
       "209715259 69              1280      39.0 49920000     2016-05-20 11:28:00   \n",
       "                                         49920000     2016-05-20 11:32:00   \n",
       "                                         49920000     2016-05-20 11:36:00   \n",
       "                                         49920000     2016-05-20 11:41:00   \n",
       "                                         49920000     2016-05-20 11:45:00   \n",
       "\n",
       "                                                        source   destination  \n",
       "file_size number_of_files bandwidth rtt  buffer_size                          \n",
       "209715259 69              1280      39.0 49920000     Stampede  Gordon/Oasis  \n",
       "                                         49920000     Stampede  Gordon/Oasis  \n",
       "                                         49920000     Stampede  Gordon/Oasis  \n",
       "                                         49920000     Stampede  Gordon/Oasis  \n",
       "                                         49920000     Stampede  Gordon/Oasis  "
      ]
     },
     "execution_count": 12,
     "metadata": {},
     "output_type": "execute_result"
    }
   ],
   "source": [
    "h = r.loc[('209715259', '69', '1280', '39.0', '49920000')]\n",
    "h.head()"
   ]
  },
  {
   "cell_type": "code",
   "execution_count": 13,
   "metadata": {
    "collapsed": false
   },
   "outputs": [
    {
     "name": "stderr",
     "output_type": "stream",
     "text": [
      "/Users/mds/anaconda/envs/py3k/lib/python3.5/site-packages/ipykernel/__main__.py:2: PerformanceWarning: indexing past lexsort depth may impact performance.\n",
      "  from ipykernel import kernelapp as app\n"
     ]
    },
    {
     "data": {
      "text/html": [
       "<div>\n",
       "<table border=\"1\" class=\"dataframe\">\n",
       "  <thead>\n",
       "    <tr style=\"text-align: right;\">\n",
       "      <th></th>\n",
       "      <th></th>\n",
       "      <th></th>\n",
       "      <th></th>\n",
       "      <th></th>\n",
       "      <th>p</th>\n",
       "      <th>cc</th>\n",
       "      <th>pp</th>\n",
       "      <th>fast</th>\n",
       "      <th>throughput</th>\n",
       "      <th>time</th>\n",
       "      <th>start_time</th>\n",
       "      <th>source</th>\n",
       "      <th>destination</th>\n",
       "    </tr>\n",
       "    <tr>\n",
       "      <th>file_size</th>\n",
       "      <th>number_of_files</th>\n",
       "      <th>bandwidth</th>\n",
       "      <th>rtt</th>\n",
       "      <th>buffer_size</th>\n",
       "      <th></th>\n",
       "      <th></th>\n",
       "      <th></th>\n",
       "      <th></th>\n",
       "      <th></th>\n",
       "      <th></th>\n",
       "      <th></th>\n",
       "      <th></th>\n",
       "      <th></th>\n",
       "    </tr>\n",
       "  </thead>\n",
       "  <tbody>\n",
       "    <tr>\n",
       "      <th rowspan=\"4\" valign=\"top\">104857668</th>\n",
       "      <th rowspan=\"4\" valign=\"top\">299</th>\n",
       "      <th rowspan=\"4\" valign=\"top\">1280</th>\n",
       "      <th rowspan=\"4\" valign=\"top\">39.0</th>\n",
       "      <th>49920000</th>\n",
       "      <td>8</td>\n",
       "      <td>32</td>\n",
       "      <td>1</td>\n",
       "      <td>0</td>\n",
       "      <td>731.041026</td>\n",
       "      <td>40.900604</td>\n",
       "      <td>2016-05-23 17:43:00</td>\n",
       "      <td>Stampede</td>\n",
       "      <td>Gordon/Oasis</td>\n",
       "    </tr>\n",
       "    <tr>\n",
       "      <th>49920000</th>\n",
       "      <td>32</td>\n",
       "      <td>16</td>\n",
       "      <td>8</td>\n",
       "      <td>1</td>\n",
       "      <td>739.935649</td>\n",
       "      <td>40.408946</td>\n",
       "      <td>2016-05-23 20:46:00</td>\n",
       "      <td>Stampede</td>\n",
       "      <td>Gordon/Oasis</td>\n",
       "    </tr>\n",
       "    <tr>\n",
       "      <th>49920000</th>\n",
       "      <td>8</td>\n",
       "      <td>32</td>\n",
       "      <td>4</td>\n",
       "      <td>0</td>\n",
       "      <td>746.124336</td>\n",
       "      <td>40.073776</td>\n",
       "      <td>2016-05-23 17:45:00</td>\n",
       "      <td>Stampede</td>\n",
       "      <td>Gordon/Oasis</td>\n",
       "    </tr>\n",
       "    <tr>\n",
       "      <th>49920000</th>\n",
       "      <td>32</td>\n",
       "      <td>16</td>\n",
       "      <td>8</td>\n",
       "      <td>0</td>\n",
       "      <td>780.620068</td>\n",
       "      <td>38.302909</td>\n",
       "      <td>2016-05-23 20:45:00</td>\n",
       "      <td>Stampede</td>\n",
       "      <td>Gordon/Oasis</td>\n",
       "    </tr>\n",
       "  </tbody>\n",
       "</table>\n",
       "</div>"
      ],
      "text/plain": [
       "                                                       p  cc  pp  fast  \\\n",
       "file_size number_of_files bandwidth rtt  buffer_size                     \n",
       "104857668 299             1280      39.0 49920000      8  32   1     0   \n",
       "                                         49920000     32  16   8     1   \n",
       "                                         49920000      8  32   4     0   \n",
       "                                         49920000     32  16   8     0   \n",
       "\n",
       "                                                      throughput       time  \\\n",
       "file_size number_of_files bandwidth rtt  buffer_size                          \n",
       "104857668 299             1280      39.0 49920000     731.041026  40.900604   \n",
       "                                         49920000     739.935649  40.408946   \n",
       "                                         49920000     746.124336  40.073776   \n",
       "                                         49920000     780.620068  38.302909   \n",
       "\n",
       "                                                               start_time  \\\n",
       "file_size number_of_files bandwidth rtt  buffer_size                        \n",
       "104857668 299             1280      39.0 49920000     2016-05-23 17:43:00   \n",
       "                                         49920000     2016-05-23 20:46:00   \n",
       "                                         49920000     2016-05-23 17:45:00   \n",
       "                                         49920000     2016-05-23 20:45:00   \n",
       "\n",
       "                                                        source   destination  \n",
       "file_size number_of_files bandwidth rtt  buffer_size                          \n",
       "104857668 299             1280      39.0 49920000     Stampede  Gordon/Oasis  \n",
       "                                         49920000     Stampede  Gordon/Oasis  \n",
       "                                         49920000     Stampede  Gordon/Oasis  \n",
       "                                         49920000     Stampede  Gordon/Oasis  "
      ]
     },
     "execution_count": 13,
     "metadata": {},
     "output_type": "execute_result"
    }
   ],
   "source": [
    "# filter specific columns from data:\n",
    "h1 = r.loc[('104857668', '299', '1280', '39.0', '49920000')]\n",
    "p1 = h1.sort_values('throughput')\n",
    "p1.tail(4)"
   ]
  },
  {
   "cell_type": "markdown",
   "metadata": {},
   "source": [
    "# Query : Get all the file transfers in XSEDE nodes:"
   ]
  },
  {
   "cell_type": "code",
   "execution_count": 14,
   "metadata": {
    "collapsed": false
   },
   "outputs": [
    {
     "name": "stderr",
     "output_type": "stream",
     "text": [
      "/Users/mds/anaconda/envs/py3k/lib/python3.5/site-packages/ipykernel/__main__.py:21: PerformanceWarning: indexing past lexsort depth may impact performance.\n"
     ]
    },
    {
     "data": {
      "text/html": [
       "<div>\n",
       "<table border=\"1\" class=\"dataframe\">\n",
       "  <thead>\n",
       "    <tr style=\"text-align: right;\">\n",
       "      <th></th>\n",
       "      <th>file_size</th>\n",
       "      <th>number_of_files</th>\n",
       "      <th>bandwidth</th>\n",
       "      <th>rtt</th>\n",
       "      <th>buffer_size</th>\n",
       "      <th>p</th>\n",
       "      <th>cc</th>\n",
       "      <th>pp</th>\n",
       "      <th>fast</th>\n",
       "      <th>throughput</th>\n",
       "      <th>time</th>\n",
       "      <th>start_time</th>\n",
       "      <th>source</th>\n",
       "      <th>destination</th>\n",
       "    </tr>\n",
       "  </thead>\n",
       "  <tbody>\n",
       "    <tr>\n",
       "      <th>0</th>\n",
       "      <td>3131997</td>\n",
       "      <td>3429</td>\n",
       "      <td>1280</td>\n",
       "      <td>80.0</td>\n",
       "      <td>33554432</td>\n",
       "      <td>1</td>\n",
       "      <td>1</td>\n",
       "      <td>1</td>\n",
       "      <td>0</td>\n",
       "      <td>25.187269</td>\n",
       "      <td>406.637939</td>\n",
       "      <td>2015-03-31 00:57:22</td>\n",
       "      <td>Blacklight</td>\n",
       "      <td>Trestles</td>\n",
       "    </tr>\n",
       "    <tr>\n",
       "      <th>1</th>\n",
       "      <td>3131997</td>\n",
       "      <td>3429</td>\n",
       "      <td>1280</td>\n",
       "      <td>80.0</td>\n",
       "      <td>33554432</td>\n",
       "      <td>1</td>\n",
       "      <td>1</td>\n",
       "      <td>2</td>\n",
       "      <td>0</td>\n",
       "      <td>35.116388</td>\n",
       "      <td>291.661520</td>\n",
       "      <td>2015-03-31 00:04:09</td>\n",
       "      <td>Blacklight</td>\n",
       "      <td>Trestles</td>\n",
       "    </tr>\n",
       "    <tr>\n",
       "      <th>2</th>\n",
       "      <td>3131997</td>\n",
       "      <td>3429</td>\n",
       "      <td>1280</td>\n",
       "      <td>80.0</td>\n",
       "      <td>33554432</td>\n",
       "      <td>1</td>\n",
       "      <td>1</td>\n",
       "      <td>4</td>\n",
       "      <td>0</td>\n",
       "      <td>23.076415</td>\n",
       "      <td>443.834042</td>\n",
       "      <td>2015-03-31 00:09:01</td>\n",
       "      <td>Blacklight</td>\n",
       "      <td>Trestles</td>\n",
       "    </tr>\n",
       "    <tr>\n",
       "      <th>3</th>\n",
       "      <td>3131997</td>\n",
       "      <td>3429</td>\n",
       "      <td>1280</td>\n",
       "      <td>80.0</td>\n",
       "      <td>33554432</td>\n",
       "      <td>1</td>\n",
       "      <td>1</td>\n",
       "      <td>8</td>\n",
       "      <td>0</td>\n",
       "      <td>32.948817</td>\n",
       "      <td>310.848773</td>\n",
       "      <td>2015-03-31 00:16:25</td>\n",
       "      <td>Blacklight</td>\n",
       "      <td>Trestles</td>\n",
       "    </tr>\n",
       "    <tr>\n",
       "      <th>4</th>\n",
       "      <td>3131997</td>\n",
       "      <td>3429</td>\n",
       "      <td>1280</td>\n",
       "      <td>80.0</td>\n",
       "      <td>33554432</td>\n",
       "      <td>1</td>\n",
       "      <td>1</td>\n",
       "      <td>16</td>\n",
       "      <td>0</td>\n",
       "      <td>42.757196</td>\n",
       "      <td>239.540963</td>\n",
       "      <td>2015-03-31 00:21:35</td>\n",
       "      <td>Blacklight</td>\n",
       "      <td>Trestles</td>\n",
       "    </tr>\n",
       "  </tbody>\n",
       "</table>\n",
       "</div>"
      ],
      "text/plain": [
       "  file_size number_of_files bandwidth   rtt buffer_size  p  cc  pp  fast  \\\n",
       "0   3131997            3429      1280  80.0    33554432  1   1   1     0   \n",
       "1   3131997            3429      1280  80.0    33554432  1   1   2     0   \n",
       "2   3131997            3429      1280  80.0    33554432  1   1   4     0   \n",
       "3   3131997            3429      1280  80.0    33554432  1   1   8     0   \n",
       "4   3131997            3429      1280  80.0    33554432  1   1  16     0   \n",
       "\n",
       "   throughput        time           start_time      source destination  \n",
       "0   25.187269  406.637939  2015-03-31 00:57:22  Blacklight    Trestles  \n",
       "1   35.116388  291.661520  2015-03-31 00:04:09  Blacklight    Trestles  \n",
       "2   23.076415  443.834042  2015-03-31 00:09:01  Blacklight    Trestles  \n",
       "3   32.948817  310.848773  2015-03-31 00:16:25  Blacklight    Trestles  \n",
       "4   42.757196  239.540963  2015-03-31 00:21:35  Blacklight    Trestles  "
      ]
     },
     "execution_count": 14,
     "metadata": {},
     "output_type": "execute_result"
    }
   ],
   "source": [
    "## Approach - 1:\n",
    "# copy main data into a temporary variable :\n",
    "temp_data = data.copy(deep=True)\n",
    "temp_data.head()\n",
    "\n",
    "# define the XSEDE nodes:\n",
    "XSEDE_source_destination = [('Blacklight', 'Trestles'),\n",
    " ('Stampede', 'Gordon/Oasis'),\n",
    " ('Stampede', 'Blacklight')]\n",
    "XSEDE_source_destination\n",
    "\n",
    "# set source and destination as index:\n",
    "r = temp_data.set_index(['source','destination'])\n",
    "r.head()\n",
    "\n",
    "# Get the data with source = Stampede and destination = Gordon or Gordon/Oasis\n",
    "#for items in XSEDE_source_destination:\n",
    "xsede = []\n",
    "k = 1\n",
    "for item in XSEDE_source_destination:\n",
    "    part = r.loc[item]\n",
    "    if k == 1:\n",
    "        xsede = part\n",
    "    else :\n",
    "        xsede = pds.concat([xsede, part], axis = 0)\n",
    "    k = k + 1\n",
    "    del part\n",
    "xsede.head()\n",
    "\n",
    "\n",
    "# reset index: \n",
    "# reset the index:\n",
    "xsede = xsede.reset_index(['source','destination'])\n",
    "# reordering the columns inside the dataframe:\n",
    "column_order = ['file_size', 'number_of_files', 'bandwidth', 'rtt', 'buffer_size', \n",
    "            'p', 'cc', 'pp', 'fast', 'throughput', 'time', 'start_time', 'source', 'destination']\n",
    "xsede = xsede[column_order]\n",
    "xsede.head()\n",
    "\n",
    "# test xsede_large contain correct data:\n",
    "\n",
    "#temp_df = xsede_large[['source','destination']]\n",
    "#unique_large = get_unique_values(temp_df)\n",
    "#del temp_data\n",
    "#unique_large"
   ]
  },
  {
   "cell_type": "code",
   "execution_count": 15,
   "metadata": {
    "collapsed": false
   },
   "outputs": [
    {
     "name": "stdout",
     "output_type": "stream",
     "text": [
      "Automatically created module for IPython interactive environment\n"
     ]
    }
   ],
   "source": [
    "# added: zulkar: Sep 1, 16 3:13m\n",
    "# DBScan clustering: \n",
    "print(__doc__)\n",
    "\n",
    "import numpy as np\n",
    "\n",
    "from sklearn.cluster import DBSCAN\n",
    "from sklearn import metrics\n",
    "from sklearn.datasets.samples_generator import make_blobs\n",
    "from sklearn.preprocessing import StandardScaler"
   ]
  },
  {
   "cell_type": "code",
   "execution_count": 16,
   "metadata": {
    "collapsed": false
   },
   "outputs": [
    {
     "data": {
      "text/plain": [
       "(86288, 3)"
      ]
     },
     "execution_count": 16,
     "metadata": {},
     "output_type": "execute_result"
    }
   ],
   "source": [
    "cluster_data = xsede[['file_size','number_of_files','throughput']]\n",
    "cluster_data.shape"
   ]
  },
  {
   "cell_type": "code",
   "execution_count": 17,
   "metadata": {
    "collapsed": false
   },
   "outputs": [
    {
     "name": "stderr",
     "output_type": "stream",
     "text": [
      "/Users/mds/anaconda/envs/py3k/lib/python3.5/site-packages/ipykernel/__main__.py:1: SettingWithCopyWarning: \n",
      "A value is trying to be set on a copy of a slice from a DataFrame.\n",
      "Try using .loc[row_indexer,col_indexer] = value instead\n",
      "\n",
      "See the caveats in the documentation: http://pandas.pydata.org/pandas-docs/stable/indexing.html#indexing-view-versus-copy\n",
      "  if __name__ == '__main__':\n"
     ]
    },
    {
     "data": {
      "text/plain": [
       "array([   3.131997,    3.131997,    3.131997, ...,  130.884019,\n",
       "        130.884019,  130.884019])"
      ]
     },
     "execution_count": 17,
     "metadata": {},
     "output_type": "execute_result"
    }
   ],
   "source": [
    "cluster_data['file_size'] = cluster_data['file_size'].astype(int)\n",
    "fs = cluster_data.file_size.as_matrix()\n",
    "fs = fs /1000000\n",
    "fs"
   ]
  },
  {
   "cell_type": "code",
   "execution_count": 18,
   "metadata": {
    "collapsed": false
   },
   "outputs": [
    {
     "name": "stderr",
     "output_type": "stream",
     "text": [
      "/Users/mds/anaconda/envs/py3k/lib/python3.5/site-packages/ipykernel/__main__.py:1: SettingWithCopyWarning: \n",
      "A value is trying to be set on a copy of a slice from a DataFrame.\n",
      "Try using .loc[row_indexer,col_indexer] = value instead\n",
      "\n",
      "See the caveats in the documentation: http://pandas.pydata.org/pandas-docs/stable/indexing.html#indexing-view-versus-copy\n",
      "  if __name__ == '__main__':\n",
      "/Users/mds/anaconda/envs/py3k/lib/python3.5/site-packages/ipykernel/__main__.py:3: SettingWithCopyWarning: \n",
      "A value is trying to be set on a copy of a slice from a DataFrame.\n",
      "Try using .loc[row_indexer,col_indexer] = value instead\n",
      "\n",
      "See the caveats in the documentation: http://pandas.pydata.org/pandas-docs/stable/indexing.html#indexing-view-versus-copy\n",
      "  app.launch_new_instance()\n"
     ]
    }
   ],
   "source": [
    "cluster_data['number_of_files'] = cluster_data['number_of_files'].astype(int)\n",
    "nd = cluster_data.number_of_files.as_matrix()\n",
    "cluster_data['throughput'] = cluster_data['throughput'].astype(float)\n",
    "th = cluster_data.throughput.as_matrix()\n"
   ]
  },
  {
   "cell_type": "code",
   "execution_count": 23,
   "metadata": {
    "collapsed": false
   },
   "outputs": [
    {
     "data": {
      "text/plain": [
       "19999"
      ]
     },
     "execution_count": 23,
     "metadata": {},
     "output_type": "execute_result"
    }
   ],
   "source": [
    "nd.max()"
   ]
  },
  {
   "cell_type": "code",
   "execution_count": null,
   "metadata": {
    "collapsed": true
   },
   "outputs": [],
   "source": [
    "# Compute DBSCAN\n",
    "db = DBSCAN(eps=0.3, min_samples=5000).fit(X)\n",
    "\n",
    "\n"
   ]
  },
  {
   "cell_type": "code",
   "execution_count": null,
   "metadata": {
    "collapsed": true
   },
   "outputs": [],
   "source": [
    "core_samples_mask = np.zeros_like(db.labels_, dtype=bool)\n",
    "core_samples_mask[db.core_sample_indices_] = True\n",
    "labels = db.labels_"
   ]
  },
  {
   "cell_type": "code",
   "execution_count": null,
   "metadata": {
    "collapsed": true
   },
   "outputs": [],
   "source": [
    "# Number of clusters in labels, ignoring noise if present.\n",
    "n_clusters_ = len(set(labels)) - (1 if -1 in labels else 0)\n",
    "\n",
    "print('Estimated number of clusters: %d' % n_clusters_)\n",
    "print(\"Homogeneity: %0.3f\" % metrics.homogeneity_score(labels_true, labels))\n",
    "print(\"Completeness: %0.3f\" % metrics.completeness_score(labels_true, labels))\n",
    "print(\"V-measure: %0.3f\" % metrics.v_measure_score(labels_true, labels))\n",
    "print(\"Adjusted Rand Index: %0.3f\"\n",
    "      % metrics.adjusted_rand_score(labels_true, labels))\n",
    "print(\"Adjusted Mutual Information: %0.3f\"\n",
    "      % metrics.adjusted_mutual_info_score(labels_true, labels))\n",
    "print(\"Silhouette Coefficient: %0.3f\"\n",
    "      % metrics.silhouette_score(X, labels))"
   ]
  },
  {
   "cell_type": "code",
   "execution_count": 19,
   "metadata": {
    "collapsed": false
   },
   "outputs": [],
   "source": [
    "from mpl_toolkits.mplot3d import Axes3D\n",
    "import matplotlib.pyplot as plt"
   ]
  },
  {
   "cell_type": "code",
   "execution_count": 25,
   "metadata": {
    "collapsed": false
   },
   "outputs": [
    {
     "name": "stderr",
     "output_type": "stream",
     "text": [
      "/Users/mds/anaconda/envs/py3k/lib/python3.5/site-packages/matplotlib/figure.py:397: UserWarning: matplotlib is currently using a non-GUI backend, so cannot show the figure\n",
      "  \"matplotlib is currently using a non-GUI backend, \"\n"
     ]
    },
    {
     "data": {
      "image/png": "[encoded data removed]",
      "text/plain": [
       "<matplotlib.figure.Figure at 0x12676d978>"
      ]
     },
     "metadata": {},
     "output_type": "display_data"
    }
   ],
   "source": [
    "fig = plt.figure()\n",
    "#ax = fig.add_subplot(111,projection='3d')\n",
    "ax = fig.gca(projection='3d')\n",
    "ax.scatter(fs, nd, th, marker='o')\n",
    "ax.set_xlabel('Average File size')\n",
    "ax.set_ylabel('Number of files')\n",
    "ax.set_zlabel('Throughput')\n",
    "ax.set_xlim(0,4000)\n",
    "ax.set_ylim(0,20000)\n",
    "fig.savefig('threeD_clusters.png')\n",
    "fig.show()"
   ]
  },
  {
   "cell_type": "code",
   "execution_count": 27,
   "metadata": {
    "collapsed": false
   },
   "outputs": [
    {
     "ename": "AttributeError",
     "evalue": "'numpy.ndarray' object has no attribute 'has_data'",
     "output_type": "error",
     "traceback": [
      "\u001b[0;31m---------------------------------------------------------------------------\u001b[0m",
      "\u001b[0;31mAttributeError\u001b[0m                            Traceback (most recent call last)",
      "\u001b[0;32m<ipython-input-27-fbf6308baf2d>\u001b[0m in \u001b[0;36m<module>\u001b[0;34m()\u001b[0m\n\u001b[0;32m----> 1\u001b[0;31m \u001b[0mAxes3D\u001b[0m\u001b[0;34m.\u001b[0m\u001b[0mscatter\u001b[0m\u001b[0;34m(\u001b[0m\u001b[0mfs\u001b[0m\u001b[0;34m,\u001b[0m \u001b[0mnd\u001b[0m\u001b[0;34m,\u001b[0m \u001b[0mth\u001b[0m\u001b[0;34m,\u001b[0m\u001b[0mzdir\u001b[0m\u001b[0;34m=\u001b[0m\u001b[0;34m'z'\u001b[0m\u001b[0;34m)\u001b[0m\u001b[0;34m\u001b[0m\u001b[0m\n\u001b[0m",
      "\u001b[0;32m/Users/mds/anaconda/envs/py3k/lib/python3.5/site-packages/mpl_toolkits/mplot3d/axes3d.py\u001b[0m in \u001b[0;36mscatter\u001b[0;34m(self, xs, ys, zs, zdir, s, c, depthshade, *args, **kwargs)\u001b[0m\n\u001b[1;32m   2247\u001b[0m         '''\n\u001b[1;32m   2248\u001b[0m \u001b[0;34m\u001b[0m\u001b[0m\n\u001b[0;32m-> 2249\u001b[0;31m         \u001b[0mhad_data\u001b[0m \u001b[0;34m=\u001b[0m \u001b[0mself\u001b[0m\u001b[0;34m.\u001b[0m\u001b[0mhas_data\u001b[0m\u001b[0;34m(\u001b[0m\u001b[0;34m)\u001b[0m\u001b[0;34m\u001b[0m\u001b[0m\n\u001b[0m\u001b[1;32m   2250\u001b[0m \u001b[0;34m\u001b[0m\u001b[0m\n\u001b[1;32m   2251\u001b[0m         \u001b[0mxs\u001b[0m \u001b[0;34m=\u001b[0m \u001b[0mnp\u001b[0m\u001b[0;34m.\u001b[0m\u001b[0mma\u001b[0m\u001b[0;34m.\u001b[0m\u001b[0mravel\u001b[0m\u001b[0;34m(\u001b[0m\u001b[0mxs\u001b[0m\u001b[0;34m)\u001b[0m\u001b[0;34m\u001b[0m\u001b[0m\n",
      "\u001b[0;31mAttributeError\u001b[0m: 'numpy.ndarray' object has no attribute 'has_data'"
     ]
    }
   ],
   "source": [
    "Axes3D.scatter(fs, nd, th,zdir='z')"
   ]
  },
  {
   "cell_type": "code",
   "execution_count": null,
   "metadata": {
    "collapsed": false
   },
   "outputs": [],
   "source": [
    "import numpy as np\n",
    "from mpl_toolkits.mplot3d import Axes3D\n",
    "import matplotlib.pyplot as plt\n",
    "\n",
    "\n",
    "def randrange(n, vmin, vmax):\n",
    "    return (vmax - vmin)*np.random.rand(n) + vmin\n",
    "\n",
    "fig = plt.figure()\n",
    "ax = fig.add_subplot(111, projection='3d')\n",
    "n = 100\n",
    "for c, m, zl, zh in [('r', 'o', -50, -25), ('b', '^', -30, -5)]:\n",
    "    xs = randrange(n, 23, 32)\n",
    "    ys = randrange(n, 0, 100)\n",
    "    zs = randrange(n, zl, zh)\n",
    "    ax.scatter(xs, ys, zs, c=c, marker=m)\n",
    "\n",
    "ax.set_xlabel('X Label')\n",
    "ax.set_ylabel('Y Label')\n",
    "ax.set_zlabel('Z Label')\n",
    "\n",
    "plt.show()"
   ]
  },
  {
   "cell_type": "code",
   "execution_count": 28,
   "metadata": {
    "collapsed": false
   },
   "outputs": [
    {
     "data": {
      "text/plain": [
       "array([   3.131997,    3.131997,    3.131997, ...,  130.884019,\n",
       "        130.884019,  130.884019])"
      ]
     },
     "execution_count": 28,
     "metadata": {},
     "output_type": "execute_result"
    }
   ],
   "source": [
    "fs\n"
   ]
  },
  {
   "cell_type": "code",
   "execution_count": null,
   "metadata": {
    "collapsed": false
   },
   "outputs": [],
   "source": [
    "plt.plot(cluster_data.file_size, cluster_data.throughput, \"o\")"
   ]
  },
  {
   "cell_type": "markdown",
   "metadata": {},
   "source": [
    "# Sub-divide the xsede transfers into large, small and medium:"
   ]
  },
  {
   "cell_type": "code",
   "execution_count": null,
   "metadata": {
    "collapsed": false
   },
   "outputs": [],
   "source": [
    "# get all the large files from xsede data: \n",
    "# get the logs with filesize greater than 250MB. \n",
    "filesize_filter_large = ((xsede.file_size.astype(int) >= (200*1000*1000))  )\n",
    "xsede_large = xsede[filesize_filter_large]\n",
    "xsede_large.head()"
   ]
  },
  {
   "cell_type": "code",
   "execution_count": null,
   "metadata": {
    "collapsed": false
   },
   "outputs": [],
   "source": [
    "# get the logs with filesize in between 50MB and 250MB. \n",
    "filesize_filter_medium = ((xsede.file_size.astype(int) <= (200*1000*1000)) & ( xsede.file_size.astype(int) >= (45*1000*1000) ) )\n",
    "xsede_medium = xsede[filesize_filter_medium]\n",
    "xsede_medium.head()"
   ]
  },
  {
   "cell_type": "code",
   "execution_count": null,
   "metadata": {
    "collapsed": false
   },
   "outputs": [],
   "source": [
    "# get the logs with filesize in between 50MB and 250MB. \n",
    "filesize_filter_small = ((xsede.file_size.astype(int) <= (40*1000*1000))  )\n",
    "xsede_small = xsede[filesize_filter_small]\n",
    "xsede_small.head()"
   ]
  },
  {
   "cell_type": "code",
   "execution_count": null,
   "metadata": {
    "collapsed": true
   },
   "outputs": [],
   "source": []
  },
  {
   "cell_type": "code",
   "execution_count": null,
   "metadata": {
    "collapsed": true
   },
   "outputs": [],
   "source": []
  },
  {
   "cell_type": "code",
   "execution_count": null,
   "metadata": {
    "collapsed": false
   },
   "outputs": [],
   "source": [
    "# Get the data with source Stampede and Gordon:\n",
    "xsede_large_st_gr = xsede[(xsede_large.source == 'Stampede') & (xsede_large.destination == 'Gordon/Oasis')]\n",
    "xsede_large_st_gr.head()"
   ]
  },
  {
   "cell_type": "code",
   "execution_count": null,
   "metadata": {
    "collapsed": false
   },
   "outputs": [],
   "source": []
  },
  {
   "cell_type": "code",
   "execution_count": null,
   "metadata": {
    "collapsed": true
   },
   "outputs": [],
   "source": []
  },
  {
   "cell_type": "code",
   "execution_count": null,
   "metadata": {
    "collapsed": true
   },
   "outputs": [],
   "source": []
  },
  {
   "cell_type": "markdown",
   "metadata": {},
   "source": [
    "#  Manually analyze the large file transfers:"
   ]
  },
  {
   "cell_type": "code",
   "execution_count": null,
   "metadata": {
    "collapsed": false
   },
   "outputs": [],
   "source": [
    "# copy main data into a temporary variable :\n",
    "temp_data = data.copy(deep=True)\n",
    "temp_data.head()"
   ]
  },
  {
   "cell_type": "code",
   "execution_count": null,
   "metadata": {
    "collapsed": false
   },
   "outputs": [],
   "source": [
    "# get the unique source and destination names : as tuple \n",
    "#transfer_requests = data[['file_size','number_of_files','bandwidth','rtt','buffer_size']]\n",
    "source_name = temp_data[['source']]\n",
    "droped_duplicate_sources = source_name.drop_duplicates()\n",
    "\n",
    "unique_sources = [tuple(sources) for sources in droped_duplicate_sources.values]\n",
    "unique_sources"
   ]
  },
  {
   "cell_type": "code",
   "execution_count": null,
   "metadata": {
    "collapsed": false
   },
   "outputs": [],
   "source": [
    "# get the unique destination names : as tuple \n",
    "#transfer_requests = data[['file_size','number_of_files','bandwidth','rtt','buffer_size']]\n",
    "destination_name = temp_data[['destination']]\n",
    "droped_duplicate_destinations = destination_name.drop_duplicates()\n",
    "\n",
    "unique_destination = [tuple(destinations) for destinations in droped_duplicate_destinations.values]\n",
    "unique_destination"
   ]
  },
  {
   "cell_type": "code",
   "execution_count": null,
   "metadata": {
    "collapsed": false
   },
   "outputs": [],
   "source": [
    "# get the unique destination names : as tuple \n",
    "#transfer_requests = data[['file_size','number_of_files','bandwidth','rtt','buffer_size']]\n",
    "source_destination_name = temp_data[['source','destination']]\n",
    "droped_duplicate_sources_destinations = source_destination_name.drop_duplicates()\n",
    "\n",
    "unique_sources_destination = [tuple(sources_destinations) for sources_destinations in droped_duplicate_sources_destinations.values]\n",
    "unique_sources_destination"
   ]
  },
  {
   "cell_type": "code",
   "execution_count": null,
   "metadata": {
    "collapsed": false
   },
   "outputs": [],
   "source": [
    "# filter data based on source and destination tuple:\n",
    "# set source and destination as index:\n",
    "r = temp_data.set_index(['source','destination'])\n",
    "r.head()"
   ]
  },
  {
   "cell_type": "code",
   "execution_count": null,
   "metadata": {
    "collapsed": false
   },
   "outputs": [],
   "source": [
    "# Get the data with source = Stampede and destination = Gordon or Gordon/Oasis\n",
    "part_1 = r.loc[('Stampede', 'Gordon/Oasis')]\n",
    "part_2 = r.loc[('Stampede', 'Gordon/oasis')]\n",
    "part_3 = r.loc[('Stampede', 'Gordon')]\n",
    "# concatanate all three :\n",
    "stampede_gordon = pds.concat([part_1, part_2, part_3], axis=0)\n",
    "stampede_gordon.head()"
   ]
  },
  {
   "cell_type": "code",
   "execution_count": null,
   "metadata": {
    "collapsed": false
   },
   "outputs": [],
   "source": [
    "# reset the index:\n",
    "stampede_gordon = stampede_gordon.reset_index(['source','destination'])\n",
    "# reordering the columns inside the dataframe:\n",
    "column_order = ['file_size', 'number_of_files', 'bandwidth', 'rtt', 'buffer_size', \n",
    "            'p', 'cc', 'pp', 'fast', 'throughput', 'time', 'start_time', 'source', 'destination']\n",
    "stampede_gordon = stampede_gordon[column_order]\n",
    "stampede_gordon.head()"
   ]
  },
  {
   "cell_type": "markdown",
   "metadata": {},
   "source": [
    "# small file analysis: "
   ]
  },
  {
   "cell_type": "code",
   "execution_count": null,
   "metadata": {
    "collapsed": false
   },
   "outputs": [],
   "source": [
    "# get the logs with filesize in between 50MB and 250MB. \n",
    "filesize_filter_small = ((stampede_gordon.file_size.astype(int) <= (40*1000*1000))  )\n",
    "small_st_gordon = stampede_gordon[filesize_filter_small]\n",
    "small_st_gordon.head()"
   ]
  },
  {
   "cell_type": "code",
   "execution_count": null,
   "metadata": {
    "collapsed": false
   },
   "outputs": [],
   "source": [
    "# get the unique transfers : \n",
    "# get the unique transfers : as tuple \n",
    "transfer_requests = small_st_gordon[['file_size','number_of_files','bandwidth','rtt','buffer_size']]\n",
    "droped_duplicate_trans_req = transfer_requests.drop_duplicates()\n",
    "\n",
    "unique_transfers_small = [tuple(transfers) for transfers in droped_duplicate_trans_req.values]\n",
    "unique_transfers_small"
   ]
  },
  {
   "cell_type": "code",
   "execution_count": null,
   "metadata": {
    "collapsed": false
   },
   "outputs": [],
   "source": [
    "# set request param as index:\n",
    "r_small = small_st_gordon.set_index(['file_size','number_of_files','bandwidth','rtt','buffer_size'])\n",
    "r_small.head()"
   ]
  },
  {
   "cell_type": "code",
   "execution_count": null,
   "metadata": {
    "collapsed": false
   },
   "outputs": [],
   "source": [
    "# same operations for 100MB with 299 files dataset:\n",
    "l_512KB = r_small.loc[('5242929', '1000', '1280', '40.0', '33554432')]\n",
    "l_512KB = l_512KB[l_512KB.p*l_512KB.cc <= 8]\n",
    "p_512KB = l_512KB.sort_values('throughput')\n",
    "p_512KB.tail(25)"
   ]
  },
  {
   "cell_type": "code",
   "execution_count": null,
   "metadata": {
    "collapsed": false
   },
   "outputs": [],
   "source": [
    "p_512KB[(p_512KB.p==2) & (p_512KB.cc==2) & (p_512KB.pp == 16)]"
   ]
  },
  {
   "cell_type": "markdown",
   "metadata": {},
   "source": [
    "# Medium file analysis:"
   ]
  },
  {
   "cell_type": "code",
   "execution_count": null,
   "metadata": {
    "collapsed": false
   },
   "outputs": [],
   "source": [
    "# get the logs with filesize in between 50MB and 250MB. \n",
    "filesize_filter_medium = ((stampede_gordon.file_size.astype(int) <= (200*1000*1000)) & ( stampede_gordon.file_size.astype(int) >= (45*1000*1000) ) )\n",
    "medium_st_gordon = stampede_gordon[filesize_filter_medium]\n",
    "medium_st_gordon.head()"
   ]
  },
  {
   "cell_type": "code",
   "execution_count": null,
   "metadata": {
    "collapsed": false
   },
   "outputs": [],
   "source": [
    "# get the unique transfers : \n",
    "# get the unique transfers : as tuple \n",
    "transfer_requests = medium_st_gordon[['file_size','number_of_files','bandwidth','rtt','buffer_size']]\n",
    "droped_duplicate_trans_req = transfer_requests.drop_duplicates()\n",
    "\n",
    "unique_transfers_medium = [tuple(transfers) for transfers in droped_duplicate_trans_req.values]\n",
    "unique_transfers_medium"
   ]
  },
  {
   "cell_type": "code",
   "execution_count": null,
   "metadata": {
    "collapsed": false
   },
   "outputs": [],
   "source": [
    "# set request param as index:\n",
    "r_medium = medium_st_gordon.set_index(['file_size','number_of_files','bandwidth','rtt','buffer_size'])\n",
    "r_medium.head()"
   ]
  },
  {
   "cell_type": "code",
   "execution_count": null,
   "metadata": {
    "collapsed": false
   },
   "outputs": [],
   "source": [
    "# same operations for 100MB with 299 files dataset:\n",
    "l_100MB_299 = r_medium.loc[('104857668', '299', '1280', '39.0', '49920000')]\n",
    "l_100MB_299 = l_100MB_299[l_100MB_299.p*l_100MB_299.cc <= 16]\n",
    "p_100MB_299 = l_100MB_299.sort_values('throughput')\n",
    "p_100MB_299.tail(25)"
   ]
  },
  {
   "cell_type": "code",
   "execution_count": null,
   "metadata": {
    "collapsed": false
   },
   "outputs": [],
   "source": [
    "p_100MB_299[(p_100MB_299.p==4) & (p_100MB_299.cc==2) & (p_100MB_299.pp == 8)]"
   ]
  },
  {
   "cell_type": "code",
   "execution_count": null,
   "metadata": {
    "collapsed": false
   },
   "outputs": [],
   "source": [
    "# same operations for 100MB dataset:\n",
    "l_100MB = r_medium.loc[('104857664', '64', '1280', '40.0', '33554432')]\n",
    "l_100MB = l_100MB[l_100MB.p*l_100MB.cc <= 16]\n",
    "p_100MB = l_100MB.sort_values('throughput')\n",
    "p_100MB.tail(25)"
   ]
  },
  {
   "cell_type": "code",
   "execution_count": null,
   "metadata": {
    "collapsed": false
   },
   "outputs": [],
   "source": [
    "p_100MB[(p_100MB.p==4) & (p_100MB.cc==2) & (p_100MB.pp == 8)]"
   ]
  },
  {
   "cell_type": "markdown",
   "metadata": {},
   "source": [
    "# Large file analysis:"
   ]
  },
  {
   "cell_type": "code",
   "execution_count": null,
   "metadata": {
    "collapsed": false
   },
   "outputs": [],
   "source": [
    "# get the logs with filesize greater than 250MB. \n",
    "filesize_filter = (stampede_gordon.file_size.astype(int) > (200*1000*1000) )\n",
    "large_st_gordon = stampede_gordon[filesize_filter]\n",
    "large_st_gordon.head()"
   ]
  },
  {
   "cell_type": "code",
   "execution_count": null,
   "metadata": {
    "collapsed": false,
    "scrolled": true
   },
   "outputs": [],
   "source": [
    "# get the unique transfers : \n",
    "# get the unique transfers : as tuple \n",
    "transfer_requests = large_st_gordon[['file_size','number_of_files','bandwidth','rtt','buffer_size']]\n",
    "droped_duplicate_trans_req = transfer_requests.drop_duplicates()\n",
    "\n",
    "unique_transfers = [tuple(transfers) for transfers in droped_duplicate_trans_req.values]\n",
    "unique_transfers"
   ]
  },
  {
   "cell_type": "code",
   "execution_count": null,
   "metadata": {
    "collapsed": false
   },
   "outputs": [],
   "source": [
    "# set request param as index:\n",
    "r = large_st_gordon.set_index(['file_size','number_of_files','bandwidth','rtt','buffer_size'])\n",
    "r.head()"
   ]
  },
  {
   "cell_type": "code",
   "execution_count": null,
   "metadata": {
    "collapsed": false
   },
   "outputs": [],
   "source": [
    "# get the values 20 streams:\n",
    "l = r.loc[('1073742080', '16', '1280', '40.0', '33554432')]\n",
    "l = l[l.p*l.cc <= 20]\n",
    "l.head()"
   ]
  },
  {
   "cell_type": "code",
   "execution_count": null,
   "metadata": {
    "collapsed": false
   },
   "outputs": [],
   "source": [
    "p1 = l.sort_values('throughput')\n",
    "p1.tail(25)"
   ]
  },
  {
   "cell_type": "code",
   "execution_count": null,
   "metadata": {
    "collapsed": false
   },
   "outputs": [],
   "source": [
    "# find throughput for globus online:\n",
    "p1[(p1.p==8) & (p1.cc==2) & (p1.pp == 4)]"
   ]
  },
  {
   "cell_type": "code",
   "execution_count": null,
   "metadata": {
    "collapsed": false
   },
   "outputs": [],
   "source": [
    "# same operations for 3GB dataset:\n",
    "l_3GB = r.loc[('3221225984', '8', '1280', '40.0', '33554432')]\n",
    "l_3GB = l_3GB[l_3GB.p*l_3GB.cc <= 20]\n",
    "p_3GB = l_3GB.sort_values('throughput')\n",
    "p_3GB.tail(25)"
   ]
  },
  {
   "cell_type": "code",
   "execution_count": null,
   "metadata": {
    "collapsed": false
   },
   "outputs": [],
   "source": [
    "# find throughput for globus online:\n",
    "p_3GB[(p_3GB.p==8) & (p_3GB.cc==2) & (p_3GB.pp == 4)]"
   ]
  },
  {
   "cell_type": "code",
   "execution_count": null,
   "metadata": {
    "collapsed": false
   },
   "outputs": [],
   "source": [
    "# same operations for 3GB dataset:\n",
    "l_200MB = r.loc[('209715259', '69', '1280', '39.0', '49920000')]\n",
    "l_200MB = l_200MB[l_200MB.p*l_200MB.cc <= 20]\n",
    "p_200MB = l_200MB.sort_values('throughput')\n",
    "p_200MB.tail(25)"
   ]
  },
  {
   "cell_type": "code",
   "execution_count": null,
   "metadata": {
    "collapsed": false
   },
   "outputs": [],
   "source": [
    "# find throughput for globus online:\n",
    "p_200MB[(p_200MB.p==8) & (p_200MB.cc==2) & (p_200MB.pp == 4)]"
   ]
  },
  {
   "cell_type": "code",
   "execution_count": null,
   "metadata": {
    "collapsed": false
   },
   "outputs": [],
   "source": [
    "\n",
    "# same operations for 2GB dataset:\n",
    "l_2GB = r.loc[('2873838531', '34', '1280', '40.0', '33554432')]\n",
    "l_2GB = l_2GB[l_2GB.p*l_2GB.cc <= 20]\n",
    "p_2GB = l_2GB.sort_values('throughput')\n",
    "p_2GB.tail(25)"
   ]
  },
  {
   "cell_type": "code",
   "execution_count": null,
   "metadata": {
    "collapsed": false
   },
   "outputs": [],
   "source": [
    "# find throughput for globus online:\n",
    "p_2GB[(p_2GB.p==8) & (p_2GB.cc==2) & (p_2GB.pp == 4)]"
   ]
  },
  {
   "cell_type": "markdown",
   "metadata": {
    "collapsed": false
   },
   "source": [
    "# clustering data based on file requests:"
   ]
  },
  {
   "cell_type": "raw",
   "metadata": {
    "collapsed": true
   },
   "source": [
    "We will use k-means clustering for benchmarking:\n",
    "To identify the number of possible clusters we performed hierarchical clustering:\n",
    "\n",
    "\n"
   ]
  },
  {
   "cell_type": "code",
   "execution_count": null,
   "metadata": {
    "collapsed": true
   },
   "outputs": [],
   "source": [
    "# importing libraries:\n",
    "from matplotlib import pyplot as plt\n",
    "from scipy.cluster.hierarchy import dendrogram, linkage\n",
    "import numpy as np"
   ]
  },
  {
   "cell_type": "code",
   "execution_count": null,
   "metadata": {
    "collapsed": true
   },
   "outputs": [],
   "source": [
    "# some setting for this notebook to actually show the graphs inline, you probably won't need this\n",
    "%matplotlib inline\n",
    "np.set_printoptions(precision=5, suppress=True)  # suppress scientific float notation"
   ]
  },
  {
   "cell_type": "code",
   "execution_count": null,
   "metadata": {
    "collapsed": false
   },
   "outputs": [],
   "source": [
    "# get the data:\n",
    "unique_transfers[0:5]\n",
    "# preprocessing : \n",
    "# normalization: all columns between 1 to 100: (x - x_min) / (x_max - x_min)\n",
    "\n",
    "file_size_min = data.file_size.min() \n",
    "file_size_max = data.file_size.max()\n",
    "number_of_files_min = data.number_of_files.min()\n",
    "number_of_files_max = data.number_of_files.max()\n",
    "bandwidth_max = data.bandwidth.max()\n",
    "bandwidth_min = data.bandwidth.min()\n",
    "rtt_min = data.rtt.min()\n",
    "rtt_max = data.rtt.max()\n",
    "buffer_size_min = data.buffer_size.min()\n",
    "buffer_size_max = data.buffer_size.max()\n",
    "\n",
    "unique_transfers[0:5]\n",
    "\n",
    "droped_duplicate_trans_req.head()\n",
    "#droped_duplicate_trans_req.file_size = (droped_duplicate_trans_req.file_size - file_size_min) / (file_size_max -file_size_min)\n",
    "#droped_duplicate_trans_req.head()\n",
    "ndarry_data_req = droped_duplicate_trans_req.as_matrix()\n"
   ]
  },
  {
   "cell_type": "code",
   "execution_count": null,
   "metadata": {
    "collapsed": false
   },
   "outputs": [],
   "source": [
    "# generate the linkage matrix\n",
    "# we are using Ward variance minimization algorithm.\n",
    "# link: https://en.wikipedia.org/wiki/Ward%27s_method\n",
    "Z = linkage(ndarry_data_req, 'ward')  \n",
    "Z.shape"
   ]
  },
  {
   "cell_type": "code",
   "execution_count": null,
   "metadata": {
    "collapsed": false
   },
   "outputs": [],
   "source": [
    "# computing cophenetic correlation coefficient\n",
    "from scipy.cluster.hierarchy import cophenet\n",
    "from scipy.spatial.distance import pdist\n",
    "\n",
    "c, coph_dists = cophenet(Z, pdist(ndarry_data_req))\n",
    "c"
   ]
  },
  {
   "cell_type": "code",
   "execution_count": null,
   "metadata": {
    "collapsed": false
   },
   "outputs": [],
   "source": [
    "\n",
    "# calculate full dendrogram\n",
    "plt.figure(figsize=(20, 10))\n",
    "plt.title('Hierarchical Clustering Dendrogram')\n",
    "plt.xlabel('sample index')\n",
    "plt.ylabel('distance')\n",
    "dendrogram(\n",
    "    Z,\n",
    "    leaf_rotation=90.,  # rotates the x axis labels\n",
    "    leaf_font_size=10.,  # font size for the x axis labels\n",
    ")\n",
    "plt.show()"
   ]
  },
  {
   "cell_type": "code",
   "execution_count": null,
   "metadata": {
    "collapsed": false
   },
   "outputs": [],
   "source": [
    "# truncating the dendrogram: \n",
    "plt.title('Hierarchical Clustering Dendrogram (truncated)')\n",
    "plt.xlabel('sample index')\n",
    "plt.ylabel('distance')\n",
    "dendrogram(\n",
    "    Z,\n",
    "    truncate_mode='lastp',  # show only the last p merged clusters\n",
    "    p=12,  # show only the last p merged clusters\n",
    "    show_leaf_counts=False,  # otherwise numbers in brackets are counts\n",
    "    leaf_rotation=90.,\n",
    "    leaf_font_size=12.,\n",
    "    show_contracted=True,  # to get a distribution impression in truncated branches\n",
    ")\n",
    "plt.show()"
   ]
  },
  {
   "cell_type": "code",
   "execution_count": null,
   "metadata": {
    "collapsed": true
   },
   "outputs": [],
   "source": []
  },
  {
   "cell_type": "code",
   "execution_count": null,
   "metadata": {
    "collapsed": true
   },
   "outputs": [],
   "source": []
  }
 ],
 "metadata": {
  "kernelspec": {
   "display_name": "Python 3",
   "language": "python",
   "name": "python3"
  },
  "language_info": {
   "codemirror_mode": {
    "name": "ipython",
    "version": 3
   },
   "file_extension": ".py",
   "mimetype": "text/x-python",
   "name": "python",
   "nbconvert_exporter": "python",
   "pygments_lexer": "ipython3",
   "version": "3.5.1"
  }
 },
 "nbformat": 4,
 "nbformat_minor": 0
}
