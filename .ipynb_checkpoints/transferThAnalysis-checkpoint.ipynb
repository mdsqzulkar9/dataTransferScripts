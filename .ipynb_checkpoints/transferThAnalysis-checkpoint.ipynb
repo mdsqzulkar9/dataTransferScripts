{
 "cells": [
  {
   "cell_type": "raw",
   "metadata": {},
   "source": [
    "This notebook is to analyze the transfer throughputs.\n",
    "\n",
    "the dataset repository is in Dropbox:\n",
    "Dropbox/gits/data/ThOpt/master/\n",
    "\n",
    "Important units in the dataset: (your new data must agree with the units)\n",
    "    file_size - Megabytes\n",
    "    number_of_files - number int\n",
    "    bandwidth - Megabytes per second\n",
    "    rtt - millisecond\n",
    "    buffer_size - MegaBytes\n",
    "    p - number - int\n",
    "    cc - number - int\n",
    "    pp - number - int\n",
    "    fast - boolean - {0,1}\n",
    "    throughput - (Mega Byte per second)\n",
    "    time - second\n",
    "    start_time - yyyy-mm-dd HH:MM:SS (e.g. 2015-03-31 00:57:22)\n",
    "    source - string name\n",
    "    destination - string name \n",
    "    \n",
    "\n",
    "    \n",
    "    \n",
    "Author: Md S Q Zulkar Nine     Start Date: June 2, 2016      Last Modified: June 9, 2016"
   ]
  },
  {
   "cell_type": "code",
   "execution_count": 13,
   "metadata": {
    "collapsed": false
   },
   "outputs": [
    {
     "name": "stdout",
     "output_type": "stream",
     "text": [
      "master_06_10_2016_18_27\r\n"
     ]
    }
   ],
   "source": [
    "# See the dataset folder in linux-lab:\n",
    "! ls /home/zulkar/Dropbox/gits/data/ThOpt/master/"
   ]
  },
  {
   "cell_type": "code",
   "execution_count": 2,
   "metadata": {
    "collapsed": true
   },
   "outputs": [],
   "source": [
    "# Control variables: \n",
    "\n",
    "# master dataset location:\n",
    "master_location = 'Dropbox/gits/data/ThOpt/master/'\n",
    "\n",
    "# master file name : \n",
    "master_file_name = 'master_06_10_2016_18_27'\n"
   ]
  },
  {
   "cell_type": "code",
   "execution_count": 4,
   "metadata": {
    "collapsed": true
   },
   "outputs": [],
   "source": [
    "# import pandas library:\n",
    "import os\n",
    "import pandas as pds\n",
    "import pylab as pyl\n",
    "import numpy as np\n",
    "%matplotlib inline"
   ]
  },
  {
   "cell_type": "code",
   "execution_count": 5,
   "metadata": {
    "collapsed": false
   },
   "outputs": [
    {
     "data": {
      "text/html": [
       "<style>body {\n",
       "    margin: 0;\n",
       "    font-family: Helvetica;\n",
       "}\n",
       "table.dataframe {\n",
       "    border-collapse: collapse;\n",
       "    border: none;\n",
       "}\n",
       "table.dataframe tr {\n",
       "    border: none;\n",
       "}\n",
       "table.dataframe td, table.dataframe th {\n",
       "    margin: 0;\n",
       "    border: 1px solid white;\n",
       "    padding-left: 0.25em;\n",
       "    padding-right: 0.25em;\n",
       "}\n",
       "table.dataframe th:not(:empty) {\n",
       "    background-color: #fec;\n",
       "    text-align: left;\n",
       "    font-weight: normal;\n",
       "}\n",
       "table.dataframe tr:nth-child(2) th:empty {\n",
       "    border-left: none;\n",
       "    border-right: 1px dashed #888;\n",
       "}\n",
       "table.dataframe td {\n",
       "    border: 2px solid #ccf;\n",
       "    background-color: #f4f4ff;\n",
       "}h3 {\n",
       "    color: white;\n",
       "    background-color: black;\n",
       "    padding: 0.5em;\n",
       "}</style>"
      ],
      "text/plain": [
       "<IPython.core.display.HTML object>"
      ]
     },
     "execution_count": 5,
     "metadata": {},
     "output_type": "execute_result"
    }
   ],
   "source": [
    "# pretty dataframe :\n",
    "from IPython.core.display import HTML\n",
    "css = open('style-table.css').read() + open('style-notebook.css').read()\n",
    "HTML('<style>{}</style>'.format(css))"
   ]
  },
  {
   "cell_type": "code",
   "execution_count": 6,
   "metadata": {
    "collapsed": false
   },
   "outputs": [
    {
     "data": {
      "text/plain": [
       "'/home/zulkar/'"
      ]
     },
     "execution_count": 6,
     "metadata": {},
     "output_type": "execute_result"
    }
   ],
   "source": [
    "# required values :\n",
    "\n",
    "# OS file seperator: \n",
    "file_seperator = os.sep\n",
    "\n",
    "\n",
    "# User OS home directory:\n",
    "user_home = os.environ['HOME']\n",
    "user_home = user_home+file_seperator\n",
    "user_home"
   ]
  },
  {
   "cell_type": "code",
   "execution_count": 7,
   "metadata": {
    "collapsed": false,
    "scrolled": true
   },
   "outputs": [
    {
     "data": {
      "text/html": [
       "<div>\n",
       "<table border=\"1\" class=\"dataframe\">\n",
       "  <thead>\n",
       "    <tr style=\"text-align: right;\">\n",
       "      <th></th>\n",
       "      <th>file_size</th>\n",
       "      <th>number_of_files</th>\n",
       "      <th>bandwidth</th>\n",
       "      <th>rtt</th>\n",
       "      <th>buffer_size</th>\n",
       "      <th>p</th>\n",
       "      <th>cc</th>\n",
       "      <th>pp</th>\n",
       "      <th>fast</th>\n",
       "      <th>throughput</th>\n",
       "      <th>time</th>\n",
       "      <th>start_time</th>\n",
       "      <th>source</th>\n",
       "      <th>destination</th>\n",
       "    </tr>\n",
       "  </thead>\n",
       "  <tbody>\n",
       "    <tr>\n",
       "      <th>0</th>\n",
       "      <td>652486</td>\n",
       "      <td>3293</td>\n",
       "      <td>128</td>\n",
       "      <td>0.25</td>\n",
       "      <td>4194304</td>\n",
       "      <td>1</td>\n",
       "      <td>1</td>\n",
       "      <td>1</td>\n",
       "      <td>0</td>\n",
       "      <td>48.360560</td>\n",
       "      <td>42.371396</td>\n",
       "      <td>2015-07-24 00:05:45</td>\n",
       "      <td>Evenstar</td>\n",
       "      <td>Didclab-ws10</td>\n",
       "    </tr>\n",
       "    <tr>\n",
       "      <th>1</th>\n",
       "      <td>652486</td>\n",
       "      <td>3293</td>\n",
       "      <td>128</td>\n",
       "      <td>0.25</td>\n",
       "      <td>4194304</td>\n",
       "      <td>1</td>\n",
       "      <td>1</td>\n",
       "      <td>2</td>\n",
       "      <td>0</td>\n",
       "      <td>56.777687</td>\n",
       "      <td>36.089951</td>\n",
       "      <td>2015-07-24 00:06:27</td>\n",
       "      <td>Evenstar</td>\n",
       "      <td>Didclab-ws10</td>\n",
       "    </tr>\n",
       "    <tr>\n",
       "      <th>2</th>\n",
       "      <td>652486</td>\n",
       "      <td>3293</td>\n",
       "      <td>128</td>\n",
       "      <td>0.25</td>\n",
       "      <td>4194304</td>\n",
       "      <td>1</td>\n",
       "      <td>1</td>\n",
       "      <td>4</td>\n",
       "      <td>0</td>\n",
       "      <td>62.801374</td>\n",
       "      <td>32.628335</td>\n",
       "      <td>2015-07-24 00:07:03</td>\n",
       "      <td>Evenstar</td>\n",
       "      <td>Didclab-ws10</td>\n",
       "    </tr>\n",
       "    <tr>\n",
       "      <th>3</th>\n",
       "      <td>652486</td>\n",
       "      <td>3293</td>\n",
       "      <td>128</td>\n",
       "      <td>0.25</td>\n",
       "      <td>4194304</td>\n",
       "      <td>1</td>\n",
       "      <td>1</td>\n",
       "      <td>8</td>\n",
       "      <td>0</td>\n",
       "      <td>76.870653</td>\n",
       "      <td>26.656531</td>\n",
       "      <td>2015-07-24 00:07:36</td>\n",
       "      <td>Evenstar</td>\n",
       "      <td>Didclab-ws10</td>\n",
       "    </tr>\n",
       "    <tr>\n",
       "      <th>4</th>\n",
       "      <td>652486</td>\n",
       "      <td>3293</td>\n",
       "      <td>128</td>\n",
       "      <td>0.25</td>\n",
       "      <td>4194304</td>\n",
       "      <td>1</td>\n",
       "      <td>1</td>\n",
       "      <td>16</td>\n",
       "      <td>0</td>\n",
       "      <td>79.185026</td>\n",
       "      <td>25.877430</td>\n",
       "      <td>2015-07-24 00:08:03</td>\n",
       "      <td>Evenstar</td>\n",
       "      <td>Didclab-ws10</td>\n",
       "    </tr>\n",
       "  </tbody>\n",
       "</table>\n",
       "</div>"
      ],
      "text/plain": [
       "   file_size  number_of_files  bandwidth   rtt  buffer_size  p  cc  pp  fast  \\\n",
       "0     652486             3293        128  0.25      4194304  1   1   1     0   \n",
       "1     652486             3293        128  0.25      4194304  1   1   2     0   \n",
       "2     652486             3293        128  0.25      4194304  1   1   4     0   \n",
       "3     652486             3293        128  0.25      4194304  1   1   8     0   \n",
       "4     652486             3293        128  0.25      4194304  1   1  16     0   \n",
       "\n",
       "   throughput       time           start_time    source   destination  \n",
       "0   48.360560  42.371396  2015-07-24 00:05:45  Evenstar  Didclab-ws10  \n",
       "1   56.777687  36.089951  2015-07-24 00:06:27  Evenstar  Didclab-ws10  \n",
       "2   62.801374  32.628335  2015-07-24 00:07:03  Evenstar  Didclab-ws10  \n",
       "3   76.870653  26.656531  2015-07-24 00:07:36  Evenstar  Didclab-ws10  \n",
       "4   79.185026  25.877430  2015-07-24 00:08:03  Evenstar  Didclab-ws10  "
      ]
     },
     "execution_count": 7,
     "metadata": {},
     "output_type": "execute_result"
    }
   ],
   "source": [
    "# read the master file : \n",
    "full_master_file_path = user_home + master_location + master_file_name\n",
    "data = pds.read_csv(full_master_file_path)\n",
    "data.head()"
   ]
  },
  {
   "cell_type": "code",
   "execution_count": 27,
   "metadata": {
    "collapsed": false
   },
   "outputs": [
    {
     "data": {
      "text/html": [
       "<div>\n",
       "<table border=\"1\" class=\"dataframe\">\n",
       "  <thead>\n",
       "    <tr style=\"text-align: right;\">\n",
       "      <th></th>\n",
       "      <th>file_size</th>\n",
       "      <th>number_of_files</th>\n",
       "      <th>bandwidth</th>\n",
       "      <th>rtt</th>\n",
       "      <th>buffer_size</th>\n",
       "      <th>p</th>\n",
       "      <th>cc</th>\n",
       "      <th>pp</th>\n",
       "      <th>fast</th>\n",
       "      <th>throughput</th>\n",
       "      <th>time</th>\n",
       "      <th>start_time</th>\n",
       "      <th>source</th>\n",
       "      <th>destination</th>\n",
       "    </tr>\n",
       "  </thead>\n",
       "  <tbody>\n",
       "    <tr>\n",
       "      <th>0</th>\n",
       "      <td>652486</td>\n",
       "      <td>3293</td>\n",
       "      <td>128</td>\n",
       "      <td>0.25</td>\n",
       "      <td>4194304</td>\n",
       "      <td>1</td>\n",
       "      <td>1</td>\n",
       "      <td>1</td>\n",
       "      <td>0</td>\n",
       "      <td>48.360560</td>\n",
       "      <td>42.371396</td>\n",
       "      <td>2015-07-24 00:05:45</td>\n",
       "      <td>Evenstar</td>\n",
       "      <td>Didclab-ws10</td>\n",
       "    </tr>\n",
       "    <tr>\n",
       "      <th>1</th>\n",
       "      <td>652486</td>\n",
       "      <td>3293</td>\n",
       "      <td>128</td>\n",
       "      <td>0.25</td>\n",
       "      <td>4194304</td>\n",
       "      <td>1</td>\n",
       "      <td>1</td>\n",
       "      <td>2</td>\n",
       "      <td>0</td>\n",
       "      <td>56.777687</td>\n",
       "      <td>36.089951</td>\n",
       "      <td>2015-07-24 00:06:27</td>\n",
       "      <td>Evenstar</td>\n",
       "      <td>Didclab-ws10</td>\n",
       "    </tr>\n",
       "    <tr>\n",
       "      <th>2</th>\n",
       "      <td>652486</td>\n",
       "      <td>3293</td>\n",
       "      <td>128</td>\n",
       "      <td>0.25</td>\n",
       "      <td>4194304</td>\n",
       "      <td>1</td>\n",
       "      <td>1</td>\n",
       "      <td>4</td>\n",
       "      <td>0</td>\n",
       "      <td>62.801374</td>\n",
       "      <td>32.628335</td>\n",
       "      <td>2015-07-24 00:07:03</td>\n",
       "      <td>Evenstar</td>\n",
       "      <td>Didclab-ws10</td>\n",
       "    </tr>\n",
       "    <tr>\n",
       "      <th>3</th>\n",
       "      <td>652486</td>\n",
       "      <td>3293</td>\n",
       "      <td>128</td>\n",
       "      <td>0.25</td>\n",
       "      <td>4194304</td>\n",
       "      <td>1</td>\n",
       "      <td>1</td>\n",
       "      <td>8</td>\n",
       "      <td>0</td>\n",
       "      <td>76.870653</td>\n",
       "      <td>26.656531</td>\n",
       "      <td>2015-07-24 00:07:36</td>\n",
       "      <td>Evenstar</td>\n",
       "      <td>Didclab-ws10</td>\n",
       "    </tr>\n",
       "    <tr>\n",
       "      <th>4</th>\n",
       "      <td>652486</td>\n",
       "      <td>3293</td>\n",
       "      <td>128</td>\n",
       "      <td>0.25</td>\n",
       "      <td>4194304</td>\n",
       "      <td>1</td>\n",
       "      <td>1</td>\n",
       "      <td>16</td>\n",
       "      <td>0</td>\n",
       "      <td>79.185026</td>\n",
       "      <td>25.877430</td>\n",
       "      <td>2015-07-24 00:08:03</td>\n",
       "      <td>Evenstar</td>\n",
       "      <td>Didclab-ws10</td>\n",
       "    </tr>\n",
       "  </tbody>\n",
       "</table>\n",
       "</div>"
      ],
      "text/plain": [
       "  file_size number_of_files bandwidth   rtt  buffer_size  p  cc  pp  fast  \\\n",
       "0    652486            3293       128  0.25      4194304  1   1   1     0   \n",
       "1    652486            3293       128  0.25      4194304  1   1   2     0   \n",
       "2    652486            3293       128  0.25      4194304  1   1   4     0   \n",
       "3    652486            3293       128  0.25      4194304  1   1   8     0   \n",
       "4    652486            3293       128  0.25      4194304  1   1  16     0   \n",
       "\n",
       "   throughput       time           start_time    source   destination  \n",
       "0   48.360560  42.371396  2015-07-24 00:05:45  Evenstar  Didclab-ws10  \n",
       "1   56.777687  36.089951  2015-07-24 00:06:27  Evenstar  Didclab-ws10  \n",
       "2   62.801374  32.628335  2015-07-24 00:07:03  Evenstar  Didclab-ws10  \n",
       "3   76.870653  26.656531  2015-07-24 00:07:36  Evenstar  Didclab-ws10  \n",
       "4   79.185026  25.877430  2015-07-24 00:08:03  Evenstar  Didclab-ws10  "
      ]
     },
     "execution_count": 27,
     "metadata": {},
     "output_type": "execute_result"
    }
   ],
   "source": [
    "# as first five columns are data transfer requests. we can convert them into string for accurate and \n",
    "# efficient indexing. \n",
    "\n",
    "data['file_size'] = data['file_size'].astype(str)\n",
    "data['number_of_files'] = data['number_of_files'].astype(str)\n",
    "data['bandwidth'] = data['bandwidth'].astype(str)\n",
    "data['rtt'] = data['rtt'].astype(str)\n",
    "data['buffer_size'] = data['buffer_size'].astype(str)\n",
    "data.head()"
   ]
  },
  {
   "cell_type": "code",
   "execution_count": 12,
   "metadata": {
    "collapsed": false
   },
   "outputs": [
    {
     "data": {
      "text/plain": [
       "[(652486.0, 3293.0, 128.0, 0.25, 4194304.0),\n",
       " (10623021.0, 405.0, 128.0, 0.25, 4194304.0),\n",
       " (51421866.0, 126.0, 128.0, 0.25, 4194304.0),\n",
       " (912680960.0, 10.0, 128.0, 0.25, 4194304.0),\n",
       " (3131997.0, 3429.0, 1280.0, 80.0, 33554432.0),\n",
       " (23727255.0, 906.0, 1280.0, 80.0, 33554432.0),\n",
       " (132236763.0, 325.0, 1280.0, 80.0, 33554432.0),\n",
       " (3063322383.0, 34.0, 1280.0, 80.0, 33554432.0),\n",
       " (5242929.0, 1000.0, 1280.0, 40.0, 33554432.0),\n",
       " (26214461.0, 200.0, 1280.0, 40.0, 33554432.0),\n",
       " (256069.0, 1000.0, 1280.0, 40.0, 33554432.0),\n",
       " (256096.0, 128.0, 1280.0, 40.0, 33554432.0),\n",
       " (256080.0, 256.0, 1280.0, 40.0, 33554432.0),\n",
       " (256072.0, 512.0, 1280.0, 40.0, 33554432.0),\n",
       " (512069.0, 1000.0, 1280.0, 40.0, 33554432.0),\n",
       " (512096.0, 128.0, 1280.0, 40.0, 33554432.0),\n",
       " (512080.0, 256.0, 1280.0, 40.0, 33554432.0),\n",
       " (512072.0, 512.0, 1280.0, 40.0, 33554432.0),\n",
       " (1048641.0, 1000.0, 1280.0, 40.0, 33554432.0),\n",
       " (1048672.0, 128.0, 1280.0, 40.0, 33554432.0),\n",
       " (1048656.0, 256.0, 1280.0, 40.0, 33554432.0),\n",
       " (1048640.0, 512.0, 1280.0, 40.0, 33554432.0),\n",
       " (1073742080.0, 16.0, 1280.0, 40.0, 33554432.0),\n",
       " (3221225984.0, 8.0, 1280.0, 40.0, 33554432.0),\n",
       " (104857664.0, 64.0, 1280.0, 40.0, 33554432.0),\n",
       " (104857664.0, 64.0, 128.0, 0.25, 4194304.0),\n",
       " (3145760.0, 500.0, 128.0, 0.25, 4194304.0),\n",
       " (5242900.0, 200.0, 128.0, 0.25, 4194304.0),\n",
       " (15728680.0, 100.0, 128.0, 0.25, 4194304.0),\n",
       " (3221225984.0, 8.0, 128.0, 0.25, 4194304.0),\n",
       " (1073742080.0, 16.0, 128.0, 0.25, 4194304.0),\n",
       " (256036.0, 1000.0, 128.0, 0.25, 4194304.0),\n",
       " (256032.0, 128.0, 128.0, 0.25, 4194304.0),\n",
       " (256048.0, 256.0, 128.0, 0.25, 4194304.0),\n",
       " (256040.0, 512.0, 128.0, 0.25, 4194304.0),\n",
       " (512036.0, 1000.0, 128.0, 0.25, 4194304.0),\n",
       " (512032.0, 128.0, 128.0, 0.25, 4194304.0),\n",
       " (512048.0, 256.0, 128.0, 0.25, 4194304.0),\n",
       " (512040.0, 512.0, 128.0, 0.25, 4194304.0),\n",
       " (1048612.0, 1000.0, 128.0, 0.25, 4194304.0),\n",
       " (1048608.0, 128.0, 128.0, 0.25, 4194304.0),\n",
       " (1048624.0, 256.0, 128.0, 0.25, 4194304.0),\n",
       " (1048616.0, 512.0, 128.0, 0.25, 4194304.0),\n",
       " (3150088.0, 3409.0, 1280.0, 40.0, 33554432.0),\n",
       " (23553926.0, 912.0, 1280.0, 40.0, 33554432.0),\n",
       " (130884019.0, 329.0, 1280.0, 40.0, 33554432.0),\n",
       " (2873838531.0, 34.0, 1280.0, 40.0, 33554432.0),\n",
       " (3136594.0, 3424.0, 1280.0, 40.0, 33554432.0),\n",
       " (5242941.0, 4999.0, 1280.0, 39.0, 49920000.0),\n",
       " (3145769.0, 99.0, 1280.0, 39.0, 49920000.0),\n",
       " (2097213.0, 999.0, 1280.0, 39.0, 49920000.0),\n",
       " (5242941.0, 999.0, 1280.0, 39.0, 49920000.0),\n",
       " (1572923.0, 9999.0, 1280.0, 39.0, 49920000.0),\n",
       " (2097213.0, 4999.0, 1280.0, 39.0, 49920000.0),\n",
       " (3145793.0, 499.0, 1280.0, 39.0, 49920000.0),\n",
       " (1572923.0, 19999.0, 1280.0, 39.0, 49920000.0),\n",
       " (209715259.0, 69.0, 1280.0, 39.0, 49920000.0),\n",
       " (104857659.0, 69.0, 1280.0, 39.0, 49920000.0),\n",
       " (209715261.0, 199.0, 1280.0, 39.0, 49920000.0),\n",
       " (104857741.0, 29.0, 1280.0, 39.0, 49920000.0),\n",
       " (209715415.0, 19.0, 1280.0, 39.0, 49920000.0),\n",
       " (209715283.0, 49.0, 1280.0, 39.0, 49920000.0),\n",
       " (104857641.0, 99.0, 1280.0, 39.0, 49920000.0),\n",
       " (209715305.0, 39.0, 1280.0, 39.0, 49920000.0),\n",
       " (104857683.0, 49.0, 1280.0, 39.0, 49920000.0),\n",
       " (104857815.0, 19.0, 1280.0, 39.0, 49920000.0),\n",
       " (104857661.0, 199.0, 1280.0, 39.0, 49920000.0),\n",
       " (104857705.0, 39.0, 1280.0, 39.0, 49920000.0),\n",
       " (209715241.0, 99.0, 1280.0, 39.0, 49920000.0),\n",
       " (209715341.0, 29.0, 1280.0, 39.0, 49920000.0),\n",
       " (104857668.0, 299.0, 1280.0, 39.0, 49920000.0)]"
      ]
     },
     "execution_count": 12,
     "metadata": {},
     "output_type": "execute_result"
    }
   ],
   "source": [
    "# get the unique transfers : as tuple \n",
    "d = data[['file_size','number_of_files','bandwidth','rtt','buffer_size']]\n",
    "d = d.drop_duplicates()\n",
    "\n",
    "d['file_size'] = d['file_size'].round(decimals=2)\n",
    "unique_transfers = [tuple(transfers) for transfers in d.values]\n",
    "unique_transfers\n",
    "#len(unique_transfers)"
   ]
  },
  {
   "cell_type": "code",
   "execution_count": 14,
   "metadata": {
    "collapsed": false
   },
   "outputs": [
    {
     "data": {
      "text/html": [
       "<div>\n",
       "<table border=\"1\" class=\"dataframe\">\n",
       "  <thead>\n",
       "    <tr style=\"text-align: right;\">\n",
       "      <th></th>\n",
       "      <th></th>\n",
       "      <th></th>\n",
       "      <th></th>\n",
       "      <th></th>\n",
       "      <th></th>\n",
       "      <th></th>\n",
       "      <th></th>\n",
       "      <th></th>\n",
       "      <th>throughput</th>\n",
       "      <th>time</th>\n",
       "      <th>start_time</th>\n",
       "      <th>source</th>\n",
       "      <th>destination</th>\n",
       "    </tr>\n",
       "    <tr>\n",
       "      <th>file_size</th>\n",
       "      <th>number_of_files</th>\n",
       "      <th>bandwidth</th>\n",
       "      <th>rtt</th>\n",
       "      <th>buffer_size</th>\n",
       "      <th>p</th>\n",
       "      <th>cc</th>\n",
       "      <th>pp</th>\n",
       "      <th>fast</th>\n",
       "      <th></th>\n",
       "      <th></th>\n",
       "      <th></th>\n",
       "      <th></th>\n",
       "      <th></th>\n",
       "    </tr>\n",
       "  </thead>\n",
       "  <tbody>\n",
       "    <tr>\n",
       "      <th rowspan=\"5\" valign=\"top\">652486</th>\n",
       "      <th rowspan=\"5\" valign=\"top\">3293</th>\n",
       "      <th rowspan=\"5\" valign=\"top\">128</th>\n",
       "      <th rowspan=\"5\" valign=\"top\">0.25</th>\n",
       "      <th rowspan=\"5\" valign=\"top\">4194304</th>\n",
       "      <th rowspan=\"5\" valign=\"top\">1</th>\n",
       "      <th rowspan=\"5\" valign=\"top\">1</th>\n",
       "      <th>1</th>\n",
       "      <th>0</th>\n",
       "      <td>48.360560</td>\n",
       "      <td>42.371396</td>\n",
       "      <td>2015-07-24 00:05:45</td>\n",
       "      <td>Evenstar</td>\n",
       "      <td>Didclab-ws10</td>\n",
       "    </tr>\n",
       "    <tr>\n",
       "      <th>2</th>\n",
       "      <th>0</th>\n",
       "      <td>56.777687</td>\n",
       "      <td>36.089951</td>\n",
       "      <td>2015-07-24 00:06:27</td>\n",
       "      <td>Evenstar</td>\n",
       "      <td>Didclab-ws10</td>\n",
       "    </tr>\n",
       "    <tr>\n",
       "      <th>4</th>\n",
       "      <th>0</th>\n",
       "      <td>62.801374</td>\n",
       "      <td>32.628335</td>\n",
       "      <td>2015-07-24 00:07:03</td>\n",
       "      <td>Evenstar</td>\n",
       "      <td>Didclab-ws10</td>\n",
       "    </tr>\n",
       "    <tr>\n",
       "      <th>8</th>\n",
       "      <th>0</th>\n",
       "      <td>76.870653</td>\n",
       "      <td>26.656531</td>\n",
       "      <td>2015-07-24 00:07:36</td>\n",
       "      <td>Evenstar</td>\n",
       "      <td>Didclab-ws10</td>\n",
       "    </tr>\n",
       "    <tr>\n",
       "      <th>16</th>\n",
       "      <th>0</th>\n",
       "      <td>79.185026</td>\n",
       "      <td>25.877430</td>\n",
       "      <td>2015-07-24 00:08:03</td>\n",
       "      <td>Evenstar</td>\n",
       "      <td>Didclab-ws10</td>\n",
       "    </tr>\n",
       "  </tbody>\n",
       "</table>\n",
       "</div>"
      ],
      "text/plain": [
       "                                                                   throughput  \\\n",
       "file_size number_of_files bandwidth rtt  buffer_size p cc pp fast               \n",
       "652486    3293            128       0.25 4194304     1 1  1  0      48.360560   \n",
       "                                                          2  0      56.777687   \n",
       "                                                          4  0      62.801374   \n",
       "                                                          8  0      76.870653   \n",
       "                                                          16 0      79.185026   \n",
       "\n",
       "                                                                        time  \\\n",
       "file_size number_of_files bandwidth rtt  buffer_size p cc pp fast              \n",
       "652486    3293            128       0.25 4194304     1 1  1  0     42.371396   \n",
       "                                                          2  0     36.089951   \n",
       "                                                          4  0     32.628335   \n",
       "                                                          8  0     26.656531   \n",
       "                                                          16 0     25.877430   \n",
       "\n",
       "                                                                            start_time  \\\n",
       "file_size number_of_files bandwidth rtt  buffer_size p cc pp fast                        \n",
       "652486    3293            128       0.25 4194304     1 1  1  0     2015-07-24 00:05:45   \n",
       "                                                          2  0     2015-07-24 00:06:27   \n",
       "                                                          4  0     2015-07-24 00:07:03   \n",
       "                                                          8  0     2015-07-24 00:07:36   \n",
       "                                                          16 0     2015-07-24 00:08:03   \n",
       "\n",
       "                                                                     source  \\\n",
       "file_size number_of_files bandwidth rtt  buffer_size p cc pp fast             \n",
       "652486    3293            128       0.25 4194304     1 1  1  0     Evenstar   \n",
       "                                                          2  0     Evenstar   \n",
       "                                                          4  0     Evenstar   \n",
       "                                                          8  0     Evenstar   \n",
       "                                                          16 0     Evenstar   \n",
       "\n",
       "                                                                    destination  \n",
       "file_size number_of_files bandwidth rtt  buffer_size p cc pp fast                \n",
       "652486    3293            128       0.25 4194304     1 1  1  0     Didclab-ws10  \n",
       "                                                          2  0     Didclab-ws10  \n",
       "                                                          4  0     Didclab-ws10  \n",
       "                                                          8  0     Didclab-ws10  \n",
       "                                                          16 0     Didclab-ws10  "
      ]
     },
     "execution_count": 14,
     "metadata": {},
     "output_type": "execute_result"
    }
   ],
   "source": [
    "# make (file_size, number_of_files, bandwidth, rtt, buffer_size) index \n",
    "d = data.set_index(['file_size','number_of_files','bandwidth','rtt','buffer_size','p','cc','pp','fast'])\n",
    "\n",
    "d.head()"
   ]
  },
  {
   "cell_type": "code",
   "execution_count": 16,
   "metadata": {
    "collapsed": false
   },
   "outputs": [
    {
     "name": "stderr",
     "output_type": "stream",
     "text": [
      "/home/zulkar/anaconda3/lib/python3.5/site-packages/ipykernel/__main__.py:2: PerformanceWarning: indexing past lexsort depth may impact performance.\n",
      "  from ipykernel import kernelapp as app\n"
     ]
    },
    {
     "data": {
      "text/plain": [
       "<matplotlib.axes._subplots.AxesSubplot at 0x7fbb216608d0>"
      ]
     },
     "execution_count": 16,
     "metadata": {},
     "output_type": "execute_result"
    },
    {
     "data": {
      "image/png": "[encoded data removed]",
      "text/plain": [
       "<matplotlib.figure.Figure at 0x7fbb233994a8>"
      ]
     },
     "metadata": {},
     "output_type": "display_data"
    }
   ],
   "source": [
    "# look-up the data:\n",
    "t = d.loc[unique_transfers[0]].throughput\n",
    "\n"
   ]
  },
  {
   "cell_type": "code",
   "execution_count": 11,
   "metadata": {
    "collapsed": false
   },
   "outputs": [
    {
     "data": {
      "text/plain": [
       "131374     911.389364\n",
       "131117     911.774572\n",
       "131373     912.993855\n",
       "134784     913.541575\n",
       "134605     913.939332\n",
       "136354     915.253665\n",
       "133950     915.531312\n",
       "134783     916.272290\n",
       "134747     917.183936\n",
       "133958     919.477843\n",
       "134567     919.644451\n",
       "65764      922.182393\n",
       "131333     922.845764\n",
       "131119     923.181736\n",
       "133099     927.400443\n",
       "132234     927.447989\n",
       "132235     928.932527\n",
       "134604     930.869042\n",
       "132231     932.850932\n",
       "134569     934.951435\n",
       "134813     946.005238\n",
       "133088     953.520219\n",
       "133922     968.494094\n",
       "65776      971.800491\n",
       "132232     980.064464\n",
       "133058     984.313487\n",
       "136947     990.666968\n",
       "134819    1019.791184\n",
       "131369    1022.602943\n",
       "65775     1063.466290\n",
       "Name: throughput, dtype: float64"
      ]
     },
     "execution_count": 11,
     "metadata": {},
     "output_type": "execute_result"
    }
   ],
   "source": [
    "data.throughput.sort_values().tail(30)"
   ]
  },
  {
   "cell_type": "code",
   "execution_count": null,
   "metadata": {
    "collapsed": true
   },
   "outputs": [],
   "source": []
  },
  {
   "cell_type": "code",
   "execution_count": null,
   "metadata": {
    "collapsed": true
   },
   "outputs": [],
   "source": []
  },
  {
   "cell_type": "code",
   "execution_count": null,
   "metadata": {
    "collapsed": true
   },
   "outputs": [],
   "source": []
  },
  {
   "cell_type": "code",
   "execution_count": null,
   "metadata": {
    "collapsed": true
   },
   "outputs": [],
   "source": []
  },
  {
   "cell_type": "code",
   "execution_count": null,
   "metadata": {
    "collapsed": true
   },
   "outputs": [],
   "source": []
  },
  {
   "cell_type": "code",
   "execution_count": null,
   "metadata": {
    "collapsed": true
   },
   "outputs": [],
   "source": []
  },
  {
   "cell_type": "code",
   "execution_count": null,
   "metadata": {
    "collapsed": false
   },
   "outputs": [],
   "source": [
    "data.head()"
   ]
  },
  {
   "cell_type": "code",
   "execution_count": null,
   "metadata": {
    "collapsed": false
   },
   "outputs": [],
   "source": [
    "# string to Timestamp conversion : \n",
    "# reference : Type - Description - %Y - 4-digit year - %y - 2-digit year - %m - 2-digit month [01, 12] \n",
    "# - %d - 2-digit day [01, 31] - %H - Hour (24-hour clock) [00, 23] - %I - Hour (12-hour clock) [01, 12] \n",
    "# - %M - 2-digit minute [00, 59] - %S - Second [00, 61] (seconds 60, 61 account for leap seconds) \n",
    "# - %w - Weekday as integer [0 (Sunday), 6] - %U - Week number of the year [00, 53]. \n",
    "# Sunday is considered the first day of the week, and days before the first Sunday of the year are “week 0”.\n",
    "# - %W - Week number of the year [00, 53]. Monday is considered the first day of the week, \n",
    "# and days before the first Monday of the year are “week 0”. - %z - UTC time zone offset as +HHMM or -HHMM, \n",
    "# empty if time zone naive %F - %F - Shortcut for %Y-%m-%d, \n",
    "# for example 2012-4-18 - %D - Shortcut for %m/%d/%y, for example 04/18/12\n",
    "\n",
    "pds.to_datetime('05:20:2016-11:28', format='%m:%d:%Y-%H:%M')"
   ]
  },
  {
   "cell_type": "code",
   "execution_count": null,
   "metadata": {
    "collapsed": false,
    "scrolled": true
   },
   "outputs": [],
   "source": [
    "# listing all the meta data in the dataset: \n",
    "data.keys()"
   ]
  },
  {
   "cell_type": "code",
   "execution_count": null,
   "metadata": {
    "collapsed": false
   },
   "outputs": [],
   "source": [
    "# convert the string timestamp in dataType: Timestamp\n",
    "format_date_time = '%m:%d:%Y-%H:%M'\n",
    "\n",
    "def convert_to_time_stamp(date_in_string):\n",
    "    result = pds.to_datetime(date_in_string, format=format_date_time)\n",
    "    return result\n",
    "\n",
    "# change the current string date time to Timestamp: \n",
    "data['start_time'] = data['start_time'].apply(convert_to_time_stamp)"
   ]
  },
  {
   "cell_type": "code",
   "execution_count": null,
   "metadata": {
    "collapsed": false
   },
   "outputs": [],
   "source": [
    "# convert file size into MegaBytes :\n",
    "data['file_size'] = (data['file_size'] / (1000 * 1000) ).round()"
   ]
  },
  {
   "cell_type": "code",
   "execution_count": null,
   "metadata": {
    "collapsed": false
   },
   "outputs": [],
   "source": [
    "data.head()"
   ]
  },
  {
   "cell_type": "code",
   "execution_count": null,
   "metadata": {
    "collapsed": false
   },
   "outputs": [],
   "source": [
    "# To access a day from the dataset:\n",
    "data.start_time.dt.day.head()"
   ]
  },
  {
   "cell_type": "code",
   "execution_count": null,
   "metadata": {
    "collapsed": false
   },
   "outputs": [],
   "source": [
    "# get the unique transfers : as tuple \n",
    "d = data[['file_size','number_of_files','bandwidth','rtt','buffer_size']]\n",
    "d = d.drop_duplicates()\n",
    "\n",
    "unique_transfers = [tuple(transfers) for transfers in d.values]\n",
    "unique_transfers"
   ]
  },
  {
   "cell_type": "code",
   "execution_count": null,
   "metadata": {
    "collapsed": false
   },
   "outputs": [],
   "source": [
    "# make (file_size, number_of_files, bandwidth, rtt, buffer_size) index \n",
    "d = data.set_index(['file_size','number_of_files','bandwidth','rtt','buffer_size','p','cc','pp','fast'])\n",
    "\n",
    "d.head()"
   ]
  },
  {
   "cell_type": "code",
   "execution_count": null,
   "metadata": {
    "collapsed": false
   },
   "outputs": [],
   "source": [
    "# look-up the data:\n",
    "t = d.loc[unique_transfers[1]].throughput\n",
    "t.plot()"
   ]
  },
  {
   "cell_type": "code",
   "execution_count": null,
   "metadata": {
    "collapsed": false
   },
   "outputs": [],
   "source": [
    "t.sort_values().tail(10)"
   ]
  },
  {
   "cell_type": "code",
   "execution_count": null,
   "metadata": {
    "collapsed": false
   },
   "outputs": [],
   "source": [
    "!ls\n"
   ]
  },
  {
   "cell_type": "code",
   "execution_count": null,
   "metadata": {
    "collapsed": true
   },
   "outputs": [],
   "source": []
  },
  {
   "cell_type": "code",
   "execution_count": null,
   "metadata": {
    "collapsed": true
   },
   "outputs": [],
   "source": []
  },
  {
   "cell_type": "code",
   "execution_count": null,
   "metadata": {
    "collapsed": true
   },
   "outputs": [],
   "source": []
  },
  {
   "cell_type": "code",
   "execution_count": null,
   "metadata": {
    "collapsed": true
   },
   "outputs": [],
   "source": []
  },
  {
   "cell_type": "code",
   "execution_count": null,
   "metadata": {
    "collapsed": true
   },
   "outputs": [],
   "source": []
  },
  {
   "cell_type": "code",
   "execution_count": null,
   "metadata": {
    "collapsed": true
   },
   "outputs": [],
   "source": []
  },
  {
   "cell_type": "code",
   "execution_count": null,
   "metadata": {
    "collapsed": true
   },
   "outputs": [],
   "source": []
  },
  {
   "cell_type": "code",
   "execution_count": null,
   "metadata": {
    "collapsed": true
   },
   "outputs": [],
   "source": []
  },
  {
   "cell_type": "code",
   "execution_count": null,
   "metadata": {
    "collapsed": true
   },
   "outputs": [],
   "source": []
  },
  {
   "cell_type": "code",
   "execution_count": null,
   "metadata": {
    "collapsed": true
   },
   "outputs": [],
   "source": []
  }
 ],
 "metadata": {
  "kernelspec": {
   "display_name": "Python 3",
   "language": "python",
   "name": "python3"
  },
  "language_info": {
   "codemirror_mode": {
    "name": "ipython",
    "version": 3
   },
   "file_extension": ".py",
   "mimetype": "text/x-python",
   "name": "python",
   "nbconvert_exporter": "python",
   "pygments_lexer": "ipython3",
   "version": "3.5.1"
  }
 },
 "nbformat": 4,
 "nbformat_minor": 0
}
