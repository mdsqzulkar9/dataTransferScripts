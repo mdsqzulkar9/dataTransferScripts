{
 "cells": [
  {
   "cell_type": "raw",
   "metadata": {},
   "source": [
    "This script is going to take care of Kemal's data with background traffic."
   ]
  },
  {
   "cell_type": "code",
   "execution_count": 1,
   "metadata": {
    "collapsed": true
   },
   "outputs": [],
   "source": [
    "# import pandas library:\n",
    "import pandas as pds\n",
    "import pylab as pyl\n",
    "import numpy as np\n",
    "import time\n",
    "import datetime\n",
    "%matplotlib inline"
   ]
  },
  {
   "cell_type": "code",
   "execution_count": 2,
   "metadata": {
    "collapsed": false
   },
   "outputs": [
    {
     "data": {
      "text/html": [
       "<style>body {\n",
       "    margin: 0;\n",
       "    font-family: Helvetica;\n",
       "}\n",
       "table.dataframe {\n",
       "    border-collapse: collapse;\n",
       "    border: none;\n",
       "}\n",
       "table.dataframe tr {\n",
       "    border: none;\n",
       "}\n",
       "table.dataframe td, table.dataframe th {\n",
       "    margin: 0;\n",
       "    border: 1px solid white;\n",
       "    padding-left: 0.25em;\n",
       "    padding-right: 0.25em;\n",
       "}\n",
       "table.dataframe th:not(:empty) {\n",
       "    background-color: #fec;\n",
       "    text-align: left;\n",
       "    font-weight: normal;\n",
       "}\n",
       "table.dataframe tr:nth-child(2) th:empty {\n",
       "    border-left: none;\n",
       "    border-right: 1px dashed #888;\n",
       "}\n",
       "table.dataframe td {\n",
       "    border: 2px solid #ccf;\n",
       "    background-color: #f4f4ff;\n",
       "}h3 {\n",
       "    color: white;\n",
       "    background-color: black;\n",
       "    padding: 0.5em;\n",
       "}</style>"
      ],
      "text/plain": [
       "<IPython.core.display.HTML object>"
      ]
     },
     "execution_count": 2,
     "metadata": {},
     "output_type": "execute_result"
    }
   ],
   "source": [
    "# pretty dataframe :\n",
    "from IPython.core.display import HTML\n",
    "css = open('style-table.css').read() + open('style-notebook.css').read()\n",
    "HTML('<style>{}</style>'.format(css))"
   ]
  },
  {
   "cell_type": "code",
   "execution_count": 1,
   "metadata": {
    "collapsed": false
   },
   "outputs": [
    {
     "ename": "FileNotFoundError",
     "evalue": "[Errno 2] No such file or directory: '$GITDIR/data/ThOpt/kemal/xsede/'",
     "output_type": "error",
     "traceback": [
      "\u001b[1;31m---------------------------------------------------------------------------\u001b[0m",
      "\u001b[1;31mFileNotFoundError\u001b[0m                         Traceback (most recent call last)",
      "\u001b[1;32m<ipython-input-1-d80706111d42>\u001b[0m in \u001b[0;36m<module>\u001b[1;34m()\u001b[0m\n\u001b[0;32m      2\u001b[0m \u001b[1;32mfrom\u001b[0m \u001b[0mos\u001b[0m\u001b[1;33m.\u001b[0m\u001b[0mpath\u001b[0m \u001b[1;32mimport\u001b[0m \u001b[0misfile\u001b[0m\u001b[1;33m,\u001b[0m \u001b[0mjoin\u001b[0m\u001b[1;33m\u001b[0m\u001b[0m\n\u001b[0;32m      3\u001b[0m \u001b[0mfile_dir\u001b[0m \u001b[1;33m=\u001b[0m \u001b[1;34m'$GITDIR/data/ThOpt/kemal/xsede/'\u001b[0m\u001b[1;33m\u001b[0m\u001b[0m\n\u001b[1;32m----> 4\u001b[1;33m \u001b[0mtemp_file_names\u001b[0m \u001b[1;33m=\u001b[0m \u001b[1;33m[\u001b[0m\u001b[0mf\u001b[0m \u001b[1;32mfor\u001b[0m \u001b[0mf\u001b[0m \u001b[1;32min\u001b[0m \u001b[0mlistdir\u001b[0m\u001b[1;33m(\u001b[0m\u001b[0mfile_dir\u001b[0m\u001b[1;33m)\u001b[0m \u001b[1;32mif\u001b[0m \u001b[0misfile\u001b[0m\u001b[1;33m(\u001b[0m\u001b[0mjoin\u001b[0m\u001b[1;33m(\u001b[0m\u001b[0mfile_dir\u001b[0m\u001b[1;33m,\u001b[0m \u001b[0mf\u001b[0m\u001b[1;33m)\u001b[0m\u001b[1;33m)\u001b[0m\u001b[1;33m]\u001b[0m\u001b[1;33m\u001b[0m\u001b[0m\n\u001b[0m\u001b[0;32m      5\u001b[0m \u001b[1;33m\u001b[0m\u001b[0m\n\u001b[0;32m      6\u001b[0m \u001b[0mfile_names\u001b[0m \u001b[1;33m=\u001b[0m \u001b[1;33m[\u001b[0m\u001b[1;33m]\u001b[0m\u001b[1;33m\u001b[0m\u001b[0m\n",
      "\u001b[1;31mFileNotFoundError\u001b[0m: [Errno 2] No such file or directory: '$GITDIR/data/ThOpt/kemal/xsede/'"
     ]
    }
   ],
   "source": [
    "from os import listdir\n",
    "from os.path import isfile, join\n",
    "\n",
    "file_dir = '$GITDIR/data/ThOpt/kemal/xsede/'\n",
    "temp_file_names = [f for f in listdir(file_dir) if isfile(join(file_dir, f))]\n",
    "\n",
    "file_names = []\n",
    "for file_name in temp_file_names:\n",
    "    if '~' not in file_name:\n",
    "        file_names.append(file_name)\n",
    "file_names"
   ]
  },
  {
   "cell_type": "code",
   "execution_count": 2,
   "metadata": {
    "collapsed": false
   },
   "outputs": [
    {
     "data": {
      "text/plain": [
       "'$GITDIR/data/ThOpt/kemal/xsede/'"
      ]
     },
     "execution_count": 2,
     "metadata": {},
     "output_type": "execute_result"
    }
   ],
   "source": [
    "file_dir = '$GITDIR/data/ThOpt/kemal/xsede/'\n",
    "file_dir\n"
   ]
  },
  {
   "cell_type": "code",
   "execution_count": 10,
   "metadata": {
    "collapsed": false
   },
   "outputs": [
    {
     "data": {
      "text/plain": [
       "{'CLICOLOR': '1',\n",
       " 'COLORTERM': 'gnome-terminal',\n",
       " 'COMPIZ_BIN_PATH': '/usr/bin/',\n",
       " 'COMPIZ_CONFIG_PROFILE': 'ubuntu',\n",
       " 'COMP_WORDBREAKS': ' \\t\\n\"\\'><;|&(:',\n",
       " 'DBUS_SESSION_BUS_ADDRESS': 'unix:abstract=/tmp/dbus-hviGHbx8yK',\n",
       " 'DEFAULTS_PATH': '/usr/share/gconf/ubuntu.default.path',\n",
       " 'DERBY_HOME': '/usr/lib/jvm/java-7-oracle/db',\n",
       " 'DESKTOP_SESSION': 'ubuntu',\n",
       " 'DISPLAY': ':0',\n",
       " 'GDMSESSION': 'ubuntu',\n",
       " 'GDM_LANG': 'en_US',\n",
       " 'GIT_PAGER': 'cat',\n",
       " 'GNOME_DESKTOP_SESSION_ID': 'this-is-deprecated',\n",
       " 'GNOME_KEYRING_CONTROL': '/run/user/1007/keyring-ZD8tPo',\n",
       " 'GNOME_KEYRING_PID': '4279',\n",
       " 'GPG_AGENT_INFO': '/run/user/1007/keyring-ZD8tPo/gpg:0:1',\n",
       " 'GTK_MODULES': 'canberra-gtk-module:canberra-gtk-module:overlay-scrollbar:unity-gtk-module',\n",
       " 'HOME': '/home/zulkar',\n",
       " 'IM_CONFIG_PHASE': '1',\n",
       " 'INSTANCE': '',\n",
       " 'J2REDIR': '/usr/lib/jvm/java-7-oracle/jre',\n",
       " 'J2SDKDIR': '/usr/lib/jvm/java-7-oracle',\n",
       " 'JAVA_HOME': '/usr/lib/jvm/java-7-oracle',\n",
       " 'JOB': 'dbus',\n",
       " 'JPY_PARENT_PID': '15998',\n",
       " 'LANG': 'en_US.UTF-8',\n",
       " 'LANGUAGE': 'en_US',\n",
       " 'LD_LIBRARY_PATH': ':/home/zulkar/Documents/ns-allinone-2.35/octl-1.14:/home/zulkar/Documents/ns-allinone-2.35/lib:/usr/local/lib',\n",
       " 'LESSCLOSE': '/usr/bin/lesspipe %s %s',\n",
       " 'LESSOPEN': '| /usr/bin/lesspipe %s',\n",
       " 'LOGNAME': 'zulkar',\n",
       " 'LS_COLORS': 'rs=0:di=01;34:ln=01;36:mh=00:pi=40;33:so=01;35:do=01;35:bd=40;33;01:cd=40;33;01:or=40;31;01:su=37;41:sg=30;43:ca=30;41:tw=30;42:ow=34;42:st=37;44:ex=01;32:*.tar=01;31:*.tgz=01;31:*.arj=01;31:*.taz=01;31:*.lzh=01;31:*.lzma=01;31:*.tlz=01;31:*.txz=01;31:*.zip=01;31:*.z=01;31:*.Z=01;31:*.dz=01;31:*.gz=01;31:*.lz=01;31:*.xz=01;31:*.bz2=01;31:*.bz=01;31:*.tbz=01;31:*.tbz2=01;31:*.tz=01;31:*.deb=01;31:*.rpm=01;31:*.jar=01;31:*.war=01;31:*.ear=01;31:*.sar=01;31:*.rar=01;31:*.ace=01;31:*.zoo=01;31:*.cpio=01;31:*.7z=01;31:*.rz=01;31:*.jpg=01;35:*.jpeg=01;35:*.gif=01;35:*.bmp=01;35:*.pbm=01;35:*.pgm=01;35:*.ppm=01;35:*.tga=01;35:*.xbm=01;35:*.xpm=01;35:*.tif=01;35:*.tiff=01;35:*.png=01;35:*.svg=01;35:*.svgz=01;35:*.mng=01;35:*.pcx=01;35:*.mov=01;35:*.mpg=01;35:*.mpeg=01;35:*.m2v=01;35:*.mkv=01;35:*.webm=01;35:*.ogm=01;35:*.mp4=01;35:*.m4v=01;35:*.mp4v=01;35:*.vob=01;35:*.qt=01;35:*.nuv=01;35:*.wmv=01;35:*.asf=01;35:*.rm=01;35:*.rmvb=01;35:*.flc=01;35:*.avi=01;35:*.fli=01;35:*.flv=01;35:*.gl=01;35:*.dl=01;35:*.xcf=01;35:*.xwd=01;35:*.yuv=01;35:*.cgm=01;35:*.emf=01;35:*.axv=01;35:*.anx=01;35:*.ogv=01;35:*.ogx=01;35:*.aac=00;36:*.au=00;36:*.flac=00;36:*.mid=00;36:*.midi=00;36:*.mka=00;36:*.mp3=00;36:*.mpc=00;36:*.ogg=00;36:*.ra=00;36:*.wav=00;36:*.axa=00;36:*.oga=00;36:*.spx=00;36:*.xspf=00;36:',\n",
       " 'MANDATORY_PATH': '/usr/share/gconf/ubuntu.mandatory.path',\n",
       " 'NODE_PATH': '/usr/lib/nodejs:/usr/lib/node_modules:/usr/share/javascript',\n",
       " 'OLDPWD': '/home/zulkar/Dropbox/gits',\n",
       " 'PAGER': 'cat',\n",
       " 'PATH': '/home/zulkar/software/circos/current/bin:/home/zulkar/bin:/home/zulkar/anaconda3/bin:/home/zulkar/anaconda2/bin:/home/zulkar/anaconda3/bin:/home/zulkar/anaconda2/bin:/home/zulkar/anaconda3/bin:/home/zulkar/bin:/usr/local/sbin:/usr/local/bin:/usr/sbin:/usr/bin:/sbin:/bin:/usr/games:/usr/local/games:/usr/lib/jvm/java-7-oracle/bin:/usr/lib/jvm/java-7-oracle/db/bin:/usr/lib/jvm/java-7-oracle/jre/bin:InstalledSoftware/scala-2.10.3//bin:InstalledSoftware/scala-2.10.3//lib:/home/zulkar/Documents/ns-allinone-2.35/xgraph-12.2:/home/zulkar/Documents/ns-allinone-2.35/bin:/home/zulkar/Documents/ns-allinone-2.35/tcl8.5.10/unix:/home/zulkar/Documents/ns-allinone-2.35/tcl8.5.10/unix:/home/zulkar/Documents/ns-allinone-2.35/ns-2.35:/home/zulkar/Documents/ns-allinone-2.35/nam-1.15',\n",
       " 'PWD': '/home/zulkar/Dropbox/gits/dataTransferScripts',\n",
       " 'QT_QPA_PLATFORMTHEME': 'appmenu-qt5',\n",
       " 'SCALA_HOME': 'InstalledSoftware/scala-2.10.3/',\n",
       " 'SCALA_LIBRARY_PATH': 'InstalledSoftware/scala-2.10.3/',\n",
       " 'SELINUX_INIT': 'YES',\n",
       " 'SESSION': 'ubuntu',\n",
       " 'SESSIONTYPE': 'gnome-session',\n",
       " 'SESSION_MANAGER': 'local/evenstar.cse.buffalo.edu:@/tmp/.ICE-unix/4564,unix/evenstar.cse.buffalo.edu:/tmp/.ICE-unix/4564',\n",
       " 'SHELL': '/bin/bash',\n",
       " 'SHLVL': '1',\n",
       " 'SSH_AUTH_SOCK': '/run/user/1007/keyring-ZD8tPo/ssh',\n",
       " 'TCL_LIBRARY': '/home/zulkar/Documents/ns-allinone-2.35/tk8.5.10/library:/usr/lib',\n",
       " 'TERM': 'xterm-color',\n",
       " 'TEXTDOMAIN': 'im-config',\n",
       " 'TEXTDOMAINDIR': '/usr/share/locale/',\n",
       " 'UPSTART_SESSION': 'unix:abstract=/com/ubuntu/upstart-session/1007/4282',\n",
       " 'USER': 'zulkar',\n",
       " 'VTE_VERSION': '3409',\n",
       " 'WINDOWID': '75497483',\n",
       " 'XAUTHORITY': '/home/zulkar/.Xauthority',\n",
       " 'XDG_CONFIG_DIRS': '/etc/xdg/xdg-ubuntu:/usr/share/upstart/xdg:/etc/xdg',\n",
       " 'XDG_CURRENT_DESKTOP': 'Unity',\n",
       " 'XDG_DATA_DIRS': '/usr/share/ubuntu:/usr/share/gnome:/usr/local/share/:/usr/share/',\n",
       " 'XDG_GREETER_DATA_DIR': '/var/lib/lightdm-data/zulkar',\n",
       " 'XDG_MENU_PREFIX': 'gnome-',\n",
       " 'XDG_RUNTIME_DIR': '/run/user/1007',\n",
       " 'XDG_SEAT': 'seat0',\n",
       " 'XDG_SEAT_PATH': '/org/freedesktop/DisplayManager/Seat0',\n",
       " 'XDG_SESSION_ID': 'c2',\n",
       " 'XDG_SESSION_PATH': '/org/freedesktop/DisplayManager/Session0',\n",
       " 'XDG_VTNR': '7',\n",
       " 'ZULKAR_HOME': '/home/zulkar/',\n",
       " '_': '/home/zulkar/anaconda3/bin/jupyter'}"
      ]
     },
     "execution_count": 10,
     "metadata": {},
     "output_type": "execute_result"
    }
   ],
   "source": [
    "env"
   ]
  },
  {
   "cell_type": "code",
   "execution_count": null,
   "metadata": {
    "collapsed": true
   },
   "outputs": [],
   "source": []
  },
  {
   "cell_type": "code",
   "execution_count": null,
   "metadata": {
    "collapsed": true
   },
   "outputs": [],
   "source": []
  },
  {
   "cell_type": "code",
   "execution_count": null,
   "metadata": {
    "collapsed": true
   },
   "outputs": [],
   "source": []
  },
  {
   "cell_type": "code",
   "execution_count": null,
   "metadata": {
    "collapsed": true
   },
   "outputs": [],
   "source": []
  }
 ],
 "metadata": {
  "kernelspec": {
   "display_name": "Python 3",
   "language": "python",
   "name": "python3"
  },
  "language_info": {
   "codemirror_mode": {
    "name": "ipython",
    "version": 3
   },
   "file_extension": ".py",
   "mimetype": "text/x-python",
   "name": "python",
   "nbconvert_exporter": "python",
   "pygments_lexer": "ipython3",
   "version": "3.5.1"
  }
 },
 "nbformat": 4,
 "nbformat_minor": 0
}
