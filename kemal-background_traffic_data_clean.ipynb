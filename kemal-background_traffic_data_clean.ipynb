{
 "cells": [
  {
   "cell_type": "raw",
   "metadata": {},
   "source": [
    "This script is going to take care of Kemal's data with background traffic. It clean up and makes a homogenous format for the dataset. and saves the output in current directory.\n",
    "\n",
    "It also contain a section that tells how to read the newly made output file. \n",
    "\n",
    "In next step we will marge it with the master file. "
   ]
  },
  {
   "cell_type": "code",
   "execution_count": 1,
   "metadata": {
    "collapsed": true
   },
   "outputs": [],
   "source": [
    "# import pandas library:\n",
    "import pandas as pds\n",
    "import pylab as pyl\n",
    "import numpy as np\n",
    "import time\n",
    "import datetime\n",
    "%matplotlib inline"
   ]
  },
  {
   "cell_type": "code",
   "execution_count": 2,
   "metadata": {
    "collapsed": false
   },
   "outputs": [
    {
     "data": {
      "text/html": [
       "<style>body {\n",
       "    margin: 0;\n",
       "    font-family: Helvetica;\n",
       "}\n",
       "table.dataframe {\n",
       "    border-collapse: collapse;\n",
       "    border: none;\n",
       "}\n",
       "table.dataframe tr {\n",
       "    border: none;\n",
       "}\n",
       "table.dataframe td, table.dataframe th {\n",
       "    margin: 0;\n",
       "    border: 1px solid white;\n",
       "    padding-left: 0.25em;\n",
       "    padding-right: 0.25em;\n",
       "}\n",
       "table.dataframe th:not(:empty) {\n",
       "    background-color: #fec;\n",
       "    text-align: left;\n",
       "    font-weight: normal;\n",
       "}\n",
       "table.dataframe tr:nth-child(2) th:empty {\n",
       "    border-left: none;\n",
       "    border-right: 1px dashed #888;\n",
       "}\n",
       "table.dataframe td {\n",
       "    border: 2px solid #ccf;\n",
       "    background-color: #f4f4ff;\n",
       "}h3 {\n",
       "    color: white;\n",
       "    background-color: black;\n",
       "    padding: 0.5em;\n",
       "}</style>"
      ],
      "text/plain": [
       "<IPython.core.display.HTML object>"
      ]
     },
     "execution_count": 2,
     "metadata": {},
     "output_type": "execute_result"
    }
   ],
   "source": [
    "# pretty dataframe :\n",
    "from IPython.core.display import HTML\n",
    "css = open('style-table.css').read() + open('style-notebook.css').read()\n",
    "HTML('<style>{}</style>'.format(css))"
   ]
  },
  {
   "cell_type": "code",
   "execution_count": 3,
   "metadata": {
    "collapsed": false
   },
   "outputs": [
    {
     "data": {
      "text/plain": [
       "['enDataSG_2T.csv', 'enDataSG_1T.csv', 'enDataSb_1T.csv']"
      ]
     },
     "execution_count": 3,
     "metadata": {},
     "output_type": "execute_result"
    }
   ],
   "source": [
    "from os import listdir\n",
    "from os.path import isfile, join\n",
    "\n",
    "file_dir = '/home/zulkar/Dropbox/gits/data/ThOpt/kemal-background/'\n",
    "temp_file_names = [f for f in listdir(file_dir) if isfile(join(file_dir, f))]\n",
    "\n",
    "file_names = []\n",
    "for file_name in temp_file_names:\n",
    "    if '~' not in file_name:\n",
    "        file_names.append(file_name)\n",
    "file_names"
   ]
  },
  {
   "cell_type": "code",
   "execution_count": 7,
   "metadata": {
    "collapsed": false
   },
   "outputs": [],
   "source": [
    "# output file name :\n",
    "current_date_time = datetime.datetime.now()\n",
    "current_time_str = current_date_time.strftime('%m_%d_%Y_%H_%M')\n",
    "output_file = 'master_kemal_bkground_traffic_' + current_time_str\n",
    "\n",
    "# convert the string timestamp in dataType: Timestamp\n",
    "format_date_time = '%Y-%m-%d:%H:%M:%S'\n",
    "#format_date_time = '%m:%d:%Y-%H:%M'\n",
    "\n",
    "def convert_to_time_stamp(date_in_string):\n",
    "    result = pds.to_datetime(date_in_string, format=format_date_time)\n",
    "    return result \n",
    "\n",
    "def remove_miliseconds(string_list):\n",
    "    return string_list[0]\n",
    "\n",
    "def kemal_bk_traffic_data_read(full_file_name):\n",
    "    \n",
    "    # read the csv file : \n",
    "    data = pds.read_csv(full_file_name)\n",
    "    \n",
    "    # merge data and time column:\n",
    "    data['start_time'] = data['Date'] +':'+ data['Time']\n",
    "    del data['Time']\n",
    "    del data['Date']\n",
    "    \n",
    "    temp = data.start_time.str.split('.')\n",
    "    temp = temp.apply(remove_miliseconds)\n",
    "    data['start_time']=temp\n",
    "\n",
    "    # change the current string date time to Timestamp: \n",
    "    data['start_time'] = data['start_time'].apply(convert_to_time_stamp)\n",
    "    data.start_time.dtype\n",
    "    \n",
    "    # Unit conversion\n",
    "    data['file_size'] = (data['file_size'])\n",
    "    data['bandwidth'] = int(1280)\n",
    "    data['buffer_size'] = (data['buffer_size'] )\n",
    "    data['rtt'] = '32'\n",
    "    data['throughput'] = data['throughput'] / 8 \n",
    "    \n",
    "    # filtering data based on throughput : achievable throughput has shown less then 90% of the bandwidth.\n",
    "    th_filter = data.throughput <  ( data.bandwidth * 0.90)\n",
    "    data = data[th_filter]\n",
    "    \n",
    "    # rearrange the columns :\n",
    "    column_order = ['file_size', 'number_of_files', 'bandwidth', 'rtt', 'buffer_size', \n",
    "                    'p', 'cc', 'pp', 'fast', 'throughput', 'time', 'start_time', 'source', 'destination']\n",
    "    data = data[column_order]\n",
    "    \n",
    "    return data\n",
    "    \n",
    "header_flag = True\n",
    "for file_name in file_names:\n",
    "    \n",
    "    full_file_name = file_dir + file_name\n",
    "    \n",
    "    kml_data = kemal_bk_traffic_data_read(full_file_name)\n",
    "    \n",
    "\n",
    "    \n",
    "    # append data in an existing csv file with header false :\n",
    "    with open(output_file, 'a') as f:\n",
    "        kml_data.to_csv(f, header=header_flag,index=False)\n",
    "\n",
    "    header_flag = False\n"
   ]
  },
  {
   "cell_type": "markdown",
   "metadata": {},
   "source": [
    "# To read the output file :"
   ]
  },
  {
   "cell_type": "code",
   "execution_count": 22,
   "metadata": {
    "collapsed": false
   },
   "outputs": [
    {
     "name": "stdout",
     "output_type": "stream",
     "text": [
      "bandwidthTest.py\r\n",
      "createDataRepository.ipynb\r\n",
      "fileGenAutomated.ipynb\r\n",
      "kemal-background.ipynb\r\n",
      "log_stampede-scratch_gordon-scratch_date06_15_2016_13_47.txt\r\n",
      "log_stampede-scratch_gordon-scratch_date06_15_2016_13_57.txt\r\n",
      "master_06_09_2016_12_46\r\n",
      "master_06_29_2016_15_00\r\n",
      "master_kemal_06_09_2016_12_30\r\n",
      "master_kemal_bkground_traffic09_13_2016_10_21\r\n",
      "master_kemal_bkground_traffic_09_13_2016_10_22\r\n",
      "master_zulkar_6_16_06_09_2016_11_31~\r\n",
      "my_csv.csv~\r\n",
      "parameter_file.txt\r\n",
      "parameter_file.txt~\r\n",
      "runTransfer (copy).py\r\n",
      "runTransfer.py\r\n",
      "style-notebook.css\r\n",
      "style-table.css\r\n",
      "test_dbscan.ipynb\r\n",
      "\u001b[0m\u001b[01;35mthreeD_clusters.png\u001b[0m\r\n",
      "transferThAnalysis.ipynb\r\n",
      "Transfer_with_specific_parameters.ipynb\r\n",
      "Untitled1.ipynb\r\n",
      "Untitled.ipynb\r\n",
      "user.txt.bk\r\n",
      "xfer_version1.py\r\n",
      "xfer_version3.py\r\n",
      "xfer_withparam_v1.py\r\n"
     ]
    }
   ],
   "source": [
    "ls"
   ]
  },
  {
   "cell_type": "code",
   "execution_count": 23,
   "metadata": {
    "collapsed": true
   },
   "outputs": [],
   "source": [
    "output_file = 'master_kemal_bkground_traffic_09_13_2016_10_22'"
   ]
  },
  {
   "cell_type": "code",
   "execution_count": 24,
   "metadata": {
    "collapsed": true
   },
   "outputs": [],
   "source": [
    "data = pds.read_csv(output_file)"
   ]
  },
  {
   "cell_type": "code",
   "execution_count": 25,
   "metadata": {
    "collapsed": false
   },
   "outputs": [
    {
     "data": {
      "text/html": [
       "<div>\n",
       "<table border=\"1\" class=\"dataframe\">\n",
       "  <thead>\n",
       "    <tr style=\"text-align: right;\">\n",
       "      <th></th>\n",
       "      <th>file_size</th>\n",
       "      <th>number_of_files</th>\n",
       "      <th>bandwidth</th>\n",
       "      <th>rtt</th>\n",
       "      <th>buffer_size</th>\n",
       "      <th>p</th>\n",
       "      <th>cc</th>\n",
       "      <th>pp</th>\n",
       "      <th>fast</th>\n",
       "      <th>throughput</th>\n",
       "      <th>time</th>\n",
       "      <th>start_time</th>\n",
       "      <th>source</th>\n",
       "      <th>destination</th>\n",
       "    </tr>\n",
       "  </thead>\n",
       "  <tbody>\n",
       "    <tr>\n",
       "      <th>0</th>\n",
       "      <td>3137508</td>\n",
       "      <td>3424</td>\n",
       "      <td>1280</td>\n",
       "      <td>32</td>\n",
       "      <td>33554432</td>\n",
       "      <td>1</td>\n",
       "      <td>1</td>\n",
       "      <td>1</td>\n",
       "      <td>0</td>\n",
       "      <td>18.619073</td>\n",
       "      <td>550.250858</td>\n",
       "      <td>2015-08-08 15:49:30</td>\n",
       "      <td>Stampede</td>\n",
       "      <td>Gordon</td>\n",
       "    </tr>\n",
       "    <tr>\n",
       "      <th>1</th>\n",
       "      <td>3137508</td>\n",
       "      <td>3424</td>\n",
       "      <td>1280</td>\n",
       "      <td>32</td>\n",
       "      <td>33554432</td>\n",
       "      <td>1</td>\n",
       "      <td>1</td>\n",
       "      <td>2</td>\n",
       "      <td>0</td>\n",
       "      <td>27.553643</td>\n",
       "      <td>371.826022</td>\n",
       "      <td>2015-08-08 15:58:40</td>\n",
       "      <td>Stampede</td>\n",
       "      <td>Gordon</td>\n",
       "    </tr>\n",
       "    <tr>\n",
       "      <th>2</th>\n",
       "      <td>3137508</td>\n",
       "      <td>3424</td>\n",
       "      <td>1280</td>\n",
       "      <td>32</td>\n",
       "      <td>33554432</td>\n",
       "      <td>1</td>\n",
       "      <td>1</td>\n",
       "      <td>4</td>\n",
       "      <td>0</td>\n",
       "      <td>27.049535</td>\n",
       "      <td>378.755572</td>\n",
       "      <td>2015-08-08 16:04:52</td>\n",
       "      <td>Stampede</td>\n",
       "      <td>Gordon</td>\n",
       "    </tr>\n",
       "    <tr>\n",
       "      <th>3</th>\n",
       "      <td>3137508</td>\n",
       "      <td>3424</td>\n",
       "      <td>1280</td>\n",
       "      <td>32</td>\n",
       "      <td>33554432</td>\n",
       "      <td>1</td>\n",
       "      <td>1</td>\n",
       "      <td>8</td>\n",
       "      <td>0</td>\n",
       "      <td>25.546914</td>\n",
       "      <td>401.033221</td>\n",
       "      <td>2015-08-08 16:11:11</td>\n",
       "      <td>Stampede</td>\n",
       "      <td>Gordon</td>\n",
       "    </tr>\n",
       "    <tr>\n",
       "      <th>4</th>\n",
       "      <td>3137508</td>\n",
       "      <td>3424</td>\n",
       "      <td>1280</td>\n",
       "      <td>32</td>\n",
       "      <td>33554432</td>\n",
       "      <td>1</td>\n",
       "      <td>1</td>\n",
       "      <td>16</td>\n",
       "      <td>0</td>\n",
       "      <td>24.626609</td>\n",
       "      <td>416.020002</td>\n",
       "      <td>2015-08-08 16:17:52</td>\n",
       "      <td>Stampede</td>\n",
       "      <td>Gordon</td>\n",
       "    </tr>\n",
       "  </tbody>\n",
       "</table>\n",
       "</div>"
      ],
      "text/plain": [
       "   file_size  number_of_files  bandwidth  rtt  buffer_size  p  cc  pp  fast  \\\n",
       "0    3137508             3424       1280   32     33554432  1   1   1     0   \n",
       "1    3137508             3424       1280   32     33554432  1   1   2     0   \n",
       "2    3137508             3424       1280   32     33554432  1   1   4     0   \n",
       "3    3137508             3424       1280   32     33554432  1   1   8     0   \n",
       "4    3137508             3424       1280   32     33554432  1   1  16     0   \n",
       "\n",
       "   throughput        time           start_time    source destination  \n",
       "0   18.619073  550.250858  2015-08-08 15:49:30  Stampede      Gordon  \n",
       "1   27.553643  371.826022  2015-08-08 15:58:40  Stampede      Gordon  \n",
       "2   27.049535  378.755572  2015-08-08 16:04:52  Stampede      Gordon  \n",
       "3   25.546914  401.033221  2015-08-08 16:11:11  Stampede      Gordon  \n",
       "4   24.626609  416.020002  2015-08-08 16:17:52  Stampede      Gordon  "
      ]
     },
     "execution_count": 25,
     "metadata": {},
     "output_type": "execute_result"
    }
   ],
   "source": [
    "data.head()"
   ]
  },
  {
   "cell_type": "code",
   "execution_count": 27,
   "metadata": {
    "collapsed": false
   },
   "outputs": [
    {
     "data": {
      "text/html": [
       "<div>\n",
       "<table border=\"1\" class=\"dataframe\">\n",
       "  <thead>\n",
       "    <tr style=\"text-align: right;\">\n",
       "      <th></th>\n",
       "      <th>file_size</th>\n",
       "      <th>number_of_files</th>\n",
       "      <th>bandwidth</th>\n",
       "      <th>rtt</th>\n",
       "      <th>buffer_size</th>\n",
       "      <th>p</th>\n",
       "      <th>cc</th>\n",
       "      <th>pp</th>\n",
       "      <th>fast</th>\n",
       "      <th>throughput</th>\n",
       "      <th>time</th>\n",
       "      <th>start_time</th>\n",
       "      <th>source</th>\n",
       "      <th>destination</th>\n",
       "    </tr>\n",
       "  </thead>\n",
       "  <tbody>\n",
       "    <tr>\n",
       "      <th>0</th>\n",
       "      <td>3137508</td>\n",
       "      <td>3424</td>\n",
       "      <td>1280</td>\n",
       "      <td>32</td>\n",
       "      <td>33554432</td>\n",
       "      <td>1</td>\n",
       "      <td>1</td>\n",
       "      <td>1</td>\n",
       "      <td>0</td>\n",
       "      <td>18.619073</td>\n",
       "      <td>550.250858</td>\n",
       "      <td>2015-08-08 15:49:30</td>\n",
       "      <td>Stampede</td>\n",
       "      <td>Gordon</td>\n",
       "    </tr>\n",
       "    <tr>\n",
       "      <th>1</th>\n",
       "      <td>3137508</td>\n",
       "      <td>3424</td>\n",
       "      <td>1280</td>\n",
       "      <td>32</td>\n",
       "      <td>33554432</td>\n",
       "      <td>1</td>\n",
       "      <td>1</td>\n",
       "      <td>2</td>\n",
       "      <td>0</td>\n",
       "      <td>27.553643</td>\n",
       "      <td>371.826022</td>\n",
       "      <td>2015-08-08 15:58:40</td>\n",
       "      <td>Stampede</td>\n",
       "      <td>Gordon</td>\n",
       "    </tr>\n",
       "    <tr>\n",
       "      <th>2</th>\n",
       "      <td>3137508</td>\n",
       "      <td>3424</td>\n",
       "      <td>1280</td>\n",
       "      <td>32</td>\n",
       "      <td>33554432</td>\n",
       "      <td>1</td>\n",
       "      <td>1</td>\n",
       "      <td>4</td>\n",
       "      <td>0</td>\n",
       "      <td>27.049535</td>\n",
       "      <td>378.755572</td>\n",
       "      <td>2015-08-08 16:04:52</td>\n",
       "      <td>Stampede</td>\n",
       "      <td>Gordon</td>\n",
       "    </tr>\n",
       "    <tr>\n",
       "      <th>3</th>\n",
       "      <td>3137508</td>\n",
       "      <td>3424</td>\n",
       "      <td>1280</td>\n",
       "      <td>32</td>\n",
       "      <td>33554432</td>\n",
       "      <td>1</td>\n",
       "      <td>1</td>\n",
       "      <td>8</td>\n",
       "      <td>0</td>\n",
       "      <td>25.546914</td>\n",
       "      <td>401.033221</td>\n",
       "      <td>2015-08-08 16:11:11</td>\n",
       "      <td>Stampede</td>\n",
       "      <td>Gordon</td>\n",
       "    </tr>\n",
       "    <tr>\n",
       "      <th>4</th>\n",
       "      <td>3137508</td>\n",
       "      <td>3424</td>\n",
       "      <td>1280</td>\n",
       "      <td>32</td>\n",
       "      <td>33554432</td>\n",
       "      <td>1</td>\n",
       "      <td>1</td>\n",
       "      <td>16</td>\n",
       "      <td>0</td>\n",
       "      <td>24.626609</td>\n",
       "      <td>416.020002</td>\n",
       "      <td>2015-08-08 16:17:52</td>\n",
       "      <td>Stampede</td>\n",
       "      <td>Gordon</td>\n",
       "    </tr>\n",
       "  </tbody>\n",
       "</table>\n",
       "</div>"
      ],
      "text/plain": [
       "   file_size  number_of_files  bandwidth  rtt  buffer_size  p  cc  pp  fast  \\\n",
       "0    3137508             3424       1280   32     33554432  1   1   1     0   \n",
       "1    3137508             3424       1280   32     33554432  1   1   2     0   \n",
       "2    3137508             3424       1280   32     33554432  1   1   4     0   \n",
       "3    3137508             3424       1280   32     33554432  1   1   8     0   \n",
       "4    3137508             3424       1280   32     33554432  1   1  16     0   \n",
       "\n",
       "   throughput        time          start_time    source destination  \n",
       "0   18.619073  550.250858 2015-08-08 15:49:30  Stampede      Gordon  \n",
       "1   27.553643  371.826022 2015-08-08 15:58:40  Stampede      Gordon  \n",
       "2   27.049535  378.755572 2015-08-08 16:04:52  Stampede      Gordon  \n",
       "3   25.546914  401.033221 2015-08-08 16:11:11  Stampede      Gordon  \n",
       "4   24.626609  416.020002 2015-08-08 16:17:52  Stampede      Gordon  "
      ]
     },
     "execution_count": 27,
     "metadata": {},
     "output_type": "execute_result"
    }
   ],
   "source": [
    "# convert start_time to date time:\n",
    "data['start_time'] = pds.to_datetime(data['start_time'])\n",
    "data.head()"
   ]
  },
  {
   "cell_type": "code",
   "execution_count": 28,
   "metadata": {
    "collapsed": false
   },
   "outputs": [
    {
     "data": {
      "text/plain": [
       "(10648, 14)"
      ]
     },
     "execution_count": 28,
     "metadata": {},
     "output_type": "execute_result"
    }
   ],
   "source": [
    "data.shape"
   ]
  },
  {
   "cell_type": "code",
   "execution_count": null,
   "metadata": {
    "collapsed": true
   },
   "outputs": [],
   "source": []
  },
  {
   "cell_type": "code",
   "execution_count": null,
   "metadata": {
    "collapsed": true
   },
   "outputs": [],
   "source": []
  },
  {
   "cell_type": "code",
   "execution_count": null,
   "metadata": {
    "collapsed": true
   },
   "outputs": [],
   "source": []
  },
  {
   "cell_type": "code",
   "execution_count": null,
   "metadata": {
    "collapsed": true
   },
   "outputs": [],
   "source": []
  },
  {
   "cell_type": "code",
   "execution_count": null,
   "metadata": {
    "collapsed": true
   },
   "outputs": [],
   "source": []
  },
  {
   "cell_type": "code",
   "execution_count": null,
   "metadata": {
    "collapsed": true
   },
   "outputs": [],
   "source": []
  },
  {
   "cell_type": "code",
   "execution_count": null,
   "metadata": {
    "collapsed": true
   },
   "outputs": [],
   "source": []
  },
  {
   "cell_type": "code",
   "execution_count": null,
   "metadata": {
    "collapsed": true
   },
   "outputs": [],
   "source": []
  },
  {
   "cell_type": "code",
   "execution_count": null,
   "metadata": {
    "collapsed": true
   },
   "outputs": [],
   "source": []
  },
  {
   "cell_type": "code",
   "execution_count": null,
   "metadata": {
    "collapsed": true
   },
   "outputs": [],
   "source": []
  },
  {
   "cell_type": "code",
   "execution_count": null,
   "metadata": {
    "collapsed": true
   },
   "outputs": [],
   "source": []
  },
  {
   "cell_type": "code",
   "execution_count": null,
   "metadata": {
    "collapsed": true
   },
   "outputs": [],
   "source": []
  },
  {
   "cell_type": "code",
   "execution_count": null,
   "metadata": {
    "collapsed": true
   },
   "outputs": [],
   "source": []
  },
  {
   "cell_type": "code",
   "execution_count": null,
   "metadata": {
    "collapsed": true
   },
   "outputs": [],
   "source": []
  },
  {
   "cell_type": "code",
   "execution_count": null,
   "metadata": {
    "collapsed": true
   },
   "outputs": [],
   "source": []
  }
 ],
 "metadata": {
  "kernelspec": {
   "display_name": "Python 3",
   "language": "python",
   "name": "python3"
  },
  "language_info": {
   "codemirror_mode": {
    "name": "ipython",
    "version": 3
   },
   "file_extension": ".py",
   "mimetype": "text/x-python",
   "name": "python",
   "nbconvert_exporter": "python",
   "pygments_lexer": "ipython3",
   "version": "3.5.1"
  }
 },
 "nbformat": 4,
 "nbformat_minor": 0
}
